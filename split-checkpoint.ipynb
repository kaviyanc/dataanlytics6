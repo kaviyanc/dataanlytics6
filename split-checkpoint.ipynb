{
 "cells": [
  {
   "cell_type": "markdown",
   "id": "79ae56f1",
   "metadata": {},
   "source": [
    "# variable"
   ]
  },
  {
   "cell_type": "code",
   "execution_count": 1,
   "id": "6075deeb",
   "metadata": {},
   "outputs": [],
   "source": [
    "int=10"
   ]
  },
  {
   "cell_type": "code",
   "execution_count": 2,
   "id": "9db13dc3",
   "metadata": {},
   "outputs": [
    {
     "data": {
      "text/plain": [
       "10"
      ]
     },
     "execution_count": 2,
     "metadata": {},
     "output_type": "execute_result"
    }
   ],
   "source": [
    "int"
   ]
  },
  {
   "cell_type": "code",
   "execution_count": 3,
   "id": "9309d042",
   "metadata": {},
   "outputs": [
    {
     "data": {
      "text/plain": [
       "100"
      ]
     },
     "execution_count": 3,
     "metadata": {},
     "output_type": "execute_result"
    }
   ],
   "source": [
    "int*10"
   ]
  },
  {
   "cell_type": "code",
   "execution_count": 5,
   "id": "59dbe629",
   "metadata": {},
   "outputs": [],
   "source": [
    "int= 2,4"
   ]
  },
  {
   "cell_type": "code",
   "execution_count": 6,
   "id": "e3ad1427",
   "metadata": {},
   "outputs": [
    {
     "data": {
      "text/plain": [
       "6"
      ]
     },
     "execution_count": 6,
     "metadata": {},
     "output_type": "execute_result"
    }
   ],
   "source": [
    "2+4"
   ]
  },
  {
   "cell_type": "code",
   "execution_count": 7,
   "id": "978a06f0",
   "metadata": {},
   "outputs": [
    {
     "data": {
      "text/plain": [
       "8"
      ]
     },
     "execution_count": 7,
     "metadata": {},
     "output_type": "execute_result"
    }
   ],
   "source": [
    "2*4"
   ]
  },
  {
   "cell_type": "code",
   "execution_count": 8,
   "id": "0f1e3c03",
   "metadata": {},
   "outputs": [
    {
     "data": {
      "text/plain": [
       "0.5"
      ]
     },
     "execution_count": 8,
     "metadata": {},
     "output_type": "execute_result"
    }
   ],
   "source": [
    "2/4"
   ]
  },
  {
   "cell_type": "code",
   "execution_count": 9,
   "id": "a780ad35",
   "metadata": {},
   "outputs": [
    {
     "data": {
      "text/plain": [
       "tuple"
      ]
     },
     "execution_count": 9,
     "metadata": {},
     "output_type": "execute_result"
    }
   ],
   "source": [
    "type(int)"
   ]
  },
  {
   "cell_type": "code",
   "execution_count": 10,
   "id": "dc887fff",
   "metadata": {},
   "outputs": [
    {
     "data": {
      "text/plain": [
       "int"
      ]
     },
     "execution_count": 10,
     "metadata": {},
     "output_type": "execute_result"
    }
   ],
   "source": [
    "type(10)"
   ]
  },
  {
   "cell_type": "code",
   "execution_count": 11,
   "id": "b29336a1",
   "metadata": {},
   "outputs": [
    {
     "data": {
      "text/plain": [
       "float"
      ]
     },
     "execution_count": 11,
     "metadata": {},
     "output_type": "execute_result"
    }
   ],
   "source": [
    "type(2/4)"
   ]
  },
  {
   "cell_type": "code",
   "execution_count": 12,
   "id": "6f515036",
   "metadata": {},
   "outputs": [
    {
     "data": {
      "text/plain": [
       "int"
      ]
     },
     "execution_count": 12,
     "metadata": {},
     "output_type": "execute_result"
    }
   ],
   "source": [
    "type(2*4)"
   ]
  },
  {
   "cell_type": "code",
   "execution_count": 13,
   "id": "faa5337a",
   "metadata": {},
   "outputs": [
    {
     "ename": "SyntaxError",
     "evalue": "invalid syntax (Temp/ipykernel_14628/4238593053.py, line 1)",
     "output_type": "error",
     "traceback": [
      "\u001b[1;36m  File \u001b[1;32m\"C:\\Users\\kaviy\\AppData\\Local\\Temp/ipykernel_14628/4238593053.py\"\u001b[1;36m, line \u001b[1;32m1\u001b[0m\n\u001b[1;33m    string=arun mani\u001b[0m\n\u001b[1;37m                ^\u001b[0m\n\u001b[1;31mSyntaxError\u001b[0m\u001b[1;31m:\u001b[0m invalid syntax\n"
     ]
    }
   ],
   "source": [
    "string=arun mani"
   ]
  },
  {
   "cell_type": "code",
   "execution_count": 14,
   "id": "c1e90da9",
   "metadata": {},
   "outputs": [],
   "source": [
    "string=\"arun_mani\""
   ]
  },
  {
   "cell_type": "code",
   "execution_count": 15,
   "id": "9321b91e",
   "metadata": {},
   "outputs": [
    {
     "data": {
      "text/plain": [
       "'arun_mani'"
      ]
     },
     "execution_count": 15,
     "metadata": {},
     "output_type": "execute_result"
    }
   ],
   "source": [
    "string"
   ]
  },
  {
   "cell_type": "markdown",
   "id": "2db95ad7",
   "metadata": {},
   "source": [
    "# Datatype"
   ]
  },
  {
   "cell_type": "markdown",
   "id": "13496ae7",
   "metadata": {},
   "source": [
    "# char or string"
   ]
  },
  {
   "cell_type": "code",
   "execution_count": 16,
   "id": "1c4935fb",
   "metadata": {},
   "outputs": [],
   "source": [
    "coll=\"arun\""
   ]
  },
  {
   "cell_type": "code",
   "execution_count": 17,
   "id": "c7727992",
   "metadata": {},
   "outputs": [
    {
     "data": {
      "text/plain": [
       "'arun'"
      ]
     },
     "execution_count": 17,
     "metadata": {},
     "output_type": "execute_result"
    }
   ],
   "source": [
    "coll"
   ]
  },
  {
   "cell_type": "code",
   "execution_count": 18,
   "id": "eaf27f99",
   "metadata": {},
   "outputs": [],
   "source": [
    "string=\"it doesn't working quickly\""
   ]
  },
  {
   "cell_type": "code",
   "execution_count": 19,
   "id": "b97e2847",
   "metadata": {},
   "outputs": [
    {
     "data": {
      "text/plain": [
       "\"it doesn't working quickly\""
      ]
     },
     "execution_count": 19,
     "metadata": {},
     "output_type": "execute_result"
    }
   ],
   "source": [
    "string"
   ]
  },
  {
   "cell_type": "markdown",
   "id": "67d7df3a",
   "metadata": {},
   "source": [
    "#numeric"
   ]
  },
  {
   "cell_type": "code",
   "execution_count": 20,
   "id": "b1b302ec",
   "metadata": {},
   "outputs": [],
   "source": [
    "f5=78"
   ]
  },
  {
   "cell_type": "code",
   "execution_count": 21,
   "id": "1a1def3d",
   "metadata": {},
   "outputs": [
    {
     "data": {
      "text/plain": [
       "int"
      ]
     },
     "execution_count": 21,
     "metadata": {},
     "output_type": "execute_result"
    }
   ],
   "source": [
    "type(f5)"
   ]
  },
  {
   "cell_type": "code",
   "execution_count": 4,
   "id": "ecb1b32d",
   "metadata": {},
   "outputs": [
    {
     "ename": "SyntaxError",
     "evalue": "invalid syntax (Temp/ipykernel_6048/445979817.py, line 1)",
     "output_type": "error",
     "traceback": [
      "\u001b[1;36m  File \u001b[1;32m\"C:\\Users\\kaviy\\AppData\\Local\\Temp/ipykernel_6048/445979817.py\"\u001b[1;36m, line \u001b[1;32m1\u001b[0m\n\u001b[1;33m    5f=67\u001b[0m\n\u001b[1;37m     ^\u001b[0m\n\u001b[1;31mSyntaxError\u001b[0m\u001b[1;31m:\u001b[0m invalid syntax\n"
     ]
    }
   ],
   "source": [
    "5f=67"
   ]
  },
  {
   "cell_type": "markdown",
   "id": "983c0c65",
   "metadata": {},
   "source": [
    "# compley"
   ]
  },
  {
   "cell_type": "code",
   "execution_count": 24,
   "id": "eb001f8f",
   "metadata": {},
   "outputs": [],
   "source": [
    "t=(4+5j)"
   ]
  },
  {
   "cell_type": "code",
   "execution_count": 25,
   "id": "08441ee3",
   "metadata": {},
   "outputs": [
    {
     "data": {
      "text/plain": [
       "complex"
      ]
     },
     "execution_count": 25,
     "metadata": {},
     "output_type": "execute_result"
    }
   ],
   "source": [
    "type(t)"
   ]
  },
  {
   "cell_type": "markdown",
   "id": "8deb5e7e",
   "metadata": {},
   "source": [
    "# list"
   ]
  },
  {
   "cell_type": "code",
   "execution_count": 44,
   "id": "2e89ecd0",
   "metadata": {},
   "outputs": [],
   "source": [
    "list3=[1,2,3,4]"
   ]
  },
  {
   "cell_type": "code",
   "execution_count": 45,
   "id": "52543e06",
   "metadata": {},
   "outputs": [
    {
     "data": {
      "text/plain": [
       "[1, 2, 4.5, 4]"
      ]
     },
     "execution_count": 45,
     "metadata": {},
     "output_type": "execute_result"
    }
   ],
   "source": [
    "list1"
   ]
  },
  {
   "cell_type": "code",
   "execution_count": 46,
   "id": "d2990425",
   "metadata": {},
   "outputs": [
    {
     "data": {
      "text/plain": [
       "list"
      ]
     },
     "execution_count": 46,
     "metadata": {},
     "output_type": "execute_result"
    }
   ],
   "source": [
    "type(list1)"
   ]
  },
  {
   "cell_type": "markdown",
   "id": "98787a49",
   "metadata": {},
   "source": [
    "# mutable"
   ]
  },
  {
   "cell_type": "code",
   "execution_count": 47,
   "id": "9b832c34",
   "metadata": {},
   "outputs": [
    {
     "data": {
      "text/plain": [
       "[1, 3.5, 5, (8+5j), 6.1]"
      ]
     },
     "execution_count": 47,
     "metadata": {},
     "output_type": "execute_result"
    }
   ],
   "source": [
    "[1,3.5,5,(8+5j),6.1]"
   ]
  },
  {
   "cell_type": "code",
   "execution_count": 48,
   "id": "4604c44c",
   "metadata": {},
   "outputs": [],
   "source": [
    "list1[2]=4.5"
   ]
  },
  {
   "cell_type": "code",
   "execution_count": 49,
   "id": "9c341d69",
   "metadata": {},
   "outputs": [
    {
     "data": {
      "text/plain": [
       "[1, 2, 4.5, 4]"
      ]
     },
     "execution_count": 49,
     "metadata": {},
     "output_type": "execute_result"
    }
   ],
   "source": [
    "list1"
   ]
  },
  {
   "cell_type": "code",
   "execution_count": 3,
   "id": "cc1ef740",
   "metadata": {},
   "outputs": [
    {
     "ename": "NameError",
     "evalue": "name 'list1' is not defined",
     "output_type": "error",
     "traceback": [
      "\u001b[1;31m---------------------------------------------------------------------------\u001b[0m",
      "\u001b[1;31mNameError\u001b[0m                                 Traceback (most recent call last)",
      "\u001b[1;32m~\\AppData\\Local\\Temp/ipykernel_15832/1458576091.py\u001b[0m in \u001b[0;36m<module>\u001b[1;34m\u001b[0m\n\u001b[1;32m----> 1\u001b[1;33m \u001b[0mlist1\u001b[0m\u001b[1;33m[\u001b[0m\u001b[1;36m1\u001b[0m\u001b[1;33m]\u001b[0m\u001b[1;33m=\u001b[0m\u001b[1;36m6\u001b[0m\u001b[1;33m\u001b[0m\u001b[1;33m\u001b[0m\u001b[0m\n\u001b[0m",
      "\u001b[1;31mNameError\u001b[0m: name 'list1' is not defined"
     ]
    }
   ],
   "source": [
    "list1[1]=6"
   ]
  },
  {
   "cell_type": "code",
   "execution_count": 39,
   "id": "6052aecd",
   "metadata": {},
   "outputs": [
    {
     "data": {
      "text/plain": [
       "[1, 2, 4.5, 4]"
      ]
     },
     "execution_count": 39,
     "metadata": {},
     "output_type": "execute_result"
    }
   ],
   "source": [
    "list1"
   ]
  },
  {
   "cell_type": "code",
   "execution_count": 50,
   "id": "eb0b743c",
   "metadata": {},
   "outputs": [],
   "source": [
    "list3[-2]=45.67"
   ]
  },
  {
   "cell_type": "code",
   "execution_count": 51,
   "id": "34498c7a",
   "metadata": {},
   "outputs": [
    {
     "data": {
      "text/plain": [
       "[1, 2, 45.67, 4]"
      ]
     },
     "execution_count": 51,
     "metadata": {},
     "output_type": "execute_result"
    }
   ],
   "source": [
    "list3"
   ]
  },
  {
   "cell_type": "code",
   "execution_count": 53,
   "id": "b0de8496",
   "metadata": {},
   "outputs": [],
   "source": [
    "list3=[3,4,'class',(4+6j),8.1]"
   ]
  },
  {
   "cell_type": "code",
   "execution_count": 54,
   "id": "629b0aaf",
   "metadata": {},
   "outputs": [
    {
     "data": {
      "text/plain": [
       "[3, 4, 'class', (4+6j), 8.1]"
      ]
     },
     "execution_count": 54,
     "metadata": {},
     "output_type": "execute_result"
    }
   ],
   "source": [
    "list3"
   ]
  },
  {
   "cell_type": "code",
   "execution_count": 57,
   "id": "dbe9a3a5",
   "metadata": {},
   "outputs": [],
   "source": [
    "list3[-2]=5.56"
   ]
  },
  {
   "cell_type": "code",
   "execution_count": 58,
   "id": "e741f2d9",
   "metadata": {},
   "outputs": [
    {
     "data": {
      "text/plain": [
       "[3, 4, 'class', 5.56, 8.1]"
      ]
     },
     "execution_count": 58,
     "metadata": {},
     "output_type": "execute_result"
    }
   ],
   "source": [
    "list3"
   ]
  },
  {
   "cell_type": "code",
   "execution_count": 87,
   "id": "c0d15bae",
   "metadata": {},
   "outputs": [],
   "source": [
    "list3[1]=8"
   ]
  },
  {
   "cell_type": "code",
   "execution_count": 88,
   "id": "b577cb10",
   "metadata": {},
   "outputs": [
    {
     "data": {
      "text/plain": [
       "[3, 8, (6+7j), 'ravi', 'kaviyan', 'kaviyan', (9+7j), 5.56, 8.1]"
      ]
     },
     "execution_count": 88,
     "metadata": {},
     "output_type": "execute_result"
    }
   ],
   "source": [
    "list3\n"
   ]
  },
  {
   "cell_type": "code",
   "execution_count": 90,
   "id": "4c274910",
   "metadata": {},
   "outputs": [],
   "source": [
    "list3[-3]=(9+7j)"
   ]
  },
  {
   "cell_type": "code",
   "execution_count": 91,
   "id": "db283cdc",
   "metadata": {},
   "outputs": [
    {
     "data": {
      "text/plain": [
       "[3, 8, (6+7j), 'ravi', 'kaviyan', 'kaviyan', (9+7j), 5.56, 8.1]"
      ]
     },
     "execution_count": 91,
     "metadata": {},
     "output_type": "execute_result"
    }
   ],
   "source": [
    "list3\n",
    "\n"
   ]
  },
  {
   "cell_type": "code",
   "execution_count": 92,
   "id": "d9d9bb92",
   "metadata": {},
   "outputs": [],
   "source": [
    "list3.append(9)"
   ]
  },
  {
   "cell_type": "code",
   "execution_count": 93,
   "id": "b8e7362c",
   "metadata": {},
   "outputs": [
    {
     "data": {
      "text/plain": [
       "[3, 8, (6+7j), 'ravi', 'kaviyan', 'kaviyan', (9+7j), 5.56, 8.1, 9]"
      ]
     },
     "execution_count": 93,
     "metadata": {},
     "output_type": "execute_result"
    }
   ],
   "source": [
    "list3"
   ]
  },
  {
   "cell_type": "code",
   "execution_count": 94,
   "id": "c399fd06",
   "metadata": {},
   "outputs": [],
   "source": [
    "list3.remove(9)"
   ]
  },
  {
   "cell_type": "code",
   "execution_count": 95,
   "id": "abced4c1",
   "metadata": {},
   "outputs": [
    {
     "data": {
      "text/plain": [
       "[3, 8, (6+7j), 'ravi', 'kaviyan', 'kaviyan', (9+7j), 5.56, 8.1]"
      ]
     },
     "execution_count": 95,
     "metadata": {},
     "output_type": "execute_result"
    }
   ],
   "source": [
    "list3"
   ]
  },
  {
   "cell_type": "code",
   "execution_count": 96,
   "id": "3bf012cf",
   "metadata": {},
   "outputs": [],
   "source": [
    "list3.insert(3,2009)"
   ]
  },
  {
   "cell_type": "code",
   "execution_count": 97,
   "id": "0bbb4f09",
   "metadata": {},
   "outputs": [
    {
     "data": {
      "text/plain": [
       "[3, 8, (6+7j), 2009, 'ravi', 'kaviyan', 'kaviyan', (9+7j), 5.56, 8.1]"
      ]
     },
     "execution_count": 97,
     "metadata": {},
     "output_type": "execute_result"
    }
   ],
   "source": [
    "list3"
   ]
  },
  {
   "cell_type": "code",
   "execution_count": 98,
   "id": "fee6f611",
   "metadata": {},
   "outputs": [],
   "source": [
    "list3.insert(3,\"ravi\")"
   ]
  },
  {
   "cell_type": "code",
   "execution_count": 99,
   "id": "b2bd2de2",
   "metadata": {},
   "outputs": [
    {
     "data": {
      "text/plain": [
       "[3, 8, (6+7j), 'ravi', 2009, 'ravi', 'kaviyan', 'kaviyan', (9+7j), 5.56, 8.1]"
      ]
     },
     "execution_count": 99,
     "metadata": {},
     "output_type": "execute_result"
    }
   ],
   "source": [
    "list3"
   ]
  },
  {
   "cell_type": "code",
   "execution_count": 100,
   "id": "000c766e",
   "metadata": {},
   "outputs": [
    {
     "data": {
      "text/plain": [
       "11"
      ]
     },
     "execution_count": 100,
     "metadata": {},
     "output_type": "execute_result"
    }
   ],
   "source": [
    "len(list3)"
   ]
  },
  {
   "cell_type": "code",
   "execution_count": 114,
   "id": "26412635",
   "metadata": {},
   "outputs": [
    {
     "ename": "SyntaxError",
     "evalue": "cannot delete function call (Temp/ipykernel_14628/3395304115.py, line 1)",
     "output_type": "error",
     "traceback": [
      "\u001b[1;36m  File \u001b[1;32m\"C:\\Users\\kaviy\\AppData\\Local\\Temp/ipykernel_14628/3395304115.py\"\u001b[1;36m, line \u001b[1;32m1\u001b[0m\n\u001b[1;33m    del list3(8)\u001b[0m\n\u001b[1;37m        ^\u001b[0m\n\u001b[1;31mSyntaxError\u001b[0m\u001b[1;31m:\u001b[0m cannot delete function call\n"
     ]
    }
   ],
   "source": [
    "del list3(8)"
   ]
  },
  {
   "cell_type": "code",
   "execution_count": 109,
   "id": "a9ceee2b",
   "metadata": {},
   "outputs": [],
   "source": [
    "tup=(1,2,3,(6+5j),4.6)"
   ]
  },
  {
   "cell_type": "code",
   "execution_count": 112,
   "id": "5e2e82cd",
   "metadata": {},
   "outputs": [
    {
     "ename": "TypeError",
     "evalue": "'tuple' object does not support item assignment",
     "output_type": "error",
     "traceback": [
      "\u001b[1;31m---------------------------------------------------------------------------\u001b[0m",
      "\u001b[1;31mTypeError\u001b[0m                                 Traceback (most recent call last)",
      "\u001b[1;32m~\\AppData\\Local\\Temp/ipykernel_14628/1764793426.py\u001b[0m in \u001b[0;36m<module>\u001b[1;34m\u001b[0m\n\u001b[1;32m----> 1\u001b[1;33m \u001b[0mtup\u001b[0m\u001b[1;33m[\u001b[0m\u001b[1;36m1\u001b[0m\u001b[1;33m]\u001b[0m\u001b[1;33m=\u001b[0m\u001b[1;36m2\u001b[0m\u001b[1;33m\u001b[0m\u001b[1;33m\u001b[0m\u001b[0m\n\u001b[0m",
      "\u001b[1;31mTypeError\u001b[0m: 'tuple' object does not support item assignment"
     ]
    }
   ],
   "source": [
    "tup[1]=2"
   ]
  },
  {
   "cell_type": "markdown",
   "id": "00464f79",
   "metadata": {},
   "source": [
    "# range"
   ]
  },
  {
   "cell_type": "code",
   "execution_count": 115,
   "id": "0c318b75",
   "metadata": {},
   "outputs": [],
   "source": [
    "ran=range(1,20)"
   ]
  },
  {
   "cell_type": "code",
   "execution_count": 116,
   "id": "e6295696",
   "metadata": {},
   "outputs": [
    {
     "data": {
      "text/plain": [
       "range(1, 20)"
      ]
     },
     "execution_count": 116,
     "metadata": {},
     "output_type": "execute_result"
    }
   ],
   "source": [
    "ran"
   ]
  },
  {
   "cell_type": "code",
   "execution_count": 117,
   "id": "2f53508f",
   "metadata": {},
   "outputs": [],
   "source": [
    "ran1=list(range(1,20))"
   ]
  },
  {
   "cell_type": "code",
   "execution_count": 118,
   "id": "89bbed5a",
   "metadata": {},
   "outputs": [
    {
     "data": {
      "text/plain": [
       "[1, 2, 3, 4, 5, 6, 7, 8, 9, 10, 11, 12, 13, 14, 15, 16, 17, 18, 19]"
      ]
     },
     "execution_count": 118,
     "metadata": {},
     "output_type": "execute_result"
    }
   ],
   "source": [
    "ran1"
   ]
  },
  {
   "cell_type": "markdown",
   "id": "f8d03b2b",
   "metadata": {},
   "source": [
    "# dictionary"
   ]
  },
  {
   "cell_type": "code",
   "execution_count": 5,
   "id": "e93513c8",
   "metadata": {},
   "outputs": [],
   "source": [
    "hostel={\"food\":['idely','pongal','rice'],'monday':1,'tuesday':2,'wenesday':3}"
   ]
  },
  {
   "cell_type": "code",
   "execution_count": 6,
   "id": "cb443598",
   "metadata": {},
   "outputs": [
    {
     "data": {
      "text/plain": [
       "1"
      ]
     },
     "execution_count": 6,
     "metadata": {},
     "output_type": "execute_result"
    }
   ],
   "source": [
    "hostel['monday']"
   ]
  },
  {
   "cell_type": "code",
   "execution_count": 8,
   "id": "abf90919",
   "metadata": {},
   "outputs": [],
   "source": [
    "hostel['monday']=\"not available\""
   ]
  },
  {
   "cell_type": "code",
   "execution_count": 9,
   "id": "8350cdf3",
   "metadata": {},
   "outputs": [
    {
     "data": {
      "text/plain": [
       "{'food': ['idely', 'pongal', 'rice'],\n",
       " 'monday': 'not available',\n",
       " 'tuesday': 2,\n",
       " 'wenesday': 3}"
      ]
     },
     "execution_count": 9,
     "metadata": {},
     "output_type": "execute_result"
    }
   ],
   "source": [
    "hostel"
   ]
  },
  {
   "cell_type": "code",
   "execution_count": 11,
   "id": "85ed9d12",
   "metadata": {},
   "outputs": [],
   "source": [
    "student={'bca':{1:'surya',2:'mani',3:'vineeth'},\n",
    "    'cs' :{1:'pravin',2:'maanikam',3:'solan'}}"
   ]
  },
  {
   "cell_type": "code",
   "execution_count": 12,
   "id": "2232c3ae",
   "metadata": {},
   "outputs": [
    {
     "data": {
      "text/plain": [
       "{1: 'surya', 2: 'mani', 3: 'vineeth'}"
      ]
     },
     "execution_count": 12,
     "metadata": {},
     "output_type": "execute_result"
    }
   ],
   "source": [
    "student['bca']"
   ]
  },
  {
   "cell_type": "code",
   "execution_count": 19,
   "id": "16fd93e8",
   "metadata": {},
   "outputs": [],
   "source": [
    "student['cs']=3"
   ]
  },
  {
   "cell_type": "code",
   "execution_count": 20,
   "id": "ba2bc65c",
   "metadata": {},
   "outputs": [
    {
     "data": {
      "text/plain": [
       "{'bca': 2, 'cs': 3, 2: 'bca'}"
      ]
     },
     "execution_count": 20,
     "metadata": {},
     "output_type": "execute_result"
    }
   ],
   "source": [
    "student"
   ]
  },
  {
   "cell_type": "markdown",
   "id": "7b5cb696",
   "metadata": {},
   "source": [
    "# set"
   ]
  },
  {
   "cell_type": "code",
   "execution_count": 22,
   "id": "bfba6050",
   "metadata": {},
   "outputs": [],
   "source": [
    "won={1,2,3,4,(7+8j),'tall'}"
   ]
  },
  {
   "cell_type": "code",
   "execution_count": 23,
   "id": "e5bff1dd",
   "metadata": {},
   "outputs": [
    {
     "data": {
      "text/plain": [
       "{(7+8j), 1, 2, 3, 4, 'tall'}"
      ]
     },
     "execution_count": 23,
     "metadata": {},
     "output_type": "execute_result"
    }
   ],
   "source": [
    "won"
   ]
  },
  {
   "cell_type": "code",
   "execution_count": 24,
   "id": "aab46c37",
   "metadata": {},
   "outputs": [],
   "source": [
    "loss={1,2,3,4,(7+8j),'tall'}"
   ]
  },
  {
   "cell_type": "code",
   "execution_count": 25,
   "id": "28e2d860",
   "metadata": {},
   "outputs": [
    {
     "data": {
      "text/plain": [
       "{(7+8j), 1, 2, 3, 4, 'tall'}"
      ]
     },
     "execution_count": 25,
     "metadata": {},
     "output_type": "execute_result"
    }
   ],
   "source": [
    "loss"
   ]
  },
  {
   "cell_type": "code",
   "execution_count": 30,
   "id": "7f812afc",
   "metadata": {},
   "outputs": [],
   "source": [
    "loss.add(10)"
   ]
  },
  {
   "cell_type": "code",
   "execution_count": 28,
   "id": "4645bf27",
   "metadata": {},
   "outputs": [
    {
     "data": {
      "text/plain": [
       "{(7+8j), 1, 10, 2, 3, 4, 'tall'}"
      ]
     },
     "execution_count": 28,
     "metadata": {},
     "output_type": "execute_result"
    }
   ],
   "source": [
    "loss"
   ]
  },
  {
   "cell_type": "code",
   "execution_count": 31,
   "id": "06859532",
   "metadata": {},
   "outputs": [],
   "source": [
    "loss.remove(10)"
   ]
  },
  {
   "cell_type": "code",
   "execution_count": 32,
   "id": "dc625d1a",
   "metadata": {},
   "outputs": [
    {
     "data": {
      "text/plain": [
       "{(7+8j), 1, 2, 3, 4, 'tall'}"
      ]
     },
     "execution_count": 32,
     "metadata": {},
     "output_type": "execute_result"
    }
   ],
   "source": [
    "loss"
   ]
  },
  {
   "cell_type": "code",
   "execution_count": 33,
   "id": "c68f9f09",
   "metadata": {},
   "outputs": [
    {
     "data": {
      "text/plain": [
       "{(7+8j), 1, 2, 3, 4, 'tall'}"
      ]
     },
     "execution_count": 33,
     "metadata": {},
     "output_type": "execute_result"
    }
   ],
   "source": [
    "won | loss"
   ]
  },
  {
   "cell_type": "code",
   "execution_count": 35,
   "id": "2b2c867b",
   "metadata": {},
   "outputs": [
    {
     "data": {
      "text/plain": [
       "{(7+8j), 1, 2, 3, 4, 'tall'}"
      ]
     },
     "execution_count": 35,
     "metadata": {},
     "output_type": "execute_result"
    }
   ],
   "source": [
    "won & loss"
   ]
  },
  {
   "cell_type": "markdown",
   "id": "9827f952",
   "metadata": {},
   "source": [
    "# frozenset"
   ]
  },
  {
   "cell_type": "code",
   "execution_count": 36,
   "id": "664bc63d",
   "metadata": {},
   "outputs": [],
   "source": [
    "r=frozenset({3,4,4,56,6,7,(4+6j),'pu'})"
   ]
  },
  {
   "cell_type": "code",
   "execution_count": 37,
   "id": "d1f00ca8",
   "metadata": {},
   "outputs": [
    {
     "data": {
      "text/plain": [
       "frozenset({(4+6j), 3, 4, 56, 6, 7, 'pu'})"
      ]
     },
     "execution_count": 37,
     "metadata": {},
     "output_type": "execute_result"
    }
   ],
   "source": [
    "r"
   ]
  },
  {
   "cell_type": "markdown",
   "id": "9b6a203d",
   "metadata": {},
   "source": [
    "# bollen"
   ]
  },
  {
   "cell_type": "code",
   "execution_count": 39,
   "id": "92b2751e",
   "metadata": {},
   "outputs": [],
   "source": [
    "password =True"
   ]
  },
  {
   "cell_type": "code",
   "execution_count": 41,
   "id": "81292171",
   "metadata": {},
   "outputs": [
    {
     "data": {
      "text/plain": [
       "True"
      ]
     },
     "execution_count": 41,
     "metadata": {},
     "output_type": "execute_result"
    }
   ],
   "source": [
    "password"
   ]
  },
  {
   "cell_type": "markdown",
   "id": "cdfff16c",
   "metadata": {},
   "source": []
  },
  {
   "cell_type": "code",
   "execution_count": 42,
   "id": "0784ae91",
   "metadata": {},
   "outputs": [
    {
     "data": {
      "text/plain": [
       "False"
      ]
     },
     "execution_count": 42,
     "metadata": {},
     "output_type": "execute_result"
    }
   ],
   "source": [
    "4>7"
   ]
  },
  {
   "cell_type": "code",
   "execution_count": 44,
   "id": "94e2dff0",
   "metadata": {},
   "outputs": [
    {
     "data": {
      "text/plain": [
       "True"
      ]
     },
     "execution_count": 44,
     "metadata": {},
     "output_type": "execute_result"
    }
   ],
   "source": [
    "78977<89978"
   ]
  },
  {
   "cell_type": "markdown",
   "id": "b0d09597",
   "metadata": {},
   "source": [
    "# tuple"
   ]
  },
  {
   "cell_type": "code",
   "execution_count": 1,
   "id": "b3906d29",
   "metadata": {},
   "outputs": [],
   "source": [
    "tup=(1,6.7,(5+7j),8)"
   ]
  },
  {
   "cell_type": "code",
   "execution_count": 3,
   "id": "220213ce",
   "metadata": {},
   "outputs": [
    {
     "ename": "TypeError",
     "evalue": "'tuple' object does not support item assignment",
     "output_type": "error",
     "traceback": [
      "\u001b[1;31m---------------------------------------------------------------------------\u001b[0m",
      "\u001b[1;31mTypeError\u001b[0m                                 Traceback (most recent call last)",
      "\u001b[1;32m~\\AppData\\Local\\Temp/ipykernel_6048/1161518180.py\u001b[0m in \u001b[0;36m<module>\u001b[1;34m\u001b[0m\n\u001b[1;32m----> 1\u001b[1;33m \u001b[0mtup\u001b[0m\u001b[1;33m[\u001b[0m\u001b[1;36m1\u001b[0m\u001b[1;33m]\u001b[0m\u001b[1;33m=\u001b[0m\u001b[1;36m4\u001b[0m\u001b[1;33m\u001b[0m\u001b[1;33m\u001b[0m\u001b[0m\n\u001b[0m",
      "\u001b[1;31mTypeError\u001b[0m: 'tuple' object does not support item assignment"
     ]
    }
   ],
   "source": [
    "tup[1]=4"
   ]
  },
  {
   "cell_type": "markdown",
   "id": "c4fe0032",
   "metadata": {},
   "source": [
    "# print"
   ]
  },
  {
   "cell_type": "code",
   "execution_count": 7,
   "id": "ed864e0f",
   "metadata": {},
   "outputs": [
    {
     "name": "stdout",
     "output_type": "stream",
     "text": [
      "this is periyar maniammai an insttude of science & technology\n"
     ]
    }
   ],
   "source": [
    "print(\"this is {} an {}\".format('periyar maniammai','insttude of science & technology'))"
   ]
  },
  {
   "cell_type": "markdown",
   "id": "36629e9d",
   "metadata": {},
   "source": [
    "# type 2"
   ]
  },
  {
   "cell_type": "code",
   "execution_count": 28,
   "id": "a908a56b",
   "metadata": {},
   "outputs": [],
   "source": [
    "subject='colleage'"
   ]
  },
  {
   "cell_type": "code",
   "execution_count": 29,
   "id": "377215dd",
   "metadata": {},
   "outputs": [
    {
     "name": "stdout",
     "output_type": "stream",
     "text": [
      " in bca  all subject depent on colleage\n"
     ]
    }
   ],
   "source": [
    "print(' in bca  all subject depent on',subject  )"
   ]
  },
  {
   "cell_type": "markdown",
   "id": "e1b2ffd6",
   "metadata": {},
   "source": [
    "# type 3"
   ]
  },
  {
   "cell_type": "code",
   "execution_count": 34,
   "id": "33827aaf",
   "metadata": {},
   "outputs": [],
   "source": [
    "distric=\"thanjavur\""
   ]
  },
  {
   "cell_type": "code",
   "execution_count": 36,
   "id": "deace287",
   "metadata": {},
   "outputs": [
    {
     "name": "stdout",
     "output_type": "stream",
     "text": [
      "periyar maniammai colleage  in thanjavur\n"
     ]
    }
   ],
   "source": [
    "print(f\"periyar maniammai {subject}  in {distric}\")"
   ]
  },
  {
   "cell_type": "markdown",
   "id": "bd6de4bd",
   "metadata": {},
   "source": [
    "# if statement"
   ]
  },
  {
   "cell_type": "code",
   "execution_count": 18,
   "id": "7101eeef",
   "metadata": {},
   "outputs": [
    {
     "name": "stdout",
     "output_type": "stream",
     "text": [
      "enter number1:6\n",
      "enter number2:-2\n"
     ]
    }
   ],
   "source": [
    "num1=int(input('enter number1:'))\n",
    "num2=int(input('enter number2:'))"
   ]
  },
  {
   "cell_type": "code",
   "execution_count": 19,
   "id": "ade9ba55",
   "metadata": {},
   "outputs": [
    {
     "name": "stdout",
     "output_type": "stream",
     "text": [
      "6 is greater then -2\n"
     ]
    }
   ],
   "source": [
    "if num1>num2:\n",
    "    print(f\"{num1} is greater then {num2}\")"
   ]
  },
  {
   "cell_type": "code",
   "execution_count": 20,
   "id": "e8e0c7b0",
   "metadata": {},
   "outputs": [
    {
     "name": "stdout",
     "output_type": "stream",
     "text": [
      "6 is divided by -2\n"
     ]
    }
   ],
   "source": [
    "div=num1%num2;\n",
    "print(f\"{num1} is divided by {num2}\")"
   ]
  },
  {
   "cell_type": "code",
   "execution_count": 21,
   "id": "15941e0a",
   "metadata": {},
   "outputs": [
    {
     "name": "stdout",
     "output_type": "stream",
     "text": [
      "the multipication number is -12\n"
     ]
    }
   ],
   "source": [
    "\n",
    "\n",
    "\n",
    "mul=num1*num2;\n",
    "    \n",
    "print(\"the multipication number is\",mul)"
   ]
  },
  {
   "cell_type": "code",
   "execution_count": 24,
   "id": "af044dae",
   "metadata": {},
   "outputs": [
    {
     "name": "stdout",
     "output_type": "stream",
     "text": [
      "-2 is not positive number\n"
     ]
    }
   ],
   "source": [
    "if num1<num2:\n",
    "    printf(f\"{num1}is positive number\")\n",
    "else:\n",
    "    print(f\"{num2} is not positive number\")"
   ]
  },
  {
   "cell_type": "markdown",
   "id": "d48e9f4b",
   "metadata": {},
   "source": [
    "# elifstatment"
   ]
  },
  {
   "cell_type": "code",
   "execution_count": 30,
   "id": "c56857f8",
   "metadata": {},
   "outputs": [
    {
     "name": "stdout",
     "output_type": "stream",
     "text": [
      "enter number:-2\n",
      "-2 is negative\n"
     ]
    }
   ],
   "source": [
    "number=int(input(\"enter number:\"))\n",
    "if number>0:\n",
    "    print(f\"{num1} is positive\")\n",
    "elif number<0:\n",
    "    print(f\"{num2} is negative\")\n",
    "else:\n",
    "    print(f\"{number} doesnt have sing\")"
   ]
  },
  {
   "cell_type": "markdown",
   "id": "98f6c921",
   "metadata": {},
   "source": [
    "# forloop"
   ]
  },
  {
   "cell_type": "code",
   "execution_count": 50,
   "id": "f50ec866",
   "metadata": {},
   "outputs": [],
   "source": [
    "num=range(1,20)"
   ]
  },
  {
   "cell_type": "code",
   "execution_count": 51,
   "id": "227716fe",
   "metadata": {},
   "outputs": [
    {
     "name": "stdout",
     "output_type": "stream",
     "text": [
      "1\n",
      "2\n",
      "3\n",
      "4\n",
      "5\n",
      "6\n",
      "7\n",
      "8\n",
      "9\n",
      "10\n",
      "11\n",
      "12\n",
      "13\n",
      "14\n",
      "15\n",
      "16\n",
      "17\n",
      "18\n",
      "19\n"
     ]
    }
   ],
   "source": [
    "for a in num:\n",
    "    print(a)"
   ]
  },
  {
   "cell_type": "markdown",
   "id": "ab7c54d6",
   "metadata": {},
   "source": [
    "# forletter in phython"
   ]
  },
  {
   "cell_type": "code",
   "execution_count": 1,
   "id": "ea3b5547",
   "metadata": {},
   "outputs": [
    {
     "name": "stdout",
     "output_type": "stream",
     "text": [
      "The current letter is p\n",
      "The current letter is h\n",
      "The current letter is y\n",
      "The current letter is t\n",
      "The current letter is h\n",
      "The current letter is o\n",
      "The current letter is n\n"
     ]
    }
   ],
   "source": [
    "for letter in'phython':\n",
    "  print(\"The current letter is\",letter)"
   ]
  },
  {
   "cell_type": "markdown",
   "id": "76c3f3e5",
   "metadata": {},
   "source": [
    "# add or even"
   ]
  },
  {
   "cell_type": "code",
   "execution_count": 6,
   "id": "aeb5931e",
   "metadata": {},
   "outputs": [
    {
     "ename": "IndentationError",
     "evalue": "expected an indented block (Temp/ipykernel_11708/1112470507.py, line 2)",
     "output_type": "error",
     "traceback": [
      "\u001b[1;36m  File \u001b[1;32m\"C:\\Users\\kaviy\\AppData\\Local\\Temp/ipykernel_11708/1112470507.py\"\u001b[1;36m, line \u001b[1;32m2\u001b[0m\n\u001b[1;33m    if val1%2==0:\u001b[0m\n\u001b[1;37m    ^\u001b[0m\n\u001b[1;31mIndentationError\u001b[0m\u001b[1;31m:\u001b[0m expected an indented block\n"
     ]
    }
   ],
   "source": [
    "for val in num:\n",
    "if val1%2==0:\n",
    "        print(f\"{val}is even\")\n",
    "else:\n",
    "        print(f\"{val}is add\")"
   ]
  },
  {
   "cell_type": "markdown",
   "id": "d5cb8158",
   "metadata": {},
   "source": [
    "# while"
   ]
  },
  {
   "cell_type": "code",
   "execution_count": 4,
   "id": "924cad2e",
   "metadata": {},
   "outputs": [
    {
     "name": "stdout",
     "output_type": "stream",
     "text": [
      "0\n",
      "2\n",
      "4\n",
      "6\n",
      "8\n",
      "10\n",
      "12\n",
      "14\n",
      "16\n",
      "18\n",
      "20\n"
     ]
    }
   ],
   "source": [
    "num=0\n",
    "while num <=20:\n",
    "    print(num)\n",
    "    num=num+2"
   ]
  },
  {
   "cell_type": "code",
   "execution_count": 3,
   "id": "bcd75a69",
   "metadata": {},
   "outputs": [
    {
     "name": "stdout",
     "output_type": "stream",
     "text": [
      "inside loop\n",
      "inside loop\n",
      "inside loop\n",
      "inside loop\n",
      "inside loop\n",
      "inside loop\n",
      "inside loop\n",
      "inside loop\n",
      "inside loop\n",
      "inside loop\n",
      "inside loop\n"
     ]
    }
   ],
   "source": [
    "counter=0\n",
    "while counter<10:\n",
    "    print(\"inside loop\")\n",
    "    counter=counter+1\n",
    "else:\n",
    "    print(\"inside loop\")"
   ]
  },
  {
   "cell_type": "markdown",
   "id": "e67f7ad8",
   "metadata": {},
   "source": [
    "# array"
   ]
  },
  {
   "cell_type": "code",
   "execution_count": 2,
   "id": "e6031d89",
   "metadata": {},
   "outputs": [
    {
     "name": "stdout",
     "output_type": "stream",
     "text": [
      "Requirement already satisfied: numpy in c:\\users\\kaviy\\anaconda3\\envs\\dataanalytics2\\lib\\site-packages (1.22.2)\n",
      "Note: you may need to restart the kernel to use updated packages.\n"
     ]
    }
   ],
   "source": [
    "pip install numpy"
   ]
  },
  {
   "cell_type": "code",
   "execution_count": 6,
   "id": "8886f5e6",
   "metadata": {},
   "outputs": [],
   "source": [
    "import numpy"
   ]
  },
  {
   "cell_type": "code",
   "execution_count": 7,
   "id": "1c937a88",
   "metadata": {},
   "outputs": [],
   "source": [
    "import numpy as np"
   ]
  },
  {
   "cell_type": "code",
   "execution_count": 8,
   "id": "1f778e25",
   "metadata": {},
   "outputs": [
    {
     "data": {
      "text/plain": [
       "'1.22.2'"
      ]
     },
     "execution_count": 8,
     "metadata": {},
     "output_type": "execute_result"
    }
   ],
   "source": [
    "np.version.version"
   ]
  },
  {
   "cell_type": "markdown",
   "id": "9fd42dfe",
   "metadata": {},
   "source": [
    "# 1D array"
   ]
  },
  {
   "cell_type": "code",
   "execution_count": 10,
   "id": "653eca06",
   "metadata": {},
   "outputs": [],
   "source": [
    "first_array=np.array([1,2,3])"
   ]
  },
  {
   "cell_type": "code",
   "execution_count": 11,
   "id": "de507609",
   "metadata": {},
   "outputs": [
    {
     "name": "stdout",
     "output_type": "stream",
     "text": [
      "[1 2 3]\n"
     ]
    }
   ],
   "source": [
    "print(first_array)"
   ]
  },
  {
   "cell_type": "markdown",
   "id": "42f43823",
   "metadata": {},
   "source": [
    "# 2D array"
   ]
  },
  {
   "cell_type": "code",
   "execution_count": 13,
   "id": "56ae6f8c",
   "metadata": {},
   "outputs": [],
   "source": [
    "second_array=np.array([(4,5,7),(4,8,8)])"
   ]
  },
  {
   "cell_type": "code",
   "execution_count": 14,
   "id": "85c0044f",
   "metadata": {},
   "outputs": [
    {
     "data": {
      "text/plain": [
       "array([[4, 5, 7],\n",
       "       [4, 8, 8]])"
      ]
     },
     "execution_count": 14,
     "metadata": {},
     "output_type": "execute_result"
    }
   ],
   "source": [
    "second_array"
   ]
  },
  {
   "cell_type": "markdown",
   "id": "3a585d35",
   "metadata": {},
   "source": [
    "# 3D array"
   ]
  },
  {
   "cell_type": "code",
   "execution_count": 17,
   "id": "deb1cd28",
   "metadata": {},
   "outputs": [],
   "source": [
    "third_array=np.array([[(11,45,78),(45,67,89)],[(17,18,22),(45,67,89)]])"
   ]
  },
  {
   "cell_type": "code",
   "execution_count": 18,
   "id": "30c1adce",
   "metadata": {},
   "outputs": [
    {
     "data": {
      "text/plain": [
       "array([[[11, 45, 78],\n",
       "        [45, 67, 89]],\n",
       "\n",
       "       [[17, 18, 22],\n",
       "        [45, 67, 89]]])"
      ]
     },
     "execution_count": 18,
     "metadata": {},
     "output_type": "execute_result"
    }
   ],
   "source": [
    "third_array"
   ]
  },
  {
   "cell_type": "markdown",
   "id": "efa0e460",
   "metadata": {},
   "source": [
    "# array of zero"
   ]
  },
  {
   "cell_type": "code",
   "execution_count": 20,
   "id": "af3e6c0e",
   "metadata": {},
   "outputs": [],
   "source": [
    "zeros=np.zeros((3,3))"
   ]
  },
  {
   "cell_type": "code",
   "execution_count": 21,
   "id": "b9b460cd",
   "metadata": {},
   "outputs": [
    {
     "data": {
      "text/plain": [
       "array([[0., 0., 0.],\n",
       "       [0., 0., 0.],\n",
       "       [0., 0., 0.]])"
      ]
     },
     "execution_count": 21,
     "metadata": {},
     "output_type": "execute_result"
    }
   ],
   "source": [
    "zeros"
   ]
  },
  {
   "cell_type": "markdown",
   "id": "1db14651",
   "metadata": {},
   "source": [
    "# ones"
   ]
  },
  {
   "cell_type": "code",
   "execution_count": 32,
   "id": "bf77e747",
   "metadata": {},
   "outputs": [],
   "source": [
    "ones=np.ones((8,8))"
   ]
  },
  {
   "cell_type": "code",
   "execution_count": 33,
   "id": "1fc75226",
   "metadata": {},
   "outputs": [
    {
     "data": {
      "text/plain": [
       "array([[1., 1., 1., 1., 1., 1., 1., 1.],\n",
       "       [1., 1., 1., 1., 1., 1., 1., 1.],\n",
       "       [1., 1., 1., 1., 1., 1., 1., 1.],\n",
       "       [1., 1., 1., 1., 1., 1., 1., 1.],\n",
       "       [1., 1., 1., 1., 1., 1., 1., 1.],\n",
       "       [1., 1., 1., 1., 1., 1., 1., 1.],\n",
       "       [1., 1., 1., 1., 1., 1., 1., 1.],\n",
       "       [1., 1., 1., 1., 1., 1., 1., 1.]])"
      ]
     },
     "execution_count": 33,
     "metadata": {},
     "output_type": "execute_result"
    }
   ],
   "source": [
    "ones"
   ]
  },
  {
   "cell_type": "markdown",
   "id": "045a1fb8",
   "metadata": {},
   "source": [
    "# linspace"
   ]
  },
  {
   "cell_type": "code",
   "execution_count": 25,
   "id": "3afa98aa",
   "metadata": {},
   "outputs": [],
   "source": [
    "row=np.linspace(0,100,50)"
   ]
  },
  {
   "cell_type": "code",
   "execution_count": 26,
   "id": "998d7267",
   "metadata": {},
   "outputs": [
    {
     "data": {
      "text/plain": [
       "array([  0.        ,   2.04081633,   4.08163265,   6.12244898,\n",
       "         8.16326531,  10.20408163,  12.24489796,  14.28571429,\n",
       "        16.32653061,  18.36734694,  20.40816327,  22.44897959,\n",
       "        24.48979592,  26.53061224,  28.57142857,  30.6122449 ,\n",
       "        32.65306122,  34.69387755,  36.73469388,  38.7755102 ,\n",
       "        40.81632653,  42.85714286,  44.89795918,  46.93877551,\n",
       "        48.97959184,  51.02040816,  53.06122449,  55.10204082,\n",
       "        57.14285714,  59.18367347,  61.2244898 ,  63.26530612,\n",
       "        65.30612245,  67.34693878,  69.3877551 ,  71.42857143,\n",
       "        73.46938776,  75.51020408,  77.55102041,  79.59183673,\n",
       "        81.63265306,  83.67346939,  85.71428571,  87.75510204,\n",
       "        89.79591837,  91.83673469,  93.87755102,  95.91836735,\n",
       "        97.95918367, 100.        ])"
      ]
     },
     "execution_count": 26,
     "metadata": {},
     "output_type": "execute_result"
    }
   ],
   "source": [
    "row"
   ]
  },
  {
   "cell_type": "markdown",
   "id": "e2913ab8",
   "metadata": {},
   "source": [
    "# transpose"
   ]
  },
  {
   "cell_type": "code",
   "execution_count": 27,
   "id": "b98b1a32",
   "metadata": {},
   "outputs": [],
   "source": [
    "mal_tran=np.transpose(second_array)"
   ]
  },
  {
   "cell_type": "code",
   "execution_count": 28,
   "id": "db03190b",
   "metadata": {},
   "outputs": [
    {
     "data": {
      "text/plain": [
       "array([[4, 4],\n",
       "       [5, 8],\n",
       "       [7, 8]])"
      ]
     },
     "execution_count": 28,
     "metadata": {},
     "output_type": "execute_result"
    }
   ],
   "source": [
    "mal_tran"
   ]
  },
  {
   "cell_type": "markdown",
   "id": "847c446d",
   "metadata": {},
   "source": [
    "# flattening array"
   ]
  },
  {
   "cell_type": "code",
   "execution_count": 29,
   "id": "6083fd48",
   "metadata": {},
   "outputs": [
    {
     "data": {
      "text/plain": [
       "array([4, 4, 5, 8, 7, 8])"
      ]
     },
     "execution_count": 29,
     "metadata": {},
     "output_type": "execute_result"
    }
   ],
   "source": [
    "mal_tran.ravel()"
   ]
  },
  {
   "cell_type": "markdown",
   "id": "af69efe0",
   "metadata": {},
   "source": [
    "# reshapping array"
   ]
  },
  {
   "cell_type": "code",
   "execution_count": 43,
   "id": "e8837184",
   "metadata": {},
   "outputs": [
    {
     "data": {
      "text/plain": [
       "array([[0., 0., 0.],\n",
       "       [0., 0., 0.],\n",
       "       [0., 0., 0.]])"
      ]
     },
     "execution_count": 43,
     "metadata": {},
     "output_type": "execute_result"
    }
   ],
   "source": [
    "zeros.reshape(3,3)"
   ]
  },
  {
   "cell_type": "markdown",
   "id": "5def00ca",
   "metadata": {},
   "source": [
    "# append"
   ]
  },
  {
   "cell_type": "code",
   "execution_count": 44,
   "id": "179d29f3",
   "metadata": {},
   "outputs": [],
   "source": [
    "appen=np.append(mal_tran,zeros)"
   ]
  },
  {
   "cell_type": "code",
   "execution_count": 45,
   "id": "06c414dc",
   "metadata": {},
   "outputs": [
    {
     "data": {
      "text/plain": [
       "array([4., 4., 5., 8., 7., 8., 0., 0., 0., 0., 0., 0., 0., 0., 0.])"
      ]
     },
     "execution_count": 45,
     "metadata": {},
     "output_type": "execute_result"
    }
   ],
   "source": [
    "appen"
   ]
  },
  {
   "cell_type": "markdown",
   "id": "15aeef22",
   "metadata": {},
   "source": [
    "# insert array"
   ]
  },
  {
   "cell_type": "code",
   "execution_count": 48,
   "id": "3bee0146",
   "metadata": {},
   "outputs": [],
   "source": [
    "ins=np.insert(ones,3,3)"
   ]
  },
  {
   "cell_type": "code",
   "execution_count": 49,
   "id": "e0cda4e6",
   "metadata": {},
   "outputs": [
    {
     "data": {
      "text/plain": [
       "array([1., 1., 1., 3., 1., 1., 1., 1., 1., 1., 1., 1., 1., 1., 1., 1., 1.,\n",
       "       1., 1., 1., 1., 1., 1., 1., 1., 1., 1., 1., 1., 1., 1., 1., 1., 1.,\n",
       "       1., 1., 1., 1., 1., 1., 1., 1., 1., 1., 1., 1., 1., 1., 1., 1., 1.,\n",
       "       1., 1., 1., 1., 1., 1., 1., 1., 1., 1., 1., 1., 1., 1.])"
      ]
     },
     "execution_count": 49,
     "metadata": {},
     "output_type": "execute_result"
    }
   ],
   "source": [
    "ins"
   ]
  },
  {
   "cell_type": "markdown",
   "id": "ca38189a",
   "metadata": {},
   "source": [
    "# delete"
   ]
  },
  {
   "cell_type": "code",
   "execution_count": 51,
   "id": "fbafd3ee",
   "metadata": {},
   "outputs": [
    {
     "data": {
      "text/plain": [
       "array([1., 1., 3., 1., 1., 1., 1., 1., 1., 1., 1., 1., 1., 1., 1., 1., 1.,\n",
       "       1., 1., 1., 1., 1., 1., 1., 1., 1., 1., 1., 1., 1., 1., 1., 1., 1.,\n",
       "       1., 1., 1., 1., 1., 1., 1., 1., 1., 1., 1., 1., 1., 1., 1., 1., 1.,\n",
       "       1., 1., 1., 1., 1., 1., 1., 1., 1., 1., 1., 1., 1.])"
      ]
     },
     "execution_count": 51,
     "metadata": {},
     "output_type": "execute_result"
    }
   ],
   "source": [
    "np.delete(ins,[2])"
   ]
  },
  {
   "cell_type": "markdown",
   "id": "96fc5e4f",
   "metadata": {},
   "source": [
    "# array concatenate"
   ]
  },
  {
   "cell_type": "code",
   "execution_count": 61,
   "id": "98e746e7",
   "metadata": {},
   "outputs": [
    {
     "ename": "TypeError",
     "evalue": "'numpy.ndarray' object is not callable",
     "output_type": "error",
     "traceback": [
      "\u001b[1;31m---------------------------------------------------------------------------\u001b[0m",
      "\u001b[1;31mTypeError\u001b[0m                                 Traceback (most recent call last)",
      "\u001b[1;32m~\\AppData\\Local\\Temp/ipykernel_688/1055760932.py\u001b[0m in \u001b[0;36m<module>\u001b[1;34m\u001b[0m\n\u001b[1;32m----> 1\u001b[1;33m \u001b[0mnp\u001b[0m\u001b[1;33m.\u001b[0m\u001b[0mconcatenate\u001b[0m\u001b[1;33m(\u001b[0m\u001b[1;33m(\u001b[0m\u001b[0mmal_tran\u001b[0m\u001b[1;33m)\u001b[0m\u001b[1;33m(\u001b[0m\u001b[1;36m3\u001b[0m\u001b[1;33m,\u001b[0m\u001b[1;36m3\u001b[0m\u001b[1;33m)\u001b[0m\u001b[1;33m,\u001b[0m\u001b[0maxis\u001b[0m\u001b[1;33m=\u001b[0m\u001b[1;36m1\u001b[0m\u001b[1;33m)\u001b[0m\u001b[1;33m\u001b[0m\u001b[1;33m\u001b[0m\u001b[0m\n\u001b[0m",
      "\u001b[1;31mTypeError\u001b[0m: 'numpy.ndarray' object is not callable"
     ]
    }
   ],
   "source": [
    "np.concatenate((mal_tran)(3,3),axis=1)"
   ]
  },
  {
   "cell_type": "markdown",
   "id": "c61c959a",
   "metadata": {},
   "source": [
    "# horzental splint"
   ]
  },
  {
   "cell_type": "code",
   "execution_count": 63,
   "id": "d3f595d9",
   "metadata": {},
   "outputs": [
    {
     "data": {
      "text/plain": [
       "[array([[1., 1., 1., 1.],\n",
       "        [1., 1., 1., 1.],\n",
       "        [1., 1., 1., 1.],\n",
       "        [1., 1., 1., 1.],\n",
       "        [1., 1., 1., 1.],\n",
       "        [1., 1., 1., 1.],\n",
       "        [1., 1., 1., 1.],\n",
       "        [1., 1., 1., 1.]]),\n",
       " array([[1., 1., 1., 1.],\n",
       "        [1., 1., 1., 1.],\n",
       "        [1., 1., 1., 1.],\n",
       "        [1., 1., 1., 1.],\n",
       "        [1., 1., 1., 1.],\n",
       "        [1., 1., 1., 1.],\n",
       "        [1., 1., 1., 1.],\n",
       "        [1., 1., 1., 1.]])]"
      ]
     },
     "execution_count": 63,
     "metadata": {},
     "output_type": "execute_result"
    }
   ],
   "source": [
    "np.hsplit(ones,2)"
   ]
  },
  {
   "cell_type": "code",
   "execution_count": null,
   "id": "060233f5",
   "metadata": {},
   "outputs": [],
   "source": []
  }
 ],
 "metadata": {
  "kernelspec": {
   "display_name": "Python 3 (ipykernel)",
   "language": "python",
   "name": "python3"
  },
  "language_info": {
   "codemirror_mode": {
    "name": "ipython",
    "version": 3
   },
   "file_extension": ".py",
   "mimetype": "text/x-python",
   "name": "python",
   "nbconvert_exporter": "python",
   "pygments_lexer": "ipython3",
   "version": "3.8.12"
  }
 },
 "nbformat": 4,
 "nbformat_minor": 5
}
