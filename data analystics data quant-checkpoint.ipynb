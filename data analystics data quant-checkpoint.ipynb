{
 "cells": [
  {
   "cell_type": "markdown",
   "id": "79ae56f1",
   "metadata": {},
   "source": [
    "# variable"
   ]
  },
  {
   "cell_type": "code",
   "execution_count": 1,
   "id": "6075deeb",
   "metadata": {},
   "outputs": [],
   "source": [
    "int=10"
   ]
  },
  {
   "cell_type": "code",
   "execution_count": 2,
   "id": "9db13dc3",
   "metadata": {},
   "outputs": [
    {
     "data": {
      "text/plain": [
       "10"
      ]
     },
     "execution_count": 2,
     "metadata": {},
     "output_type": "execute_result"
    }
   ],
   "source": [
    "int"
   ]
  },
  {
   "cell_type": "code",
   "execution_count": 3,
   "id": "9309d042",
   "metadata": {},
   "outputs": [
    {
     "data": {
      "text/plain": [
       "100"
      ]
     },
     "execution_count": 3,
     "metadata": {},
     "output_type": "execute_result"
    }
   ],
   "source": [
    "int*10"
   ]
  },
  {
   "cell_type": "code",
   "execution_count": 5,
   "id": "59dbe629",
   "metadata": {},
   "outputs": [],
   "source": [
    "int= 2,4"
   ]
  },
  {
   "cell_type": "code",
   "execution_count": 6,
   "id": "e3ad1427",
   "metadata": {},
   "outputs": [
    {
     "data": {
      "text/plain": [
       "6"
      ]
     },
     "execution_count": 6,
     "metadata": {},
     "output_type": "execute_result"
    }
   ],
   "source": [
    "2+4"
   ]
  },
  {
   "cell_type": "code",
   "execution_count": 7,
   "id": "978a06f0",
   "metadata": {},
   "outputs": [
    {
     "data": {
      "text/plain": [
       "8"
      ]
     },
     "execution_count": 7,
     "metadata": {},
     "output_type": "execute_result"
    }
   ],
   "source": [
    "2*4"
   ]
  },
  {
   "cell_type": "code",
   "execution_count": 8,
   "id": "0f1e3c03",
   "metadata": {},
   "outputs": [
    {
     "data": {
      "text/plain": [
       "0.5"
      ]
     },
     "execution_count": 8,
     "metadata": {},
     "output_type": "execute_result"
    }
   ],
   "source": [
    "2/4"
   ]
  },
  {
   "cell_type": "code",
   "execution_count": 9,
   "id": "a780ad35",
   "metadata": {},
   "outputs": [
    {
     "data": {
      "text/plain": [
       "tuple"
      ]
     },
     "execution_count": 9,
     "metadata": {},
     "output_type": "execute_result"
    }
   ],
   "source": [
    "type(int)"
   ]
  },
  {
   "cell_type": "code",
   "execution_count": 10,
   "id": "dc887fff",
   "metadata": {},
   "outputs": [
    {
     "data": {
      "text/plain": [
       "int"
      ]
     },
     "execution_count": 10,
     "metadata": {},
     "output_type": "execute_result"
    }
   ],
   "source": [
    "type(10)"
   ]
  },
  {
   "cell_type": "code",
   "execution_count": 11,
   "id": "b29336a1",
   "metadata": {},
   "outputs": [
    {
     "data": {
      "text/plain": [
       "float"
      ]
     },
     "execution_count": 11,
     "metadata": {},
     "output_type": "execute_result"
    }
   ],
   "source": [
    "type(2/4)"
   ]
  },
  {
   "cell_type": "code",
   "execution_count": 12,
   "id": "6f515036",
   "metadata": {},
   "outputs": [
    {
     "data": {
      "text/plain": [
       "int"
      ]
     },
     "execution_count": 12,
     "metadata": {},
     "output_type": "execute_result"
    }
   ],
   "source": [
    "type(2*4)"
   ]
  },
  {
   "cell_type": "code",
   "execution_count": 106,
   "id": "faa5337a",
   "metadata": {},
   "outputs": [],
   "source": [
    "string=\"arun_mani\""
   ]
  },
  {
   "cell_type": "code",
   "execution_count": 14,
   "id": "c1e90da9",
   "metadata": {},
   "outputs": [],
   "source": [
    "string=\"arun_mani\""
   ]
  },
  {
   "cell_type": "code",
   "execution_count": 15,
   "id": "9321b91e",
   "metadata": {},
   "outputs": [
    {
     "data": {
      "text/plain": [
       "'arun_mani'"
      ]
     },
     "execution_count": 15,
     "metadata": {},
     "output_type": "execute_result"
    }
   ],
   "source": [
    "string"
   ]
  },
  {
   "cell_type": "markdown",
   "id": "2db95ad7",
   "metadata": {},
   "source": [
    "# Datatype"
   ]
  },
  {
   "cell_type": "markdown",
   "id": "13496ae7",
   "metadata": {},
   "source": [
    "# char or string"
   ]
  },
  {
   "cell_type": "code",
   "execution_count": 16,
   "id": "1c4935fb",
   "metadata": {},
   "outputs": [],
   "source": [
    "coll=\"arun\""
   ]
  },
  {
   "cell_type": "code",
   "execution_count": 17,
   "id": "c7727992",
   "metadata": {},
   "outputs": [
    {
     "data": {
      "text/plain": [
       "'arun'"
      ]
     },
     "execution_count": 17,
     "metadata": {},
     "output_type": "execute_result"
    }
   ],
   "source": [
    "coll"
   ]
  },
  {
   "cell_type": "code",
   "execution_count": 18,
   "id": "eaf27f99",
   "metadata": {},
   "outputs": [],
   "source": [
    "string=\"it doesn't working quickly\""
   ]
  },
  {
   "cell_type": "code",
   "execution_count": 19,
   "id": "b97e2847",
   "metadata": {},
   "outputs": [
    {
     "data": {
      "text/plain": [
       "\"it doesn't working quickly\""
      ]
     },
     "execution_count": 19,
     "metadata": {},
     "output_type": "execute_result"
    }
   ],
   "source": [
    "string"
   ]
  },
  {
   "cell_type": "markdown",
   "id": "67d7df3a",
   "metadata": {},
   "source": [
    "#numeric"
   ]
  },
  {
   "cell_type": "code",
   "execution_count": 20,
   "id": "b1b302ec",
   "metadata": {},
   "outputs": [],
   "source": [
    "f5=78"
   ]
  },
  {
   "cell_type": "code",
   "execution_count": 21,
   "id": "1a1def3d",
   "metadata": {},
   "outputs": [
    {
     "data": {
      "text/plain": [
       "int"
      ]
     },
     "execution_count": 21,
     "metadata": {},
     "output_type": "execute_result"
    }
   ],
   "source": [
    "type(f5)"
   ]
  },
  {
   "cell_type": "markdown",
   "id": "983c0c65",
   "metadata": {},
   "source": [
    "# compley"
   ]
  },
  {
   "cell_type": "code",
   "execution_count": 24,
   "id": "eb001f8f",
   "metadata": {},
   "outputs": [],
   "source": [
    "t=(4+5j)"
   ]
  },
  {
   "cell_type": "code",
   "execution_count": 25,
   "id": "08441ee3",
   "metadata": {},
   "outputs": [
    {
     "data": {
      "text/plain": [
       "complex"
      ]
     },
     "execution_count": 25,
     "metadata": {},
     "output_type": "execute_result"
    }
   ],
   "source": [
    "type(t)"
   ]
  },
  {
   "cell_type": "markdown",
   "id": "8deb5e7e",
   "metadata": {},
   "source": [
    "# list"
   ]
  },
  {
   "cell_type": "code",
   "execution_count": 44,
   "id": "2e89ecd0",
   "metadata": {},
   "outputs": [],
   "source": [
    "list3=[1,2,3,4]"
   ]
  },
  {
   "cell_type": "code",
   "execution_count": 45,
   "id": "52543e06",
   "metadata": {},
   "outputs": [
    {
     "data": {
      "text/plain": [
       "[1, 2, 4.5, 4]"
      ]
     },
     "execution_count": 45,
     "metadata": {},
     "output_type": "execute_result"
    }
   ],
   "source": [
    "list1"
   ]
  },
  {
   "cell_type": "code",
   "execution_count": 46,
   "id": "d2990425",
   "metadata": {},
   "outputs": [
    {
     "data": {
      "text/plain": [
       "list"
      ]
     },
     "execution_count": 46,
     "metadata": {},
     "output_type": "execute_result"
    }
   ],
   "source": [
    "type(list1)"
   ]
  },
  {
   "cell_type": "markdown",
   "id": "98787a49",
   "metadata": {},
   "source": [
    "# mutable"
   ]
  },
  {
   "cell_type": "code",
   "execution_count": 2,
   "id": "9b832c34",
   "metadata": {},
   "outputs": [],
   "source": [
    "list1=[1,3.5,5,(8+5j),6.1]"
   ]
  },
  {
   "cell_type": "code",
   "execution_count": 3,
   "id": "4604c44c",
   "metadata": {},
   "outputs": [],
   "source": [
    "list1[2]=4.5"
   ]
  },
  {
   "cell_type": "code",
   "execution_count": 4,
   "id": "9c341d69",
   "metadata": {},
   "outputs": [
    {
     "data": {
      "text/plain": [
       "[1, 3.5, 4.5, (8+5j), 6.1]"
      ]
     },
     "execution_count": 4,
     "metadata": {},
     "output_type": "execute_result"
    }
   ],
   "source": [
    "list1"
   ]
  },
  {
   "cell_type": "code",
   "execution_count": 5,
   "id": "cc1ef740",
   "metadata": {},
   "outputs": [],
   "source": [
    "list1[1]=6"
   ]
  },
  {
   "cell_type": "code",
   "execution_count": 39,
   "id": "6052aecd",
   "metadata": {},
   "outputs": [
    {
     "data": {
      "text/plain": [
       "[1, 2, 4.5, 4]"
      ]
     },
     "execution_count": 39,
     "metadata": {},
     "output_type": "execute_result"
    }
   ],
   "source": [
    "list1"
   ]
  },
  {
   "cell_type": "code",
   "execution_count": 50,
   "id": "eb0b743c",
   "metadata": {},
   "outputs": [],
   "source": [
    "list3[-2]=45.67"
   ]
  },
  {
   "cell_type": "code",
   "execution_count": 51,
   "id": "34498c7a",
   "metadata": {},
   "outputs": [
    {
     "data": {
      "text/plain": [
       "[1, 2, 45.67, 4]"
      ]
     },
     "execution_count": 51,
     "metadata": {},
     "output_type": "execute_result"
    }
   ],
   "source": [
    "list3"
   ]
  },
  {
   "cell_type": "code",
   "execution_count": 53,
   "id": "b0de8496",
   "metadata": {},
   "outputs": [],
   "source": [
    "list3=[3,4,'class',(4+6j),8.1]"
   ]
  },
  {
   "cell_type": "code",
   "execution_count": 54,
   "id": "629b0aaf",
   "metadata": {},
   "outputs": [
    {
     "data": {
      "text/plain": [
       "[3, 4, 'class', (4+6j), 8.1]"
      ]
     },
     "execution_count": 54,
     "metadata": {},
     "output_type": "execute_result"
    }
   ],
   "source": [
    "list3"
   ]
  },
  {
   "cell_type": "code",
   "execution_count": 57,
   "id": "dbe9a3a5",
   "metadata": {},
   "outputs": [],
   "source": [
    "list3[-2]=5.56"
   ]
  },
  {
   "cell_type": "code",
   "execution_count": 58,
   "id": "e741f2d9",
   "metadata": {},
   "outputs": [
    {
     "data": {
      "text/plain": [
       "[3, 4, 'class', 5.56, 8.1]"
      ]
     },
     "execution_count": 58,
     "metadata": {},
     "output_type": "execute_result"
    }
   ],
   "source": [
    "list3"
   ]
  },
  {
   "cell_type": "code",
   "execution_count": 87,
   "id": "c0d15bae",
   "metadata": {},
   "outputs": [],
   "source": [
    "list3[1]=8"
   ]
  },
  {
   "cell_type": "code",
   "execution_count": 88,
   "id": "b577cb10",
   "metadata": {},
   "outputs": [
    {
     "data": {
      "text/plain": [
       "[3, 8, (6+7j), 'ravi', 'kaviyan', 'kaviyan', (9+7j), 5.56, 8.1]"
      ]
     },
     "execution_count": 88,
     "metadata": {},
     "output_type": "execute_result"
    }
   ],
   "source": [
    "list3\n"
   ]
  },
  {
   "cell_type": "code",
   "execution_count": 90,
   "id": "4c274910",
   "metadata": {},
   "outputs": [],
   "source": [
    "list3[-3]=(9+7j)"
   ]
  },
  {
   "cell_type": "code",
   "execution_count": 91,
   "id": "db283cdc",
   "metadata": {},
   "outputs": [
    {
     "data": {
      "text/plain": [
       "[3, 8, (6+7j), 'ravi', 'kaviyan', 'kaviyan', (9+7j), 5.56, 8.1]"
      ]
     },
     "execution_count": 91,
     "metadata": {},
     "output_type": "execute_result"
    }
   ],
   "source": [
    "list3\n",
    "\n"
   ]
  },
  {
   "cell_type": "code",
   "execution_count": 92,
   "id": "d9d9bb92",
   "metadata": {},
   "outputs": [],
   "source": [
    "list3.append(9)"
   ]
  },
  {
   "cell_type": "code",
   "execution_count": 93,
   "id": "b8e7362c",
   "metadata": {},
   "outputs": [
    {
     "data": {
      "text/plain": [
       "[3, 8, (6+7j), 'ravi', 'kaviyan', 'kaviyan', (9+7j), 5.56, 8.1, 9]"
      ]
     },
     "execution_count": 93,
     "metadata": {},
     "output_type": "execute_result"
    }
   ],
   "source": [
    "list3"
   ]
  },
  {
   "cell_type": "code",
   "execution_count": 94,
   "id": "c399fd06",
   "metadata": {},
   "outputs": [],
   "source": [
    "list3.remove(9)"
   ]
  },
  {
   "cell_type": "code",
   "execution_count": 95,
   "id": "abced4c1",
   "metadata": {},
   "outputs": [
    {
     "data": {
      "text/plain": [
       "[3, 8, (6+7j), 'ravi', 'kaviyan', 'kaviyan', (9+7j), 5.56, 8.1]"
      ]
     },
     "execution_count": 95,
     "metadata": {},
     "output_type": "execute_result"
    }
   ],
   "source": [
    "list3"
   ]
  },
  {
   "cell_type": "code",
   "execution_count": 96,
   "id": "3bf012cf",
   "metadata": {},
   "outputs": [],
   "source": [
    "list3.insert(3,2009)"
   ]
  },
  {
   "cell_type": "code",
   "execution_count": 97,
   "id": "0bbb4f09",
   "metadata": {},
   "outputs": [
    {
     "data": {
      "text/plain": [
       "[3, 8, (6+7j), 2009, 'ravi', 'kaviyan', 'kaviyan', (9+7j), 5.56, 8.1]"
      ]
     },
     "execution_count": 97,
     "metadata": {},
     "output_type": "execute_result"
    }
   ],
   "source": [
    "list3"
   ]
  },
  {
   "cell_type": "code",
   "execution_count": 98,
   "id": "fee6f611",
   "metadata": {},
   "outputs": [],
   "source": [
    "list3.insert(3,\"ravi\")"
   ]
  },
  {
   "cell_type": "code",
   "execution_count": 99,
   "id": "b2bd2de2",
   "metadata": {},
   "outputs": [
    {
     "data": {
      "text/plain": [
       "[3, 8, (6+7j), 'ravi', 2009, 'ravi', 'kaviyan', 'kaviyan', (9+7j), 5.56, 8.1]"
      ]
     },
     "execution_count": 99,
     "metadata": {},
     "output_type": "execute_result"
    }
   ],
   "source": [
    "list3"
   ]
  },
  {
   "cell_type": "code",
   "execution_count": 100,
   "id": "000c766e",
   "metadata": {},
   "outputs": [
    {
     "data": {
      "text/plain": [
       "11"
      ]
     },
     "execution_count": 100,
     "metadata": {},
     "output_type": "execute_result"
    }
   ],
   "source": [
    "len(list3)"
   ]
  },
  {
   "cell_type": "code",
   "execution_count": 109,
   "id": "a9ceee2b",
   "metadata": {},
   "outputs": [],
   "source": [
    "tup=(1,2,3,(6+5j),4.6)"
   ]
  },
  {
   "cell_type": "markdown",
   "id": "00464f79",
   "metadata": {},
   "source": [
    "# range"
   ]
  },
  {
   "cell_type": "code",
   "execution_count": 115,
   "id": "0c318b75",
   "metadata": {},
   "outputs": [],
   "source": [
    "ran=range(1,20)"
   ]
  },
  {
   "cell_type": "code",
   "execution_count": 116,
   "id": "e6295696",
   "metadata": {},
   "outputs": [
    {
     "data": {
      "text/plain": [
       "range(1, 20)"
      ]
     },
     "execution_count": 116,
     "metadata": {},
     "output_type": "execute_result"
    }
   ],
   "source": [
    "ran"
   ]
  },
  {
   "cell_type": "code",
   "execution_count": 117,
   "id": "2f53508f",
   "metadata": {},
   "outputs": [],
   "source": [
    "ran1=list(range(1,20))"
   ]
  },
  {
   "cell_type": "code",
   "execution_count": 118,
   "id": "89bbed5a",
   "metadata": {},
   "outputs": [
    {
     "data": {
      "text/plain": [
       "[1, 2, 3, 4, 5, 6, 7, 8, 9, 10, 11, 12, 13, 14, 15, 16, 17, 18, 19]"
      ]
     },
     "execution_count": 118,
     "metadata": {},
     "output_type": "execute_result"
    }
   ],
   "source": [
    "ran1"
   ]
  },
  {
   "cell_type": "markdown",
   "id": "f8d03b2b",
   "metadata": {},
   "source": [
    "# dictionary"
   ]
  },
  {
   "cell_type": "code",
   "execution_count": 5,
   "id": "e93513c8",
   "metadata": {},
   "outputs": [],
   "source": [
    "hostel={\"food\":['idely','pongal','rice'],'monday':1,'tuesday':2,'wenesday':3}"
   ]
  },
  {
   "cell_type": "code",
   "execution_count": 6,
   "id": "cb443598",
   "metadata": {},
   "outputs": [
    {
     "data": {
      "text/plain": [
       "1"
      ]
     },
     "execution_count": 6,
     "metadata": {},
     "output_type": "execute_result"
    }
   ],
   "source": [
    "hostel['monday']"
   ]
  },
  {
   "cell_type": "code",
   "execution_count": 8,
   "id": "abf90919",
   "metadata": {},
   "outputs": [],
   "source": [
    "hostel['monday']=\"not available\""
   ]
  },
  {
   "cell_type": "code",
   "execution_count": 9,
   "id": "8350cdf3",
   "metadata": {},
   "outputs": [
    {
     "data": {
      "text/plain": [
       "{'food': ['idely', 'pongal', 'rice'],\n",
       " 'monday': 'not available',\n",
       " 'tuesday': 2,\n",
       " 'wenesday': 3}"
      ]
     },
     "execution_count": 9,
     "metadata": {},
     "output_type": "execute_result"
    }
   ],
   "source": [
    "hostel"
   ]
  },
  {
   "cell_type": "code",
   "execution_count": 11,
   "id": "85ed9d12",
   "metadata": {},
   "outputs": [],
   "source": [
    "student={'bca':{1:'surya',2:'mani',3:'vineeth'},\n",
    "    'cs' :{1:'pravin',2:'maanikam',3:'solan'}}"
   ]
  },
  {
   "cell_type": "code",
   "execution_count": 12,
   "id": "2232c3ae",
   "metadata": {},
   "outputs": [
    {
     "data": {
      "text/plain": [
       "{1: 'surya', 2: 'mani', 3: 'vineeth'}"
      ]
     },
     "execution_count": 12,
     "metadata": {},
     "output_type": "execute_result"
    }
   ],
   "source": [
    "student['bca']"
   ]
  },
  {
   "cell_type": "code",
   "execution_count": 19,
   "id": "16fd93e8",
   "metadata": {},
   "outputs": [],
   "source": [
    "student['cs']=3"
   ]
  },
  {
   "cell_type": "code",
   "execution_count": 20,
   "id": "ba2bc65c",
   "metadata": {},
   "outputs": [
    {
     "data": {
      "text/plain": [
       "{'bca': 2, 'cs': 3, 2: 'bca'}"
      ]
     },
     "execution_count": 20,
     "metadata": {},
     "output_type": "execute_result"
    }
   ],
   "source": [
    "student"
   ]
  },
  {
   "cell_type": "markdown",
   "id": "7b5cb696",
   "metadata": {},
   "source": [
    "# set"
   ]
  },
  {
   "cell_type": "code",
   "execution_count": 22,
   "id": "bfba6050",
   "metadata": {},
   "outputs": [],
   "source": [
    "won={1,2,3,4,(7+8j),'tall'}"
   ]
  },
  {
   "cell_type": "code",
   "execution_count": 23,
   "id": "e5bff1dd",
   "metadata": {},
   "outputs": [
    {
     "data": {
      "text/plain": [
       "{(7+8j), 1, 2, 3, 4, 'tall'}"
      ]
     },
     "execution_count": 23,
     "metadata": {},
     "output_type": "execute_result"
    }
   ],
   "source": [
    "won"
   ]
  },
  {
   "cell_type": "code",
   "execution_count": 24,
   "id": "aab46c37",
   "metadata": {},
   "outputs": [],
   "source": [
    "loss={1,2,3,4,(7+8j),'tall'}"
   ]
  },
  {
   "cell_type": "code",
   "execution_count": 25,
   "id": "28e2d860",
   "metadata": {},
   "outputs": [
    {
     "data": {
      "text/plain": [
       "{(7+8j), 1, 2, 3, 4, 'tall'}"
      ]
     },
     "execution_count": 25,
     "metadata": {},
     "output_type": "execute_result"
    }
   ],
   "source": [
    "loss"
   ]
  },
  {
   "cell_type": "code",
   "execution_count": 30,
   "id": "7f812afc",
   "metadata": {},
   "outputs": [],
   "source": [
    "loss.add(10)"
   ]
  },
  {
   "cell_type": "code",
   "execution_count": 28,
   "id": "4645bf27",
   "metadata": {},
   "outputs": [
    {
     "data": {
      "text/plain": [
       "{(7+8j), 1, 10, 2, 3, 4, 'tall'}"
      ]
     },
     "execution_count": 28,
     "metadata": {},
     "output_type": "execute_result"
    }
   ],
   "source": [
    "loss"
   ]
  },
  {
   "cell_type": "code",
   "execution_count": 31,
   "id": "06859532",
   "metadata": {},
   "outputs": [],
   "source": [
    "loss.remove(10)"
   ]
  },
  {
   "cell_type": "code",
   "execution_count": 32,
   "id": "dc625d1a",
   "metadata": {},
   "outputs": [
    {
     "data": {
      "text/plain": [
       "{(7+8j), 1, 2, 3, 4, 'tall'}"
      ]
     },
     "execution_count": 32,
     "metadata": {},
     "output_type": "execute_result"
    }
   ],
   "source": [
    "loss"
   ]
  },
  {
   "cell_type": "code",
   "execution_count": 33,
   "id": "c68f9f09",
   "metadata": {},
   "outputs": [
    {
     "data": {
      "text/plain": [
       "{(7+8j), 1, 2, 3, 4, 'tall'}"
      ]
     },
     "execution_count": 33,
     "metadata": {},
     "output_type": "execute_result"
    }
   ],
   "source": [
    "won | loss"
   ]
  },
  {
   "cell_type": "code",
   "execution_count": 35,
   "id": "2b2c867b",
   "metadata": {},
   "outputs": [
    {
     "data": {
      "text/plain": [
       "{(7+8j), 1, 2, 3, 4, 'tall'}"
      ]
     },
     "execution_count": 35,
     "metadata": {},
     "output_type": "execute_result"
    }
   ],
   "source": [
    "won & loss"
   ]
  },
  {
   "cell_type": "markdown",
   "id": "9827f952",
   "metadata": {},
   "source": [
    "# frozenset"
   ]
  },
  {
   "cell_type": "code",
   "execution_count": 36,
   "id": "664bc63d",
   "metadata": {},
   "outputs": [],
   "source": [
    "r=frozenset({3,4,4,56,6,7,(4+6j),'pu'})"
   ]
  },
  {
   "cell_type": "code",
   "execution_count": 37,
   "id": "d1f00ca8",
   "metadata": {},
   "outputs": [
    {
     "data": {
      "text/plain": [
       "frozenset({(4+6j), 3, 4, 56, 6, 7, 'pu'})"
      ]
     },
     "execution_count": 37,
     "metadata": {},
     "output_type": "execute_result"
    }
   ],
   "source": [
    "r"
   ]
  },
  {
   "cell_type": "markdown",
   "id": "9b6a203d",
   "metadata": {},
   "source": [
    "# bollen"
   ]
  },
  {
   "cell_type": "code",
   "execution_count": 39,
   "id": "92b2751e",
   "metadata": {},
   "outputs": [],
   "source": [
    "password =True"
   ]
  },
  {
   "cell_type": "code",
   "execution_count": 41,
   "id": "81292171",
   "metadata": {},
   "outputs": [
    {
     "data": {
      "text/plain": [
       "True"
      ]
     },
     "execution_count": 41,
     "metadata": {},
     "output_type": "execute_result"
    }
   ],
   "source": [
    "password"
   ]
  },
  {
   "cell_type": "markdown",
   "id": "cdfff16c",
   "metadata": {},
   "source": []
  },
  {
   "cell_type": "code",
   "execution_count": 42,
   "id": "0784ae91",
   "metadata": {},
   "outputs": [
    {
     "data": {
      "text/plain": [
       "False"
      ]
     },
     "execution_count": 42,
     "metadata": {},
     "output_type": "execute_result"
    }
   ],
   "source": [
    "4>7"
   ]
  },
  {
   "cell_type": "code",
   "execution_count": 44,
   "id": "94e2dff0",
   "metadata": {},
   "outputs": [
    {
     "data": {
      "text/plain": [
       "True"
      ]
     },
     "execution_count": 44,
     "metadata": {},
     "output_type": "execute_result"
    }
   ],
   "source": [
    "78977<89978"
   ]
  },
  {
   "cell_type": "markdown",
   "id": "b0d09597",
   "metadata": {},
   "source": [
    "# tuple"
   ]
  },
  {
   "cell_type": "code",
   "execution_count": 1,
   "id": "b3906d29",
   "metadata": {},
   "outputs": [],
   "source": [
    "tup=(1,6.7,(5+7j),8)"
   ]
  },
  {
   "cell_type": "code",
   "execution_count": 3,
   "id": "220213ce",
   "metadata": {},
   "outputs": [
    {
     "ename": "TypeError",
     "evalue": "'tuple' object does not support item assignment",
     "output_type": "error",
     "traceback": [
      "\u001b[1;31m---------------------------------------------------------------------------\u001b[0m",
      "\u001b[1;31mTypeError\u001b[0m                                 Traceback (most recent call last)",
      "\u001b[1;32m~\\AppData\\Local\\Temp/ipykernel_6048/1161518180.py\u001b[0m in \u001b[0;36m<module>\u001b[1;34m\u001b[0m\n\u001b[1;32m----> 1\u001b[1;33m \u001b[0mtup\u001b[0m\u001b[1;33m[\u001b[0m\u001b[1;36m1\u001b[0m\u001b[1;33m]\u001b[0m\u001b[1;33m=\u001b[0m\u001b[1;36m4\u001b[0m\u001b[1;33m\u001b[0m\u001b[1;33m\u001b[0m\u001b[0m\n\u001b[0m",
      "\u001b[1;31mTypeError\u001b[0m: 'tuple' object does not support item assignment"
     ]
    }
   ],
   "source": [
    "tup[1]=4"
   ]
  },
  {
   "cell_type": "markdown",
   "id": "c4fe0032",
   "metadata": {},
   "source": [
    "# print"
   ]
  },
  {
   "cell_type": "code",
   "execution_count": 7,
   "id": "ed864e0f",
   "metadata": {},
   "outputs": [
    {
     "name": "stdout",
     "output_type": "stream",
     "text": [
      "this is periyar maniammai an insttude of science & technology\n"
     ]
    }
   ],
   "source": [
    "print(\"this is {} an {}\".format('periyar maniammai','insttude of science & technology'))"
   ]
  },
  {
   "cell_type": "markdown",
   "id": "36629e9d",
   "metadata": {},
   "source": [
    "# type 2"
   ]
  },
  {
   "cell_type": "code",
   "execution_count": 28,
   "id": "a908a56b",
   "metadata": {},
   "outputs": [],
   "source": [
    "subject='colleage'"
   ]
  },
  {
   "cell_type": "code",
   "execution_count": 29,
   "id": "377215dd",
   "metadata": {},
   "outputs": [
    {
     "name": "stdout",
     "output_type": "stream",
     "text": [
      " in bca  all subject depent on colleage\n"
     ]
    }
   ],
   "source": [
    "print(' in bca  all subject depent on',subject  )"
   ]
  },
  {
   "cell_type": "markdown",
   "id": "e1b2ffd6",
   "metadata": {},
   "source": [
    "# type 3"
   ]
  },
  {
   "cell_type": "code",
   "execution_count": 34,
   "id": "33827aaf",
   "metadata": {},
   "outputs": [],
   "source": [
    "distric=\"thanjavur\""
   ]
  },
  {
   "cell_type": "code",
   "execution_count": 36,
   "id": "deace287",
   "metadata": {},
   "outputs": [
    {
     "name": "stdout",
     "output_type": "stream",
     "text": [
      "periyar maniammai colleage  in thanjavur\n"
     ]
    }
   ],
   "source": [
    "print(f\"periyar maniammai {subject}  in {distric}\")"
   ]
  },
  {
   "cell_type": "markdown",
   "id": "bd6de4bd",
   "metadata": {},
   "source": [
    "# if statement"
   ]
  },
  {
   "cell_type": "code",
   "execution_count": 18,
   "id": "7101eeef",
   "metadata": {},
   "outputs": [
    {
     "name": "stdout",
     "output_type": "stream",
     "text": [
      "enter number1:6\n",
      "enter number2:-2\n"
     ]
    }
   ],
   "source": [
    "num1=int(input('enter number1:'))\n",
    "num2=int(input('enter number2:'))"
   ]
  },
  {
   "cell_type": "code",
   "execution_count": 19,
   "id": "ade9ba55",
   "metadata": {},
   "outputs": [
    {
     "name": "stdout",
     "output_type": "stream",
     "text": [
      "6 is greater then -2\n"
     ]
    }
   ],
   "source": [
    "if num1>num2:\n",
    "    print(f\"{num1} is greater then {num2}\")"
   ]
  },
  {
   "cell_type": "code",
   "execution_count": 20,
   "id": "e8e0c7b0",
   "metadata": {},
   "outputs": [
    {
     "name": "stdout",
     "output_type": "stream",
     "text": [
      "6 is divided by -2\n"
     ]
    }
   ],
   "source": [
    "div=num1%num2;\n",
    "print(f\"{num1} is divided by {num2}\")"
   ]
  },
  {
   "cell_type": "code",
   "execution_count": 21,
   "id": "15941e0a",
   "metadata": {},
   "outputs": [
    {
     "name": "stdout",
     "output_type": "stream",
     "text": [
      "the multipication number is -12\n"
     ]
    }
   ],
   "source": [
    "\n",
    "\n",
    "\n",
    "mul=num1*num2;\n",
    "    \n",
    "print(\"the multipication number is\",mul)"
   ]
  },
  {
   "cell_type": "code",
   "execution_count": 24,
   "id": "af044dae",
   "metadata": {},
   "outputs": [
    {
     "name": "stdout",
     "output_type": "stream",
     "text": [
      "-2 is not positive number\n"
     ]
    }
   ],
   "source": [
    "if num1<num2:\n",
    "    printf(f\"{num1}is positive number\")\n",
    "else:\n",
    "    print(f\"{num2} is not positive number\")"
   ]
  },
  {
   "cell_type": "markdown",
   "id": "d48e9f4b",
   "metadata": {},
   "source": [
    "# elifstatment"
   ]
  },
  {
   "cell_type": "code",
   "execution_count": 30,
   "id": "c56857f8",
   "metadata": {},
   "outputs": [
    {
     "name": "stdout",
     "output_type": "stream",
     "text": [
      "enter number:-2\n",
      "-2 is negative\n"
     ]
    }
   ],
   "source": [
    "number=int(input(\"enter number:\"))\n",
    "if number>0:\n",
    "    print(f\"{num1} is positive\")\n",
    "elif number<0:\n",
    "    print(f\"{num2} is negative\")\n",
    "else:\n",
    "    print(f\"{number} doesnt have sing\")"
   ]
  },
  {
   "cell_type": "markdown",
   "id": "98f6c921",
   "metadata": {},
   "source": [
    "# forloop"
   ]
  },
  {
   "cell_type": "code",
   "execution_count": 50,
   "id": "f50ec866",
   "metadata": {},
   "outputs": [],
   "source": [
    "num=range(1,20)"
   ]
  },
  {
   "cell_type": "code",
   "execution_count": 51,
   "id": "227716fe",
   "metadata": {},
   "outputs": [
    {
     "name": "stdout",
     "output_type": "stream",
     "text": [
      "1\n",
      "2\n",
      "3\n",
      "4\n",
      "5\n",
      "6\n",
      "7\n",
      "8\n",
      "9\n",
      "10\n",
      "11\n",
      "12\n",
      "13\n",
      "14\n",
      "15\n",
      "16\n",
      "17\n",
      "18\n",
      "19\n"
     ]
    }
   ],
   "source": [
    "for a in num:\n",
    "    print(a)"
   ]
  },
  {
   "cell_type": "markdown",
   "id": "ab7c54d6",
   "metadata": {},
   "source": [
    "# forletter in phython"
   ]
  },
  {
   "cell_type": "code",
   "execution_count": 1,
   "id": "ea3b5547",
   "metadata": {},
   "outputs": [
    {
     "name": "stdout",
     "output_type": "stream",
     "text": [
      "The current letter is p\n",
      "The current letter is h\n",
      "The current letter is y\n",
      "The current letter is t\n",
      "The current letter is h\n",
      "The current letter is o\n",
      "The current letter is n\n"
     ]
    }
   ],
   "source": [
    "for letter in'phython':\n",
    "  print(\"The current letter is\",letter)"
   ]
  },
  {
   "cell_type": "markdown",
   "id": "76c3f3e5",
   "metadata": {},
   "source": [
    "# add or even"
   ]
  },
  {
   "cell_type": "code",
   "execution_count": 11,
   "id": "aeb5931e",
   "metadata": {},
   "outputs": [
    {
     "name": "stdout",
     "output_type": "stream",
     "text": [
      " Please Enter the Maximum Value : 20\n",
      "2\n",
      "4\n",
      "6\n",
      "8\n",
      "10\n",
      "12\n",
      "14\n",
      "16\n",
      "18\n",
      "20\n"
     ]
    }
   ],
   "source": [
    "Even = int(input(\" Please Enter the Maximum Value : \"))\n",
    "\n",
    "for number in range(1, Even+1):\n",
    "    if(number % 2 == 0):\n",
    "        print(\"{0}\".format(number))"
   ]
  },
  {
   "cell_type": "markdown",
   "id": "d5cb8158",
   "metadata": {},
   "source": [
    "# while"
   ]
  },
  {
   "cell_type": "code",
   "execution_count": 4,
   "id": "924cad2e",
   "metadata": {},
   "outputs": [
    {
     "name": "stdout",
     "output_type": "stream",
     "text": [
      "0\n",
      "2\n",
      "4\n",
      "6\n",
      "8\n",
      "10\n",
      "12\n",
      "14\n",
      "16\n",
      "18\n",
      "20\n"
     ]
    }
   ],
   "source": [
    "num=0\n",
    "while num <=20:\n",
    "    print(num)\n",
    "    num=num+2"
   ]
  },
  {
   "cell_type": "code",
   "execution_count": 3,
   "id": "bcd75a69",
   "metadata": {},
   "outputs": [
    {
     "name": "stdout",
     "output_type": "stream",
     "text": [
      "inside loop\n",
      "inside loop\n",
      "inside loop\n",
      "inside loop\n",
      "inside loop\n",
      "inside loop\n",
      "inside loop\n",
      "inside loop\n",
      "inside loop\n",
      "inside loop\n",
      "inside loop\n"
     ]
    }
   ],
   "source": [
    "counter=0\n",
    "while counter<10:\n",
    "    print(\"inside loop\")\n",
    "    counter=counter+1\n",
    "else:\n",
    "    print(\"inside loop\")"
   ]
  },
  {
   "cell_type": "markdown",
   "id": "e6aaeb54",
   "metadata": {},
   "source": [
    "# array"
   ]
  },
  {
   "cell_type": "code",
   "execution_count": 13,
   "id": "b8f46d34",
   "metadata": {},
   "outputs": [
    {
     "name": "stdout",
     "output_type": "stream",
     "text": [
      "Note: you may need to restart the kernel to use updated packages.Requirement already satisfied: numpy in c:\\users\\kaviy\\anaconda3\\envs\\dataanalytics2\\lib\\site-packages (1.22.2)\n",
      "\n"
     ]
    }
   ],
   "source": [
    "pip install numpy"
   ]
  },
  {
   "cell_type": "code",
   "execution_count": 14,
   "id": "fbe48b1a",
   "metadata": {},
   "outputs": [],
   "source": [
    "import numpy"
   ]
  },
  {
   "cell_type": "code",
   "execution_count": 15,
   "id": "cb19ccbe",
   "metadata": {},
   "outputs": [],
   "source": [
    "import numpy as np"
   ]
  },
  {
   "cell_type": "code",
   "execution_count": 16,
   "id": "3ef9dacf",
   "metadata": {},
   "outputs": [
    {
     "data": {
      "text/plain": [
       "'1.22.2'"
      ]
     },
     "execution_count": 16,
     "metadata": {},
     "output_type": "execute_result"
    }
   ],
   "source": [
    "np.version.version"
   ]
  },
  {
   "cell_type": "markdown",
   "id": "18026ebb",
   "metadata": {},
   "source": [
    "# 1D array"
   ]
  },
  {
   "cell_type": "code",
   "execution_count": 17,
   "id": "88198b85",
   "metadata": {},
   "outputs": [],
   "source": [
    "first_array=np.array([1,2,3])"
   ]
  },
  {
   "cell_type": "code",
   "execution_count": 18,
   "id": "b21cab4a",
   "metadata": {},
   "outputs": [
    {
     "name": "stdout",
     "output_type": "stream",
     "text": [
      "[1 2 3]\n"
     ]
    }
   ],
   "source": [
    "print(first_array)"
   ]
  },
  {
   "cell_type": "markdown",
   "id": "8c81e28d",
   "metadata": {},
   "source": [
    "# 2D array"
   ]
  },
  {
   "cell_type": "code",
   "execution_count": 19,
   "id": "45be3253",
   "metadata": {},
   "outputs": [],
   "source": [
    "second_array=np.array([(4,5,7),(4,8,8)])"
   ]
  },
  {
   "cell_type": "code",
   "execution_count": 20,
   "id": "2653b135",
   "metadata": {},
   "outputs": [
    {
     "data": {
      "text/plain": [
       "array([[4, 5, 7],\n",
       "       [4, 8, 8]])"
      ]
     },
     "execution_count": 20,
     "metadata": {},
     "output_type": "execute_result"
    }
   ],
   "source": [
    "second_array"
   ]
  },
  {
   "cell_type": "markdown",
   "id": "d1d2e0a0",
   "metadata": {},
   "source": [
    "# 3D array"
   ]
  },
  {
   "cell_type": "code",
   "execution_count": 21,
   "id": "07d84d95",
   "metadata": {},
   "outputs": [],
   "source": [
    "third_array=np.array([[(11,45,78),(45,67,89)],[(17,18,22),(45,67,89)]])"
   ]
  },
  {
   "cell_type": "code",
   "execution_count": 22,
   "id": "cf21bc1a",
   "metadata": {},
   "outputs": [
    {
     "data": {
      "text/plain": [
       "array([[[11, 45, 78],\n",
       "        [45, 67, 89]],\n",
       "\n",
       "       [[17, 18, 22],\n",
       "        [45, 67, 89]]])"
      ]
     },
     "execution_count": 22,
     "metadata": {},
     "output_type": "execute_result"
    }
   ],
   "source": [
    "third_array"
   ]
  },
  {
   "cell_type": "markdown",
   "id": "e939a72a",
   "metadata": {},
   "source": [
    "# array of zero"
   ]
  },
  {
   "cell_type": "code",
   "execution_count": 23,
   "id": "31579d89",
   "metadata": {},
   "outputs": [],
   "source": [
    "zeros=np.zeros((3,3))"
   ]
  },
  {
   "cell_type": "code",
   "execution_count": 24,
   "id": "a575b064",
   "metadata": {},
   "outputs": [
    {
     "data": {
      "text/plain": [
       "array([[0., 0., 0.],\n",
       "       [0., 0., 0.],\n",
       "       [0., 0., 0.]])"
      ]
     },
     "execution_count": 24,
     "metadata": {},
     "output_type": "execute_result"
    }
   ],
   "source": [
    "zeros"
   ]
  },
  {
   "cell_type": "markdown",
   "id": "df7fd1a3",
   "metadata": {},
   "source": [
    "# ones"
   ]
  },
  {
   "cell_type": "code",
   "execution_count": 25,
   "id": "77baa0a9",
   "metadata": {},
   "outputs": [],
   "source": [
    "ones=np.ones((8,8))"
   ]
  },
  {
   "cell_type": "code",
   "execution_count": 26,
   "id": "c8d9f8a1",
   "metadata": {},
   "outputs": [
    {
     "data": {
      "text/plain": [
       "array([[1., 1., 1., 1., 1., 1., 1., 1.],\n",
       "       [1., 1., 1., 1., 1., 1., 1., 1.],\n",
       "       [1., 1., 1., 1., 1., 1., 1., 1.],\n",
       "       [1., 1., 1., 1., 1., 1., 1., 1.],\n",
       "       [1., 1., 1., 1., 1., 1., 1., 1.],\n",
       "       [1., 1., 1., 1., 1., 1., 1., 1.],\n",
       "       [1., 1., 1., 1., 1., 1., 1., 1.],\n",
       "       [1., 1., 1., 1., 1., 1., 1., 1.]])"
      ]
     },
     "execution_count": 26,
     "metadata": {},
     "output_type": "execute_result"
    }
   ],
   "source": [
    "ones"
   ]
  },
  {
   "cell_type": "markdown",
   "id": "c4789098",
   "metadata": {},
   "source": [
    "# linspace"
   ]
  },
  {
   "cell_type": "code",
   "execution_count": 27,
   "id": "726b312b",
   "metadata": {},
   "outputs": [],
   "source": [
    "row=np.linspace(0,100,50)"
   ]
  },
  {
   "cell_type": "code",
   "execution_count": 28,
   "id": "8fcf58e1",
   "metadata": {},
   "outputs": [
    {
     "data": {
      "text/plain": [
       "array([  0.        ,   2.04081633,   4.08163265,   6.12244898,\n",
       "         8.16326531,  10.20408163,  12.24489796,  14.28571429,\n",
       "        16.32653061,  18.36734694,  20.40816327,  22.44897959,\n",
       "        24.48979592,  26.53061224,  28.57142857,  30.6122449 ,\n",
       "        32.65306122,  34.69387755,  36.73469388,  38.7755102 ,\n",
       "        40.81632653,  42.85714286,  44.89795918,  46.93877551,\n",
       "        48.97959184,  51.02040816,  53.06122449,  55.10204082,\n",
       "        57.14285714,  59.18367347,  61.2244898 ,  63.26530612,\n",
       "        65.30612245,  67.34693878,  69.3877551 ,  71.42857143,\n",
       "        73.46938776,  75.51020408,  77.55102041,  79.59183673,\n",
       "        81.63265306,  83.67346939,  85.71428571,  87.75510204,\n",
       "        89.79591837,  91.83673469,  93.87755102,  95.91836735,\n",
       "        97.95918367, 100.        ])"
      ]
     },
     "execution_count": 28,
     "metadata": {},
     "output_type": "execute_result"
    }
   ],
   "source": [
    "row"
   ]
  },
  {
   "cell_type": "markdown",
   "id": "39f32bda",
   "metadata": {},
   "source": [
    "# transpose"
   ]
  },
  {
   "cell_type": "code",
   "execution_count": 29,
   "id": "25cf3ee6",
   "metadata": {},
   "outputs": [],
   "source": [
    "mal_tran=np.transpose(second_array)"
   ]
  },
  {
   "cell_type": "code",
   "execution_count": 30,
   "id": "9859841d",
   "metadata": {},
   "outputs": [
    {
     "data": {
      "text/plain": [
       "array([[4, 4],\n",
       "       [5, 8],\n",
       "       [7, 8]])"
      ]
     },
     "execution_count": 30,
     "metadata": {},
     "output_type": "execute_result"
    }
   ],
   "source": [
    "mal_tran"
   ]
  },
  {
   "cell_type": "markdown",
   "id": "38663ff2",
   "metadata": {},
   "source": [
    "# flattening array"
   ]
  },
  {
   "cell_type": "code",
   "execution_count": 31,
   "id": "cc6841e5",
   "metadata": {},
   "outputs": [
    {
     "data": {
      "text/plain": [
       "array([4, 4, 5, 8, 7, 8])"
      ]
     },
     "execution_count": 31,
     "metadata": {},
     "output_type": "execute_result"
    }
   ],
   "source": [
    "mal_tran.ravel()"
   ]
  },
  {
   "cell_type": "markdown",
   "id": "19f76d0a",
   "metadata": {},
   "source": [
    "# reshapping array"
   ]
  },
  {
   "cell_type": "code",
   "execution_count": 32,
   "id": "0d779d05",
   "metadata": {},
   "outputs": [
    {
     "data": {
      "text/plain": [
       "array([[0., 0., 0.],\n",
       "       [0., 0., 0.],\n",
       "       [0., 0., 0.]])"
      ]
     },
     "execution_count": 32,
     "metadata": {},
     "output_type": "execute_result"
    }
   ],
   "source": [
    "zeros.reshape(3,3)"
   ]
  },
  {
   "cell_type": "markdown",
   "id": "c3320712",
   "metadata": {},
   "source": [
    "# append"
   ]
  },
  {
   "cell_type": "code",
   "execution_count": 33,
   "id": "e3bd2948",
   "metadata": {},
   "outputs": [],
   "source": [
    "appen=np.append(mal_tran,zeros)"
   ]
  },
  {
   "cell_type": "code",
   "execution_count": 34,
   "id": "d0f89d04",
   "metadata": {},
   "outputs": [
    {
     "data": {
      "text/plain": [
       "array([4., 4., 5., 8., 7., 8., 0., 0., 0., 0., 0., 0., 0., 0., 0.])"
      ]
     },
     "execution_count": 34,
     "metadata": {},
     "output_type": "execute_result"
    }
   ],
   "source": [
    "appen"
   ]
  },
  {
   "cell_type": "markdown",
   "id": "c3692f75",
   "metadata": {},
   "source": [
    "# insert array"
   ]
  },
  {
   "cell_type": "code",
   "execution_count": 35,
   "id": "d9eef487",
   "metadata": {},
   "outputs": [],
   "source": [
    "ins=np.insert(ones,3,3)"
   ]
  },
  {
   "cell_type": "code",
   "execution_count": 36,
   "id": "85cdf512",
   "metadata": {},
   "outputs": [
    {
     "data": {
      "text/plain": [
       "array([1., 1., 1., 3., 1., 1., 1., 1., 1., 1., 1., 1., 1., 1., 1., 1., 1.,\n",
       "       1., 1., 1., 1., 1., 1., 1., 1., 1., 1., 1., 1., 1., 1., 1., 1., 1.,\n",
       "       1., 1., 1., 1., 1., 1., 1., 1., 1., 1., 1., 1., 1., 1., 1., 1., 1.,\n",
       "       1., 1., 1., 1., 1., 1., 1., 1., 1., 1., 1., 1., 1., 1.])"
      ]
     },
     "execution_count": 36,
     "metadata": {},
     "output_type": "execute_result"
    }
   ],
   "source": [
    "ins"
   ]
  },
  {
   "cell_type": "markdown",
   "id": "29c2592b",
   "metadata": {},
   "source": [
    "# delete"
   ]
  },
  {
   "cell_type": "code",
   "execution_count": 37,
   "id": "c38e859d",
   "metadata": {},
   "outputs": [
    {
     "data": {
      "text/plain": [
       "array([1., 1., 3., 1., 1., 1., 1., 1., 1., 1., 1., 1., 1., 1., 1., 1., 1.,\n",
       "       1., 1., 1., 1., 1., 1., 1., 1., 1., 1., 1., 1., 1., 1., 1., 1., 1.,\n",
       "       1., 1., 1., 1., 1., 1., 1., 1., 1., 1., 1., 1., 1., 1., 1., 1., 1.,\n",
       "       1., 1., 1., 1., 1., 1., 1., 1., 1., 1., 1., 1., 1.])"
      ]
     },
     "execution_count": 37,
     "metadata": {},
     "output_type": "execute_result"
    }
   ],
   "source": [
    "np.delete(ins,[2])"
   ]
  },
  {
   "cell_type": "markdown",
   "id": "2475bb1b",
   "metadata": {},
   "source": [
    "# array concatenate"
   ]
  },
  {
   "cell_type": "code",
   "execution_count": 44,
   "id": "6878008d",
   "metadata": {},
   "outputs": [
    {
     "ename": "AxisError",
     "evalue": "axis 1 is out of bounds for array of dimension 1",
     "output_type": "error",
     "traceback": [
      "\u001b[1;31m---------------------------------------------------------------------------\u001b[0m",
      "\u001b[1;31mAxisError\u001b[0m                                 Traceback (most recent call last)",
      "\u001b[1;32m~\\AppData\\Local\\Temp/ipykernel_9288/2828859655.py\u001b[0m in \u001b[0;36m<module>\u001b[1;34m\u001b[0m\n\u001b[1;32m----> 1\u001b[1;33m \u001b[0mnp\u001b[0m\u001b[1;33m.\u001b[0m\u001b[0mconcatenate\u001b[0m\u001b[1;33m(\u001b[0m\u001b[1;33m(\u001b[0m\u001b[0mins\u001b[0m\u001b[1;33m,\u001b[0m\u001b[0mones\u001b[0m\u001b[1;33m)\u001b[0m\u001b[1;33m,\u001b[0m\u001b[0maxis\u001b[0m\u001b[1;33m=\u001b[0m\u001b[1;36m1\u001b[0m\u001b[1;33m)\u001b[0m\u001b[1;33m\u001b[0m\u001b[1;33m\u001b[0m\u001b[0m\n\u001b[0m",
      "\u001b[1;32m~\\anaconda3\\envs\\Dataanalytics2\\lib\\site-packages\\numpy\\core\\overrides.py\u001b[0m in \u001b[0;36mconcatenate\u001b[1;34m(*args, **kwargs)\u001b[0m\n",
      "\u001b[1;31mAxisError\u001b[0m: axis 1 is out of bounds for array of dimension 1"
     ]
    }
   ],
   "source": [
    "np.concatenate((ins,ones),axis=1)"
   ]
  },
  {
   "cell_type": "markdown",
   "id": "57cd2938",
   "metadata": {},
   "source": [
    "# horzental splint"
   ]
  },
  {
   "cell_type": "code",
   "execution_count": 63,
   "id": "18442aa7",
   "metadata": {},
   "outputs": [
    {
     "data": {
      "text/plain": [
       "[array([[1., 1., 1., 1.],\n",
       "        [1., 1., 1., 1.],\n",
       "        [1., 1., 1., 1.],\n",
       "        [1., 1., 1., 1.],\n",
       "        [1., 1., 1., 1.],\n",
       "        [1., 1., 1., 1.],\n",
       "        [1., 1., 1., 1.],\n",
       "        [1., 1., 1., 1.]]),\n",
       " array([[1., 1., 1., 1.],\n",
       "        [1., 1., 1., 1.],\n",
       "        [1., 1., 1., 1.],\n",
       "        [1., 1., 1., 1.],\n",
       "        [1., 1., 1., 1.],\n",
       "        [1., 1., 1., 1.],\n",
       "        [1., 1., 1., 1.],\n",
       "        [1., 1., 1., 1.]])]"
      ]
     },
     "execution_count": 63,
     "metadata": {},
     "output_type": "execute_result"
    }
   ],
   "source": [
    "np.hsplit(ones,2)"
   ]
  },
  {
   "cell_type": "markdown",
   "id": "8e7ff47f",
   "metadata": {},
   "source": [
    "# import libary"
   ]
  },
  {
   "cell_type": "code",
   "execution_count": 6,
   "id": "0bca5b0c",
   "metadata": {},
   "outputs": [],
   "source": [
    "import numpy as np"
   ]
  },
  {
   "cell_type": "code",
   "execution_count": 7,
   "id": "80cd70dd",
   "metadata": {},
   "outputs": [
    {
     "data": {
      "text/plain": [
       "array([[0.000e+000, 0.000e+000, 0.000e+000],\n",
       "       [0.000e+000, 0.000e+000, 8.676e-321],\n",
       "       [0.000e+000, 0.000e+000, 0.000e+000]])"
      ]
     },
     "execution_count": 7,
     "metadata": {},
     "output_type": "execute_result"
    }
   ],
   "source": [
    "np.empty((3,3))"
   ]
  },
  {
   "cell_type": "markdown",
   "id": "7e751a88",
   "metadata": {},
   "source": [
    "# array with random number"
   ]
  },
  {
   "cell_type": "code",
   "execution_count": 8,
   "id": "2a488aab",
   "metadata": {},
   "outputs": [
    {
     "data": {
      "text/plain": [
       "array([[5.52492647e-01, 1.77012759e-01, 6.81492726e-01, 3.71744123e-02,\n",
       "        6.84227048e-01, 2.87737668e-01],\n",
       "       [9.03960307e-01, 8.38778221e-01, 2.43076048e-02, 7.00053037e-01,\n",
       "        4.48206596e-01, 6.89634989e-01],\n",
       "       [1.91130083e-01, 4.12038706e-02, 2.70637827e-01, 7.52416871e-01,\n",
       "        3.18860275e-02, 6.06254881e-01],\n",
       "       [6.86008355e-01, 5.94603733e-01, 3.76378462e-01, 2.65471917e-01,\n",
       "        1.12513994e-01, 9.56481852e-01],\n",
       "       [2.35851368e-01, 5.32095982e-01, 7.09966586e-01, 7.25477438e-05,\n",
       "        2.19093067e-01, 7.43660091e-01]])"
      ]
     },
     "execution_count": 8,
     "metadata": {},
     "output_type": "execute_result"
    }
   ],
   "source": [
    "np.random.random((5,6))"
   ]
  },
  {
   "cell_type": "code",
   "execution_count": 9,
   "id": "aa690501",
   "metadata": {},
   "outputs": [],
   "source": [
    "# pandas"
   ]
  },
  {
   "cell_type": "code",
   "execution_count": 100,
   "id": "b9c1c709",
   "metadata": {},
   "outputs": [],
   "source": [
    "import pandas"
   ]
  },
  {
   "cell_type": "code",
   "execution_count": 5,
   "id": "4457fe17",
   "metadata": {},
   "outputs": [
    {
     "name": "stdout",
     "output_type": "stream",
     "text": [
      "Requirement already satisfied: pandas in c:\\users\\kaviy\\anaconda3\\envs\\dataanalytics2\\lib\\site-packages (1.4.1)\n",
      "Requirement already satisfied: pytz>=2020.1 in c:\\users\\kaviy\\anaconda3\\envs\\dataanalytics2\\lib\\site-packages (from pandas) (2021.3)\n",
      "Requirement already satisfied: numpy>=1.18.5 in c:\\users\\kaviy\\anaconda3\\envs\\dataanalytics2\\lib\\site-packages (from pandas) (1.22.2)\n",
      "Requirement already satisfied: python-dateutil>=2.8.1 in c:\\users\\kaviy\\anaconda3\\envs\\dataanalytics2\\lib\\site-packages (from pandas) (2.8.2)\n",
      "Requirement already satisfied: six>=1.5 in c:\\users\\kaviy\\anaconda3\\envs\\dataanalytics2\\lib\\site-packages (from python-dateutil>=2.8.1->pandas) (1.16.0)\n",
      "Note: you may need to restart the kernel to use updated packages.\n"
     ]
    }
   ],
   "source": [
    " pip install pandas"
   ]
  },
  {
   "cell_type": "code",
   "execution_count": 101,
   "id": "6c85386d",
   "metadata": {},
   "outputs": [],
   "source": [
    "import pandas as np"
   ]
  },
  {
   "cell_type": "code",
   "execution_count": 102,
   "id": "2e35b2bb",
   "metadata": {},
   "outputs": [
    {
     "data": {
      "text/plain": [
       "'1.4.1'"
      ]
     },
     "execution_count": 102,
     "metadata": {},
     "output_type": "execute_result"
    }
   ],
   "source": [
    "np.__version__"
   ]
  },
  {
   "cell_type": "markdown",
   "id": "795b531a",
   "metadata": {},
   "source": [
    "# create series"
   ]
  },
  {
   "cell_type": "code",
   "execution_count": 103,
   "id": "a04686a1",
   "metadata": {},
   "outputs": [],
   "source": [
    "alpha=np.Series([1,2,3,4],index=['A','B','C','D',])"
   ]
  },
  {
   "cell_type": "code",
   "execution_count": 104,
   "id": "e9a4e053",
   "metadata": {},
   "outputs": [
    {
     "data": {
      "text/plain": [
       "A    1\n",
       "B    2\n",
       "C    3\n",
       "D    4\n",
       "dtype: int64"
      ]
     },
     "execution_count": 104,
     "metadata": {},
     "output_type": "execute_result"
    }
   ],
   "source": [
    "alpha"
   ]
  },
  {
   "cell_type": "markdown",
   "id": "f2f3f98c",
   "metadata": {},
   "source": [
    "# candidates profile in series"
   ]
  },
  {
   "cell_type": "code",
   "execution_count": 105,
   "id": "c73b1fab",
   "metadata": {},
   "outputs": [],
   "source": [
    "candidate=np.Series(['name','age','department','GDCP'],index=['arun',18,'BA-english',98.77])"
   ]
  },
  {
   "cell_type": "code",
   "execution_count": 106,
   "id": "78c33cba",
   "metadata": {},
   "outputs": [
    {
     "data": {
      "text/plain": [
       "arun                name\n",
       "18                   age\n",
       "BA-english    department\n",
       "98.77               GDCP\n",
       "dtype: object"
      ]
     },
     "execution_count": 106,
     "metadata": {},
     "output_type": "execute_result"
    }
   ],
   "source": [
    "candidate"
   ]
  },
  {
   "cell_type": "code",
   "execution_count": 113,
   "id": "79dc7c44",
   "metadata": {},
   "outputs": [],
   "source": [
    "info={'Games':['Pubg','Freefire','GDA-2'],'rating':(8,10,7)}"
   ]
  },
  {
   "cell_type": "code",
   "execution_count": 114,
   "id": "4e585ec2",
   "metadata": {},
   "outputs": [
    {
     "data": {
      "text/plain": [
       "{'Games': ['Pubg', 'Freefire', 'GDA-2'], 'rating': (8, 10, 7)}"
      ]
     },
     "execution_count": 114,
     "metadata": {},
     "output_type": "execute_result"
    }
   ],
   "source": [
    "info"
   ]
  },
  {
   "cell_type": "markdown",
   "id": "e4179e04",
   "metadata": {},
   "source": [
    "# table create"
   ]
  },
  {
   "cell_type": "code",
   "execution_count": 116,
   "id": "f1713f1c",
   "metadata": {},
   "outputs": [],
   "source": [
    "info=np.DataFrame(info,columns=['Games','rating'])"
   ]
  },
  {
   "cell_type": "code",
   "execution_count": 117,
   "id": "9021c885",
   "metadata": {},
   "outputs": [
    {
     "data": {
      "text/html": [
       "<div>\n",
       "<style scoped>\n",
       "    .dataframe tbody tr th:only-of-type {\n",
       "        vertical-align: middle;\n",
       "    }\n",
       "\n",
       "    .dataframe tbody tr th {\n",
       "        vertical-align: top;\n",
       "    }\n",
       "\n",
       "    .dataframe thead th {\n",
       "        text-align: right;\n",
       "    }\n",
       "</style>\n",
       "<table border=\"1\" class=\"dataframe\">\n",
       "  <thead>\n",
       "    <tr style=\"text-align: right;\">\n",
       "      <th></th>\n",
       "      <th>Games</th>\n",
       "      <th>rating</th>\n",
       "    </tr>\n",
       "  </thead>\n",
       "  <tbody>\n",
       "    <tr>\n",
       "      <th>0</th>\n",
       "      <td>Pubg</td>\n",
       "      <td>8</td>\n",
       "    </tr>\n",
       "    <tr>\n",
       "      <th>1</th>\n",
       "      <td>Freefire</td>\n",
       "      <td>10</td>\n",
       "    </tr>\n",
       "    <tr>\n",
       "      <th>2</th>\n",
       "      <td>GDA-2</td>\n",
       "      <td>7</td>\n",
       "    </tr>\n",
       "  </tbody>\n",
       "</table>\n",
       "</div>"
      ],
      "text/plain": [
       "      Games  rating\n",
       "0      Pubg       8\n",
       "1  Freefire      10\n",
       "2     GDA-2       7"
      ]
     },
     "execution_count": 117,
     "metadata": {},
     "output_type": "execute_result"
    }
   ],
   "source": [
    "info"
   ]
  },
  {
   "cell_type": "code",
   "execution_count": 10,
   "id": "be0d1571",
   "metadata": {},
   "outputs": [],
   "source": [
    "import pandas as bd\n",
    "import numpy as np"
   ]
  },
  {
   "cell_type": "code",
   "execution_count": 11,
   "id": "c200755d",
   "metadata": {},
   "outputs": [],
   "source": [
    "random=bd.DataFrame(np.random.randint(0,300,size=(20,4)),columns=list('ABCD'))"
   ]
  },
  {
   "cell_type": "code",
   "execution_count": 12,
   "id": "7e08d0cb",
   "metadata": {},
   "outputs": [
    {
     "data": {
      "text/html": [
       "<div>\n",
       "<style scoped>\n",
       "    .dataframe tbody tr th:only-of-type {\n",
       "        vertical-align: middle;\n",
       "    }\n",
       "\n",
       "    .dataframe tbody tr th {\n",
       "        vertical-align: top;\n",
       "    }\n",
       "\n",
       "    .dataframe thead th {\n",
       "        text-align: right;\n",
       "    }\n",
       "</style>\n",
       "<table border=\"1\" class=\"dataframe\">\n",
       "  <thead>\n",
       "    <tr style=\"text-align: right;\">\n",
       "      <th></th>\n",
       "      <th>A</th>\n",
       "      <th>B</th>\n",
       "      <th>C</th>\n",
       "      <th>D</th>\n",
       "    </tr>\n",
       "  </thead>\n",
       "  <tbody>\n",
       "    <tr>\n",
       "      <th>0</th>\n",
       "      <td>292</td>\n",
       "      <td>241</td>\n",
       "      <td>196</td>\n",
       "      <td>71</td>\n",
       "    </tr>\n",
       "    <tr>\n",
       "      <th>1</th>\n",
       "      <td>52</td>\n",
       "      <td>264</td>\n",
       "      <td>229</td>\n",
       "      <td>279</td>\n",
       "    </tr>\n",
       "    <tr>\n",
       "      <th>2</th>\n",
       "      <td>261</td>\n",
       "      <td>150</td>\n",
       "      <td>114</td>\n",
       "      <td>214</td>\n",
       "    </tr>\n",
       "    <tr>\n",
       "      <th>3</th>\n",
       "      <td>159</td>\n",
       "      <td>195</td>\n",
       "      <td>61</td>\n",
       "      <td>201</td>\n",
       "    </tr>\n",
       "    <tr>\n",
       "      <th>4</th>\n",
       "      <td>178</td>\n",
       "      <td>3</td>\n",
       "      <td>191</td>\n",
       "      <td>273</td>\n",
       "    </tr>\n",
       "    <tr>\n",
       "      <th>5</th>\n",
       "      <td>298</td>\n",
       "      <td>254</td>\n",
       "      <td>152</td>\n",
       "      <td>27</td>\n",
       "    </tr>\n",
       "    <tr>\n",
       "      <th>6</th>\n",
       "      <td>125</td>\n",
       "      <td>55</td>\n",
       "      <td>98</td>\n",
       "      <td>263</td>\n",
       "    </tr>\n",
       "    <tr>\n",
       "      <th>7</th>\n",
       "      <td>31</td>\n",
       "      <td>231</td>\n",
       "      <td>88</td>\n",
       "      <td>215</td>\n",
       "    </tr>\n",
       "    <tr>\n",
       "      <th>8</th>\n",
       "      <td>0</td>\n",
       "      <td>290</td>\n",
       "      <td>142</td>\n",
       "      <td>24</td>\n",
       "    </tr>\n",
       "    <tr>\n",
       "      <th>9</th>\n",
       "      <td>161</td>\n",
       "      <td>279</td>\n",
       "      <td>197</td>\n",
       "      <td>203</td>\n",
       "    </tr>\n",
       "    <tr>\n",
       "      <th>10</th>\n",
       "      <td>203</td>\n",
       "      <td>229</td>\n",
       "      <td>227</td>\n",
       "      <td>115</td>\n",
       "    </tr>\n",
       "    <tr>\n",
       "      <th>11</th>\n",
       "      <td>29</td>\n",
       "      <td>108</td>\n",
       "      <td>118</td>\n",
       "      <td>203</td>\n",
       "    </tr>\n",
       "    <tr>\n",
       "      <th>12</th>\n",
       "      <td>20</td>\n",
       "      <td>55</td>\n",
       "      <td>99</td>\n",
       "      <td>2</td>\n",
       "    </tr>\n",
       "    <tr>\n",
       "      <th>13</th>\n",
       "      <td>105</td>\n",
       "      <td>62</td>\n",
       "      <td>46</td>\n",
       "      <td>157</td>\n",
       "    </tr>\n",
       "    <tr>\n",
       "      <th>14</th>\n",
       "      <td>55</td>\n",
       "      <td>153</td>\n",
       "      <td>157</td>\n",
       "      <td>288</td>\n",
       "    </tr>\n",
       "    <tr>\n",
       "      <th>15</th>\n",
       "      <td>207</td>\n",
       "      <td>127</td>\n",
       "      <td>82</td>\n",
       "      <td>64</td>\n",
       "    </tr>\n",
       "    <tr>\n",
       "      <th>16</th>\n",
       "      <td>184</td>\n",
       "      <td>14</td>\n",
       "      <td>146</td>\n",
       "      <td>18</td>\n",
       "    </tr>\n",
       "    <tr>\n",
       "      <th>17</th>\n",
       "      <td>257</td>\n",
       "      <td>11</td>\n",
       "      <td>222</td>\n",
       "      <td>293</td>\n",
       "    </tr>\n",
       "    <tr>\n",
       "      <th>18</th>\n",
       "      <td>24</td>\n",
       "      <td>157</td>\n",
       "      <td>80</td>\n",
       "      <td>245</td>\n",
       "    </tr>\n",
       "    <tr>\n",
       "      <th>19</th>\n",
       "      <td>231</td>\n",
       "      <td>120</td>\n",
       "      <td>243</td>\n",
       "      <td>11</td>\n",
       "    </tr>\n",
       "  </tbody>\n",
       "</table>\n",
       "</div>"
      ],
      "text/plain": [
       "      A    B    C    D\n",
       "0   292  241  196   71\n",
       "1    52  264  229  279\n",
       "2   261  150  114  214\n",
       "3   159  195   61  201\n",
       "4   178    3  191  273\n",
       "5   298  254  152   27\n",
       "6   125   55   98  263\n",
       "7    31  231   88  215\n",
       "8     0  290  142   24\n",
       "9   161  279  197  203\n",
       "10  203  229  227  115\n",
       "11   29  108  118  203\n",
       "12   20   55   99    2\n",
       "13  105   62   46  157\n",
       "14   55  153  157  288\n",
       "15  207  127   82   64\n",
       "16  184   14  146   18\n",
       "17  257   11  222  293\n",
       "18   24  157   80  245\n",
       "19  231  120  243   11"
      ]
     },
     "execution_count": 12,
     "metadata": {},
     "output_type": "execute_result"
    }
   ],
   "source": [
    "random"
   ]
  },
  {
   "cell_type": "markdown",
   "id": "91b0fbd6",
   "metadata": {},
   "source": [
    "# library installation"
   ]
  },
  {
   "cell_type": "code",
   "execution_count": 47,
   "id": "b3332046",
   "metadata": {},
   "outputs": [
    {
     "name": "stdout",
     "output_type": "stream",
     "text": [
      "Requirement already satisfied: bs4 in c:\\users\\kaviy\\anaconda3\\envs\\dataanalytics2\\lib\\site-packages (0.0.1)Note: you may need to restart the kernel to use updated packages.\n",
      "Requirement already satisfied: beautifulsoup4 in c:\\users\\kaviy\\anaconda3\\envs\\dataanalytics2\\lib\\site-packages (from bs4) (4.10.0)\n",
      "Requirement already satisfied: soupsieve>1.2 in c:\\users\\kaviy\\anaconda3\\envs\\dataanalytics2\\lib\\site-packages (from beautifulsoup4->bs4) (2.3.1)\n",
      "\n"
     ]
    }
   ],
   "source": [
    "pip install bs4"
   ]
  },
  {
   "cell_type": "code",
   "execution_count": 48,
   "id": "556b6792",
   "metadata": {},
   "outputs": [
    {
     "name": "stdout",
     "output_type": "stream",
     "text": [
      "Requirement already satisfied: requests in c:\\users\\kaviy\\anaconda3\\envs\\dataanalytics2\\lib\\site-packages (2.27.1)\n",
      "Requirement already satisfied: idna<4,>=2.5 in c:\\users\\kaviy\\anaconda3\\envs\\dataanalytics2\\lib\\site-packages (from requests) (3.3)\n",
      "Requirement already satisfied: certifi>=2017.4.17 in c:\\users\\kaviy\\anaconda3\\envs\\dataanalytics2\\lib\\site-packages (from requests) (2021.10.8)\n",
      "Requirement already satisfied: charset-normalizer~=2.0.0 in c:\\users\\kaviy\\anaconda3\\envs\\dataanalytics2\\lib\\site-packages (from requests) (2.0.12)\n",
      "Requirement already satisfied: urllib3<1.27,>=1.21.1 in c:\\users\\kaviy\\anaconda3\\envs\\dataanalytics2\\lib\\site-packages (from requests) (1.26.8)\n",
      "Note: you may need to restart the kernel to use updated packages.\n"
     ]
    }
   ],
   "source": [
    "pip install requests"
   ]
  },
  {
   "cell_type": "markdown",
   "id": "986a75c6",
   "metadata": {},
   "source": [
    "# importing libraries"
   ]
  },
  {
   "cell_type": "code",
   "execution_count": 49,
   "id": "c15e1920",
   "metadata": {},
   "outputs": [],
   "source": [
    "import requests"
   ]
  },
  {
   "cell_type": "code",
   "execution_count": 50,
   "id": "3c2aa132",
   "metadata": {},
   "outputs": [],
   "source": [
    "from bs4 import BeautifulSoup"
   ]
  },
  {
   "cell_type": "markdown",
   "id": "2b969feb",
   "metadata": {},
   "source": [
    "# scraping website"
   ]
  },
  {
   "cell_type": "code",
   "execution_count": 51,
   "id": "2682aa2f",
   "metadata": {},
   "outputs": [],
   "source": [
    "url='https://www.imdb.com/search/title/?title_type=feature&primary_language=ta&sort=moviemeter,asc'"
   ]
  },
  {
   "cell_type": "markdown",
   "id": "a9129d4a",
   "metadata": {},
   "source": [
    "# website response"
   ]
  },
  {
   "cell_type": "code",
   "execution_count": 52,
   "id": "b65718ae",
   "metadata": {},
   "outputs": [],
   "source": [
    "response=requests.get(url)"
   ]
  },
  {
   "cell_type": "code",
   "execution_count": 53,
   "id": "a1dfaa30",
   "metadata": {},
   "outputs": [
    {
     "data": {
      "text/plain": [
       "<Response [200]>"
      ]
     },
     "execution_count": 53,
     "metadata": {},
     "output_type": "execute_result"
    }
   ],
   "source": [
    "response"
   ]
  },
  {
   "cell_type": "markdown",
   "id": "4cec16b2",
   "metadata": {},
   "source": [
    "# parsiing"
   ]
  },
  {
   "cell_type": "code",
   "execution_count": 54,
   "id": "0f27e095",
   "metadata": {},
   "outputs": [],
   "source": [
    "soup=BeautifulSoup(response.text)"
   ]
  },
  {
   "cell_type": "code",
   "execution_count": 55,
   "id": "0f4a4843",
   "metadata": {},
   "outputs": [
    {
     "data": {
      "text/plain": [
       "\n",
       "<!DOCTYPE html>\n",
       "\n",
       "<html xmlns:fb=\"http://www.facebook.com/2008/fbml\" xmlns:og=\"http://ogp.me/ns#\">\n",
       "<head>\n",
       "<meta charset=\"utf-8\"/>\n",
       "<meta content=\"IE=edge\" http-equiv=\"X-UA-Compatible\"/>\n",
       "<script type=\"text/javascript\">var IMDbTimer={starttime: new Date().getTime(),pt:'java'};</script>\n",
       "<script>\n",
       "    if (typeof uet == 'function') {\n",
       "      uet(\"bb\", \"LoadTitle\", {wb: 1});\n",
       "    }\n",
       "</script>\n",
       "<script>(function(t){ (t.events = t.events || {})[\"csm_head_pre_title\"] = new Date().getTime(); })(IMDbTimer);</script>\n",
       "<title>Feature Film,\n",
       "Tamil\n",
       "(Sorted by Popularity Ascending) - IMDb</title>\n",
       "<script>(function(t){ (t.events = t.events || {})[\"csm_head_post_title\"] = new Date().getTime(); })(IMDbTimer);</script>\n",
       "<script>\n",
       "    if (typeof uet == 'function') {\n",
       "      uet(\"be\", \"LoadTitle\", {wb: 1});\n",
       "    }\n",
       "</script>\n",
       "<script>\n",
       "    if (typeof uex == 'function') {\n",
       "      uex(\"ld\", \"LoadTitle\", {wb: 1});\n",
       "    }\n",
       "</script>\n",
       "<link href=\"https://www.imdb.com/search/title/?title_type=feature&amp;primary_language=ta\" rel=\"canonical\"/>\n",
       "<meta content=\"http://www.imdb.com/search/title/?title_type=feature&amp;primary_language=ta\" property=\"og:url\">\n",
       "<script>\n",
       "    if (typeof uet == 'function') {\n",
       "      uet(\"bb\", \"LoadIcons\", {wb: 1});\n",
       "    }\n",
       "</script>\n",
       "<script>(function(t){ (t.events = t.events || {})[\"csm_head_pre_icon\"] = new Date().getTime(); })(IMDbTimer);</script>\n",
       "<link href=\"https://m.media-amazon.com/images/G/01/imdb/images-ANDW73HA/favicon_desktop_32x32._CB1582158068_.png\" rel=\"icon\" sizes=\"32x32\"/>\n",
       "<link href=\"https://m.media-amazon.com/images/G/01/imdb/images-ANDW73HA/favicon_iPad_retina_167x167._CB1582158068_.png\" rel=\"icon\" sizes=\"167x167\"/>\n",
       "<link href=\"https://m.media-amazon.com/images/G/01/imdb/images-ANDW73HA/favicon_iPhone_retina_180x180._CB1582158069_.png\" rel=\"icon\" sizes=\"180x180\"/>\n",
       "<link href=\"https://m.media-amazon.com/images/G/01/imdb/images-ANDW73HA/apple-touch-icon-mobile._CB479963088_.png\" rel=\"apple-touch-icon\"/>\n",
       "<link href=\"https://m.media-amazon.com/images/G/01/imdb/images-ANDW73HA/apple-touch-icon-mobile-76x76._CB479962152_.png\" rel=\"apple-touch-icon\" sizes=\"76x76\"/>\n",
       "<link href=\"https://m.media-amazon.com/images/G/01/imdb/images-ANDW73HA/apple-touch-icon-mobile-120x120._CB479963088_.png\" rel=\"apple-touch-icon\" sizes=\"120x120\"/>\n",
       "<link href=\"https://m.media-amazon.com/images/G/01/imdb/images-ANDW73HA/apple-touch-icon-web-152x152._CB479963088_.png\" rel=\"apple-touch-icon\" sizes=\"152x152\"/>\n",
       "<link href=\"https://m.media-amazon.com/images/G/01/imdb/images-ANDW73HA/android-mobile-196x196._CB479962153_.png\" rel=\"shortcut icon\" sizes=\"196x196\"/>\n",
       "<meta content=\"#000000\" name=\"theme-color\">\n",
       "<link href=\"https://m.media-amazon.com/images/S/sash/MzfIBMq9GBucYqW.xml\" rel=\"search\" title=\"IMDb\" type=\"application/opensearchdescription+xml\"/>\n",
       "<script>(function(t){ (t.events = t.events || {})[\"csm_head_post_icon\"] = new Date().getTime(); })(IMDbTimer);</script>\n",
       "<script>\n",
       "    if (typeof uet == 'function') {\n",
       "      uet(\"be\", \"LoadIcons\", {wb: 1});\n",
       "    }\n",
       "</script>\n",
       "<script>\n",
       "    if (typeof uex == 'function') {\n",
       "      uex(\"ld\", \"LoadIcons\", {wb: 1});\n",
       "    }\n",
       "</script>\n",
       "<meta content=\"advsearch\" property=\"pageType\"/>\n",
       "<meta content=\"title\" property=\"subpageType\"/>\n",
       "<link href=\"https://m.media-amazon.com/images/G/01/imdb/images/social/imdb_logo._CB410901634_.png\" rel=\"image_src\"/>\n",
       "<meta content=\"https://m.media-amazon.com/images/G/01/imdb/images/social/imdb_logo._CB410901634_.png\" property=\"og:image\"/>\n",
       "<meta content=\"115109575169727\" property=\"fb:app_id\"/>\n",
       "<meta content=\"Feature Film,\n",
       "Tamil\n",
       "(Sorted by Popularity Ascending) - IMDb\" property=\"og:title\"/>\n",
       "<meta content=\"IMDb\" property=\"og:site_name\"/>\n",
       "<meta content=\"Feature Film,\n",
       "Tamil\n",
       "(Sorted by Popularity Ascending) - IMDb\" name=\"title\"/>\n",
       "<meta content=\"IMDb's advanced search allows you to run extremely powerful queries over all people and titles in the database. Find exactly what you're looking for!\" name=\"description\"/>\n",
       "<meta content=\"IMDb's advanced search allows you to run extremely powerful queries over all people and titles in the database. Find exactly what you're looking for!\" property=\"og:description\"/>\n",
       "<meta content=\"WHZ561VYPPESRD4WDQNX\" name=\"request_id\"/>\n",
       "<script>\n",
       "        (function (win) {\n",
       "            win.PLAID_LOAD_FONTS_FIRED = true;\n",
       "\n",
       "            if (typeof win.FontFace !== \"undefined\"\n",
       "                && typeof win.Promise !== \"undefined\") {\n",
       "                if (win.ue) {\n",
       "                    win.uet(\"bb\", \"LoadRoboto\", { wb: 1 });\n",
       "                }\n",
       "                var allowableLoadTime = 1000;\n",
       "                var startTimeInt = +new Date();\n",
       "                var roboto = new FontFace('Roboto',\n",
       "                    'url(https://m.media-amazon.com/images/G/01/IMDb/cm9ib3Rv.woff2)',\n",
       "                    { style:'normal', weight: 400 });\n",
       "                var robotoMedium = new FontFace('Roboto',\n",
       "                    'url(https://m.media-amazon.com/images/G/01/IMDb/cm9ib3RvTWVk.woff2)',\n",
       "                    { style:'normal', weight: 500 });\n",
       "                var robotoBold = new FontFace('Roboto',\n",
       "                    'url(https://m.media-amazon.com/images/G/01/IMDb/cm9ib3RvQm9sZA.woff2)',\n",
       "                    { style:'normal', weight: 600 });\n",
       "                var robotoLoaded = roboto.load();\n",
       "                var robotoMediumLoaded = robotoMedium.load();\n",
       "                var robotoBoldLoaded = robotoBold.load();\n",
       "\n",
       "                win.Promise.all([robotoLoaded, robotoMediumLoaded, robotoBoldLoaded]).then(function() {\n",
       "                    var loadTimeInt = +new Date();\n",
       "                    var robotoLoadedCount = 0;\n",
       "                    if ((loadTimeInt - startTimeInt) <= allowableLoadTime) {\n",
       "                        win.document.fonts.add(roboto);\n",
       "                        win.document.fonts.add(robotoMedium);\n",
       "                        win.document.fonts.add(robotoBold);\n",
       "                        robotoLoadedCount++;\n",
       "                    }\n",
       "                    if (win.ue) {\n",
       "                        win.ue.count(\"roboto-loaded\", robotoLoadedCount);\n",
       "                        win.uet(\"be\", \"LoadRoboto\", { wb: 1 });\n",
       "                        win.uex(\"ld\", \"LoadRoboto\", { wb: 1 });\n",
       "                    }\n",
       "                }).catch(function() {\n",
       "                    if (win.ue) {\n",
       "                        win.ue.count(\"roboto-loaded\", 0);\n",
       "                    }\n",
       "                });\n",
       "            } else {\n",
       "                if (win.ue) {\n",
       "                    win.ue.count(\"roboto-load-not-attempted\", 1);\n",
       "                }\n",
       "            }\n",
       "        })(window);\n",
       "    </script>\n",
       "<script>\n",
       "    if (typeof uet == 'function') {\n",
       "      uet(\"bb\", \"LoadCSS\", {wb: 1});\n",
       "    }\n",
       "</script>\n",
       "<script>(function(t){ (t.events = t.events || {})[\"csm_head_pre_css\"] = new Date().getTime(); })(IMDbTimer);</script>\n",
       "<link href=\"https://m.media-amazon.com/images/I/41pzfEC8F8L.css\" rel=\"stylesheet\" type=\"text/css\"><link href=\"https://m.media-amazon.com/images/I/41yZIiD2kCL.css\" rel=\"stylesheet\" type=\"text/css\"/>\n",
       "<link href=\"https://m.media-amazon.com/images/S/sash/ZO1i5FfCO1gSv$7.css\" rel=\"stylesheet\" type=\"text/css\"/>\n",
       "<!-- h=ics-c52xl-13-1d-87c7726b.us-east-1 -->\n",
       "<!--[if IE]><link rel=\"stylesheet\" type=\"text/css\" href=\"https://m.media-amazon.com/images/S/sash/pXHSPBTKPo0GIjW.css\" /><![endif]-->\n",
       "<link href=\"https://m.media-amazon.com/images/S/sash/vEv7EhTS45PyD8e.css\" rel=\"stylesheet\" type=\"text/css\"/>\n",
       "<link href=\"https://m.media-amazon.com/images/S/sash/i-Y65BmJrKWIfbK.css\" rel=\"stylesheet\" type=\"text/css\"/>\n",
       "<link href=\"https://m.media-amazon.com/images/S/sash/HqcrRlviNTScutU.css\" rel=\"stylesheet\" type=\"text/css\"/>\n",
       "<link href=\"https://m.media-amazon.com/images/S/sash/mrwUCCyp3V14GU0.css\" rel=\"stylesheet\" type=\"text/css\"/>\n",
       "<link href=\"https://m.media-amazon.com/images/S/sash/sHfJ8wTsDnFAHcY.css\" rel=\"stylesheet\" type=\"text/css\"/>\n",
       "<noscript>\n",
       "<link href=\"https://m.media-amazon.com/images/S/sash/CCc6Ja$8QUPPKkY.css\" rel=\"stylesheet\" type=\"text/css\"/>\n",
       "</noscript>\n",
       "<script>(function(t){ (t.events = t.events || {})[\"csm_head_post_css\"] = new Date().getTime(); })(IMDbTimer);</script>\n",
       "<script>\n",
       "    if (typeof uet == 'function') {\n",
       "      uet(\"be\", \"LoadCSS\", {wb: 1});\n",
       "    }\n",
       "</script>\n",
       "<script>\n",
       "    if (typeof uex == 'function') {\n",
       "      uex(\"ld\", \"LoadCSS\", {wb: 1});\n",
       "    }\n",
       "</script>\n",
       "<script>\n",
       "    if (typeof uet == 'function') {\n",
       "      uet(\"bb\", \"LoadJS\", {wb: 1});\n",
       "    }\n",
       "</script>\n",
       "<script>\n",
       "    if (typeof uet == 'function') {\n",
       "      uet(\"bb\", \"LoadHeaderJS\", {wb: 1});\n",
       "    }\n",
       "</script>\n",
       "<script>(function(t){ (t.events = t.events || {})[\"csm_head_pre_ads\"] = new Date().getTime(); })(IMDbTimer);</script>\n",
       "<script type=\"text/javascript\">\n",
       "            // ensures js doesn't die if ads service fails.  \n",
       "            // Note that we need to define the js here, since ad js is being rendered inline after this.\n",
       "            (function(f) {\n",
       "                // Fallback javascript, when the ad Service call fails.  \n",
       "                \n",
       "                if((window.csm == null || window.generic == null || window.consoleLog == null)) {\n",
       "                    if (window.console && console.log) {\n",
       "                        console.log(\"one or more of window.csm, window.generic or window.consoleLog has been stubbed...\");\n",
       "                    }\n",
       "                }\n",
       "                \n",
       "                window.csm = window.csm || { measure:f, record:f, duration:f, listen:f, metrics:{} };\n",
       "                window.generic = window.generic || { monitoring: { start_timing: f, stop_timing: f } };\n",
       "                window.consoleLog = window.consoleLog || f;\n",
       "            })(function() {});\n",
       "        </script>\n",
       "<script type=\"text/javascript\">\n",
       "    if (!window.RadWidget) {\n",
       "        window.RadWidget = {\n",
       "            registerReactWidgetInstance: function(input) {\n",
       "                window.RadWidget[input.widgetName] = window.RadWidget[input.widgetName] || [];\n",
       "                window.RadWidget[input.widgetName].push({\n",
       "                    id: input.instanceId,\n",
       "                    props: JSON.stringify(input.model)\n",
       "                })\n",
       "            },\n",
       "            getReactWidgetInstances: function(widgetName) {\n",
       "                return window.RadWidget[widgetName] || []\n",
       "            }\n",
       "        };\n",
       "    }\n",
       "</script>\n",
       "<script type=\"text/javascript\">window.useRatingTaskCompletion = true;</script>\n",
       "<script>\n",
       "    if ('csm' in window) {\n",
       "      csm.measure('csm_head_delivery_finished');\n",
       "    }\n",
       "  </script>\n",
       "<script>\n",
       "    if (typeof uet == 'function') {\n",
       "      uet(\"be\", \"LoadHeaderJS\", {wb: 1});\n",
       "    }\n",
       "</script>\n",
       "<script>\n",
       "    if (typeof uex == 'function') {\n",
       "      uex(\"ld\", \"LoadHeaderJS\", {wb: 1});\n",
       "    }\n",
       "</script>\n",
       "<script>\n",
       "    if (typeof uet == 'function') {\n",
       "      uet(\"be\", \"LoadJS\", {wb: 1});\n",
       "    }\n",
       "</script>\n",
       "<script>\n",
       "    if (typeof uex == 'function') {\n",
       "      uex(\"ld\", \"LoadJS\", {wb: 1});\n",
       "    }\n",
       "</script>\n",
       "</link></meta></meta></head>\n",
       "<body class=\"fixed\" id=\"styleguide-v2\">\n",
       "<script>\n",
       "    if (typeof uet == 'function') {\n",
       "      uet(\"bb\");\n",
       "    }\n",
       "</script>\n",
       "<script>\n",
       "    if ('csm' in window) {\n",
       "      csm.measure('csm_body_delivery_started');\n",
       "    }\n",
       "  </script>\n",
       "<script>\n",
       "    if (typeof uet == 'function') {\n",
       "      uet(\"ns\");\n",
       "    }\n",
       "</script>\n",
       "<div id=\"31e40f63-ac0a-4083-8dcd-ff1ce1ef5a98\">\n",
       "</div>\n",
       "<script type=\"text/javascript\">\n",
       "    if (!window.RadWidget) {\n",
       "        window.RadWidget = {\n",
       "            registerReactWidgetInstance: function(input) {\n",
       "                window.RadWidget[input.widgetName] = window.RadWidget[input.widgetName] || [];\n",
       "                window.RadWidget[input.widgetName].push({\n",
       "                    id: input.instanceId,\n",
       "                    props: JSON.stringify(input.model)\n",
       "                })\n",
       "            },\n",
       "            getReactWidgetInstances: function(widgetName) {\n",
       "                return window.RadWidget[widgetName] || []\n",
       "            }\n",
       "        };\n",
       "    }\n",
       "</script> <script type=\"text/javascript\">\n",
       "        window['RadWidget'].registerReactWidgetInstance({\n",
       "            widgetName: \"IMDbConsumerSiteNavFeatureV1\",\n",
       "            instanceId: \"31e40f63-ac0a-4083-8dcd-ff1ce1ef5a98\",\n",
       "            model: {\"username\":null,\"isLoggedIn\":false,\"weblabs\":[],\"locale\":\"en-US\",\"showLanguageSelector\":true}\n",
       "        });\n",
       "    </script>\n",
       "<script>\n",
       "    if (typeof uet == 'function') {\n",
       "      uet(\"ne\");\n",
       "    }\n",
       "</script>\n",
       "<div id=\"wrapper\">\n",
       "<div class=\"redesign\" id=\"root\">\n",
       "<div class=\"navbarSprite\" id=\"nb20\">\n",
       "<div id=\"supertab\">\n",
       "<!-- no content received for slot: top_ad -->\n",
       "<script>\n",
       "                var event = {\n",
       "                    type: '',\n",
       "                    slotName: 'top_ad',\n",
       "                    timestamp: Date.now()\n",
       "                };\n",
       "                var mediaEvent = event;\n",
       "                mediaEvent.type = 'no-autoplay-video-ad-detected';\n",
       "                if (window && window.mediaOrchestrator) {\n",
       "                    window.mediaOrchestrator.publish('mediaPlaybackEvent', mediaEvent);\n",
       "                    window.mediaOrchestrator.publish('noAdToLoad', event);\n",
       "                }\n",
       "            </script>\n",
       "</div>\n",
       "<!-- no content received for slot: navstrip -->\n",
       "<!-- no content received for slot: injected_navstrip -->\n",
       "</div>\n",
       "<div class=\"pagecontent\" id=\"pagecontent\">\n",
       "<!-- no content received for slot: injected_billboard -->\n",
       "<div class=\"redesign\" id=\"content-2-wide\">\n",
       "<div id=\"main\">\n",
       "<div class=\"article\">\n",
       "<h1 class=\"header\">Feature Film,\n",
       "Tamil\n",
       "(Sorted by Popularity Ascending) </h1>\n",
       "<div class=\"nav\">\n",
       "<br class=\"clear\"/>\n",
       "<div class=\"display-mode float-right\">\n",
       "        View Mode:\n",
       "<a class=\"compact\" href=\"/search/title/?title_type=feature&amp;primary_language=ta&amp;view=simple\"> Compact\n",
       "</a> <span class=\"ghost\">|</span><a class=\"detailed\" href=\"/search/title/?title_type=feature&amp;primary_language=ta&amp;view=advanced\"> <strong>Detailed</strong>\n",
       "</a> </div>\n",
       "<div class=\"desc\">\n",
       "<span>1-50 of 6,395 titles.</span>\n",
       "<span class=\"ghost\">|</span> <a class=\"lister-page-next next-page\" href=\"/search/title/?title_type=feature&amp;primary_language=ta&amp;start=51\">Next »</a>\n",
       "</div>\n",
       "</div>\n",
       "<br class=\"clear\"/>\n",
       "<div class=\"sorting\">\n",
       "       Sort by:\n",
       "           <a href=\"/search/title/?title_type=feature&amp;primary_language=ta&amp;sort=moviemeter,desc\"><strong>Popularity</strong>▲</a>\n",
       "<span class=\"ghost\">|</span> <a href=\"/search/title/?title_type=feature&amp;primary_language=ta&amp;sort=alpha,asc\">A-Z</a>\n",
       "<span class=\"ghost\">|</span> <a href=\"/search/title/?title_type=feature&amp;primary_language=ta&amp;sort=user_rating,desc\">User Rating</a>\n",
       "<span class=\"ghost\">|</span> <a href=\"/search/title/?title_type=feature&amp;primary_language=ta&amp;sort=num_votes,asc\">Number of Votes</a>\n",
       "<span class=\"ghost\">|</span> <a href=\"/search/title/?title_type=feature&amp;primary_language=ta&amp;sort=boxoffice_gross_us,asc\">US Box Office</a>\n",
       "<span class=\"ghost\">|</span> <a href=\"/search/title/?title_type=feature&amp;primary_language=ta&amp;sort=runtime,asc\">Runtime</a>\n",
       "<span class=\"ghost\">|</span> <a href=\"/search/title/?title_type=feature&amp;primary_language=ta&amp;sort=year,asc\">Year</a>\n",
       "<span class=\"ghost\">|</span> <a href=\"/search/title/?title_type=feature&amp;primary_language=ta&amp;sort=release_date,asc\">Release Date</a>\n",
       "<span class=\"ghost\">|</span> <a href=\"/search/title/?title_type=feature&amp;primary_language=ta&amp;sort=your_rating_date,asc\">Date of Your Rating</a>\n",
       "<span class=\"ghost\">|</span> <a href=\"/search/title/?title_type=feature&amp;primary_language=ta&amp;sort=my_ratings,desc\">Your Rating</a>\n",
       "</div>\n",
       "<br class=\"clear\"/>\n",
       "<div class=\"lister list detail sub-list\">\n",
       "<div class=\"lister-list\">\n",
       "<div class=\"lister-item mode-advanced\">\n",
       "<div class=\"lister-top-right\">\n",
       "<div class=\"ribbonize\" data-caller=\"filmosearch\" data-tconst=\"tt10806040\"></div>\n",
       "</div>\n",
       "<div class=\"lister-item-image float-left\">\n",
       "<a href=\"/title/tt10806040/\"> <img alt=\"Valimai\" class=\"loadlate\" data-tconst=\"tt10806040\" height=\"98\" loadlate=\"https://m.media-amazon.com/images/M/MV5BZmQ5NTBmMDgtZmRlMi00MDNmLTg1MWUtMTU3ZGZiMDQ3NzE0XkEyXkFqcGdeQXVyMTEzNzg0Mjkx._V1_UY98_CR3,0,67,98_AL_.jpg\" src=\"https://m.media-amazon.com/images/S/sash/4FyxwxECzL-U1J8.png\" width=\"67\"/>\n",
       "</a> </div>\n",
       "<div class=\"lister-item-content\">\n",
       "<h3 class=\"lister-item-header\">\n",
       "<span class=\"lister-item-index unbold text-primary\">1.</span>\n",
       "<a href=\"/title/tt10806040/\">Valimai</a>\n",
       "<span class=\"lister-item-year text-muted unbold\">(2022)</span>\n",
       "</h3>\n",
       "<p class=\"text-muted\">\n",
       "<span class=\"certificate\">UA</span>\n",
       "<span class=\"ghost\">|</span>\n",
       "<span class=\"runtime\">178 min</span>\n",
       "<span class=\"ghost\">|</span>\n",
       "<span class=\"genre\">\n",
       "Action, Crime, Thriller            </span>\n",
       "</p>\n",
       "<div class=\"ratings-bar\">\n",
       "<div class=\"inline-block ratings-imdb-rating\" data-value=\"7.8\" name=\"ir\">\n",
       "<span class=\"global-sprite rating-star imdb-rating\"></span>\n",
       "<strong>7.8</strong>\n",
       "</div>\n",
       "<div class=\"inline-block ratings-user-rating\">\n",
       "<span class=\"userRatingValue\" data-tconst=\"tt10806040\" id=\"urv_tt10806040\">\n",
       "<span class=\"global-sprite rating-star no-rating\"></span>\n",
       "<span class=\"rate\" data-no-rating=\"Rate this\" data-value=\"0\" name=\"ur\">Rate this</span>\n",
       "</span>\n",
       "<div class=\"starBarWidget\" id=\"sb_tt10806040\">\n",
       "<div class=\"rating rating-list\" data-csrf-token=\"\" data-ga-identifier=\"\" data-starbar-class=\"rating-list\" data-user=\"\" id=\"tt10806040|imdb|7.8|7.8|adv_li_tt||advsearch|title\" itemprop=\"aggregateRating\" itemscope=\"\" itemtype=\"http://schema.org/AggregateRating\" title=\"Users rated this 7.8/10 (12,356 votes) - click stars to rate\">\n",
       "<meta content=\"7.8\" itemprop=\"ratingValue\"/>\n",
       "<meta content=\"10\" itemprop=\"bestRating\"/>\n",
       "<meta content=\"12356\" itemprop=\"ratingCount\"/>\n",
       "<span class=\"rating-bg\"> </span>\n",
       "<span class=\"rating-imdb\" style=\"width: 109.2px\"> </span>\n",
       "<span class=\"rating-stars\">\n",
       "<a href=\"/register/login?why=vote\" rel=\"nofollow\" title=\"Register or login to rate this title\"><span>1</span></a>\n",
       "<a href=\"/register/login?why=vote\" rel=\"nofollow\" title=\"Register or login to rate this title\"><span>2</span></a>\n",
       "<a href=\"/register/login?why=vote\" rel=\"nofollow\" title=\"Register or login to rate this title\"><span>3</span></a>\n",
       "<a href=\"/register/login?why=vote\" rel=\"nofollow\" title=\"Register or login to rate this title\"><span>4</span></a>\n",
       "<a href=\"/register/login?why=vote\" rel=\"nofollow\" title=\"Register or login to rate this title\"><span>5</span></a>\n",
       "<a href=\"/register/login?why=vote\" rel=\"nofollow\" title=\"Register or login to rate this title\"><span>6</span></a>\n",
       "<a href=\"/register/login?why=vote\" rel=\"nofollow\" title=\"Register or login to rate this title\"><span>7</span></a>\n",
       "<a href=\"/register/login?why=vote\" rel=\"nofollow\" title=\"Register or login to rate this title\"><span>8</span></a>\n",
       "<a href=\"/register/login?why=vote\" rel=\"nofollow\" title=\"Register or login to rate this title\"><span>9</span></a>\n",
       "<a href=\"/register/login?why=vote\" rel=\"nofollow\" title=\"Register or login to rate this title\"><span>10</span></a>\n",
       "</span>\n",
       "<span class=\"rating-rating\"><span class=\"value\">7.8</span><span class=\"grey\">/</span><span class=\"grey\">10</span></span>\n",
       "<span class=\"rating-cancel\"><a href=\"/title/tt10806040/vote\" rel=\"nofollow\" title=\"Delete\"><span>X</span></a></span>\n",
       " </div>\n",
       "</div>\n",
       "</div>\n",
       "</div>\n",
       "<p class=\"text-muted\">\n",
       "Arjun, an IPS officer sets out for a mission on hunting down illegal bikers involving in theft and murder.</p>\n",
       "<p class=\"\">\n",
       "    Director:\n",
       "<a href=\"/name/nm6474441/\">H. Vinoth</a>\n",
       "<span class=\"ghost\">|</span> \n",
       "    Stars:\n",
       "<a href=\"/name/nm0015001/\">Ajith Kumar</a>, \n",
       "<a href=\"/name/nm4806622/\">Huma Qureshi</a>, \n",
       "<a href=\"/name/nm8257146/\">Kartikeya Gummakonda</a>, \n",
       "<a href=\"/name/nm3260483/\">Gurbani</a>\n",
       "</p>\n",
       "<p class=\"sort-num_votes-visible\">\n",
       "<span class=\"text-muted\">Votes:</span>\n",
       "<span data-value=\"12356\" name=\"nv\">12,356</span>\n",
       "</p>\n",
       "</div>\n",
       "</div>\n",
       "<div class=\"lister-item mode-advanced\">\n",
       "<div class=\"lister-top-right\">\n",
       "<div class=\"ribbonize\" data-caller=\"filmosearch\" data-tconst=\"tt15097216\"></div>\n",
       "</div>\n",
       "<div class=\"lister-item-image float-left\">\n",
       "<a href=\"/title/tt15097216/\"> <img alt=\"Jai Bhim\" class=\"loadlate\" data-tconst=\"tt15097216\" height=\"98\" loadlate=\"https://m.media-amazon.com/images/M/MV5BY2Y5ZWMwZDgtZDQxYy00Mjk0LThhY2YtMmU1MTRmMjVhMjRiXkEyXkFqcGdeQXVyMTI1NDEyNTM5._V1_UY98_CR5,0,67,98_AL_.jpg\" src=\"https://m.media-amazon.com/images/S/sash/4FyxwxECzL-U1J8.png\" width=\"67\"/>\n",
       "</a> </div>\n",
       "<div class=\"lister-item-content\">\n",
       "<h3 class=\"lister-item-header\">\n",
       "<span class=\"lister-item-index unbold text-primary\">2.</span>\n",
       "<a href=\"/title/tt15097216/\">Jai Bhim</a>\n",
       "<span class=\"lister-item-year text-muted unbold\">(2021)</span>\n",
       "</h3>\n",
       "<p class=\"text-muted\">\n",
       "<span class=\"certificate\">A</span>\n",
       "<span class=\"ghost\">|</span>\n",
       "<span class=\"runtime\">164 min</span>\n",
       "<span class=\"ghost\">|</span>\n",
       "<span class=\"genre\">\n",
       "Crime, Drama, Mystery            </span>\n",
       "</p>\n",
       "<div class=\"ratings-bar\">\n",
       "<div class=\"inline-block ratings-imdb-rating\" data-value=\"9.5\" name=\"ir\">\n",
       "<span class=\"global-sprite rating-star imdb-rating\"></span>\n",
       "<strong>9.5</strong>\n",
       "</div>\n",
       "<div class=\"inline-block ratings-user-rating\">\n",
       "<span class=\"userRatingValue\" data-tconst=\"tt15097216\" id=\"urv_tt15097216\">\n",
       "<span class=\"global-sprite rating-star no-rating\"></span>\n",
       "<span class=\"rate\" data-no-rating=\"Rate this\" data-value=\"0\" name=\"ur\">Rate this</span>\n",
       "</span>\n",
       "<div class=\"starBarWidget\" id=\"sb_tt15097216\">\n",
       "<div class=\"rating rating-list\" data-csrf-token=\"\" data-ga-identifier=\"\" data-starbar-class=\"rating-list\" data-user=\"\" id=\"tt15097216|imdb|9.5|9.5|adv_li_tt||advsearch|title\" itemprop=\"aggregateRating\" itemscope=\"\" itemtype=\"http://schema.org/AggregateRating\" title=\"Users rated this 9.5/10 (177,137 votes) - click stars to rate\">\n",
       "<meta content=\"9.5\" itemprop=\"ratingValue\"/>\n",
       "<meta content=\"10\" itemprop=\"bestRating\"/>\n",
       "<meta content=\"177137\" itemprop=\"ratingCount\"/>\n",
       "<span class=\"rating-bg\"> </span>\n",
       "<span class=\"rating-imdb\" style=\"width: 133px\"> </span>\n",
       "<span class=\"rating-stars\">\n",
       "<a href=\"/register/login?why=vote\" rel=\"nofollow\" title=\"Register or login to rate this title\"><span>1</span></a>\n",
       "<a href=\"/register/login?why=vote\" rel=\"nofollow\" title=\"Register or login to rate this title\"><span>2</span></a>\n",
       "<a href=\"/register/login?why=vote\" rel=\"nofollow\" title=\"Register or login to rate this title\"><span>3</span></a>\n",
       "<a href=\"/register/login?why=vote\" rel=\"nofollow\" title=\"Register or login to rate this title\"><span>4</span></a>\n",
       "<a href=\"/register/login?why=vote\" rel=\"nofollow\" title=\"Register or login to rate this title\"><span>5</span></a>\n",
       "<a href=\"/register/login?why=vote\" rel=\"nofollow\" title=\"Register or login to rate this title\"><span>6</span></a>\n",
       "<a href=\"/register/login?why=vote\" rel=\"nofollow\" title=\"Register or login to rate this title\"><span>7</span></a>\n",
       "<a href=\"/register/login?why=vote\" rel=\"nofollow\" title=\"Register or login to rate this title\"><span>8</span></a>\n",
       "<a href=\"/register/login?why=vote\" rel=\"nofollow\" title=\"Register or login to rate this title\"><span>9</span></a>\n",
       "<a href=\"/register/login?why=vote\" rel=\"nofollow\" title=\"Register or login to rate this title\"><span>10</span></a>\n",
       "</span>\n",
       "<span class=\"rating-rating\"><span class=\"value\">9.5</span><span class=\"grey\">/</span><span class=\"grey\">10</span></span>\n",
       "<span class=\"rating-cancel\"><a href=\"/title/tt15097216/vote\" rel=\"nofollow\" title=\"Delete\"><span>X</span></a></span>\n",
       " </div>\n",
       "</div>\n",
       "</div>\n",
       "</div>\n",
       "<p class=\"text-muted\">\n",
       "When a tribal man is arrested for a case of alleged theft, his wife turns to a human-rights lawyer to help bring justice.</p>\n",
       "<p class=\"\">\n",
       "    Director:\n",
       "<a href=\"/name/nm4377096/\">T.J. Gnanavel</a>\n",
       "<span class=\"ghost\">|</span> \n",
       "    Stars:\n",
       "<a href=\"/name/nm1421814/\">Suriya</a>, \n",
       "<a href=\"/name/nm7934649/\">Lijo Mol Jose</a>, \n",
       "<a href=\"/name/nm8904193/\">Manikandan K.</a>, \n",
       "<a href=\"/name/nm8135195/\">Rajisha Vijayan</a>\n",
       "</p>\n",
       "<p class=\"sort-num_votes-visible\">\n",
       "<span class=\"text-muted\">Votes:</span>\n",
       "<span data-value=\"177137\" name=\"nv\">177,137</span>\n",
       "</p>\n",
       "</div>\n",
       "</div>\n",
       "<div class=\"lister-item mode-advanced\">\n",
       "<div class=\"lister-top-right\">\n",
       "<div class=\"ribbonize\" data-caller=\"filmosearch\" data-tconst=\"tt12472554\"></div>\n",
       "</div>\n",
       "<div class=\"lister-item-image float-left\">\n",
       "<a href=\"/title/tt12472554/\"> <img alt=\"Mahaan\" class=\"loadlate\" data-tconst=\"tt12472554\" height=\"98\" loadlate=\"https://m.media-amazon.com/images/M/MV5BMjlhZjg5YzAtMGFiNS00OGMzLTkxYjAtMGFkNTg5MzM1ZmNmXkEyXkFqcGdeQXVyMTE2NTYzNTQy._V1_UX67_CR0,0,67,98_AL_.jpg\" src=\"https://m.media-amazon.com/images/S/sash/4FyxwxECzL-U1J8.png\" width=\"67\"/>\n",
       "</a> </div>\n",
       "<div class=\"lister-item-content\">\n",
       "<h3 class=\"lister-item-header\">\n",
       "<span class=\"lister-item-index unbold text-primary\">3.</span>\n",
       "<a href=\"/title/tt12472554/\">Mahaan</a>\n",
       "<span class=\"lister-item-year text-muted unbold\">(2022)</span>\n",
       "</h3>\n",
       "<p class=\"text-muted\">\n",
       "<span class=\"certificate\">UA</span>\n",
       "<span class=\"ghost\">|</span>\n",
       "<span class=\"runtime\">163 min</span>\n",
       "<span class=\"ghost\">|</span>\n",
       "<span class=\"genre\">\n",
       "Action, Drama, Thriller            </span>\n",
       "</p>\n",
       "<div class=\"ratings-bar\">\n",
       "<div class=\"inline-block ratings-imdb-rating\" data-value=\"8.3\" name=\"ir\">\n",
       "<span class=\"global-sprite rating-star imdb-rating\"></span>\n",
       "<strong>8.3</strong>\n",
       "</div>\n",
       "<div class=\"inline-block ratings-user-rating\">\n",
       "<span class=\"userRatingValue\" data-tconst=\"tt12472554\" id=\"urv_tt12472554\">\n",
       "<span class=\"global-sprite rating-star no-rating\"></span>\n",
       "<span class=\"rate\" data-no-rating=\"Rate this\" data-value=\"0\" name=\"ur\">Rate this</span>\n",
       "</span>\n",
       "<div class=\"starBarWidget\" id=\"sb_tt12472554\">\n",
       "<div class=\"rating rating-list\" data-csrf-token=\"\" data-ga-identifier=\"\" data-starbar-class=\"rating-list\" data-user=\"\" id=\"tt12472554|imdb|8.3|8.3|adv_li_tt||advsearch|title\" itemprop=\"aggregateRating\" itemscope=\"\" itemtype=\"http://schema.org/AggregateRating\" title=\"Users rated this 8.3/10 (10,444 votes) - click stars to rate\">\n",
       "<meta content=\"8.3\" itemprop=\"ratingValue\"/>\n",
       "<meta content=\"10\" itemprop=\"bestRating\"/>\n",
       "<meta content=\"10444\" itemprop=\"ratingCount\"/>\n",
       "<span class=\"rating-bg\"> </span>\n",
       "<span class=\"rating-imdb\" style=\"width: 116.2px\"> </span>\n",
       "<span class=\"rating-stars\">\n",
       "<a href=\"/register/login?why=vote\" rel=\"nofollow\" title=\"Register or login to rate this title\"><span>1</span></a>\n",
       "<a href=\"/register/login?why=vote\" rel=\"nofollow\" title=\"Register or login to rate this title\"><span>2</span></a>\n",
       "<a href=\"/register/login?why=vote\" rel=\"nofollow\" title=\"Register or login to rate this title\"><span>3</span></a>\n",
       "<a href=\"/register/login?why=vote\" rel=\"nofollow\" title=\"Register or login to rate this title\"><span>4</span></a>\n",
       "<a href=\"/register/login?why=vote\" rel=\"nofollow\" title=\"Register or login to rate this title\"><span>5</span></a>\n",
       "<a href=\"/register/login?why=vote\" rel=\"nofollow\" title=\"Register or login to rate this title\"><span>6</span></a>\n",
       "<a href=\"/register/login?why=vote\" rel=\"nofollow\" title=\"Register or login to rate this title\"><span>7</span></a>\n",
       "<a href=\"/register/login?why=vote\" rel=\"nofollow\" title=\"Register or login to rate this title\"><span>8</span></a>\n",
       "<a href=\"/register/login?why=vote\" rel=\"nofollow\" title=\"Register or login to rate this title\"><span>9</span></a>\n",
       "<a href=\"/register/login?why=vote\" rel=\"nofollow\" title=\"Register or login to rate this title\"><span>10</span></a>\n",
       "</span>\n",
       "<span class=\"rating-rating\"><span class=\"value\">8.3</span><span class=\"grey\">/</span><span class=\"grey\">10</span></span>\n",
       "<span class=\"rating-cancel\"><a href=\"/title/tt12472554/vote\" rel=\"nofollow\" title=\"Delete\"><span>X</span></a></span>\n",
       " </div>\n",
       "</div>\n",
       "</div>\n",
       "</div>\n",
       "<p class=\"text-muted\">\n",
       "Gandhi Mahaan, a school teacher, is abandoned by his family after he decides to live a life of his own, with personal freedom.</p>\n",
       "<p class=\"\">\n",
       "    Director:\n",
       "<a href=\"/name/nm5366274/\">Karthik Subbaraj</a>\n",
       "<span class=\"ghost\">|</span> \n",
       "    Stars:\n",
       "<a href=\"/name/nm1417314/\">Vikram</a>, \n",
       "<a href=\"/name/nm0801264/\">Simran</a>, \n",
       "<a href=\"/name/nm9782391/\">Dhruv Vikram</a>, \n",
       "<a href=\"/name/nm5654277/\">Bobby Simha</a>\n",
       "</p>\n",
       "<p class=\"sort-num_votes-visible\">\n",
       "<span class=\"text-muted\">Votes:</span>\n",
       "<span data-value=\"10444\" name=\"nv\">10,444</span>\n",
       "</p>\n",
       "</div>\n",
       "</div>\n",
       "<div class=\"lister-item mode-advanced\">\n",
       "<div class=\"lister-top-right\">\n",
       "<div class=\"ribbonize\" data-caller=\"filmosearch\" data-tconst=\"tt11953194\"></div>\n",
       "</div>\n",
       "<div class=\"lister-item-image float-left\">\n",
       "<a href=\"/title/tt11953194/\"> <img alt=\"Hey Sinamika\" class=\"loadlate\" data-tconst=\"tt11953194\" height=\"98\" loadlate=\"https://m.media-amazon.com/images/M/MV5BNWEwYjE0YzQtZmZiYi00NzY3LWJkNzktMTA5NmE2NGNkOTA5XkEyXkFqcGdeQXVyMTM1MzAzNzUx._V1_UY98_CR5,0,67,98_AL_.jpg\" src=\"https://m.media-amazon.com/images/S/sash/4FyxwxECzL-U1J8.png\" width=\"67\"/>\n",
       "</a> </div>\n",
       "<div class=\"lister-item-content\">\n",
       "<h3 class=\"lister-item-header\">\n",
       "<span class=\"lister-item-index unbold text-primary\">4.</span>\n",
       "<a href=\"/title/tt11953194/\">Hey Sinamika</a>\n",
       "<span class=\"lister-item-year text-muted unbold\">(2022)</span>\n",
       "</h3>\n",
       "<p class=\"text-muted\">\n",
       "<span class=\"certificate\">U</span>\n",
       "<span class=\"ghost\">|</span>\n",
       "<span class=\"runtime\">150 min</span>\n",
       "<span class=\"ghost\">|</span>\n",
       "<span class=\"genre\">\n",
       "Drama, Romance            </span>\n",
       "</p>\n",
       "<div class=\"ratings-bar\">\n",
       "<div class=\"inline-block ratings-imdb-rating\" data-value=\"6\" name=\"ir\">\n",
       "<span class=\"global-sprite rating-star imdb-rating\"></span>\n",
       "<strong>6.0</strong>\n",
       "</div>\n",
       "<div class=\"inline-block ratings-user-rating\">\n",
       "<span class=\"userRatingValue\" data-tconst=\"tt11953194\" id=\"urv_tt11953194\">\n",
       "<span class=\"global-sprite rating-star no-rating\"></span>\n",
       "<span class=\"rate\" data-no-rating=\"Rate this\" data-value=\"0\" name=\"ur\">Rate this</span>\n",
       "</span>\n",
       "<div class=\"starBarWidget\" id=\"sb_tt11953194\">\n",
       "<div class=\"rating rating-list\" data-csrf-token=\"\" data-ga-identifier=\"\" data-starbar-class=\"rating-list\" data-user=\"\" id=\"tt11953194|imdb|6|6|adv_li_tt||advsearch|title\" itemprop=\"aggregateRating\" itemscope=\"\" itemtype=\"http://schema.org/AggregateRating\" title=\"Users rated this 6/10 (647 votes) - click stars to rate\">\n",
       "<meta content=\"6\" itemprop=\"ratingValue\"/>\n",
       "<meta content=\"10\" itemprop=\"bestRating\"/>\n",
       "<meta content=\"647\" itemprop=\"ratingCount\"/>\n",
       "<span class=\"rating-bg\"> </span>\n",
       "<span class=\"rating-imdb\" style=\"width: 84px\"> </span>\n",
       "<span class=\"rating-stars\">\n",
       "<a href=\"/register/login?why=vote\" rel=\"nofollow\" title=\"Register or login to rate this title\"><span>1</span></a>\n",
       "<a href=\"/register/login?why=vote\" rel=\"nofollow\" title=\"Register or login to rate this title\"><span>2</span></a>\n",
       "<a href=\"/register/login?why=vote\" rel=\"nofollow\" title=\"Register or login to rate this title\"><span>3</span></a>\n",
       "<a href=\"/register/login?why=vote\" rel=\"nofollow\" title=\"Register or login to rate this title\"><span>4</span></a>\n",
       "<a href=\"/register/login?why=vote\" rel=\"nofollow\" title=\"Register or login to rate this title\"><span>5</span></a>\n",
       "<a href=\"/register/login?why=vote\" rel=\"nofollow\" title=\"Register or login to rate this title\"><span>6</span></a>\n",
       "<a href=\"/register/login?why=vote\" rel=\"nofollow\" title=\"Register or login to rate this title\"><span>7</span></a>\n",
       "<a href=\"/register/login?why=vote\" rel=\"nofollow\" title=\"Register or login to rate this title\"><span>8</span></a>\n",
       "<a href=\"/register/login?why=vote\" rel=\"nofollow\" title=\"Register or login to rate this title\"><span>9</span></a>\n",
       "<a href=\"/register/login?why=vote\" rel=\"nofollow\" title=\"Register or login to rate this title\"><span>10</span></a>\n",
       "</span>\n",
       "<span class=\"rating-rating\"><span class=\"value\">6</span><span class=\"grey\">/</span><span class=\"grey\">10</span></span>\n",
       "<span class=\"rating-cancel\"><a href=\"/title/tt11953194/vote\" rel=\"nofollow\" title=\"Delete\"><span>X</span></a></span>\n",
       " </div>\n",
       "</div>\n",
       "</div>\n",
       "</div>\n",
       "<p class=\"text-muted\">\n",
       "The lives of Mouna, a weather scientist who falls in love with Yaazhan, a quirky and loving guy. What happens to their relationship after a couple of years and how things take an unexpected turn after the arrival of Malarvizhi?</p>\n",
       "<p class=\"\">\n",
       "    Director:\n",
       "<a href=\"/name/nm1095504/\">Brinda Master</a>\n",
       "<span class=\"ghost\">|</span> \n",
       "    Stars:\n",
       "<a href=\"/name/nm2570245/\">Kajal Aggarwal</a>, \n",
       "<a href=\"/name/nm6489058/\">Yogi Babu</a>, \n",
       "<a href=\"/name/nm2390814/\">Aditi Rao Hydari</a>, \n",
       "<a href=\"/name/nm6662434/\">Nakshatra Nagesh</a>\n",
       "</p>\n",
       "<p class=\"sort-num_votes-visible\">\n",
       "<span class=\"text-muted\">Votes:</span>\n",
       "<span data-value=\"647\" name=\"nv\">647</span>\n",
       "</p>\n",
       "</div>\n",
       "</div>\n",
       "<div class=\"lister-item mode-advanced\">\n",
       "<div class=\"lister-top-right\">\n",
       "<div class=\"ribbonize\" data-caller=\"filmosearch\" data-tconst=\"tt4983780\"></div>\n",
       "</div>\n",
       "<div class=\"lister-item-image float-left\">\n",
       "<a href=\"/title/tt4983780/\"> <img alt=\"Maanaadu\" class=\"loadlate\" data-tconst=\"tt4983780\" height=\"98\" loadlate=\"https://m.media-amazon.com/images/M/MV5BMjFkMTFjYjgtNDhkNS00MGNmLWJkZWMtZWIwNGYyOWE3MTM0XkEyXkFqcGdeQXVyMTE1MjcwOTA4._V1_UY98_CR1,0,67,98_AL_.jpg\" src=\"https://m.media-amazon.com/images/S/sash/4FyxwxECzL-U1J8.png\" width=\"67\"/>\n",
       "</a> </div>\n",
       "<div class=\"lister-item-content\">\n",
       "<h3 class=\"lister-item-header\">\n",
       "<span class=\"lister-item-index unbold text-primary\">5.</span>\n",
       "<a href=\"/title/tt4983780/\">Maanaadu</a>\n",
       "<span class=\"lister-item-year text-muted unbold\">(2021)</span>\n",
       "</h3>\n",
       "<p class=\"text-muted\">\n",
       "<span class=\"certificate\">UA</span>\n",
       "<span class=\"ghost\">|</span>\n",
       "<span class=\"runtime\">147 min</span>\n",
       "<span class=\"ghost\">|</span>\n",
       "<span class=\"genre\">\n",
       "Action, Adventure, Sci-Fi            </span>\n",
       "</p>\n",
       "<div class=\"ratings-bar\">\n",
       "<div class=\"inline-block ratings-imdb-rating\" data-value=\"8.9\" name=\"ir\">\n",
       "<span class=\"global-sprite rating-star imdb-rating\"></span>\n",
       "<strong>8.9</strong>\n",
       "</div>\n",
       "<div class=\"inline-block ratings-user-rating\">\n",
       "<span class=\"userRatingValue\" data-tconst=\"tt4983780\" id=\"urv_tt4983780\">\n",
       "<span class=\"global-sprite rating-star no-rating\"></span>\n",
       "<span class=\"rate\" data-no-rating=\"Rate this\" data-value=\"0\" name=\"ur\">Rate this</span>\n",
       "</span>\n",
       "<div class=\"starBarWidget\" id=\"sb_tt4983780\">\n",
       "<div class=\"rating rating-list\" data-csrf-token=\"\" data-ga-identifier=\"\" data-starbar-class=\"rating-list\" data-user=\"\" id=\"tt4983780|imdb|8.9|8.9|adv_li_tt||advsearch|title\" itemprop=\"aggregateRating\" itemscope=\"\" itemtype=\"http://schema.org/AggregateRating\" title=\"Users rated this 8.9/10 (19,901 votes) - click stars to rate\">\n",
       "<meta content=\"8.9\" itemprop=\"ratingValue\"/>\n",
       "<meta content=\"10\" itemprop=\"bestRating\"/>\n",
       "<meta content=\"19901\" itemprop=\"ratingCount\"/>\n",
       "<span class=\"rating-bg\"> </span>\n",
       "<span class=\"rating-imdb\" style=\"width: 124.6px\"> </span>\n",
       "<span class=\"rating-stars\">\n",
       "<a href=\"/register/login?why=vote\" rel=\"nofollow\" title=\"Register or login to rate this title\"><span>1</span></a>\n",
       "<a href=\"/register/login?why=vote\" rel=\"nofollow\" title=\"Register or login to rate this title\"><span>2</span></a>\n",
       "<a href=\"/register/login?why=vote\" rel=\"nofollow\" title=\"Register or login to rate this title\"><span>3</span></a>\n",
       "<a href=\"/register/login?why=vote\" rel=\"nofollow\" title=\"Register or login to rate this title\"><span>4</span></a>\n",
       "<a href=\"/register/login?why=vote\" rel=\"nofollow\" title=\"Register or login to rate this title\"><span>5</span></a>\n",
       "<a href=\"/register/login?why=vote\" rel=\"nofollow\" title=\"Register or login to rate this title\"><span>6</span></a>\n",
       "<a href=\"/register/login?why=vote\" rel=\"nofollow\" title=\"Register or login to rate this title\"><span>7</span></a>\n",
       "<a href=\"/register/login?why=vote\" rel=\"nofollow\" title=\"Register or login to rate this title\"><span>8</span></a>\n",
       "<a href=\"/register/login?why=vote\" rel=\"nofollow\" title=\"Register or login to rate this title\"><span>9</span></a>\n",
       "<a href=\"/register/login?why=vote\" rel=\"nofollow\" title=\"Register or login to rate this title\"><span>10</span></a>\n",
       "</span>\n",
       "<span class=\"rating-rating\"><span class=\"value\">8.9</span><span class=\"grey\">/</span><span class=\"grey\">10</span></span>\n",
       "<span class=\"rating-cancel\"><a href=\"/title/tt4983780/vote\" rel=\"nofollow\" title=\"Delete\"><span>X</span></a></span>\n",
       " </div>\n",
       "</div>\n",
       "</div>\n",
       "</div>\n",
       "<p class=\"text-muted\">\n",
       "On the day of a public conference by the state's Chief Minister, his bodyguard and a police officer are stuck in a time loop.</p>\n",
       "<p class=\"\">\n",
       "    Director:\n",
       "<a href=\"/name/nm1862815/\">Venkat Prabhu</a>\n",
       "<span class=\"ghost\">|</span> \n",
       "    Stars:\n",
       "<a href=\"/name/nm1167656/\">Silambarasan Rajendar</a>, \n",
       "<a href=\"/name/nm0754184/\">S.J. Suryah</a>, \n",
       "<a href=\"/name/nm9219502/\">Kalyani Priyadarshan</a>, \n",
       "<a href=\"/name/nm0151546/\">S.A. Chandrashekhar</a>\n",
       "</p>\n",
       "<p class=\"sort-num_votes-visible\">\n",
       "<span class=\"text-muted\">Votes:</span>\n",
       "<span data-value=\"19901\" name=\"nv\">19,901</span>\n",
       "</p>\n",
       "</div>\n",
       "</div>\n",
       "<div class=\"lister-item mode-advanced\">\n",
       "<div class=\"lister-top-right\">\n",
       "<div class=\"ribbonize\" data-caller=\"filmosearch\" data-tconst=\"tt10579952\"></div>\n",
       "</div>\n",
       "<div class=\"lister-item-image float-left\">\n",
       "<a href=\"/title/tt10579952/\"> <img alt=\"Master\" class=\"loadlate\" data-tconst=\"tt10579952\" height=\"98\" loadlate=\"https://m.media-amazon.com/images/M/MV5BNmU1OTYzYzAtMDcyOS00MDI0LTg2ZmQtYTEyMDdmMmQ0MjY5XkEyXkFqcGdeQXVyOTk3NTc2MzE@._V1_UY98_CR3,0,67,98_AL_.jpg\" src=\"https://m.media-amazon.com/images/S/sash/4FyxwxECzL-U1J8.png\" width=\"67\"/>\n",
       "</a> </div>\n",
       "<div class=\"lister-item-content\">\n",
       "<h3 class=\"lister-item-header\">\n",
       "<span class=\"lister-item-index unbold text-primary\">6.</span>\n",
       "<a href=\"/title/tt10579952/\">Master</a>\n",
       "<span class=\"lister-item-year text-muted unbold\">(2021)</span>\n",
       "</h3>\n",
       "<p class=\"text-muted\">\n",
       "<span class=\"certificate\">UA</span>\n",
       "<span class=\"ghost\">|</span>\n",
       "<span class=\"runtime\">178 min</span>\n",
       "<span class=\"ghost\">|</span>\n",
       "<span class=\"genre\">\n",
       "Action, Thriller            </span>\n",
       "</p>\n",
       "<div class=\"ratings-bar\">\n",
       "<div class=\"inline-block ratings-imdb-rating\" data-value=\"8\" name=\"ir\">\n",
       "<span class=\"global-sprite rating-star imdb-rating\"></span>\n",
       "<strong>8.0</strong>\n",
       "</div>\n",
       "<div class=\"inline-block ratings-user-rating\">\n",
       "<span class=\"userRatingValue\" data-tconst=\"tt10579952\" id=\"urv_tt10579952\">\n",
       "<span class=\"global-sprite rating-star no-rating\"></span>\n",
       "<span class=\"rate\" data-no-rating=\"Rate this\" data-value=\"0\" name=\"ur\">Rate this</span>\n",
       "</span>\n",
       "<div class=\"starBarWidget\" id=\"sb_tt10579952\">\n",
       "<div class=\"rating rating-list\" data-csrf-token=\"\" data-ga-identifier=\"\" data-starbar-class=\"rating-list\" data-user=\"\" id=\"tt10579952|imdb|8|8|adv_li_tt||advsearch|title\" itemprop=\"aggregateRating\" itemscope=\"\" itemtype=\"http://schema.org/AggregateRating\" title=\"Users rated this 8/10 (68,193 votes) - click stars to rate\">\n",
       "<meta content=\"8\" itemprop=\"ratingValue\"/>\n",
       "<meta content=\"10\" itemprop=\"bestRating\"/>\n",
       "<meta content=\"68193\" itemprop=\"ratingCount\"/>\n",
       "<span class=\"rating-bg\"> </span>\n",
       "<span class=\"rating-imdb\" style=\"width: 112px\"> </span>\n",
       "<span class=\"rating-stars\">\n",
       "<a href=\"/register/login?why=vote\" rel=\"nofollow\" title=\"Register or login to rate this title\"><span>1</span></a>\n",
       "<a href=\"/register/login?why=vote\" rel=\"nofollow\" title=\"Register or login to rate this title\"><span>2</span></a>\n",
       "<a href=\"/register/login?why=vote\" rel=\"nofollow\" title=\"Register or login to rate this title\"><span>3</span></a>\n",
       "<a href=\"/register/login?why=vote\" rel=\"nofollow\" title=\"Register or login to rate this title\"><span>4</span></a>\n",
       "<a href=\"/register/login?why=vote\" rel=\"nofollow\" title=\"Register or login to rate this title\"><span>5</span></a>\n",
       "<a href=\"/register/login?why=vote\" rel=\"nofollow\" title=\"Register or login to rate this title\"><span>6</span></a>\n",
       "<a href=\"/register/login?why=vote\" rel=\"nofollow\" title=\"Register or login to rate this title\"><span>7</span></a>\n",
       "<a href=\"/register/login?why=vote\" rel=\"nofollow\" title=\"Register or login to rate this title\"><span>8</span></a>\n",
       "<a href=\"/register/login?why=vote\" rel=\"nofollow\" title=\"Register or login to rate this title\"><span>9</span></a>\n",
       "<a href=\"/register/login?why=vote\" rel=\"nofollow\" title=\"Register or login to rate this title\"><span>10</span></a>\n",
       "</span>\n",
       "<span class=\"rating-rating\"><span class=\"value\">8</span><span class=\"grey\">/</span><span class=\"grey\">10</span></span>\n",
       "<span class=\"rating-cancel\"><a href=\"/title/tt10579952/vote\" rel=\"nofollow\" title=\"Delete\"><span>X</span></a></span>\n",
       " </div>\n",
       "</div>\n",
       "</div>\n",
       "</div>\n",
       "<p class=\"text-muted\">\n",
       "An alcoholic professor is sent to a juvenile school, where he clashes with a gangster who uses the school children for criminal activities.</p>\n",
       "<p class=\"\">\n",
       "    Director:\n",
       "<a href=\"/name/nm7992231/\">Lokesh Kanagaraj</a>\n",
       "<span class=\"ghost\">|</span> \n",
       "    Stars:\n",
       "<a href=\"/name/nm0897201/\">Thalapathy Vijay</a>, \n",
       "<a href=\"/name/nm4043111/\">Vijay Sethupathi</a>, \n",
       "<a href=\"/name/nm6017002/\">Malavika Mohanan</a>, \n",
       "<a href=\"/name/nm10183124/\">Arjun Das</a>\n",
       "</p>\n",
       "<p class=\"sort-num_votes-visible\">\n",
       "<span class=\"text-muted\">Votes:</span>\n",
       "<span data-value=\"68193\" name=\"nv\">68,193</span>\n",
       "</p>\n",
       "</div>\n",
       "</div>\n",
       "<div class=\"lister-item mode-advanced\">\n",
       "<div class=\"lister-top-right\">\n",
       "<div class=\"ribbonize\" data-caller=\"filmosearch\" data-tconst=\"tt10300570\"></div>\n",
       "</div>\n",
       "<div class=\"lister-item-image float-left\">\n",
       "<a href=\"/title/tt10300570/\"> <img alt=\"Kadaisi Vivasayi\" class=\"loadlate\" data-tconst=\"tt10300570\" height=\"98\" loadlate=\"https://m.media-amazon.com/images/M/MV5BYjRmNmIyYmMtOTBiNi00NDFiLTlhNGYtOGQ5MGFmYTdmYjEwXkEyXkFqcGdeQXVyOTk3NTc2MzE@._V1_UY98_CR55,0,67,98_AL_.jpg\" src=\"https://m.media-amazon.com/images/S/sash/4FyxwxECzL-U1J8.png\" width=\"67\"/>\n",
       "</a> </div>\n",
       "<div class=\"lister-item-content\">\n",
       "<h3 class=\"lister-item-header\">\n",
       "<span class=\"lister-item-index unbold text-primary\">7.</span>\n",
       "<a href=\"/title/tt10300570/\">Kadaisi Vivasayi</a>\n",
       "<span class=\"lister-item-year text-muted unbold\">(2021)</span>\n",
       "</h3>\n",
       "<p class=\"text-muted\">\n",
       "<span class=\"certificate\">U</span>\n",
       "<span class=\"ghost\">|</span>\n",
       "<span class=\"runtime\">122 min</span>\n",
       "<span class=\"ghost\">|</span>\n",
       "<span class=\"genre\">\n",
       "Comedy, Drama            </span>\n",
       "</p>\n",
       "<div class=\"ratings-bar\">\n",
       "<div class=\"inline-block ratings-imdb-rating\" data-value=\"8.8\" name=\"ir\">\n",
       "<span class=\"global-sprite rating-star imdb-rating\"></span>\n",
       "<strong>8.8</strong>\n",
       "</div>\n",
       "<div class=\"inline-block ratings-user-rating\">\n",
       "<span class=\"userRatingValue\" data-tconst=\"tt10300570\" id=\"urv_tt10300570\">\n",
       "<span class=\"global-sprite rating-star no-rating\"></span>\n",
       "<span class=\"rate\" data-no-rating=\"Rate this\" data-value=\"0\" name=\"ur\">Rate this</span>\n",
       "</span>\n",
       "<div class=\"starBarWidget\" id=\"sb_tt10300570\">\n",
       "<div class=\"rating rating-list\" data-csrf-token=\"\" data-ga-identifier=\"\" data-starbar-class=\"rating-list\" data-user=\"\" id=\"tt10300570|imdb|8.8|8.8|adv_li_tt||advsearch|title\" itemprop=\"aggregateRating\" itemscope=\"\" itemtype=\"http://schema.org/AggregateRating\" title=\"Users rated this 8.8/10 (1,175 votes) - click stars to rate\">\n",
       "<meta content=\"8.8\" itemprop=\"ratingValue\"/>\n",
       "<meta content=\"10\" itemprop=\"bestRating\"/>\n",
       "<meta content=\"1175\" itemprop=\"ratingCount\"/>\n",
       "<span class=\"rating-bg\"> </span>\n",
       "<span class=\"rating-imdb\" style=\"width: 123.2px\"> </span>\n",
       "<span class=\"rating-stars\">\n",
       "<a href=\"/register/login?why=vote\" rel=\"nofollow\" title=\"Register or login to rate this title\"><span>1</span></a>\n",
       "<a href=\"/register/login?why=vote\" rel=\"nofollow\" title=\"Register or login to rate this title\"><span>2</span></a>\n",
       "<a href=\"/register/login?why=vote\" rel=\"nofollow\" title=\"Register or login to rate this title\"><span>3</span></a>\n",
       "<a href=\"/register/login?why=vote\" rel=\"nofollow\" title=\"Register or login to rate this title\"><span>4</span></a>\n",
       "<a href=\"/register/login?why=vote\" rel=\"nofollow\" title=\"Register or login to rate this title\"><span>5</span></a>\n",
       "<a href=\"/register/login?why=vote\" rel=\"nofollow\" title=\"Register or login to rate this title\"><span>6</span></a>\n",
       "<a href=\"/register/login?why=vote\" rel=\"nofollow\" title=\"Register or login to rate this title\"><span>7</span></a>\n",
       "<a href=\"/register/login?why=vote\" rel=\"nofollow\" title=\"Register or login to rate this title\"><span>8</span></a>\n",
       "<a href=\"/register/login?why=vote\" rel=\"nofollow\" title=\"Register or login to rate this title\"><span>9</span></a>\n",
       "<a href=\"/register/login?why=vote\" rel=\"nofollow\" title=\"Register or login to rate this title\"><span>10</span></a>\n",
       "</span>\n",
       "<span class=\"rating-rating\"><span class=\"value\">8.8</span><span class=\"grey\">/</span><span class=\"grey\">10</span></span>\n",
       "<span class=\"rating-cancel\"><a href=\"/title/tt10300570/vote\" rel=\"nofollow\" title=\"Delete\"><span>X</span></a></span>\n",
       " </div>\n",
       "</div>\n",
       "</div>\n",
       "</div>\n",
       "<p class=\"text-muted\">\n",
       "The last active farmer in a remote village tries to hold out against a property developer.</p>\n",
       "<p class=\"\">\n",
       "    Director:\n",
       "<a href=\"/name/nm4359637/\">M. Manikandan</a>\n",
       "<span class=\"ghost\">|</span> \n",
       "    Stars:\n",
       "<a href=\"/name/nm13418916/\">Nallandi</a>, \n",
       "<a href=\"/name/nm4043111/\">Vijay Sethupathi</a>, \n",
       "<a href=\"/name/nm6489058/\">Yogi Babu</a>, \n",
       "<a href=\"/name/nm3046678/\">Ravi Prakash</a>\n",
       "</p>\n",
       "<p class=\"sort-num_votes-visible\">\n",
       "<span class=\"text-muted\">Votes:</span>\n",
       "<span data-value=\"1175\" name=\"nv\">1,175</span>\n",
       "</p>\n",
       "</div>\n",
       "</div>\n",
       "<div class=\"lister-item mode-advanced\">\n",
       "<div class=\"lister-top-right\">\n",
       "<div class=\"ribbonize\" data-caller=\"filmosearch\" data-tconst=\"tt14452368\"></div>\n",
       "</div>\n",
       "<div class=\"lister-item-image float-left\">\n",
       "<a href=\"/title/tt14452368/\"> <img alt=\"Writer\" class=\"loadlate\" data-tconst=\"tt14452368\" height=\"98\" loadlate=\"https://m.media-amazon.com/images/M/MV5BYzZlYzlmYTEtODFlNi00OGExLWExZmUtY2MxYWI5NzczYzZhXkEyXkFqcGdeQXVyODEyNjEwMDk@._V1_UX67_CR0,0,67,98_AL_.jpg\" src=\"https://m.media-amazon.com/images/S/sash/4FyxwxECzL-U1J8.png\" width=\"67\"/>\n",
       "</a> </div>\n",
       "<div class=\"lister-item-content\">\n",
       "<h3 class=\"lister-item-header\">\n",
       "<span class=\"lister-item-index unbold text-primary\">8.</span>\n",
       "<a href=\"/title/tt14452368/\">Writer</a>\n",
       "<span class=\"lister-item-year text-muted unbold\">(2021)</span>\n",
       "</h3>\n",
       "<p class=\"text-muted\">\n",
       "<span class=\"certificate\">UA</span>\n",
       "<span class=\"ghost\">|</span>\n",
       "<span class=\"runtime\">150 min</span>\n",
       "<span class=\"ghost\">|</span>\n",
       "<span class=\"genre\">\n",
       "Drama            </span>\n",
       "</p>\n",
       "<div class=\"ratings-bar\">\n",
       "<div class=\"inline-block ratings-imdb-rating\" data-value=\"8.1\" name=\"ir\">\n",
       "<span class=\"global-sprite rating-star imdb-rating\"></span>\n",
       "<strong>8.1</strong>\n",
       "</div>\n",
       "<div class=\"inline-block ratings-user-rating\">\n",
       "<span class=\"userRatingValue\" data-tconst=\"tt14452368\" id=\"urv_tt14452368\">\n",
       "<span class=\"global-sprite rating-star no-rating\"></span>\n",
       "<span class=\"rate\" data-no-rating=\"Rate this\" data-value=\"0\" name=\"ur\">Rate this</span>\n",
       "</span>\n",
       "<div class=\"starBarWidget\" id=\"sb_tt14452368\">\n",
       "<div class=\"rating rating-list\" data-csrf-token=\"\" data-ga-identifier=\"\" data-starbar-class=\"rating-list\" data-user=\"\" id=\"tt14452368|imdb|8.1|8.1|adv_li_tt||advsearch|title\" itemprop=\"aggregateRating\" itemscope=\"\" itemtype=\"http://schema.org/AggregateRating\" title=\"Users rated this 8.1/10 (770 votes) - click stars to rate\">\n",
       "<meta content=\"8.1\" itemprop=\"ratingValue\"/>\n",
       "<meta content=\"10\" itemprop=\"bestRating\"/>\n",
       "<meta content=\"770\" itemprop=\"ratingCount\"/>\n",
       "<span class=\"rating-bg\"> </span>\n",
       "<span class=\"rating-imdb\" style=\"width: 113.4px\"> </span>\n",
       "<span class=\"rating-stars\">\n",
       "<a href=\"/register/login?why=vote\" rel=\"nofollow\" title=\"Register or login to rate this title\"><span>1</span></a>\n",
       "<a href=\"/register/login?why=vote\" rel=\"nofollow\" title=\"Register or login to rate this title\"><span>2</span></a>\n",
       "<a href=\"/register/login?why=vote\" rel=\"nofollow\" title=\"Register or login to rate this title\"><span>3</span></a>\n",
       "<a href=\"/register/login?why=vote\" rel=\"nofollow\" title=\"Register or login to rate this title\"><span>4</span></a>\n",
       "<a href=\"/register/login?why=vote\" rel=\"nofollow\" title=\"Register or login to rate this title\"><span>5</span></a>\n",
       "<a href=\"/register/login?why=vote\" rel=\"nofollow\" title=\"Register or login to rate this title\"><span>6</span></a>\n",
       "<a href=\"/register/login?why=vote\" rel=\"nofollow\" title=\"Register or login to rate this title\"><span>7</span></a>\n",
       "<a href=\"/register/login?why=vote\" rel=\"nofollow\" title=\"Register or login to rate this title\"><span>8</span></a>\n",
       "<a href=\"/register/login?why=vote\" rel=\"nofollow\" title=\"Register or login to rate this title\"><span>9</span></a>\n",
       "<a href=\"/register/login?why=vote\" rel=\"nofollow\" title=\"Register or login to rate this title\"><span>10</span></a>\n",
       "</span>\n",
       "<span class=\"rating-rating\"><span class=\"value\">8.1</span><span class=\"grey\">/</span><span class=\"grey\">10</span></span>\n",
       "<span class=\"rating-cancel\"><a href=\"/title/tt14452368/vote\" rel=\"nofollow\" title=\"Delete\"><span>X</span></a></span>\n",
       " </div>\n",
       "</div>\n",
       "</div>\n",
       "</div>\n",
       "<p class=\"text-muted\">\n",
       "A writer at a police station gets trapped in an illegal custody case involving an innocent PHD student. With his guilt and regret looming large, can he save the young man?</p>\n",
       "<p class=\"\">\n",
       "    Director:\n",
       "<a href=\"/name/nm12486934/\">Franklin Jacob</a>\n",
       "<span class=\"ghost\">|</span> \n",
       "    Stars:\n",
       "<a href=\"/name/nm9412794/\">Dilipan</a>, \n",
       "<a href=\"/name/nm4710376/\">Iniya</a>, \n",
       "<a href=\"/name/nm2284321/\">Samuthirakani</a>\n",
       "</p>\n",
       "<p class=\"sort-num_votes-visible\">\n",
       "<span class=\"text-muted\">Votes:</span>\n",
       "<span data-value=\"770\" name=\"nv\">770</span>\n",
       "</p>\n",
       "</div>\n",
       "</div>\n",
       "<div class=\"lister-item mode-advanced\">\n",
       "<div class=\"lister-top-right\">\n",
       "<div class=\"ribbonize\" data-caller=\"filmosearch\" data-tconst=\"tt7019842\"></div>\n",
       "</div>\n",
       "<div class=\"lister-item-image float-left\">\n",
       "<a href=\"/title/tt7019842/\"> <img alt=\"96\" class=\"loadlate\" data-tconst=\"tt7019842\" height=\"98\" loadlate=\"https://m.media-amazon.com/images/M/MV5BZTM1MGM3NjgtZjE4Mi00ZTNlLWI3ODAtNTViZjFmMDc3MjlhXkEyXkFqcGdeQXVyOTA3MTM0MTM@._V1_UY98_CR2,0,67,98_AL_.jpg\" src=\"https://m.media-amazon.com/images/S/sash/4FyxwxECzL-U1J8.png\" width=\"67\"/>\n",
       "</a> </div>\n",
       "<div class=\"lister-item-content\">\n",
       "<h3 class=\"lister-item-header\">\n",
       "<span class=\"lister-item-index unbold text-primary\">9.</span>\n",
       "<a href=\"/title/tt7019842/\">96</a>\n",
       "<span class=\"lister-item-year text-muted unbold\">(II) (2018)</span>\n",
       "</h3>\n",
       "<p class=\"text-muted\">\n",
       "<span class=\"certificate\">U</span>\n",
       "<span class=\"ghost\">|</span>\n",
       "<span class=\"runtime\">158 min</span>\n",
       "<span class=\"ghost\">|</span>\n",
       "<span class=\"genre\">\n",
       "Drama, Romance            </span>\n",
       "</p>\n",
       "<div class=\"ratings-bar\">\n",
       "<div class=\"inline-block ratings-imdb-rating\" data-value=\"8.6\" name=\"ir\">\n",
       "<span class=\"global-sprite rating-star imdb-rating\"></span>\n",
       "<strong>8.6</strong>\n",
       "</div>\n",
       "<div class=\"inline-block ratings-user-rating\">\n",
       "<span class=\"userRatingValue\" data-tconst=\"tt7019842\" id=\"urv_tt7019842\">\n",
       "<span class=\"global-sprite rating-star no-rating\"></span>\n",
       "<span class=\"rate\" data-no-rating=\"Rate this\" data-value=\"0\" name=\"ur\">Rate this</span>\n",
       "</span>\n",
       "<div class=\"starBarWidget\" id=\"sb_tt7019842\">\n",
       "<div class=\"rating rating-list\" data-csrf-token=\"\" data-ga-identifier=\"\" data-starbar-class=\"rating-list\" data-user=\"\" id=\"tt7019842|imdb|8.6|8.6|adv_li_tt||advsearch|title\" itemprop=\"aggregateRating\" itemscope=\"\" itemtype=\"http://schema.org/AggregateRating\" title=\"Users rated this 8.6/10 (27,861 votes) - click stars to rate\">\n",
       "<meta content=\"8.6\" itemprop=\"ratingValue\"/>\n",
       "<meta content=\"10\" itemprop=\"bestRating\"/>\n",
       "<meta content=\"27861\" itemprop=\"ratingCount\"/>\n",
       "<span class=\"rating-bg\"> </span>\n",
       "<span class=\"rating-imdb\" style=\"width: 120.4px\"> </span>\n",
       "<span class=\"rating-stars\">\n",
       "<a href=\"/register/login?why=vote\" rel=\"nofollow\" title=\"Register or login to rate this title\"><span>1</span></a>\n",
       "<a href=\"/register/login?why=vote\" rel=\"nofollow\" title=\"Register or login to rate this title\"><span>2</span></a>\n",
       "<a href=\"/register/login?why=vote\" rel=\"nofollow\" title=\"Register or login to rate this title\"><span>3</span></a>\n",
       "<a href=\"/register/login?why=vote\" rel=\"nofollow\" title=\"Register or login to rate this title\"><span>4</span></a>\n",
       "<a href=\"/register/login?why=vote\" rel=\"nofollow\" title=\"Register or login to rate this title\"><span>5</span></a>\n",
       "<a href=\"/register/login?why=vote\" rel=\"nofollow\" title=\"Register or login to rate this title\"><span>6</span></a>\n",
       "<a href=\"/register/login?why=vote\" rel=\"nofollow\" title=\"Register or login to rate this title\"><span>7</span></a>\n",
       "<a href=\"/register/login?why=vote\" rel=\"nofollow\" title=\"Register or login to rate this title\"><span>8</span></a>\n",
       "<a href=\"/register/login?why=vote\" rel=\"nofollow\" title=\"Register or login to rate this title\"><span>9</span></a>\n",
       "<a href=\"/register/login?why=vote\" rel=\"nofollow\" title=\"Register or login to rate this title\"><span>10</span></a>\n",
       "</span>\n",
       "<span class=\"rating-rating\"><span class=\"value\">8.6</span><span class=\"grey\">/</span><span class=\"grey\">10</span></span>\n",
       "<span class=\"rating-cancel\"><a href=\"/title/tt7019842/vote\" rel=\"nofollow\" title=\"Delete\"><span>X</span></a></span>\n",
       " </div>\n",
       "</div>\n",
       "</div>\n",
       "</div>\n",
       "<p class=\"text-muted\">\n",
       "Two high school sweethearts meet at a reunion after 22 years and reminisce about their past.</p>\n",
       "<p class=\"\">\n",
       "    Director:\n",
       "<a href=\"/name/nm4242320/\">C. Prem Kumar</a>\n",
       "<span class=\"ghost\">|</span> \n",
       "    Stars:\n",
       "<a href=\"/name/nm4043111/\">Vijay Sethupathi</a>, \n",
       "<a href=\"/name/nm10174308/\">Adithya Bhaskar</a>, \n",
       "<a href=\"/name/nm1375534/\">Trisha Krishnan</a>, \n",
       "<a href=\"/name/nm10174309/\">Gouri Kishan</a>\n",
       "</p>\n",
       "<p class=\"sort-num_votes-visible\">\n",
       "<span class=\"text-muted\">Votes:</span>\n",
       "<span data-value=\"27861\" name=\"nv\">27,861</span>\n",
       "</p>\n",
       "</div>\n",
       "</div>\n",
       "<div class=\"lister-item mode-advanced\">\n",
       "<div class=\"lister-top-right\">\n",
       "<div class=\"ribbonize\" data-caller=\"filmosearch\" data-tconst=\"tt10189514\"></div>\n",
       "</div>\n",
       "<div class=\"lister-item-image float-left\">\n",
       "<a href=\"/title/tt10189514/\"> <img alt=\"Soorarai Pottru\" class=\"loadlate\" data-tconst=\"tt10189514\" height=\"98\" loadlate=\"https://m.media-amazon.com/images/M/MV5BOGVjYmM0ZWEtNTFjNi00MWZjLTk3OTItMmFjMDAzZWU1ZDVjXkEyXkFqcGdeQXVyMTI2Mzk1ODg0._V1_UX67_CR0,0,67,98_AL_.jpg\" src=\"https://m.media-amazon.com/images/S/sash/4FyxwxECzL-U1J8.png\" width=\"67\"/>\n",
       "</a> </div>\n",
       "<div class=\"lister-item-content\">\n",
       "<h3 class=\"lister-item-header\">\n",
       "<span class=\"lister-item-index unbold text-primary\">10.</span>\n",
       "<a href=\"/title/tt10189514/\">Soorarai Pottru</a>\n",
       "<span class=\"lister-item-year text-muted unbold\">(2020)</span>\n",
       "</h3>\n",
       "<p class=\"text-muted\">\n",
       "<span class=\"certificate\">U</span>\n",
       "<span class=\"ghost\">|</span>\n",
       "<span class=\"runtime\">153 min</span>\n",
       "<span class=\"ghost\">|</span>\n",
       "<span class=\"genre\">\n",
       "Drama            </span>\n",
       "</p>\n",
       "<div class=\"ratings-bar\">\n",
       "<div class=\"inline-block ratings-imdb-rating\" data-value=\"9.3\" name=\"ir\">\n",
       "<span class=\"global-sprite rating-star imdb-rating\"></span>\n",
       "<strong>9.3</strong>\n",
       "</div>\n",
       "<div class=\"inline-block ratings-user-rating\">\n",
       "<span class=\"userRatingValue\" data-tconst=\"tt10189514\" id=\"urv_tt10189514\">\n",
       "<span class=\"global-sprite rating-star no-rating\"></span>\n",
       "<span class=\"rate\" data-no-rating=\"Rate this\" data-value=\"0\" name=\"ur\">Rate this</span>\n",
       "</span>\n",
       "<div class=\"starBarWidget\" id=\"sb_tt10189514\">\n",
       "<div class=\"rating rating-list\" data-csrf-token=\"\" data-ga-identifier=\"\" data-starbar-class=\"rating-list\" data-user=\"\" id=\"tt10189514|imdb|9.3|9.3|adv_li_tt||advsearch|title\" itemprop=\"aggregateRating\" itemscope=\"\" itemtype=\"http://schema.org/AggregateRating\" title=\"Users rated this 9.3/10 (107,979 votes) - click stars to rate\">\n",
       "<meta content=\"9.3\" itemprop=\"ratingValue\"/>\n",
       "<meta content=\"10\" itemprop=\"bestRating\"/>\n",
       "<meta content=\"107979\" itemprop=\"ratingCount\"/>\n",
       "<span class=\"rating-bg\"> </span>\n",
       "<span class=\"rating-imdb\" style=\"width: 130.2px\"> </span>\n",
       "<span class=\"rating-stars\">\n",
       "<a href=\"/register/login?why=vote\" rel=\"nofollow\" title=\"Register or login to rate this title\"><span>1</span></a>\n",
       "<a href=\"/register/login?why=vote\" rel=\"nofollow\" title=\"Register or login to rate this title\"><span>2</span></a>\n",
       "<a href=\"/register/login?why=vote\" rel=\"nofollow\" title=\"Register or login to rate this title\"><span>3</span></a>\n",
       "<a href=\"/register/login?why=vote\" rel=\"nofollow\" title=\"Register or login to rate this title\"><span>4</span></a>\n",
       "<a href=\"/register/login?why=vote\" rel=\"nofollow\" title=\"Register or login to rate this title\"><span>5</span></a>\n",
       "<a href=\"/register/login?why=vote\" rel=\"nofollow\" title=\"Register or login to rate this title\"><span>6</span></a>\n",
       "<a href=\"/register/login?why=vote\" rel=\"nofollow\" title=\"Register or login to rate this title\"><span>7</span></a>\n",
       "<a href=\"/register/login?why=vote\" rel=\"nofollow\" title=\"Register or login to rate this title\"><span>8</span></a>\n",
       "<a href=\"/register/login?why=vote\" rel=\"nofollow\" title=\"Register or login to rate this title\"><span>9</span></a>\n",
       "<a href=\"/register/login?why=vote\" rel=\"nofollow\" title=\"Register or login to rate this title\"><span>10</span></a>\n",
       "</span>\n",
       "<span class=\"rating-rating\"><span class=\"value\">9.3</span><span class=\"grey\">/</span><span class=\"grey\">10</span></span>\n",
       "<span class=\"rating-cancel\"><a href=\"/title/tt10189514/vote\" rel=\"nofollow\" title=\"Delete\"><span>X</span></a></span>\n",
       " </div>\n",
       "</div>\n",
       "</div>\n",
       "</div>\n",
       "<p class=\"text-muted\">\n",
       "Nedumaaran Rajangam \"Maara\" sets out to make the common man fly and in the process takes on the world's most capital intensive industry and several enemies who stand in his way.</p>\n",
       "<p class=\"\">\n",
       "    Director:\n",
       "<a href=\"/name/nm1464314/\">Sudha Kongara</a>\n",
       "<span class=\"ghost\">|</span> \n",
       "    Stars:\n",
       "<a href=\"/name/nm1421814/\">Suriya</a>, \n",
       "<a href=\"/name/nm0712546/\">Paresh Rawal</a>, \n",
       "<a href=\"/name/nm11804870/\">Malini Sathappan</a>, \n",
       "<a href=\"/name/nm7936195/\">Aparna Balamurali</a>\n",
       "</p>\n",
       "<p class=\"sort-num_votes-visible\">\n",
       "<span class=\"text-muted\">Votes:</span>\n",
       "<span data-value=\"107979\" name=\"nv\">107,979</span>\n",
       "</p>\n",
       "</div>\n",
       "</div>\n",
       "<div class=\"lister-item mode-advanced\">\n",
       "<div class=\"lister-top-right\">\n",
       "<div class=\"ribbonize\" data-caller=\"filmosearch\" data-tconst=\"tt15561224\"></div>\n",
       "</div>\n",
       "<div class=\"lister-item-image float-left\">\n",
       "<a href=\"/title/tt15561224/\"> <img alt=\"Sila Nerangalil Sila Manidhargal\" class=\"loadlate\" data-tconst=\"tt15561224\" height=\"98\" loadlate=\"https://m.media-amazon.com/images/M/MV5BYjExM2QyZTEtNmRhMS00NDYwLTg4ODktMmJmOWYxYzRlYTJkXkEyXkFqcGdeQXVyMTQ5NDA3ODEx._V1_UY98_CR2,0,67,98_AL_.jpg\" src=\"https://m.media-amazon.com/images/S/sash/4FyxwxECzL-U1J8.png\" width=\"67\"/>\n",
       "</a> </div>\n",
       "<div class=\"lister-item-content\">\n",
       "<h3 class=\"lister-item-header\">\n",
       "<span class=\"lister-item-index unbold text-primary\">11.</span>\n",
       "<a href=\"/title/tt15561224/\">Sila Nerangalil Sila Manidhargal</a>\n",
       "<span class=\"lister-item-year text-muted unbold\">(2022)</span>\n",
       "</h3>\n",
       "<p class=\"text-muted\">\n",
       "<span class=\"certificate\">U</span>\n",
       "<span class=\"ghost\">|</span>\n",
       "<span class=\"runtime\">139 min</span>\n",
       "<span class=\"ghost\">|</span>\n",
       "<span class=\"genre\">\n",
       "Drama            </span>\n",
       "</p>\n",
       "<div class=\"ratings-bar\">\n",
       "<div class=\"inline-block ratings-imdb-rating\" data-value=\"8.1\" name=\"ir\">\n",
       "<span class=\"global-sprite rating-star imdb-rating\"></span>\n",
       "<strong>8.1</strong>\n",
       "</div>\n",
       "<div class=\"inline-block ratings-user-rating\">\n",
       "<span class=\"userRatingValue\" data-tconst=\"tt15561224\" id=\"urv_tt15561224\">\n",
       "<span class=\"global-sprite rating-star no-rating\"></span>\n",
       "<span class=\"rate\" data-no-rating=\"Rate this\" data-value=\"0\" name=\"ur\">Rate this</span>\n",
       "</span>\n",
       "<div class=\"starBarWidget\" id=\"sb_tt15561224\">\n",
       "<div class=\"rating rating-list\" data-csrf-token=\"\" data-ga-identifier=\"\" data-starbar-class=\"rating-list\" data-user=\"\" id=\"tt15561224|imdb|8.1|8.1|adv_li_tt||advsearch|title\" itemprop=\"aggregateRating\" itemscope=\"\" itemtype=\"http://schema.org/AggregateRating\" title=\"Users rated this 8.1/10 (352 votes) - click stars to rate\">\n",
       "<meta content=\"8.1\" itemprop=\"ratingValue\"/>\n",
       "<meta content=\"10\" itemprop=\"bestRating\"/>\n",
       "<meta content=\"352\" itemprop=\"ratingCount\"/>\n",
       "<span class=\"rating-bg\"> </span>\n",
       "<span class=\"rating-imdb\" style=\"width: 113.4px\"> </span>\n",
       "<span class=\"rating-stars\">\n",
       "<a href=\"/register/login?why=vote\" rel=\"nofollow\" title=\"Register or login to rate this title\"><span>1</span></a>\n",
       "<a href=\"/register/login?why=vote\" rel=\"nofollow\" title=\"Register or login to rate this title\"><span>2</span></a>\n",
       "<a href=\"/register/login?why=vote\" rel=\"nofollow\" title=\"Register or login to rate this title\"><span>3</span></a>\n",
       "<a href=\"/register/login?why=vote\" rel=\"nofollow\" title=\"Register or login to rate this title\"><span>4</span></a>\n",
       "<a href=\"/register/login?why=vote\" rel=\"nofollow\" title=\"Register or login to rate this title\"><span>5</span></a>\n",
       "<a href=\"/register/login?why=vote\" rel=\"nofollow\" title=\"Register or login to rate this title\"><span>6</span></a>\n",
       "<a href=\"/register/login?why=vote\" rel=\"nofollow\" title=\"Register or login to rate this title\"><span>7</span></a>\n",
       "<a href=\"/register/login?why=vote\" rel=\"nofollow\" title=\"Register or login to rate this title\"><span>8</span></a>\n",
       "<a href=\"/register/login?why=vote\" rel=\"nofollow\" title=\"Register or login to rate this title\"><span>9</span></a>\n",
       "<a href=\"/register/login?why=vote\" rel=\"nofollow\" title=\"Register or login to rate this title\"><span>10</span></a>\n",
       "</span>\n",
       "<span class=\"rating-rating\"><span class=\"value\">8.1</span><span class=\"grey\">/</span><span class=\"grey\">10</span></span>\n",
       "<span class=\"rating-cancel\"><a href=\"/title/tt15561224/vote\" rel=\"nofollow\" title=\"Delete\"><span>X</span></a></span>\n",
       " </div>\n",
       "</div>\n",
       "</div>\n",
       "</div>\n",
       "<p class=\"text-muted\">\n",
       "The lives of four people from different walks of life is affected by a disastrous road accident. The regret, remorse and realisation these characters undergo makes the crux of the film.</p>\n",
       "<p class=\"\">\n",
       "    Director:\n",
       "<a href=\"/name/nm13002431/\">Vishal Venkat</a>\n",
       "<span class=\"ghost\">|</span> \n",
       "    Stars:\n",
       "<a href=\"/name/nm5654463/\">Ashok Selvan</a>, \n",
       "<a href=\"/name/nm0080228/\">Bhanupriya</a>, \n",
       "<a href=\"/name/nm10446100/\">Abi Hassan</a>, \n",
       "<a href=\"/name/nm8904193/\">Manikandan K.</a>\n",
       "</p>\n",
       "<p class=\"sort-num_votes-visible\">\n",
       "<span class=\"text-muted\">Votes:</span>\n",
       "<span data-value=\"352\" name=\"nv\">352</span>\n",
       "</p>\n",
       "</div>\n",
       "</div>\n",
       "<div class=\"lister-item mode-advanced\">\n",
       "<div class=\"lister-top-right\">\n",
       "<div class=\"ribbonize\" data-caller=\"filmosearch\" data-tconst=\"tt7060344\"></div>\n",
       "</div>\n",
       "<div class=\"lister-item-image float-left\">\n",
       "<a href=\"/title/tt7060344/\"> <img alt=\"Ratsasan\" class=\"loadlate\" data-tconst=\"tt7060344\" height=\"98\" loadlate=\"https://m.media-amazon.com/images/M/MV5BMjU2NzIzMjYtMGE2ZS00YzgzLWE5MzgtZTFiYTlmOWNlYmJkXkEyXkFqcGdeQXVyODIwMDI1NjM@._V1_UY98_CR2,0,67,98_AL_.jpg\" src=\"https://m.media-amazon.com/images/S/sash/4FyxwxECzL-U1J8.png\" width=\"67\"/>\n",
       "</a> </div>\n",
       "<div class=\"lister-item-content\">\n",
       "<h3 class=\"lister-item-header\">\n",
       "<span class=\"lister-item-index unbold text-primary\">12.</span>\n",
       "<a href=\"/title/tt7060344/\">Ratsasan</a>\n",
       "<span class=\"lister-item-year text-muted unbold\">(2018)</span>\n",
       "</h3>\n",
       "<p class=\"text-muted\">\n",
       "<span class=\"certificate\">UA</span>\n",
       "<span class=\"ghost\">|</span>\n",
       "<span class=\"runtime\">170 min</span>\n",
       "<span class=\"ghost\">|</span>\n",
       "<span class=\"genre\">\n",
       "Crime, Drama, Mystery            </span>\n",
       "</p>\n",
       "<div class=\"ratings-bar\">\n",
       "<div class=\"inline-block ratings-imdb-rating\" data-value=\"8.5\" name=\"ir\">\n",
       "<span class=\"global-sprite rating-star imdb-rating\"></span>\n",
       "<strong>8.5</strong>\n",
       "</div>\n",
       "<div class=\"inline-block ratings-user-rating\">\n",
       "<span class=\"userRatingValue\" data-tconst=\"tt7060344\" id=\"urv_tt7060344\">\n",
       "<span class=\"global-sprite rating-star no-rating\"></span>\n",
       "<span class=\"rate\" data-no-rating=\"Rate this\" data-value=\"0\" name=\"ur\">Rate this</span>\n",
       "</span>\n",
       "<div class=\"starBarWidget\" id=\"sb_tt7060344\">\n",
       "<div class=\"rating rating-list\" data-csrf-token=\"\" data-ga-identifier=\"\" data-starbar-class=\"rating-list\" data-user=\"\" id=\"tt7060344|imdb|8.5|8.5|adv_li_tt||advsearch|title\" itemprop=\"aggregateRating\" itemscope=\"\" itemtype=\"http://schema.org/AggregateRating\" title=\"Users rated this 8.5/10 (38,226 votes) - click stars to rate\">\n",
       "<meta content=\"8.5\" itemprop=\"ratingValue\"/>\n",
       "<meta content=\"10\" itemprop=\"bestRating\"/>\n",
       "<meta content=\"38226\" itemprop=\"ratingCount\"/>\n",
       "<span class=\"rating-bg\"> </span>\n",
       "<span class=\"rating-imdb\" style=\"width: 119px\"> </span>\n",
       "<span class=\"rating-stars\">\n",
       "<a href=\"/register/login?why=vote\" rel=\"nofollow\" title=\"Register or login to rate this title\"><span>1</span></a>\n",
       "<a href=\"/register/login?why=vote\" rel=\"nofollow\" title=\"Register or login to rate this title\"><span>2</span></a>\n",
       "<a href=\"/register/login?why=vote\" rel=\"nofollow\" title=\"Register or login to rate this title\"><span>3</span></a>\n",
       "<a href=\"/register/login?why=vote\" rel=\"nofollow\" title=\"Register or login to rate this title\"><span>4</span></a>\n",
       "<a href=\"/register/login?why=vote\" rel=\"nofollow\" title=\"Register or login to rate this title\"><span>5</span></a>\n",
       "<a href=\"/register/login?why=vote\" rel=\"nofollow\" title=\"Register or login to rate this title\"><span>6</span></a>\n",
       "<a href=\"/register/login?why=vote\" rel=\"nofollow\" title=\"Register or login to rate this title\"><span>7</span></a>\n",
       "<a href=\"/register/login?why=vote\" rel=\"nofollow\" title=\"Register or login to rate this title\"><span>8</span></a>\n",
       "<a href=\"/register/login?why=vote\" rel=\"nofollow\" title=\"Register or login to rate this title\"><span>9</span></a>\n",
       "<a href=\"/register/login?why=vote\" rel=\"nofollow\" title=\"Register or login to rate this title\"><span>10</span></a>\n",
       "</span>\n",
       "<span class=\"rating-rating\"><span class=\"value\">8.5</span><span class=\"grey\">/</span><span class=\"grey\">10</span></span>\n",
       "<span class=\"rating-cancel\"><a href=\"/title/tt7060344/vote\" rel=\"nofollow\" title=\"Delete\"><span>X</span></a></span>\n",
       " </div>\n",
       "</div>\n",
       "</div>\n",
       "</div>\n",
       "<p class=\"text-muted\">\n",
       "A sub-inspector sets out in pursuit of a mysterious serial killer who targets teen school girls and murders them brutally.</p>\n",
       "<p class=\"\">\n",
       "    Director:\n",
       "<a href=\"/name/nm6442107/\">Ram Kumar</a>\n",
       "<span class=\"ghost\">|</span> \n",
       "    Stars:\n",
       "<a href=\"/name/nm3684167/\">Vishnu Vishal</a>, \n",
       "<a href=\"/name/nm3898762/\">Amala Paul</a>, \n",
       "<a href=\"/name/nm1099597/\">Radha Ravi</a>, \n",
       "<a href=\"/name/nm3905156/\">Sangili Murugan</a>\n",
       "</p>\n",
       "<p class=\"sort-num_votes-visible\">\n",
       "<span class=\"text-muted\">Votes:</span>\n",
       "<span data-value=\"38226\" name=\"nv\">38,226</span>\n",
       "</p>\n",
       "</div>\n",
       "</div>\n",
       "<div class=\"lister-item mode-advanced\">\n",
       "<div class=\"lister-top-right\">\n",
       "<div class=\"ribbonize\" data-caller=\"filmosearch\" data-tconst=\"tt6148156\"></div>\n",
       "</div>\n",
       "<div class=\"lister-item-image float-left\">\n",
       "<a href=\"/title/tt6148156/\"> <img alt=\"Vikram Vedha\" class=\"loadlate\" data-tconst=\"tt6148156\" height=\"98\" loadlate=\"https://m.media-amazon.com/images/M/MV5BY2FiMTFmMzMtZDI2ZC00NDQyLWExYTUtOWNmZWM1ZDg5YjVjXkEyXkFqcGdeQXVyODIwMDI1NjM@._V1_UX67_CR0,0,67,98_AL_.jpg\" src=\"https://m.media-amazon.com/images/S/sash/4FyxwxECzL-U1J8.png\" width=\"67\"/>\n",
       "</a> </div>\n",
       "<div class=\"lister-item-content\">\n",
       "<h3 class=\"lister-item-header\">\n",
       "<span class=\"lister-item-index unbold text-primary\">13.</span>\n",
       "<a href=\"/title/tt6148156/\">Vikram Vedha</a>\n",
       "<span class=\"lister-item-year text-muted unbold\">(2017)</span>\n",
       "</h3>\n",
       "<p class=\"text-muted\">\n",
       "<span class=\"certificate\">UA</span>\n",
       "<span class=\"ghost\">|</span>\n",
       "<span class=\"runtime\">147 min</span>\n",
       "<span class=\"ghost\">|</span>\n",
       "<span class=\"genre\">\n",
       "Action, Crime, Drama            </span>\n",
       "</p>\n",
       "<div class=\"ratings-bar\">\n",
       "<div class=\"inline-block ratings-imdb-rating\" data-value=\"8.4\" name=\"ir\">\n",
       "<span class=\"global-sprite rating-star imdb-rating\"></span>\n",
       "<strong>8.4</strong>\n",
       "</div>\n",
       "<div class=\"inline-block ratings-user-rating\">\n",
       "<span class=\"userRatingValue\" data-tconst=\"tt6148156\" id=\"urv_tt6148156\">\n",
       "<span class=\"global-sprite rating-star no-rating\"></span>\n",
       "<span class=\"rate\" data-no-rating=\"Rate this\" data-value=\"0\" name=\"ur\">Rate this</span>\n",
       "</span>\n",
       "<div class=\"starBarWidget\" id=\"sb_tt6148156\">\n",
       "<div class=\"rating rating-list\" data-csrf-token=\"\" data-ga-identifier=\"\" data-starbar-class=\"rating-list\" data-user=\"\" id=\"tt6148156|imdb|8.4|8.4|adv_li_tt||advsearch|title\" itemprop=\"aggregateRating\" itemscope=\"\" itemtype=\"http://schema.org/AggregateRating\" title=\"Users rated this 8.4/10 (36,219 votes) - click stars to rate\">\n",
       "<meta content=\"8.4\" itemprop=\"ratingValue\"/>\n",
       "<meta content=\"10\" itemprop=\"bestRating\"/>\n",
       "<meta content=\"36219\" itemprop=\"ratingCount\"/>\n",
       "<span class=\"rating-bg\"> </span>\n",
       "<span class=\"rating-imdb\" style=\"width: 117.6px\"> </span>\n",
       "<span class=\"rating-stars\">\n",
       "<a href=\"/register/login?why=vote\" rel=\"nofollow\" title=\"Register or login to rate this title\"><span>1</span></a>\n",
       "<a href=\"/register/login?why=vote\" rel=\"nofollow\" title=\"Register or login to rate this title\"><span>2</span></a>\n",
       "<a href=\"/register/login?why=vote\" rel=\"nofollow\" title=\"Register or login to rate this title\"><span>3</span></a>\n",
       "<a href=\"/register/login?why=vote\" rel=\"nofollow\" title=\"Register or login to rate this title\"><span>4</span></a>\n",
       "<a href=\"/register/login?why=vote\" rel=\"nofollow\" title=\"Register or login to rate this title\"><span>5</span></a>\n",
       "<a href=\"/register/login?why=vote\" rel=\"nofollow\" title=\"Register or login to rate this title\"><span>6</span></a>\n",
       "<a href=\"/register/login?why=vote\" rel=\"nofollow\" title=\"Register or login to rate this title\"><span>7</span></a>\n",
       "<a href=\"/register/login?why=vote\" rel=\"nofollow\" title=\"Register or login to rate this title\"><span>8</span></a>\n",
       "<a href=\"/register/login?why=vote\" rel=\"nofollow\" title=\"Register or login to rate this title\"><span>9</span></a>\n",
       "<a href=\"/register/login?why=vote\" rel=\"nofollow\" title=\"Register or login to rate this title\"><span>10</span></a>\n",
       "</span>\n",
       "<span class=\"rating-rating\"><span class=\"value\">8.4</span><span class=\"grey\">/</span><span class=\"grey\">10</span></span>\n",
       "<span class=\"rating-cancel\"><a href=\"/title/tt6148156/vote\" rel=\"nofollow\" title=\"Delete\"><span>X</span></a></span>\n",
       " </div>\n",
       "</div>\n",
       "</div>\n",
       "</div>\n",
       "<p class=\"text-muted\">\n",
       "Vikram, a no-nonsense police officer, accompanied by Simon, his partner, is on the hunt to capture Vedha, a smuggler and a murderer. Vedha tries to change Vikram's life, which leads to a conflict.</p>\n",
       "<p class=\"\">\n",
       "    Directors:\n",
       "<a href=\"/name/nm2566836/\">Gayatri</a>, \n",
       "<a href=\"/name/nm2575525/\">Pushkar</a>\n",
       "<span class=\"ghost\">|</span> \n",
       "    Stars:\n",
       "<a href=\"/name/nm0534856/\">Madhavan</a>, \n",
       "<a href=\"/name/nm4043111/\">Vijay Sethupathi</a>, \n",
       "<a href=\"/name/nm7744845/\">Shraddha Srinath</a>, \n",
       "<a href=\"/name/nm6453091/\">Kathir</a>\n",
       "</p>\n",
       "<p class=\"sort-num_votes-visible\">\n",
       "<span class=\"text-muted\">Votes:</span>\n",
       "<span data-value=\"36219\" name=\"nv\">36,219</span>\n",
       "</p>\n",
       "</div>\n",
       "</div>\n",
       "<div class=\"lister-item mode-advanced\">\n",
       "<div class=\"lister-top-right\">\n",
       "<div class=\"ribbonize\" data-caller=\"filmosearch\" data-tconst=\"tt10981012\"></div>\n",
       "</div>\n",
       "<div class=\"lister-item-image float-left\">\n",
       "<a href=\"/title/tt10981012/\"> <img alt=\"Veerame Vaagai Soodum\" class=\"loadlate\" data-tconst=\"tt10981012\" height=\"98\" loadlate=\"https://m.media-amazon.com/images/M/MV5BZjc1YWM3NmMtN2NmZS00MzMwLTk1ZWEtZWIwNTE4OTMxYzI2XkEyXkFqcGdeQXVyMTEzNzg0Mjkx._V1_UY98_CR2,0,67,98_AL_.jpg\" src=\"https://m.media-amazon.com/images/S/sash/4FyxwxECzL-U1J8.png\" width=\"67\"/>\n",
       "</a> </div>\n",
       "<div class=\"lister-item-content\">\n",
       "<h3 class=\"lister-item-header\">\n",
       "<span class=\"lister-item-index unbold text-primary\">14.</span>\n",
       "<a href=\"/title/tt10981012/\">Veerame Vaagai Soodum</a>\n",
       "<span class=\"lister-item-year text-muted unbold\">(2022)</span>\n",
       "</h3>\n",
       "<p class=\"text-muted\">\n",
       "<span class=\"certificate\">UA</span>\n",
       "<span class=\"ghost\">|</span>\n",
       "<span class=\"runtime\">166 min</span>\n",
       "<span class=\"ghost\">|</span>\n",
       "<span class=\"genre\">\n",
       "Action, Thriller            </span>\n",
       "</p>\n",
       "<div class=\"ratings-bar\">\n",
       "<div class=\"inline-block ratings-imdb-rating\" data-value=\"7.4\" name=\"ir\">\n",
       "<span class=\"global-sprite rating-star imdb-rating\"></span>\n",
       "<strong>7.4</strong>\n",
       "</div>\n",
       "<div class=\"inline-block ratings-user-rating\">\n",
       "<span class=\"userRatingValue\" data-tconst=\"tt10981012\" id=\"urv_tt10981012\">\n",
       "<span class=\"global-sprite rating-star no-rating\"></span>\n",
       "<span class=\"rate\" data-no-rating=\"Rate this\" data-value=\"0\" name=\"ur\">Rate this</span>\n",
       "</span>\n",
       "<div class=\"starBarWidget\" id=\"sb_tt10981012\">\n",
       "<div class=\"rating rating-list\" data-csrf-token=\"\" data-ga-identifier=\"\" data-starbar-class=\"rating-list\" data-user=\"\" id=\"tt10981012|imdb|7.4|7.4|adv_li_tt||advsearch|title\" itemprop=\"aggregateRating\" itemscope=\"\" itemtype=\"http://schema.org/AggregateRating\" title=\"Users rated this 7.4/10 (2,003 votes) - click stars to rate\">\n",
       "<meta content=\"7.4\" itemprop=\"ratingValue\"/>\n",
       "<meta content=\"10\" itemprop=\"bestRating\"/>\n",
       "<meta content=\"2003\" itemprop=\"ratingCount\"/>\n",
       "<span class=\"rating-bg\"> </span>\n",
       "<span class=\"rating-imdb\" style=\"width: 103.6px\"> </span>\n",
       "<span class=\"rating-stars\">\n",
       "<a href=\"/register/login?why=vote\" rel=\"nofollow\" title=\"Register or login to rate this title\"><span>1</span></a>\n",
       "<a href=\"/register/login?why=vote\" rel=\"nofollow\" title=\"Register or login to rate this title\"><span>2</span></a>\n",
       "<a href=\"/register/login?why=vote\" rel=\"nofollow\" title=\"Register or login to rate this title\"><span>3</span></a>\n",
       "<a href=\"/register/login?why=vote\" rel=\"nofollow\" title=\"Register or login to rate this title\"><span>4</span></a>\n",
       "<a href=\"/register/login?why=vote\" rel=\"nofollow\" title=\"Register or login to rate this title\"><span>5</span></a>\n",
       "<a href=\"/register/login?why=vote\" rel=\"nofollow\" title=\"Register or login to rate this title\"><span>6</span></a>\n",
       "<a href=\"/register/login?why=vote\" rel=\"nofollow\" title=\"Register or login to rate this title\"><span>7</span></a>\n",
       "<a href=\"/register/login?why=vote\" rel=\"nofollow\" title=\"Register or login to rate this title\"><span>8</span></a>\n",
       "<a href=\"/register/login?why=vote\" rel=\"nofollow\" title=\"Register or login to rate this title\"><span>9</span></a>\n",
       "<a href=\"/register/login?why=vote\" rel=\"nofollow\" title=\"Register or login to rate this title\"><span>10</span></a>\n",
       "</span>\n",
       "<span class=\"rating-rating\"><span class=\"value\">7.4</span><span class=\"grey\">/</span><span class=\"grey\">10</span></span>\n",
       "<span class=\"rating-cancel\"><a href=\"/title/tt10981012/vote\" rel=\"nofollow\" title=\"Delete\"><span>X</span></a></span>\n",
       " </div>\n",
       "</div>\n",
       "</div>\n",
       "</div>\n",
       "<p class=\"text-muted\">\n",
       "A normal man from a middle-class family questioning the authorities for abusing their powers.</p>\n",
       "<p class=\"\">\n",
       "    Director:\n",
       "<a href=\"/name/nm12536127/\">Thu Pa Saravanan</a>\n",
       "<span class=\"ghost\">|</span> \n",
       "    Stars:\n",
       "<a href=\"/name/nm10079895/\">Dimple Hayathi</a>, \n",
       "<a href=\"/name/nm12105419/\">Akilan Pushparaj</a>, \n",
       "<a href=\"/name/nm9055184/\">Raveena Ravi</a>, \n",
       "<a href=\"/name/nm1953187/\">Vishal</a>\n",
       "</p>\n",
       "<p class=\"sort-num_votes-visible\">\n",
       "<span class=\"text-muted\">Votes:</span>\n",
       "<span data-value=\"2003\" name=\"nv\">2,003</span>\n",
       "</p>\n",
       "</div>\n",
       "</div>\n",
       "<div class=\"lister-item mode-advanced\">\n",
       "<div class=\"lister-top-right\">\n",
       "<div class=\"ribbonize\" data-caller=\"filmosearch\" data-tconst=\"tt13553396\"></div>\n",
       "</div>\n",
       "<div class=\"lister-item-image float-left\">\n",
       "<a href=\"/title/tt13553396/\"> <img alt=\"Kayamai Kadakka\" class=\"loadlate\" data-tconst=\"tt13553396\" height=\"98\" loadlate=\"https://m.media-amazon.com/images/M/MV5BMzUzMGQ5ZTQtYjkxOS00NzZkLWEyM2YtNDkyYWUzZmY4N2E2XkEyXkFqcGdeQXVyNTMyNTQzNzI@._V1_UX67_CR0,0,67,98_AL_.jpg\" src=\"https://m.media-amazon.com/images/S/sash/4FyxwxECzL-U1J8.png\" width=\"67\"/>\n",
       "</a> </div>\n",
       "<div class=\"lister-item-content\">\n",
       "<h3 class=\"lister-item-header\">\n",
       "<span class=\"lister-item-index unbold text-primary\">15.</span>\n",
       "<a href=\"/title/tt13553396/\">Kayamai Kadakka</a>\n",
       "<span class=\"lister-item-year text-muted unbold\">(2021)</span>\n",
       "</h3>\n",
       "<p class=\"text-muted\">\n",
       "<span class=\"certificate\">UA 13+</span>\n",
       "<span class=\"ghost\">|</span>\n",
       "<span class=\"runtime\">104 min</span>\n",
       "<span class=\"ghost\">|</span>\n",
       "<span class=\"genre\">\n",
       "Action, Drama, Thriller            </span>\n",
       "</p>\n",
       "<div class=\"ratings-bar\">\n",
       "<div class=\"inline-block ratings-imdb-rating\" data-value=\"7.9\" name=\"ir\">\n",
       "<span class=\"global-sprite rating-star imdb-rating\"></span>\n",
       "<strong>7.9</strong>\n",
       "</div>\n",
       "<div class=\"inline-block ratings-user-rating\">\n",
       "<span class=\"userRatingValue\" data-tconst=\"tt13553396\" id=\"urv_tt13553396\">\n",
       "<span class=\"global-sprite rating-star no-rating\"></span>\n",
       "<span class=\"rate\" data-no-rating=\"Rate this\" data-value=\"0\" name=\"ur\">Rate this</span>\n",
       "</span>\n",
       "<div class=\"starBarWidget\" id=\"sb_tt13553396\">\n",
       "<div class=\"rating rating-list\" data-csrf-token=\"\" data-ga-identifier=\"\" data-starbar-class=\"rating-list\" data-user=\"\" id=\"tt13553396|imdb|7.9|7.9|adv_li_tt||advsearch|title\" itemprop=\"aggregateRating\" itemscope=\"\" itemtype=\"http://schema.org/AggregateRating\" title=\"Users rated this 7.9/10 (148 votes) - click stars to rate\">\n",
       "<meta content=\"7.9\" itemprop=\"ratingValue\"/>\n",
       "<meta content=\"10\" itemprop=\"bestRating\"/>\n",
       "<meta content=\"148\" itemprop=\"ratingCount\"/>\n",
       "<span class=\"rating-bg\"> </span>\n",
       "<span class=\"rating-imdb\" style=\"width: 110.6px\"> </span>\n",
       "<span class=\"rating-stars\">\n",
       "<a href=\"/register/login?why=vote\" rel=\"nofollow\" title=\"Register or login to rate this title\"><span>1</span></a>\n",
       "<a href=\"/register/login?why=vote\" rel=\"nofollow\" title=\"Register or login to rate this title\"><span>2</span></a>\n",
       "<a href=\"/register/login?why=vote\" rel=\"nofollow\" title=\"Register or login to rate this title\"><span>3</span></a>\n",
       "<a href=\"/register/login?why=vote\" rel=\"nofollow\" title=\"Register or login to rate this title\"><span>4</span></a>\n",
       "<a href=\"/register/login?why=vote\" rel=\"nofollow\" title=\"Register or login to rate this title\"><span>5</span></a>\n",
       "<a href=\"/register/login?why=vote\" rel=\"nofollow\" title=\"Register or login to rate this title\"><span>6</span></a>\n",
       "<a href=\"/register/login?why=vote\" rel=\"nofollow\" title=\"Register or login to rate this title\"><span>7</span></a>\n",
       "<a href=\"/register/login?why=vote\" rel=\"nofollow\" title=\"Register or login to rate this title\"><span>8</span></a>\n",
       "<a href=\"/register/login?why=vote\" rel=\"nofollow\" title=\"Register or login to rate this title\"><span>9</span></a>\n",
       "<a href=\"/register/login?why=vote\" rel=\"nofollow\" title=\"Register or login to rate this title\"><span>10</span></a>\n",
       "</span>\n",
       "<span class=\"rating-rating\"><span class=\"value\">7.9</span><span class=\"grey\">/</span><span class=\"grey\">10</span></span>\n",
       "<span class=\"rating-cancel\"><a href=\"/title/tt13553396/vote\" rel=\"nofollow\" title=\"Delete\"><span>X</span></a></span>\n",
       " </div>\n",
       "</div>\n",
       "</div>\n",
       "</div>\n",
       "<p class=\"text-muted\">\n",
       "Two men, who know each other only through Facebook, share two things in common: their name and their opinion towards injustice to crimes against women. Their lives take a deadly turn when they both meet in person for the first time.</p>\n",
       "<p class=\"\">\n",
       "    Director:\n",
       "<a href=\"/name/nm6556174/\">R. Kiran</a>\n",
       "<span class=\"ghost\">|</span> \n",
       "    Stars:\n",
       "<a href=\"/name/nm11210498/\">Vatsan M. Natarajan</a>, \n",
       "<a href=\"/name/nm12104992/\">Masanth Natarajan</a>, \n",
       "<a href=\"/name/nm10083667/\">Nagarajan Kannan</a>, \n",
       "<a href=\"/name/nm13445075/\">Naveen Bala</a>\n",
       "</p>\n",
       "<p class=\"sort-num_votes-visible\">\n",
       "<span class=\"text-muted\">Votes:</span>\n",
       "<span data-value=\"148\" name=\"nv\">148</span>\n",
       "</p>\n",
       "</div>\n",
       "</div>\n",
       "<div class=\"lister-item mode-advanced\">\n",
       "<div class=\"lister-top-right\">\n",
       "<div class=\"ribbonize\" data-caller=\"filmosearch\" data-tconst=\"tt11468258\"></div>\n",
       "</div>\n",
       "<div class=\"lister-item-image float-left\">\n",
       "<a href=\"/title/tt11468258/\"> <img alt=\"FIR\" class=\"loadlate\" data-tconst=\"tt11468258\" height=\"98\" loadlate=\"https://m.media-amazon.com/images/M/MV5BMjQ2ZDk2NTMtYzg0ZC00NmIyLTk2ZTQtOTkzYzI1ZjM4YTJkXkEyXkFqcGdeQXVyMjA4OTI5NDQ@._V1_UX67_CR0,0,67,98_AL_.jpg\" src=\"https://m.media-amazon.com/images/S/sash/4FyxwxECzL-U1J8.png\" width=\"67\"/>\n",
       "</a> </div>\n",
       "<div class=\"lister-item-content\">\n",
       "<h3 class=\"lister-item-header\">\n",
       "<span class=\"lister-item-index unbold text-primary\">16.</span>\n",
       "<a href=\"/title/tt11468258/\">FIR</a>\n",
       "<span class=\"lister-item-year text-muted unbold\">(2022)</span>\n",
       "</h3>\n",
       "<p class=\"text-muted\">\n",
       "<span class=\"certificate\">UA</span>\n",
       "<span class=\"ghost\">|</span>\n",
       "<span class=\"runtime\">156 min</span>\n",
       "<span class=\"ghost\">|</span>\n",
       "<span class=\"genre\">\n",
       "Action, Thriller            </span>\n",
       "</p>\n",
       "<div class=\"ratings-bar\">\n",
       "<div class=\"inline-block ratings-imdb-rating\" data-value=\"8.1\" name=\"ir\">\n",
       "<span class=\"global-sprite rating-star imdb-rating\"></span>\n",
       "<strong>8.1</strong>\n",
       "</div>\n",
       "<div class=\"inline-block ratings-user-rating\">\n",
       "<span class=\"userRatingValue\" data-tconst=\"tt11468258\" id=\"urv_tt11468258\">\n",
       "<span class=\"global-sprite rating-star no-rating\"></span>\n",
       "<span class=\"rate\" data-no-rating=\"Rate this\" data-value=\"0\" name=\"ur\">Rate this</span>\n",
       "</span>\n",
       "<div class=\"starBarWidget\" id=\"sb_tt11468258\">\n",
       "<div class=\"rating rating-list\" data-csrf-token=\"\" data-ga-identifier=\"\" data-starbar-class=\"rating-list\" data-user=\"\" id=\"tt11468258|imdb|8.1|8.1|adv_li_tt||advsearch|title\" itemprop=\"aggregateRating\" itemscope=\"\" itemtype=\"http://schema.org/AggregateRating\" title=\"Users rated this 8.1/10 (610 votes) - click stars to rate\">\n",
       "<meta content=\"8.1\" itemprop=\"ratingValue\"/>\n",
       "<meta content=\"10\" itemprop=\"bestRating\"/>\n",
       "<meta content=\"610\" itemprop=\"ratingCount\"/>\n",
       "<span class=\"rating-bg\"> </span>\n",
       "<span class=\"rating-imdb\" style=\"width: 113.4px\"> </span>\n",
       "<span class=\"rating-stars\">\n",
       "<a href=\"/register/login?why=vote\" rel=\"nofollow\" title=\"Register or login to rate this title\"><span>1</span></a>\n",
       "<a href=\"/register/login?why=vote\" rel=\"nofollow\" title=\"Register or login to rate this title\"><span>2</span></a>\n",
       "<a href=\"/register/login?why=vote\" rel=\"nofollow\" title=\"Register or login to rate this title\"><span>3</span></a>\n",
       "<a href=\"/register/login?why=vote\" rel=\"nofollow\" title=\"Register or login to rate this title\"><span>4</span></a>\n",
       "<a href=\"/register/login?why=vote\" rel=\"nofollow\" title=\"Register or login to rate this title\"><span>5</span></a>\n",
       "<a href=\"/register/login?why=vote\" rel=\"nofollow\" title=\"Register or login to rate this title\"><span>6</span></a>\n",
       "<a href=\"/register/login?why=vote\" rel=\"nofollow\" title=\"Register or login to rate this title\"><span>7</span></a>\n",
       "<a href=\"/register/login?why=vote\" rel=\"nofollow\" title=\"Register or login to rate this title\"><span>8</span></a>\n",
       "<a href=\"/register/login?why=vote\" rel=\"nofollow\" title=\"Register or login to rate this title\"><span>9</span></a>\n",
       "<a href=\"/register/login?why=vote\" rel=\"nofollow\" title=\"Register or login to rate this title\"><span>10</span></a>\n",
       "</span>\n",
       "<span class=\"rating-rating\"><span class=\"value\">8.1</span><span class=\"grey\">/</span><span class=\"grey\">10</span></span>\n",
       "<span class=\"rating-cancel\"><a href=\"/title/tt11468258/vote\" rel=\"nofollow\" title=\"Delete\"><span>X</span></a></span>\n",
       " </div>\n",
       "</div>\n",
       "</div>\n",
       "</div>\n",
       "<p class=\"text-muted\">\n",
       "Irfan, an innocent man with an ordinary life, is portrayed as the evil incarnated by media trials. Is there a journey back to normal life for a man accused of terrorism? Is there more to Irfan than what meets the eye?</p>\n",
       "<p class=\"\">\n",
       "    Director:\n",
       "<a href=\"/name/nm11213891/\">Manu Anand</a>\n",
       "<span class=\"ghost\">|</span> \n",
       "    Stars:\n",
       "<a href=\"/name/nm7984315/\">Reba Monica John</a>, \n",
       "<a href=\"/name/nm0619766/\">Praveen K.</a>, \n",
       "<a href=\"/name/nm1069826/\">Gautham Vasudev Menon</a>, \n",
       "<a href=\"/name/nm7222220/\">Manjima Mohan</a>\n",
       "</p>\n",
       "<p class=\"sort-num_votes-visible\">\n",
       "<span class=\"text-muted\">Votes:</span>\n",
       "<span data-value=\"610\" name=\"nv\">610</span>\n",
       "</p>\n",
       "</div>\n",
       "</div>\n",
       "<div class=\"lister-item mode-advanced\">\n",
       "<div class=\"lister-top-right\">\n",
       "<div class=\"ribbonize\" data-caller=\"filmosearch\" data-tconst=\"tt10701074\"></div>\n",
       "</div>\n",
       "<div class=\"lister-item-image float-left\">\n",
       "<a href=\"/title/tt10701074/\"> <img alt=\"Ponniyin Selvan: Part One\" class=\"loadlate\" data-tconst=\"tt10701074\" height=\"98\" loadlate=\"https://m.media-amazon.com/images/M/MV5BMDE1ZDRmMWQtZWQ3Yi00OTZjLTk4ZjUtNzAxMzI3MzhmZTZmXkEyXkFqcGdeQXVyODEyNjEwMDk@._V1_UY98_CR3,0,67,98_AL_.jpg\" src=\"https://m.media-amazon.com/images/S/sash/4FyxwxECzL-U1J8.png\" width=\"67\"/>\n",
       "</a> </div>\n",
       "<div class=\"lister-item-content\">\n",
       "<h3 class=\"lister-item-header\">\n",
       "<span class=\"lister-item-index unbold text-primary\">17.</span>\n",
       "<a href=\"/title/tt10701074/\">Ponniyin Selvan: Part One</a>\n",
       "<span class=\"lister-item-year text-muted unbold\">(2022)</span>\n",
       "</h3>\n",
       "<p class=\"text-muted\">\n",
       "<span class=\"genre\">\n",
       "Drama, Family, Fantasy            </span>\n",
       "<span class=\"ghost\">|</span>\n",
       "<b>Post-production</b>\n",
       "</p>\n",
       "<p class=\"text-muted\">\n",
       "An adaptation of a historical novel by Kalki Krishnamurthy.</p>\n",
       "<p class=\"\">\n",
       "    Director:\n",
       "<a href=\"/name/nm0711745/\">Mani Ratnam</a>\n",
       "<span class=\"ghost\">|</span> \n",
       "    Stars:\n",
       "<a href=\"/name/nm1417314/\">Vikram</a>, \n",
       "<a href=\"/name/nm1912683/\">Karthi</a>, \n",
       "<a href=\"/name/nm1865947/\">Jayam Ravi</a>, \n",
       "<a href=\"/name/nm0706787/\">Aishwarya Rai Bachchan</a>\n",
       "</p>\n",
       "</div>\n",
       "</div>\n",
       "<div class=\"lister-item mode-advanced\">\n",
       "<div class=\"lister-top-right\">\n",
       "<div class=\"ribbonize\" data-caller=\"filmosearch\" data-tconst=\"tt9675716\"></div>\n",
       "</div>\n",
       "<div class=\"lister-item-image float-left\">\n",
       "<a href=\"/title/tt9675716/\"> <img alt=\"Nerkonda Paarvai\" class=\"loadlate\" data-tconst=\"tt9675716\" height=\"98\" loadlate=\"https://m.media-amazon.com/images/M/MV5BODYwYjQzNWYtZTE0OC00ODIyLWI1MGEtNTQ2MTVlYWYyOTY2XkEyXkFqcGdeQXVyOTk3NTc2MzE@._V1_UX67_CR0,0,67,98_AL_.jpg\" src=\"https://m.media-amazon.com/images/S/sash/4FyxwxECzL-U1J8.png\" width=\"67\"/>\n",
       "</a> </div>\n",
       "<div class=\"lister-item-content\">\n",
       "<h3 class=\"lister-item-header\">\n",
       "<span class=\"lister-item-index unbold text-primary\">18.</span>\n",
       "<a href=\"/title/tt9675716/\">Nerkonda Paarvai</a>\n",
       "<span class=\"lister-item-year text-muted unbold\">(2019)</span>\n",
       "</h3>\n",
       "<p class=\"text-muted\">\n",
       "<span class=\"certificate\">UA</span>\n",
       "<span class=\"ghost\">|</span>\n",
       "<span class=\"runtime\">157 min</span>\n",
       "<span class=\"ghost\">|</span>\n",
       "<span class=\"genre\">\n",
       "Action, Crime, Drama            </span>\n",
       "</p>\n",
       "<div class=\"ratings-bar\">\n",
       "<div class=\"inline-block ratings-imdb-rating\" data-value=\"8\" name=\"ir\">\n",
       "<span class=\"global-sprite rating-star imdb-rating\"></span>\n",
       "<strong>8.0</strong>\n",
       "</div>\n",
       "<div class=\"inline-block ratings-user-rating\">\n",
       "<span class=\"userRatingValue\" data-tconst=\"tt9675716\" id=\"urv_tt9675716\">\n",
       "<span class=\"global-sprite rating-star no-rating\"></span>\n",
       "<span class=\"rate\" data-no-rating=\"Rate this\" data-value=\"0\" name=\"ur\">Rate this</span>\n",
       "</span>\n",
       "<div class=\"starBarWidget\" id=\"sb_tt9675716\">\n",
       "<div class=\"rating rating-list\" data-csrf-token=\"\" data-ga-identifier=\"\" data-starbar-class=\"rating-list\" data-user=\"\" id=\"tt9675716|imdb|8|8|adv_li_tt||advsearch|title\" itemprop=\"aggregateRating\" itemscope=\"\" itemtype=\"http://schema.org/AggregateRating\" title=\"Users rated this 8/10 (9,334 votes) - click stars to rate\">\n",
       "<meta content=\"8\" itemprop=\"ratingValue\"/>\n",
       "<meta content=\"10\" itemprop=\"bestRating\"/>\n",
       "<meta content=\"9334\" itemprop=\"ratingCount\"/>\n",
       "<span class=\"rating-bg\"> </span>\n",
       "<span class=\"rating-imdb\" style=\"width: 112px\"> </span>\n",
       "<span class=\"rating-stars\">\n",
       "<a href=\"/register/login?why=vote\" rel=\"nofollow\" title=\"Register or login to rate this title\"><span>1</span></a>\n",
       "<a href=\"/register/login?why=vote\" rel=\"nofollow\" title=\"Register or login to rate this title\"><span>2</span></a>\n",
       "<a href=\"/register/login?why=vote\" rel=\"nofollow\" title=\"Register or login to rate this title\"><span>3</span></a>\n",
       "<a href=\"/register/login?why=vote\" rel=\"nofollow\" title=\"Register or login to rate this title\"><span>4</span></a>\n",
       "<a href=\"/register/login?why=vote\" rel=\"nofollow\" title=\"Register or login to rate this title\"><span>5</span></a>\n",
       "<a href=\"/register/login?why=vote\" rel=\"nofollow\" title=\"Register or login to rate this title\"><span>6</span></a>\n",
       "<a href=\"/register/login?why=vote\" rel=\"nofollow\" title=\"Register or login to rate this title\"><span>7</span></a>\n",
       "<a href=\"/register/login?why=vote\" rel=\"nofollow\" title=\"Register or login to rate this title\"><span>8</span></a>\n",
       "<a href=\"/register/login?why=vote\" rel=\"nofollow\" title=\"Register or login to rate this title\"><span>9</span></a>\n",
       "<a href=\"/register/login?why=vote\" rel=\"nofollow\" title=\"Register or login to rate this title\"><span>10</span></a>\n",
       "</span>\n",
       "<span class=\"rating-rating\"><span class=\"value\">8</span><span class=\"grey\">/</span><span class=\"grey\">10</span></span>\n",
       "<span class=\"rating-cancel\"><a href=\"/title/tt9675716/vote\" rel=\"nofollow\" title=\"Delete\"><span>X</span></a></span>\n",
       " </div>\n",
       "</div>\n",
       "</div>\n",
       "</div>\n",
       "<p class=\"text-muted\">\n",
       "When three young women are implicated in a crime, a retired lawyer steps forward to help them clear their names.</p>\n",
       "<p class=\"\">\n",
       "    Director:\n",
       "<a href=\"/name/nm6474441/\">H. Vinoth</a>\n",
       "<span class=\"ghost\">|</span> \n",
       "    Stars:\n",
       "<a href=\"/name/nm0015001/\">Ajith Kumar</a>, \n",
       "<a href=\"/name/nm7744845/\">Shraddha Srinath</a>, \n",
       "<a href=\"/name/nm10433635/\">Abhirami Venkatachalam</a>, \n",
       "<a href=\"/name/nm8019376/\">Andrea Tariang</a>\n",
       "</p>\n",
       "<p class=\"sort-num_votes-visible\">\n",
       "<span class=\"text-muted\">Votes:</span>\n",
       "<span data-value=\"9334\" name=\"nv\">9,334</span>\n",
       "</p>\n",
       "</div>\n",
       "</div>\n",
       "<div class=\"lister-item mode-advanced\">\n",
       "<div class=\"lister-top-right\">\n",
       "<div class=\"ribbonize\" data-caller=\"filmosearch\" data-tconst=\"tt13131186\"></div>\n",
       "</div>\n",
       "<div class=\"lister-item-image float-left\">\n",
       "<a href=\"/title/tt13131186/\"> <img alt=\"Enemy\" class=\"loadlate\" data-tconst=\"tt13131186\" height=\"98\" loadlate=\"https://m.media-amazon.com/images/M/MV5BM2JlNzM1NDEtOWFmYS00NWJmLThkNmMtNjYzN2YwYmFiN2E3XkEyXkFqcGdeQXVyMTEzNzg0Mjkx._V1_UX67_CR0,0,67,98_AL_.jpg\" src=\"https://m.media-amazon.com/images/S/sash/4FyxwxECzL-U1J8.png\" width=\"67\"/>\n",
       "</a> </div>\n",
       "<div class=\"lister-item-content\">\n",
       "<h3 class=\"lister-item-header\">\n",
       "<span class=\"lister-item-index unbold text-primary\">19.</span>\n",
       "<a href=\"/title/tt13131186/\">Enemy</a>\n",
       "<span class=\"lister-item-year text-muted unbold\">(2021)</span>\n",
       "</h3>\n",
       "<p class=\"text-muted\">\n",
       "<span class=\"certificate\">UA</span>\n",
       "<span class=\"ghost\">|</span>\n",
       "<span class=\"runtime\">159 min</span>\n",
       "<span class=\"ghost\">|</span>\n",
       "<span class=\"genre\">\n",
       "Action, Drama, Thriller            </span>\n",
       "</p>\n",
       "<div class=\"ratings-bar\">\n",
       "<div class=\"inline-block ratings-imdb-rating\" data-value=\"6.9\" name=\"ir\">\n",
       "<span class=\"global-sprite rating-star imdb-rating\"></span>\n",
       "<strong>6.9</strong>\n",
       "</div>\n",
       "<div class=\"inline-block ratings-user-rating\">\n",
       "<span class=\"userRatingValue\" data-tconst=\"tt13131186\" id=\"urv_tt13131186\">\n",
       "<span class=\"global-sprite rating-star no-rating\"></span>\n",
       "<span class=\"rate\" data-no-rating=\"Rate this\" data-value=\"0\" name=\"ur\">Rate this</span>\n",
       "</span>\n",
       "<div class=\"starBarWidget\" id=\"sb_tt13131186\">\n",
       "<div class=\"rating rating-list\" data-csrf-token=\"\" data-ga-identifier=\"\" data-starbar-class=\"rating-list\" data-user=\"\" id=\"tt13131186|imdb|6.9|6.9|adv_li_tt||advsearch|title\" itemprop=\"aggregateRating\" itemscope=\"\" itemtype=\"http://schema.org/AggregateRating\" title=\"Users rated this 6.9/10 (4,006 votes) - click stars to rate\">\n",
       "<meta content=\"6.9\" itemprop=\"ratingValue\"/>\n",
       "<meta content=\"10\" itemprop=\"bestRating\"/>\n",
       "<meta content=\"4006\" itemprop=\"ratingCount\"/>\n",
       "<span class=\"rating-bg\"> </span>\n",
       "<span class=\"rating-imdb\" style=\"width: 96.6px\"> </span>\n",
       "<span class=\"rating-stars\">\n",
       "<a href=\"/register/login?why=vote\" rel=\"nofollow\" title=\"Register or login to rate this title\"><span>1</span></a>\n",
       "<a href=\"/register/login?why=vote\" rel=\"nofollow\" title=\"Register or login to rate this title\"><span>2</span></a>\n",
       "<a href=\"/register/login?why=vote\" rel=\"nofollow\" title=\"Register or login to rate this title\"><span>3</span></a>\n",
       "<a href=\"/register/login?why=vote\" rel=\"nofollow\" title=\"Register or login to rate this title\"><span>4</span></a>\n",
       "<a href=\"/register/login?why=vote\" rel=\"nofollow\" title=\"Register or login to rate this title\"><span>5</span></a>\n",
       "<a href=\"/register/login?why=vote\" rel=\"nofollow\" title=\"Register or login to rate this title\"><span>6</span></a>\n",
       "<a href=\"/register/login?why=vote\" rel=\"nofollow\" title=\"Register or login to rate this title\"><span>7</span></a>\n",
       "<a href=\"/register/login?why=vote\" rel=\"nofollow\" title=\"Register or login to rate this title\"><span>8</span></a>\n",
       "<a href=\"/register/login?why=vote\" rel=\"nofollow\" title=\"Register or login to rate this title\"><span>9</span></a>\n",
       "<a href=\"/register/login?why=vote\" rel=\"nofollow\" title=\"Register or login to rate this title\"><span>10</span></a>\n",
       "</span>\n",
       "<span class=\"rating-rating\"><span class=\"value\">6.9</span><span class=\"grey\">/</span><span class=\"grey\">10</span></span>\n",
       "<span class=\"rating-cancel\"><a href=\"/title/tt13131186/vote\" rel=\"nofollow\" title=\"Delete\"><span>X</span></a></span>\n",
       " </div>\n",
       "</div>\n",
       "</div>\n",
       "</div>\n",
       "<p class=\"text-muted\">\n",
       "It's the story of two childhood friends and their escalating competitive nature. To what extent are they ready to go?</p>\n",
       "<p class=\"\">\n",
       "    Director:\n",
       "<a href=\"/name/nm3201973/\">Anand Shankar</a>\n",
       "<span class=\"ghost\">|</span> \n",
       "    Stars:\n",
       "<a href=\"/name/nm1951127/\">Arya</a>, \n",
       "<a href=\"/name/nm4948556/\">Malavika Avinash</a>, \n",
       "<a href=\"/name/nm2604068/\">Duy Beck</a>, \n",
       "<a href=\"/name/nm5369429/\">Karunakaran</a>\n",
       "</p>\n",
       "<p class=\"sort-num_votes-visible\">\n",
       "<span class=\"text-muted\">Votes:</span>\n",
       "<span data-value=\"4006\" name=\"nv\">4,006</span>\n",
       "</p>\n",
       "</div>\n",
       "</div>\n",
       "<div class=\"lister-item mode-advanced\">\n",
       "<div class=\"lister-top-right\">\n",
       "<div class=\"ribbonize\" data-caller=\"filmosearch\" data-tconst=\"tt9900782\"></div>\n",
       "</div>\n",
       "<div class=\"lister-item-image float-left\">\n",
       "<a href=\"/title/tt9900782/\"> <img alt=\"Kaithi\" class=\"loadlate\" data-tconst=\"tt9900782\" height=\"98\" loadlate=\"https://m.media-amazon.com/images/M/MV5BMzNjMDhmYzEtM2YxOC00NzZjLThkODctZjI4M2UyOWIyOTZmXkEyXkFqcGdeQXVyNzcxMzI4Njk@._V1_UX67_CR0,0,67,98_AL_.jpg\" src=\"https://m.media-amazon.com/images/S/sash/4FyxwxECzL-U1J8.png\" width=\"67\"/>\n",
       "</a> </div>\n",
       "<div class=\"lister-item-content\">\n",
       "<h3 class=\"lister-item-header\">\n",
       "<span class=\"lister-item-index unbold text-primary\">20.</span>\n",
       "<a href=\"/title/tt9900782/\">Kaithi</a>\n",
       "<span class=\"lister-item-year text-muted unbold\">(2019)</span>\n",
       "</h3>\n",
       "<p class=\"text-muted\">\n",
       "<span class=\"certificate\">UA</span>\n",
       "<span class=\"ghost\">|</span>\n",
       "<span class=\"runtime\">145 min</span>\n",
       "<span class=\"ghost\">|</span>\n",
       "<span class=\"genre\">\n",
       "Action, Crime, Thriller            </span>\n",
       "</p>\n",
       "<div class=\"ratings-bar\">\n",
       "<div class=\"inline-block ratings-imdb-rating\" data-value=\"8.6\" name=\"ir\">\n",
       "<span class=\"global-sprite rating-star imdb-rating\"></span>\n",
       "<strong>8.6</strong>\n",
       "</div>\n",
       "<div class=\"inline-block ratings-user-rating\">\n",
       "<span class=\"userRatingValue\" data-tconst=\"tt9900782\" id=\"urv_tt9900782\">\n",
       "<span class=\"global-sprite rating-star no-rating\"></span>\n",
       "<span class=\"rate\" data-no-rating=\"Rate this\" data-value=\"0\" name=\"ur\">Rate this</span>\n",
       "</span>\n",
       "<div class=\"starBarWidget\" id=\"sb_tt9900782\">\n",
       "<div class=\"rating rating-list\" data-csrf-token=\"\" data-ga-identifier=\"\" data-starbar-class=\"rating-list\" data-user=\"\" id=\"tt9900782|imdb|8.6|8.6|adv_li_tt||advsearch|title\" itemprop=\"aggregateRating\" itemscope=\"\" itemtype=\"http://schema.org/AggregateRating\" title=\"Users rated this 8.6/10 (21,528 votes) - click stars to rate\">\n",
       "<meta content=\"8.6\" itemprop=\"ratingValue\"/>\n",
       "<meta content=\"10\" itemprop=\"bestRating\"/>\n",
       "<meta content=\"21528\" itemprop=\"ratingCount\"/>\n",
       "<span class=\"rating-bg\"> </span>\n",
       "<span class=\"rating-imdb\" style=\"width: 120.4px\"> </span>\n",
       "<span class=\"rating-stars\">\n",
       "<a href=\"/register/login?why=vote\" rel=\"nofollow\" title=\"Register or login to rate this title\"><span>1</span></a>\n",
       "<a href=\"/register/login?why=vote\" rel=\"nofollow\" title=\"Register or login to rate this title\"><span>2</span></a>\n",
       "<a href=\"/register/login?why=vote\" rel=\"nofollow\" title=\"Register or login to rate this title\"><span>3</span></a>\n",
       "<a href=\"/register/login?why=vote\" rel=\"nofollow\" title=\"Register or login to rate this title\"><span>4</span></a>\n",
       "<a href=\"/register/login?why=vote\" rel=\"nofollow\" title=\"Register or login to rate this title\"><span>5</span></a>\n",
       "<a href=\"/register/login?why=vote\" rel=\"nofollow\" title=\"Register or login to rate this title\"><span>6</span></a>\n",
       "<a href=\"/register/login?why=vote\" rel=\"nofollow\" title=\"Register or login to rate this title\"><span>7</span></a>\n",
       "<a href=\"/register/login?why=vote\" rel=\"nofollow\" title=\"Register or login to rate this title\"><span>8</span></a>\n",
       "<a href=\"/register/login?why=vote\" rel=\"nofollow\" title=\"Register or login to rate this title\"><span>9</span></a>\n",
       "<a href=\"/register/login?why=vote\" rel=\"nofollow\" title=\"Register or login to rate this title\"><span>10</span></a>\n",
       "</span>\n",
       "<span class=\"rating-rating\"><span class=\"value\">8.6</span><span class=\"grey\">/</span><span class=\"grey\">10</span></span>\n",
       "<span class=\"rating-cancel\"><a href=\"/title/tt9900782/vote\" rel=\"nofollow\" title=\"Delete\"><span>X</span></a></span>\n",
       " </div>\n",
       "</div>\n",
       "</div>\n",
       "</div>\n",
       "<p class=\"text-muted\">\n",
       "Dilli, an ex-convict, endeavours to meet his daughter for the first time after leaving prison. However, his attempts are interrupted due to a drug raid planned by Inspector Bejoy.</p>\n",
       "<p class=\"\">\n",
       "    Director:\n",
       "<a href=\"/name/nm7992231/\">Lokesh Kanagaraj</a>\n",
       "<span class=\"ghost\">|</span> \n",
       "    Stars:\n",
       "<a href=\"/name/nm1912683/\">Karthi</a>, \n",
       "<a href=\"/name/nm1230844/\">Narain</a>, \n",
       "<a href=\"/name/nm6030469/\">Ramana</a>, \n",
       "<a href=\"/name/nm6998719/\">George Maryan</a>\n",
       "</p>\n",
       "<p class=\"sort-num_votes-visible\">\n",
       "<span class=\"text-muted\">Votes:</span>\n",
       "<span data-value=\"21528\" name=\"nv\">21,528</span>\n",
       "</p>\n",
       "</div>\n",
       "</div>\n",
       "<div class=\"lister-item mode-advanced\">\n",
       "<div class=\"lister-top-right\">\n",
       "<div class=\"ribbonize\" data-caller=\"filmosearch\" data-tconst=\"tt15477878\"></div>\n",
       "</div>\n",
       "<div class=\"lister-item-image float-left\">\n",
       "<a href=\"/title/tt15477878/\"> <img alt=\"Irudhi Pakkam\" class=\"loadlate\" data-tconst=\"tt15477878\" height=\"98\" loadlate=\"https://m.media-amazon.com/images/M/MV5BODM1ZjU5MGItMzJkOC00NjAxLWIyYzktNTQ1ZjE2OTBhZDhlXkEyXkFqcGdeQXVyNzc3MzEwODM@._V1_UX67_CR0,0,67,98_AL_.jpg\" src=\"https://m.media-amazon.com/images/S/sash/4FyxwxECzL-U1J8.png\" width=\"67\"/>\n",
       "</a> </div>\n",
       "<div class=\"lister-item-content\">\n",
       "<h3 class=\"lister-item-header\">\n",
       "<span class=\"lister-item-index unbold text-primary\">21.</span>\n",
       "<a href=\"/title/tt15477878/\">Irudhi Pakkam</a>\n",
       "<span class=\"lister-item-year text-muted unbold\">(2021)</span>\n",
       "</h3>\n",
       "<p class=\"text-muted\">\n",
       "<span class=\"certificate\">UA</span>\n",
       "<span class=\"ghost\">|</span>\n",
       "<span class=\"runtime\">95 min</span>\n",
       "<span class=\"ghost\">|</span>\n",
       "<span class=\"genre\">\n",
       "Mystery            </span>\n",
       "</p>\n",
       "<div class=\"ratings-bar\">\n",
       "<div class=\"inline-block ratings-imdb-rating\" data-value=\"7.7\" name=\"ir\">\n",
       "<span class=\"global-sprite rating-star imdb-rating\"></span>\n",
       "<strong>7.7</strong>\n",
       "</div>\n",
       "<div class=\"inline-block ratings-user-rating\">\n",
       "<span class=\"userRatingValue\" data-tconst=\"tt15477878\" id=\"urv_tt15477878\">\n",
       "<span class=\"global-sprite rating-star no-rating\"></span>\n",
       "<span class=\"rate\" data-no-rating=\"Rate this\" data-value=\"0\" name=\"ur\">Rate this</span>\n",
       "</span>\n",
       "<div class=\"starBarWidget\" id=\"sb_tt15477878\">\n",
       "<div class=\"rating rating-list\" data-csrf-token=\"\" data-ga-identifier=\"\" data-starbar-class=\"rating-list\" data-user=\"\" id=\"tt15477878|imdb|7.7|7.7|adv_li_tt||advsearch|title\" itemprop=\"aggregateRating\" itemscope=\"\" itemtype=\"http://schema.org/AggregateRating\" title=\"Users rated this 7.7/10 (211 votes) - click stars to rate\">\n",
       "<meta content=\"7.7\" itemprop=\"ratingValue\"/>\n",
       "<meta content=\"10\" itemprop=\"bestRating\"/>\n",
       "<meta content=\"211\" itemprop=\"ratingCount\"/>\n",
       "<span class=\"rating-bg\"> </span>\n",
       "<span class=\"rating-imdb\" style=\"width: 107.8px\"> </span>\n",
       "<span class=\"rating-stars\">\n",
       "<a href=\"/register/login?why=vote\" rel=\"nofollow\" title=\"Register or login to rate this title\"><span>1</span></a>\n",
       "<a href=\"/register/login?why=vote\" rel=\"nofollow\" title=\"Register or login to rate this title\"><span>2</span></a>\n",
       "<a href=\"/register/login?why=vote\" rel=\"nofollow\" title=\"Register or login to rate this title\"><span>3</span></a>\n",
       "<a href=\"/register/login?why=vote\" rel=\"nofollow\" title=\"Register or login to rate this title\"><span>4</span></a>\n",
       "<a href=\"/register/login?why=vote\" rel=\"nofollow\" title=\"Register or login to rate this title\"><span>5</span></a>\n",
       "<a href=\"/register/login?why=vote\" rel=\"nofollow\" title=\"Register or login to rate this title\"><span>6</span></a>\n",
       "<a href=\"/register/login?why=vote\" rel=\"nofollow\" title=\"Register or login to rate this title\"><span>7</span></a>\n",
       "<a href=\"/register/login?why=vote\" rel=\"nofollow\" title=\"Register or login to rate this title\"><span>8</span></a>\n",
       "<a href=\"/register/login?why=vote\" rel=\"nofollow\" title=\"Register or login to rate this title\"><span>9</span></a>\n",
       "<a href=\"/register/login?why=vote\" rel=\"nofollow\" title=\"Register or login to rate this title\"><span>10</span></a>\n",
       "</span>\n",
       "<span class=\"rating-rating\"><span class=\"value\">7.7</span><span class=\"grey\">/</span><span class=\"grey\">10</span></span>\n",
       "<span class=\"rating-cancel\"><a href=\"/title/tt15477878/vote\" rel=\"nofollow\" title=\"Delete\"><span>X</span></a></span>\n",
       " </div>\n",
       "</div>\n",
       "</div>\n",
       "</div>\n",
       "<p class=\"text-muted\">\n",
       "A young woman gets murdered in her apartment. Police sees it as an open and shut case. But it turns out to be one of the most complex cases they ever witnessed. Can an ordinary investigation team pull off some magic to find the killer?</p>\n",
       "<p class=\"\">\n",
       "    Director:\n",
       "<a href=\"/name/nm9458558/\">Mano Ve Kannathasan</a>\n",
       "<span class=\"ghost\">|</span> \n",
       "    Stars:\n",
       "<a href=\"/name/nm7981675/\">Rajesh Balachandiran</a>, \n",
       "<a href=\"/name/nm12002876/\">ShreeRaj</a>, \n",
       "<a href=\"/name/nm10298649/\">Amrutha Srinivasan</a>, \n",
       "<a href=\"/name/nm10531747/\">Vignesh Shanmugam</a>\n",
       "</p>\n",
       "<p class=\"sort-num_votes-visible\">\n",
       "<span class=\"text-muted\">Votes:</span>\n",
       "<span data-value=\"211\" name=\"nv\">211</span>\n",
       "</p>\n",
       "</div>\n",
       "</div>\n",
       "<div class=\"lister-item mode-advanced\">\n",
       "<div class=\"lister-top-right\">\n",
       "<div class=\"ribbonize\" data-caller=\"filmosearch\" data-tconst=\"tt11396226\"></div>\n",
       "</div>\n",
       "<div class=\"lister-item-image float-left\">\n",
       "<a href=\"/title/tt11396226/\"> <img alt=\"Mudhal Nee Mudivum Nee\" class=\"loadlate\" data-tconst=\"tt11396226\" height=\"98\" loadlate=\"https://m.media-amazon.com/images/M/MV5BNmZkOThkNWYtOTY1ZC00MzZiLWExMDEtMTNhZDcyOGZiZTM5XkEyXkFqcGdeQXVyMTA5MTkyMzU2._V1_UY98_CR5,0,67,98_AL_.jpg\" src=\"https://m.media-amazon.com/images/S/sash/4FyxwxECzL-U1J8.png\" width=\"67\"/>\n",
       "</a> </div>\n",
       "<div class=\"lister-item-content\">\n",
       "<h3 class=\"lister-item-header\">\n",
       "<span class=\"lister-item-index unbold text-primary\">22.</span>\n",
       "<a href=\"/title/tt11396226/\">Mudhal Nee Mudivum Nee</a>\n",
       "<span class=\"lister-item-year text-muted unbold\">(2022)</span>\n",
       "</h3>\n",
       "<p class=\"text-muted\">\n",
       "<span class=\"certificate\">UA</span>\n",
       "<span class=\"ghost\">|</span>\n",
       "<span class=\"runtime\">148 min</span>\n",
       "<span class=\"ghost\">|</span>\n",
       "<span class=\"genre\">\n",
       "Drama            </span>\n",
       "</p>\n",
       "<div class=\"ratings-bar\">\n",
       "<div class=\"inline-block ratings-imdb-rating\" data-value=\"8.4\" name=\"ir\">\n",
       "<span class=\"global-sprite rating-star imdb-rating\"></span>\n",
       "<strong>8.4</strong>\n",
       "</div>\n",
       "<div class=\"inline-block ratings-user-rating\">\n",
       "<span class=\"userRatingValue\" data-tconst=\"tt11396226\" id=\"urv_tt11396226\">\n",
       "<span class=\"global-sprite rating-star no-rating\"></span>\n",
       "<span class=\"rate\" data-no-rating=\"Rate this\" data-value=\"0\" name=\"ur\">Rate this</span>\n",
       "</span>\n",
       "<div class=\"starBarWidget\" id=\"sb_tt11396226\">\n",
       "<div class=\"rating rating-list\" data-csrf-token=\"\" data-ga-identifier=\"\" data-starbar-class=\"rating-list\" data-user=\"\" id=\"tt11396226|imdb|8.4|8.4|adv_li_tt||advsearch|title\" itemprop=\"aggregateRating\" itemscope=\"\" itemtype=\"http://schema.org/AggregateRating\" title=\"Users rated this 8.4/10 (2,644 votes) - click stars to rate\">\n",
       "<meta content=\"8.4\" itemprop=\"ratingValue\"/>\n",
       "<meta content=\"10\" itemprop=\"bestRating\"/>\n",
       "<meta content=\"2644\" itemprop=\"ratingCount\"/>\n",
       "<span class=\"rating-bg\"> </span>\n",
       "<span class=\"rating-imdb\" style=\"width: 117.6px\"> </span>\n",
       "<span class=\"rating-stars\">\n",
       "<a href=\"/register/login?why=vote\" rel=\"nofollow\" title=\"Register or login to rate this title\"><span>1</span></a>\n",
       "<a href=\"/register/login?why=vote\" rel=\"nofollow\" title=\"Register or login to rate this title\"><span>2</span></a>\n",
       "<a href=\"/register/login?why=vote\" rel=\"nofollow\" title=\"Register or login to rate this title\"><span>3</span></a>\n",
       "<a href=\"/register/login?why=vote\" rel=\"nofollow\" title=\"Register or login to rate this title\"><span>4</span></a>\n",
       "<a href=\"/register/login?why=vote\" rel=\"nofollow\" title=\"Register or login to rate this title\"><span>5</span></a>\n",
       "<a href=\"/register/login?why=vote\" rel=\"nofollow\" title=\"Register or login to rate this title\"><span>6</span></a>\n",
       "<a href=\"/register/login?why=vote\" rel=\"nofollow\" title=\"Register or login to rate this title\"><span>7</span></a>\n",
       "<a href=\"/register/login?why=vote\" rel=\"nofollow\" title=\"Register or login to rate this title\"><span>8</span></a>\n",
       "<a href=\"/register/login?why=vote\" rel=\"nofollow\" title=\"Register or login to rate this title\"><span>9</span></a>\n",
       "<a href=\"/register/login?why=vote\" rel=\"nofollow\" title=\"Register or login to rate this title\"><span>10</span></a>\n",
       "</span>\n",
       "<span class=\"rating-rating\"><span class=\"value\">8.4</span><span class=\"grey\">/</span><span class=\"grey\">10</span></span>\n",
       "<span class=\"rating-cancel\"><a href=\"/title/tt11396226/vote\" rel=\"nofollow\" title=\"Delete\"><span>X</span></a></span>\n",
       " </div>\n",
       "</div>\n",
       "</div>\n",
       "</div>\n",
       "<p class=\"text-muted\">\n",
       "In the 1990s, a group of high school students in a strict Catholic school navigate their way through everyday teen pressures. Watch Mudhal Nee Mudivum Nee, a ZEE5 Exclusive film.</p>\n",
       "<p class=\"\">\n",
       "    Director:\n",
       "<a href=\"/name/nm4254923/\">Darbuka Siva</a>\n",
       "<span class=\"ghost\">|</span> \n",
       "    Stars:\n",
       "<a href=\"/name/nm8451596/\">Kishen Das</a>, \n",
       "<a href=\"/name/nm7749686/\">Rahul Kannan</a>, \n",
       "<a href=\"/name/nm12435952/\">Sacchin Nachiappan</a>, \n",
       "<a href=\"/name/nm13364262/\">Manjunath Nagarajan</a>\n",
       "</p>\n",
       "<p class=\"sort-num_votes-visible\">\n",
       "<span class=\"text-muted\">Votes:</span>\n",
       "<span data-value=\"2644\" name=\"nv\">2,644</span>\n",
       "</p>\n",
       "</div>\n",
       "</div>\n",
       "<div class=\"lister-item mode-advanced\">\n",
       "<div class=\"lister-top-right\">\n",
       "<div class=\"ribbonize\" data-caller=\"filmosearch\" data-tconst=\"tt7060460\"></div>\n",
       "</div>\n",
       "<div class=\"lister-item-image float-left\">\n",
       "<a href=\"/title/tt7060460/\"> <img alt=\"Theeran Adhigaaram Ondru\" class=\"loadlate\" data-tconst=\"tt7060460\" height=\"98\" loadlate=\"https://m.media-amazon.com/images/M/MV5BNGFkYTM4NzQtNWE3Yy00NTM2LWI1MDktYTg5NTIxMzQ5MmE4XkEyXkFqcGdeQXVyODIwMDI1NjM@._V1_UX67_CR0,0,67,98_AL_.jpg\" src=\"https://m.media-amazon.com/images/S/sash/4FyxwxECzL-U1J8.png\" width=\"67\"/>\n",
       "</a> </div>\n",
       "<div class=\"lister-item-content\">\n",
       "<h3 class=\"lister-item-header\">\n",
       "<span class=\"lister-item-index unbold text-primary\">23.</span>\n",
       "<a href=\"/title/tt7060460/\">Theeran Adhigaaram Ondru</a>\n",
       "<span class=\"lister-item-year text-muted unbold\">(2017)</span>\n",
       "</h3>\n",
       "<p class=\"text-muted\">\n",
       "<span class=\"certificate\">UA</span>\n",
       "<span class=\"ghost\">|</span>\n",
       "<span class=\"runtime\">157 min</span>\n",
       "<span class=\"ghost\">|</span>\n",
       "<span class=\"genre\">\n",
       "Action, Crime, Thriller            </span>\n",
       "</p>\n",
       "<div class=\"ratings-bar\">\n",
       "<div class=\"inline-block ratings-imdb-rating\" data-value=\"8.3\" name=\"ir\">\n",
       "<span class=\"global-sprite rating-star imdb-rating\"></span>\n",
       "<strong>8.3</strong>\n",
       "</div>\n",
       "<div class=\"inline-block ratings-user-rating\">\n",
       "<span class=\"userRatingValue\" data-tconst=\"tt7060460\" id=\"urv_tt7060460\">\n",
       "<span class=\"global-sprite rating-star no-rating\"></span>\n",
       "<span class=\"rate\" data-no-rating=\"Rate this\" data-value=\"0\" name=\"ur\">Rate this</span>\n",
       "</span>\n",
       "<div class=\"starBarWidget\" id=\"sb_tt7060460\">\n",
       "<div class=\"rating rating-list\" data-csrf-token=\"\" data-ga-identifier=\"\" data-starbar-class=\"rating-list\" data-user=\"\" id=\"tt7060460|imdb|8.3|8.3|adv_li_tt||advsearch|title\" itemprop=\"aggregateRating\" itemscope=\"\" itemtype=\"http://schema.org/AggregateRating\" title=\"Users rated this 8.3/10 (13,600 votes) - click stars to rate\">\n",
       "<meta content=\"8.3\" itemprop=\"ratingValue\"/>\n",
       "<meta content=\"10\" itemprop=\"bestRating\"/>\n",
       "<meta content=\"13600\" itemprop=\"ratingCount\"/>\n",
       "<span class=\"rating-bg\"> </span>\n",
       "<span class=\"rating-imdb\" style=\"width: 116.2px\"> </span>\n",
       "<span class=\"rating-stars\">\n",
       "<a href=\"/register/login?why=vote\" rel=\"nofollow\" title=\"Register or login to rate this title\"><span>1</span></a>\n",
       "<a href=\"/register/login?why=vote\" rel=\"nofollow\" title=\"Register or login to rate this title\"><span>2</span></a>\n",
       "<a href=\"/register/login?why=vote\" rel=\"nofollow\" title=\"Register or login to rate this title\"><span>3</span></a>\n",
       "<a href=\"/register/login?why=vote\" rel=\"nofollow\" title=\"Register or login to rate this title\"><span>4</span></a>\n",
       "<a href=\"/register/login?why=vote\" rel=\"nofollow\" title=\"Register or login to rate this title\"><span>5</span></a>\n",
       "<a href=\"/register/login?why=vote\" rel=\"nofollow\" title=\"Register or login to rate this title\"><span>6</span></a>\n",
       "<a href=\"/register/login?why=vote\" rel=\"nofollow\" title=\"Register or login to rate this title\"><span>7</span></a>\n",
       "<a href=\"/register/login?why=vote\" rel=\"nofollow\" title=\"Register or login to rate this title\"><span>8</span></a>\n",
       "<a href=\"/register/login?why=vote\" rel=\"nofollow\" title=\"Register or login to rate this title\"><span>9</span></a>\n",
       "<a href=\"/register/login?why=vote\" rel=\"nofollow\" title=\"Register or login to rate this title\"><span>10</span></a>\n",
       "</span>\n",
       "<span class=\"rating-rating\"><span class=\"value\">8.3</span><span class=\"grey\">/</span><span class=\"grey\">10</span></span>\n",
       "<span class=\"rating-cancel\"><a href=\"/title/tt7060460/vote\" rel=\"nofollow\" title=\"Delete\"><span>X</span></a></span>\n",
       " </div>\n",
       "</div>\n",
       "</div>\n",
       "</div>\n",
       "<p class=\"text-muted\">\n",
       "Theeran, a police officer, is entrusted with the task to solve the mystery behind a series of murders. The only clue left behind is that all the murders are committed in the same pattern.</p>\n",
       "<p class=\"\">\n",
       "    Director:\n",
       "<a href=\"/name/nm6474441/\">H. Vinoth</a>\n",
       "<span class=\"ghost\">|</span> \n",
       "    Stars:\n",
       "<a href=\"/name/nm1912683/\">Karthi</a>, \n",
       "<a href=\"/name/nm5114849/\">Rakul Preet Singh</a>, \n",
       "<a href=\"/name/nm0008713/\">Abhimanyu Singh</a>, \n",
       "<a href=\"/name/nm3163756/\">Bose Venkat</a>\n",
       "</p>\n",
       "<p class=\"sort-num_votes-visible\">\n",
       "<span class=\"text-muted\">Votes:</span>\n",
       "<span data-value=\"13600\" name=\"nv\">13,600</span>\n",
       "</p>\n",
       "</div>\n",
       "</div>\n",
       "<div class=\"lister-item mode-advanced\">\n",
       "<div class=\"lister-top-right\">\n",
       "<div class=\"ribbonize\" data-caller=\"filmosearch\" data-tconst=\"tt11772600\"></div>\n",
       "</div>\n",
       "<div class=\"lister-item-image float-left\">\n",
       "<a href=\"/title/tt11772600/\"> <img alt=\"Rocky\" class=\"loadlate\" data-tconst=\"tt11772600\" height=\"98\" loadlate=\"https://m.media-amazon.com/images/M/MV5BMGQ4Y2ZkNjctZWQxOS00YzViLWFjOTYtMDg5ZjMyNzc4ZjU1XkEyXkFqcGdeQXVyMTQ3NTQzNDk5._V1_UY98_CR40,0,67,98_AL_.jpg\" src=\"https://m.media-amazon.com/images/S/sash/4FyxwxECzL-U1J8.png\" width=\"67\"/>\n",
       "</a> </div>\n",
       "<div class=\"lister-item-content\">\n",
       "<h3 class=\"lister-item-header\">\n",
       "<span class=\"lister-item-index unbold text-primary\">24.</span>\n",
       "<a href=\"/title/tt11772600/\">Rocky</a>\n",
       "<span class=\"lister-item-year text-muted unbold\">(2021)</span>\n",
       "</h3>\n",
       "<p class=\"text-muted\">\n",
       "<span class=\"certificate\">A</span>\n",
       "<span class=\"ghost\">|</span>\n",
       "<span class=\"runtime\">129 min</span>\n",
       "<span class=\"ghost\">|</span>\n",
       "<span class=\"genre\">\n",
       "Drama            </span>\n",
       "</p>\n",
       "<div class=\"ratings-bar\">\n",
       "<div class=\"inline-block ratings-imdb-rating\" data-value=\"8.9\" name=\"ir\">\n",
       "<span class=\"global-sprite rating-star imdb-rating\"></span>\n",
       "<strong>8.9</strong>\n",
       "</div>\n",
       "<div class=\"inline-block ratings-user-rating\">\n",
       "<span class=\"userRatingValue\" data-tconst=\"tt11772600\" id=\"urv_tt11772600\">\n",
       "<span class=\"global-sprite rating-star no-rating\"></span>\n",
       "<span class=\"rate\" data-no-rating=\"Rate this\" data-value=\"0\" name=\"ur\">Rate this</span>\n",
       "</span>\n",
       "<div class=\"starBarWidget\" id=\"sb_tt11772600\">\n",
       "<div class=\"rating rating-list\" data-csrf-token=\"\" data-ga-identifier=\"\" data-starbar-class=\"rating-list\" data-user=\"\" id=\"tt11772600|imdb|8.9|8.9|adv_li_tt||advsearch|title\" itemprop=\"aggregateRating\" itemscope=\"\" itemtype=\"http://schema.org/AggregateRating\" title=\"Users rated this 8.9/10 (417 votes) - click stars to rate\">\n",
       "<meta content=\"8.9\" itemprop=\"ratingValue\"/>\n",
       "<meta content=\"10\" itemprop=\"bestRating\"/>\n",
       "<meta content=\"417\" itemprop=\"ratingCount\"/>\n",
       "<span class=\"rating-bg\"> </span>\n",
       "<span class=\"rating-imdb\" style=\"width: 124.6px\"> </span>\n",
       "<span class=\"rating-stars\">\n",
       "<a href=\"/register/login?why=vote\" rel=\"nofollow\" title=\"Register or login to rate this title\"><span>1</span></a>\n",
       "<a href=\"/register/login?why=vote\" rel=\"nofollow\" title=\"Register or login to rate this title\"><span>2</span></a>\n",
       "<a href=\"/register/login?why=vote\" rel=\"nofollow\" title=\"Register or login to rate this title\"><span>3</span></a>\n",
       "<a href=\"/register/login?why=vote\" rel=\"nofollow\" title=\"Register or login to rate this title\"><span>4</span></a>\n",
       "<a href=\"/register/login?why=vote\" rel=\"nofollow\" title=\"Register or login to rate this title\"><span>5</span></a>\n",
       "<a href=\"/register/login?why=vote\" rel=\"nofollow\" title=\"Register or login to rate this title\"><span>6</span></a>\n",
       "<a href=\"/register/login?why=vote\" rel=\"nofollow\" title=\"Register or login to rate this title\"><span>7</span></a>\n",
       "<a href=\"/register/login?why=vote\" rel=\"nofollow\" title=\"Register or login to rate this title\"><span>8</span></a>\n",
       "<a href=\"/register/login?why=vote\" rel=\"nofollow\" title=\"Register or login to rate this title\"><span>9</span></a>\n",
       "<a href=\"/register/login?why=vote\" rel=\"nofollow\" title=\"Register or login to rate this title\"><span>10</span></a>\n",
       "</span>\n",
       "<span class=\"rating-rating\"><span class=\"value\">8.9</span><span class=\"grey\">/</span><span class=\"grey\">10</span></span>\n",
       "<span class=\"rating-cancel\"><a href=\"/title/tt11772600/vote\" rel=\"nofollow\" title=\"Delete\"><span>X</span></a></span>\n",
       " </div>\n",
       "</div>\n",
       "</div>\n",
       "</div>\n",
       "<p class=\"text-muted\">\n",
       "Rocky, A gangster released after 17years from prison, goes back to his childhood house, searching for his missing sister Amudha, all the while reminiscing his violent past as it comes back to haunt him.</p>\n",
       "<p class=\"\">\n",
       "    Director:\n",
       "<a href=\"/name/nm11345187/\">Arun Matheswaran</a>\n",
       "<span class=\"ghost\">|</span> \n",
       "    Stars:\n",
       "<a href=\"/name/nm0707300/\">Bharathiraja</a>, \n",
       "<a href=\"/name/nm9055184/\">Raveena Ravi</a>, \n",
       "<a href=\"/name/nm7032877/\">Vasanth Ravi</a>, \n",
       "<a href=\"/name/nm1094188/\">Rohini</a>\n",
       "</p>\n",
       "<p class=\"sort-num_votes-visible\">\n",
       "<span class=\"text-muted\">Votes:</span>\n",
       "<span data-value=\"417\" name=\"nv\">417</span>\n",
       "</p>\n",
       "</div>\n",
       "</div>\n",
       "<div class=\"lister-item mode-advanced\">\n",
       "<div class=\"lister-top-right\">\n",
       "<div class=\"ribbonize\" data-caller=\"filmosearch\" data-tconst=\"tt11374902\"></div>\n",
       "</div>\n",
       "<div class=\"lister-item-image float-left\">\n",
       "<a href=\"/title/tt11374902/\"> <img alt=\"Doctor\" class=\"loadlate\" data-tconst=\"tt11374902\" height=\"98\" loadlate=\"https://m.media-amazon.com/images/M/MV5BMWNiZWFmMGEtMDhmZS00YTA1LTk0MTgtN2M1MDBkZGEzMGYwXkEyXkFqcGdeQXVyMTEzNzg0Mjkx._V1_UY98_CR2,0,67,98_AL_.jpg\" src=\"https://m.media-amazon.com/images/S/sash/4FyxwxECzL-U1J8.png\" width=\"67\"/>\n",
       "</a> </div>\n",
       "<div class=\"lister-item-content\">\n",
       "<h3 class=\"lister-item-header\">\n",
       "<span class=\"lister-item-index unbold text-primary\">25.</span>\n",
       "<a href=\"/title/tt11374902/\">Doctor</a>\n",
       "<span class=\"lister-item-year text-muted unbold\">(2021)</span>\n",
       "</h3>\n",
       "<p class=\"text-muted\">\n",
       "<span class=\"certificate\">UA</span>\n",
       "<span class=\"ghost\">|</span>\n",
       "<span class=\"runtime\">148 min</span>\n",
       "<span class=\"ghost\">|</span>\n",
       "<span class=\"genre\">\n",
       "Action, Comedy, Crime            </span>\n",
       "</p>\n",
       "<div class=\"ratings-bar\">\n",
       "<div class=\"inline-block ratings-imdb-rating\" data-value=\"7.8\" name=\"ir\">\n",
       "<span class=\"global-sprite rating-star imdb-rating\"></span>\n",
       "<strong>7.8</strong>\n",
       "</div>\n",
       "<div class=\"inline-block ratings-user-rating\">\n",
       "<span class=\"userRatingValue\" data-tconst=\"tt11374902\" id=\"urv_tt11374902\">\n",
       "<span class=\"global-sprite rating-star no-rating\"></span>\n",
       "<span class=\"rate\" data-no-rating=\"Rate this\" data-value=\"0\" name=\"ur\">Rate this</span>\n",
       "</span>\n",
       "<div class=\"starBarWidget\" id=\"sb_tt11374902\">\n",
       "<div class=\"rating rating-list\" data-csrf-token=\"\" data-ga-identifier=\"\" data-starbar-class=\"rating-list\" data-user=\"\" id=\"tt11374902|imdb|7.8|7.8|adv_li_tt||advsearch|title\" itemprop=\"aggregateRating\" itemscope=\"\" itemtype=\"http://schema.org/AggregateRating\" title=\"Users rated this 7.8/10 (13,922 votes) - click stars to rate\">\n",
       "<meta content=\"7.8\" itemprop=\"ratingValue\"/>\n",
       "<meta content=\"10\" itemprop=\"bestRating\"/>\n",
       "<meta content=\"13922\" itemprop=\"ratingCount\"/>\n",
       "<span class=\"rating-bg\"> </span>\n",
       "<span class=\"rating-imdb\" style=\"width: 109.2px\"> </span>\n",
       "<span class=\"rating-stars\">\n",
       "<a href=\"/register/login?why=vote\" rel=\"nofollow\" title=\"Register or login to rate this title\"><span>1</span></a>\n",
       "<a href=\"/register/login?why=vote\" rel=\"nofollow\" title=\"Register or login to rate this title\"><span>2</span></a>\n",
       "<a href=\"/register/login?why=vote\" rel=\"nofollow\" title=\"Register or login to rate this title\"><span>3</span></a>\n",
       "<a href=\"/register/login?why=vote\" rel=\"nofollow\" title=\"Register or login to rate this title\"><span>4</span></a>\n",
       "<a href=\"/register/login?why=vote\" rel=\"nofollow\" title=\"Register or login to rate this title\"><span>5</span></a>\n",
       "<a href=\"/register/login?why=vote\" rel=\"nofollow\" title=\"Register or login to rate this title\"><span>6</span></a>\n",
       "<a href=\"/register/login?why=vote\" rel=\"nofollow\" title=\"Register or login to rate this title\"><span>7</span></a>\n",
       "<a href=\"/register/login?why=vote\" rel=\"nofollow\" title=\"Register or login to rate this title\"><span>8</span></a>\n",
       "<a href=\"/register/login?why=vote\" rel=\"nofollow\" title=\"Register or login to rate this title\"><span>9</span></a>\n",
       "<a href=\"/register/login?why=vote\" rel=\"nofollow\" title=\"Register or login to rate this title\"><span>10</span></a>\n",
       "</span>\n",
       "<span class=\"rating-rating\"><span class=\"value\">7.8</span><span class=\"grey\">/</span><span class=\"grey\">10</span></span>\n",
       "<span class=\"rating-cancel\"><a href=\"/title/tt11374902/vote\" rel=\"nofollow\" title=\"Delete\"><span>X</span></a></span>\n",
       " </div>\n",
       "</div>\n",
       "</div>\n",
       "</div>\n",
       "<p class=\"text-muted\">\n",
       "When his fiancee's niece is kidnapped, a stoic army doctor and his motley team launch a rescue operation in which they need both wit and their wits.</p>\n",
       "<p class=\"\">\n",
       "    Director:\n",
       "<a href=\"/name/nm12135964/\">Nelson Dilipkumar</a>\n",
       "<span class=\"ghost\">|</span> \n",
       "    Stars:\n",
       "<a href=\"/name/nm4792434/\">Sivakarthikeyan</a>, \n",
       "<a href=\"/name/nm2587761/\">Vinay Rai</a>, \n",
       "<a href=\"/name/nm10484501/\">Priyanka Arulmohan</a>, \n",
       "<a href=\"/name/nm6489058/\">Yogi Babu</a>\n",
       "</p>\n",
       "<p class=\"sort-num_votes-visible\">\n",
       "<span class=\"text-muted\">Votes:</span>\n",
       "<span data-value=\"13922\" name=\"nv\">13,922</span>\n",
       "</p>\n",
       "</div>\n",
       "</div>\n",
       "<div class=\"lister-item mode-advanced\">\n",
       "<div class=\"lister-top-right\">\n",
       "<div class=\"ribbonize\" data-caller=\"filmosearch\" data-tconst=\"tt1705772\"></div>\n",
       "</div>\n",
       "<div class=\"lister-item-image float-left\">\n",
       "<a href=\"/title/tt1705772/\"> <img alt=\"Mankatha\" class=\"loadlate\" data-tconst=\"tt1705772\" height=\"98\" loadlate=\"https://m.media-amazon.com/images/M/MV5BYmUyYjAyNGQtZDljNS00M2ExLWFhY2ItNDEzOWIzNjBhOGU0XkEyXkFqcGdeQXVyMTEzNzg0Mjkx._V1_UY98_CR2,0,67,98_AL_.jpg\" src=\"https://m.media-amazon.com/images/S/sash/4FyxwxECzL-U1J8.png\" width=\"67\"/>\n",
       "</a> </div>\n",
       "<div class=\"lister-item-content\">\n",
       "<h3 class=\"lister-item-header\">\n",
       "<span class=\"lister-item-index unbold text-primary\">26.</span>\n",
       "<a href=\"/title/tt1705772/\">Mankatha</a>\n",
       "<span class=\"lister-item-year text-muted unbold\">(2011)</span>\n",
       "</h3>\n",
       "<p class=\"text-muted\">\n",
       "<span class=\"certificate\">UA</span>\n",
       "<span class=\"ghost\">|</span>\n",
       "<span class=\"runtime\">155 min</span>\n",
       "<span class=\"ghost\">|</span>\n",
       "<span class=\"genre\">\n",
       "Action, Crime, Thriller            </span>\n",
       "</p>\n",
       "<div class=\"ratings-bar\">\n",
       "<div class=\"inline-block ratings-imdb-rating\" data-value=\"7.7\" name=\"ir\">\n",
       "<span class=\"global-sprite rating-star imdb-rating\"></span>\n",
       "<strong>7.7</strong>\n",
       "</div>\n",
       "<div class=\"inline-block ratings-user-rating\">\n",
       "<span class=\"userRatingValue\" data-tconst=\"tt1705772\" id=\"urv_tt1705772\">\n",
       "<span class=\"global-sprite rating-star no-rating\"></span>\n",
       "<span class=\"rate\" data-no-rating=\"Rate this\" data-value=\"0\" name=\"ur\">Rate this</span>\n",
       "</span>\n",
       "<div class=\"starBarWidget\" id=\"sb_tt1705772\">\n",
       "<div class=\"rating rating-list\" data-csrf-token=\"\" data-ga-identifier=\"\" data-starbar-class=\"rating-list\" data-user=\"\" id=\"tt1705772|imdb|7.7|7.7|adv_li_tt||advsearch|title\" itemprop=\"aggregateRating\" itemscope=\"\" itemtype=\"http://schema.org/AggregateRating\" title=\"Users rated this 7.7/10 (14,695 votes) - click stars to rate\">\n",
       "<meta content=\"7.7\" itemprop=\"ratingValue\"/>\n",
       "<meta content=\"10\" itemprop=\"bestRating\"/>\n",
       "<meta content=\"14695\" itemprop=\"ratingCount\"/>\n",
       "<span class=\"rating-bg\"> </span>\n",
       "<span class=\"rating-imdb\" style=\"width: 107.8px\"> </span>\n",
       "<span class=\"rating-stars\">\n",
       "<a href=\"/register/login?why=vote\" rel=\"nofollow\" title=\"Register or login to rate this title\"><span>1</span></a>\n",
       "<a href=\"/register/login?why=vote\" rel=\"nofollow\" title=\"Register or login to rate this title\"><span>2</span></a>\n",
       "<a href=\"/register/login?why=vote\" rel=\"nofollow\" title=\"Register or login to rate this title\"><span>3</span></a>\n",
       "<a href=\"/register/login?why=vote\" rel=\"nofollow\" title=\"Register or login to rate this title\"><span>4</span></a>\n",
       "<a href=\"/register/login?why=vote\" rel=\"nofollow\" title=\"Register or login to rate this title\"><span>5</span></a>\n",
       "<a href=\"/register/login?why=vote\" rel=\"nofollow\" title=\"Register or login to rate this title\"><span>6</span></a>\n",
       "<a href=\"/register/login?why=vote\" rel=\"nofollow\" title=\"Register or login to rate this title\"><span>7</span></a>\n",
       "<a href=\"/register/login?why=vote\" rel=\"nofollow\" title=\"Register or login to rate this title\"><span>8</span></a>\n",
       "<a href=\"/register/login?why=vote\" rel=\"nofollow\" title=\"Register or login to rate this title\"><span>9</span></a>\n",
       "<a href=\"/register/login?why=vote\" rel=\"nofollow\" title=\"Register or login to rate this title\"><span>10</span></a>\n",
       "</span>\n",
       "<span class=\"rating-rating\"><span class=\"value\">7.7</span><span class=\"grey\">/</span><span class=\"grey\">10</span></span>\n",
       "<span class=\"rating-cancel\"><a href=\"/title/tt1705772/vote\" rel=\"nofollow\" title=\"Delete\"><span>X</span></a></span>\n",
       " </div>\n",
       "</div>\n",
       "</div>\n",
       "</div>\n",
       "<p class=\"text-muted\">\n",
       "Vinayak, a suspended cop, helps a group of four men rob cricket betting money amounting to 500 crores INR. When it comes to splitting the amount, betrayal hits the team hard and a chase ensues.</p>\n",
       "<p class=\"\">\n",
       "    Director:\n",
       "<a href=\"/name/nm1862815/\">Venkat Prabhu</a>\n",
       "<span class=\"ghost\">|</span> \n",
       "    Stars:\n",
       "<a href=\"/name/nm0015001/\">Ajith Kumar</a>, \n",
       "<a href=\"/name/nm0035018/\">Arjun Sarja</a>, \n",
       "<a href=\"/name/nm1375534/\">Trisha Krishnan</a>, \n",
       "<a href=\"/name/nm2908893/\">Premgi Amaren</a>\n",
       "</p>\n",
       "<p class=\"sort-num_votes-visible\">\n",
       "<span class=\"text-muted\">Votes:</span>\n",
       "<span data-value=\"14695\" name=\"nv\">14,695</span>\n",
       "</p>\n",
       "</div>\n",
       "</div>\n",
       "<div class=\"lister-item mode-advanced\">\n",
       "<div class=\"lister-top-right\">\n",
       "<div class=\"ribbonize\" data-caller=\"filmosearch\" data-tconst=\"tt3569782\"></div>\n",
       "</div>\n",
       "<div class=\"lister-item-image float-left\">\n",
       "<a href=\"/title/tt3569782/\"> <img alt=\"Jigarthanda\" class=\"loadlate\" data-tconst=\"tt3569782\" height=\"98\" loadlate=\"https://m.media-amazon.com/images/M/MV5BMDU5YThlNzUtNjcyNC00ZmE3LTkxZDEtNThmZTMyZDlmZGE1XkEyXkFqcGdeQXVyODk1MzE5NDA@._V1_UX67_CR0,0,67,98_AL_.jpg\" src=\"https://m.media-amazon.com/images/S/sash/4FyxwxECzL-U1J8.png\" width=\"67\"/>\n",
       "</a> </div>\n",
       "<div class=\"lister-item-content\">\n",
       "<h3 class=\"lister-item-header\">\n",
       "<span class=\"lister-item-index unbold text-primary\">27.</span>\n",
       "<a href=\"/title/tt3569782/\">Jigarthanda</a>\n",
       "<span class=\"lister-item-year text-muted unbold\">(2014)</span>\n",
       "</h3>\n",
       "<p class=\"text-muted\">\n",
       "<span class=\"certificate\">UA</span>\n",
       "<span class=\"ghost\">|</span>\n",
       "<span class=\"runtime\">171 min</span>\n",
       "<span class=\"ghost\">|</span>\n",
       "<span class=\"genre\">\n",
       "Action, Comedy, Crime            </span>\n",
       "</p>\n",
       "<div class=\"ratings-bar\">\n",
       "<div class=\"inline-block ratings-imdb-rating\" data-value=\"8.3\" name=\"ir\">\n",
       "<span class=\"global-sprite rating-star imdb-rating\"></span>\n",
       "<strong>8.3</strong>\n",
       "</div>\n",
       "<div class=\"inline-block ratings-user-rating\">\n",
       "<span class=\"userRatingValue\" data-tconst=\"tt3569782\" id=\"urv_tt3569782\">\n",
       "<span class=\"global-sprite rating-star no-rating\"></span>\n",
       "<span class=\"rate\" data-no-rating=\"Rate this\" data-value=\"0\" name=\"ur\">Rate this</span>\n",
       "</span>\n",
       "<div class=\"starBarWidget\" id=\"sb_tt3569782\">\n",
       "<div class=\"rating rating-list\" data-csrf-token=\"\" data-ga-identifier=\"\" data-starbar-class=\"rating-list\" data-user=\"\" id=\"tt3569782|imdb|8.3|8.3|adv_li_tt||advsearch|title\" itemprop=\"aggregateRating\" itemscope=\"\" itemtype=\"http://schema.org/AggregateRating\" title=\"Users rated this 8.3/10 (11,576 votes) - click stars to rate\">\n",
       "<meta content=\"8.3\" itemprop=\"ratingValue\"/>\n",
       "<meta content=\"10\" itemprop=\"bestRating\"/>\n",
       "<meta content=\"11576\" itemprop=\"ratingCount\"/>\n",
       "<span class=\"rating-bg\"> </span>\n",
       "<span class=\"rating-imdb\" style=\"width: 116.2px\"> </span>\n",
       "<span class=\"rating-stars\">\n",
       "<a href=\"/register/login?why=vote\" rel=\"nofollow\" title=\"Register or login to rate this title\"><span>1</span></a>\n",
       "<a href=\"/register/login?why=vote\" rel=\"nofollow\" title=\"Register or login to rate this title\"><span>2</span></a>\n",
       "<a href=\"/register/login?why=vote\" rel=\"nofollow\" title=\"Register or login to rate this title\"><span>3</span></a>\n",
       "<a href=\"/register/login?why=vote\" rel=\"nofollow\" title=\"Register or login to rate this title\"><span>4</span></a>\n",
       "<a href=\"/register/login?why=vote\" rel=\"nofollow\" title=\"Register or login to rate this title\"><span>5</span></a>\n",
       "<a href=\"/register/login?why=vote\" rel=\"nofollow\" title=\"Register or login to rate this title\"><span>6</span></a>\n",
       "<a href=\"/register/login?why=vote\" rel=\"nofollow\" title=\"Register or login to rate this title\"><span>7</span></a>\n",
       "<a href=\"/register/login?why=vote\" rel=\"nofollow\" title=\"Register or login to rate this title\"><span>8</span></a>\n",
       "<a href=\"/register/login?why=vote\" rel=\"nofollow\" title=\"Register or login to rate this title\"><span>9</span></a>\n",
       "<a href=\"/register/login?why=vote\" rel=\"nofollow\" title=\"Register or login to rate this title\"><span>10</span></a>\n",
       "</span>\n",
       "<span class=\"rating-rating\"><span class=\"value\">8.3</span><span class=\"grey\">/</span><span class=\"grey\">10</span></span>\n",
       "<span class=\"rating-cancel\"><a href=\"/title/tt3569782/vote\" rel=\"nofollow\" title=\"Delete\"><span>X</span></a></span>\n",
       " </div>\n",
       "</div>\n",
       "</div>\n",
       "</div>\n",
       "<p class=\"text-muted\">\n",
       "An aspiring director targets a ruthless gangster because he wants to make a violent gangster film. His discreet attempts to research the gangster fail miserably. Finally when he gets caught snooping, things hit the fan.</p>\n",
       "<p class=\"\">\n",
       "    Director:\n",
       "<a href=\"/name/nm5366274/\">Karthik Subbaraj</a>\n",
       "<span class=\"ghost\">|</span> \n",
       "    Stars:\n",
       "<a href=\"/name/nm1413459/\">Siddharth</a>, \n",
       "<a href=\"/name/nm5654277/\">Bobby Simha</a>, \n",
       "<a href=\"/name/nm5068044/\">Lakshmi Menon</a>, \n",
       "<a href=\"/name/nm0621937/\">Nassar</a>\n",
       "</p>\n",
       "<p class=\"sort-num_votes-visible\">\n",
       "<span class=\"text-muted\">Votes:</span>\n",
       "<span data-value=\"11576\" name=\"nv\">11,576</span>\n",
       "</p>\n",
       "</div>\n",
       "</div>\n",
       "<div class=\"lister-item mode-advanced\">\n",
       "<div class=\"lister-top-right\">\n",
       "<div class=\"ribbonize\" data-caller=\"filmosearch\" data-tconst=\"tt11301946\"></div>\n",
       "</div>\n",
       "<div class=\"lister-item-image float-left\">\n",
       "<a href=\"/title/tt11301946/\"> <img alt=\"Beast\" class=\"loadlate\" data-tconst=\"tt11301946\" height=\"98\" loadlate=\"https://m.media-amazon.com/images/M/MV5BMDc3MDU5YmQtMjJkYy00YWIwLWJkYmItZjM5NjA3ZGU4MGZkXkEyXkFqcGdeQXVyMTEzNzg0Mjkx._V1_UX67_CR0,0,67,98_AL_.jpg\" src=\"https://m.media-amazon.com/images/S/sash/4FyxwxECzL-U1J8.png\" width=\"67\"/>\n",
       "</a> </div>\n",
       "<div class=\"lister-item-content\">\n",
       "<h3 class=\"lister-item-header\">\n",
       "<span class=\"lister-item-index unbold text-primary\">28.</span>\n",
       "<a href=\"/title/tt11301946/\">Beast</a>\n",
       "<span class=\"lister-item-year text-muted unbold\">(II) (2022)</span>\n",
       "</h3>\n",
       "<p class=\"text-muted\">\n",
       "<span class=\"runtime\">122 min</span>\n",
       "<span class=\"ghost\">|</span>\n",
       "<span class=\"genre\">\n",
       "Action, Comedy, Crime            </span>\n",
       "<span class=\"ghost\">|</span>\n",
       "<b>Announced</b>\n",
       "</p>\n",
       "<p class=\"text-muted\">\n",
       "The film's story deals with gold trafficking.</p>\n",
       "<p class=\"\">\n",
       "    Director:\n",
       "<a href=\"/name/nm12135964/\">Nelson Dilipkumar</a>\n",
       "<span class=\"ghost\">|</span> \n",
       "    Stars:\n",
       "<a href=\"/name/nm5249562/\">Pooja Hegde</a>, \n",
       "<a href=\"/name/nm0897201/\">Thalapathy Vijay</a>, \n",
       "<a href=\"/name/nm6489058/\">Yogi Babu</a>, \n",
       "<a href=\"/name/nm3557375/\">Shine Tom Chacko</a>\n",
       "</p>\n",
       "</div>\n",
       "</div>\n",
       "<div class=\"lister-item mode-advanced\">\n",
       "<div class=\"lister-top-right\">\n",
       "<div class=\"ribbonize\" data-caller=\"filmosearch\" data-tconst=\"tt11580854\"></div>\n",
       "</div>\n",
       "<div class=\"lister-item-image float-left\">\n",
       "<a href=\"/title/tt11580854/\"> <img alt=\"Sarpatta Parambarai\" class=\"loadlate\" data-tconst=\"tt11580854\" height=\"98\" loadlate=\"https://m.media-amazon.com/images/M/MV5BYmQxNDliY2EtZWFlZS00YWM4LTkzMzAtMWZjNDFmNjkwM2JlXkEyXkFqcGdeQXVyMTEzNzg0Mjkx._V1_UX67_CR0,0,67,98_AL_.jpg\" src=\"https://m.media-amazon.com/images/S/sash/4FyxwxECzL-U1J8.png\" width=\"67\"/>\n",
       "</a> </div>\n",
       "<div class=\"lister-item-content\">\n",
       "<h3 class=\"lister-item-header\">\n",
       "<span class=\"lister-item-index unbold text-primary\">29.</span>\n",
       "<a href=\"/title/tt11580854/\">Sarpatta Parambarai</a>\n",
       "<span class=\"lister-item-year text-muted unbold\">(2021)</span>\n",
       "</h3>\n",
       "<p class=\"text-muted\">\n",
       "<span class=\"certificate\">UA</span>\n",
       "<span class=\"ghost\">|</span>\n",
       "<span class=\"runtime\">173 min</span>\n",
       "<span class=\"ghost\">|</span>\n",
       "<span class=\"genre\">\n",
       "Action, Drama, Sport            </span>\n",
       "</p>\n",
       "<div class=\"ratings-bar\">\n",
       "<div class=\"inline-block ratings-imdb-rating\" data-value=\"8.8\" name=\"ir\">\n",
       "<span class=\"global-sprite rating-star imdb-rating\"></span>\n",
       "<strong>8.8</strong>\n",
       "</div>\n",
       "<div class=\"inline-block ratings-user-rating\">\n",
       "<span class=\"userRatingValue\" data-tconst=\"tt11580854\" id=\"urv_tt11580854\">\n",
       "<span class=\"global-sprite rating-star no-rating\"></span>\n",
       "<span class=\"rate\" data-no-rating=\"Rate this\" data-value=\"0\" name=\"ur\">Rate this</span>\n",
       "</span>\n",
       "<div class=\"starBarWidget\" id=\"sb_tt11580854\">\n",
       "<div class=\"rating rating-list\" data-csrf-token=\"\" data-ga-identifier=\"\" data-starbar-class=\"rating-list\" data-user=\"\" id=\"tt11580854|imdb|8.8|8.8|adv_li_tt||advsearch|title\" itemprop=\"aggregateRating\" itemscope=\"\" itemtype=\"http://schema.org/AggregateRating\" title=\"Users rated this 8.8/10 (20,380 votes) - click stars to rate\">\n",
       "<meta content=\"8.8\" itemprop=\"ratingValue\"/>\n",
       "<meta content=\"10\" itemprop=\"bestRating\"/>\n",
       "<meta content=\"20380\" itemprop=\"ratingCount\"/>\n",
       "<span class=\"rating-bg\"> </span>\n",
       "<span class=\"rating-imdb\" style=\"width: 123.2px\"> </span>\n",
       "<span class=\"rating-stars\">\n",
       "<a href=\"/register/login?why=vote\" rel=\"nofollow\" title=\"Register or login to rate this title\"><span>1</span></a>\n",
       "<a href=\"/register/login?why=vote\" rel=\"nofollow\" title=\"Register or login to rate this title\"><span>2</span></a>\n",
       "<a href=\"/register/login?why=vote\" rel=\"nofollow\" title=\"Register or login to rate this title\"><span>3</span></a>\n",
       "<a href=\"/register/login?why=vote\" rel=\"nofollow\" title=\"Register or login to rate this title\"><span>4</span></a>\n",
       "<a href=\"/register/login?why=vote\" rel=\"nofollow\" title=\"Register or login to rate this title\"><span>5</span></a>\n",
       "<a href=\"/register/login?why=vote\" rel=\"nofollow\" title=\"Register or login to rate this title\"><span>6</span></a>\n",
       "<a href=\"/register/login?why=vote\" rel=\"nofollow\" title=\"Register or login to rate this title\"><span>7</span></a>\n",
       "<a href=\"/register/login?why=vote\" rel=\"nofollow\" title=\"Register or login to rate this title\"><span>8</span></a>\n",
       "<a href=\"/register/login?why=vote\" rel=\"nofollow\" title=\"Register or login to rate this title\"><span>9</span></a>\n",
       "<a href=\"/register/login?why=vote\" rel=\"nofollow\" title=\"Register or login to rate this title\"><span>10</span></a>\n",
       "</span>\n",
       "<span class=\"rating-rating\"><span class=\"value\">8.8</span><span class=\"grey\">/</span><span class=\"grey\">10</span></span>\n",
       "<span class=\"rating-cancel\"><a href=\"/title/tt11580854/vote\" rel=\"nofollow\" title=\"Delete\"><span>X</span></a></span>\n",
       " </div>\n",
       "</div>\n",
       "</div>\n",
       "</div>\n",
       "<p class=\"text-muted\">\n",
       "When Sarpatta Parambarai is challenged to a do-or-die match, will Kabilan, a young labourer, put on the gloves himself and lead his clan to victory, or be dissuaded by his disapproving mother and dangerous politics?</p>\n",
       "<p class=\"\">\n",
       "    Director:\n",
       "<a href=\"/name/nm3163794/\">Pa. Ranjith</a>\n",
       "<span class=\"ghost\">|</span> \n",
       "    Stars:\n",
       "<a href=\"/name/nm1951127/\">Arya</a>, \n",
       "<a href=\"/name/nm1367730/\">Pasupathy</a>, \n",
       "<a href=\"/name/nm4071279/\">John Kokken</a>, \n",
       "<a href=\"/name/nm6780182/\">Shabeer Kallarakkal</a>\n",
       "</p>\n",
       "<p class=\"sort-num_votes-visible\">\n",
       "<span class=\"text-muted\">Votes:</span>\n",
       "<span data-value=\"20380\" name=\"nv\">20,380</span>\n",
       "</p>\n",
       "</div>\n",
       "</div>\n",
       "<div class=\"lister-item mode-advanced\">\n",
       "<div class=\"lister-top-right\">\n",
       "<div class=\"ribbonize\" data-caller=\"filmosearch\" data-tconst=\"tt2181931\"></div>\n",
       "</div>\n",
       "<div class=\"lister-item-image float-left\">\n",
       "<a href=\"/title/tt2181931/\"> <img alt=\"English Vinglish\" class=\"loadlate\" data-tconst=\"tt2181931\" height=\"98\" loadlate=\"https://m.media-amazon.com/images/M/MV5BMjQ5YWVmYmYtOWFiZC00NGMxLWEwODctZDM2MWI4YWViN2E5XkEyXkFqcGdeQXVyNjQ2MjQ5NzM@._V1_UY98_CR0,0,67,98_AL_.jpg\" src=\"https://m.media-amazon.com/images/S/sash/4FyxwxECzL-U1J8.png\" width=\"67\"/>\n",
       "</a> </div>\n",
       "<div class=\"lister-item-content\">\n",
       "<h3 class=\"lister-item-header\">\n",
       "<span class=\"lister-item-index unbold text-primary\">30.</span>\n",
       "<a href=\"/title/tt2181931/\">English Vinglish</a>\n",
       "<span class=\"lister-item-year text-muted unbold\">(2012)</span>\n",
       "</h3>\n",
       "<p class=\"text-muted\">\n",
       "<span class=\"certificate\">U</span>\n",
       "<span class=\"ghost\">|</span>\n",
       "<span class=\"runtime\">134 min</span>\n",
       "<span class=\"ghost\">|</span>\n",
       "<span class=\"genre\">\n",
       "Comedy, Drama, Family            </span>\n",
       "</p>\n",
       "<div class=\"ratings-bar\">\n",
       "<div class=\"inline-block ratings-imdb-rating\" data-value=\"7.9\" name=\"ir\">\n",
       "<span class=\"global-sprite rating-star imdb-rating\"></span>\n",
       "<strong>7.9</strong>\n",
       "</div>\n",
       "<div class=\"inline-block ratings-user-rating\">\n",
       "<span class=\"userRatingValue\" data-tconst=\"tt2181931\" id=\"urv_tt2181931\">\n",
       "<span class=\"global-sprite rating-star no-rating\"></span>\n",
       "<span class=\"rate\" data-no-rating=\"Rate this\" data-value=\"0\" name=\"ur\">Rate this</span>\n",
       "</span>\n",
       "<div class=\"starBarWidget\" id=\"sb_tt2181931\">\n",
       "<div class=\"rating rating-list\" data-csrf-token=\"\" data-ga-identifier=\"\" data-starbar-class=\"rating-list\" data-user=\"\" id=\"tt2181931|imdb|7.9|7.9|adv_li_tt||advsearch|title\" itemprop=\"aggregateRating\" itemscope=\"\" itemtype=\"http://schema.org/AggregateRating\" title=\"Users rated this 7.9/10 (35,656 votes) - click stars to rate\">\n",
       "<meta content=\"7.9\" itemprop=\"ratingValue\"/>\n",
       "<meta content=\"10\" itemprop=\"bestRating\"/>\n",
       "<meta content=\"35656\" itemprop=\"ratingCount\"/>\n",
       "<span class=\"rating-bg\"> </span>\n",
       "<span class=\"rating-imdb\" style=\"width: 110.6px\"> </span>\n",
       "<span class=\"rating-stars\">\n",
       "<a href=\"/register/login?why=vote\" rel=\"nofollow\" title=\"Register or login to rate this title\"><span>1</span></a>\n",
       "<a href=\"/register/login?why=vote\" rel=\"nofollow\" title=\"Register or login to rate this title\"><span>2</span></a>\n",
       "<a href=\"/register/login?why=vote\" rel=\"nofollow\" title=\"Register or login to rate this title\"><span>3</span></a>\n",
       "<a href=\"/register/login?why=vote\" rel=\"nofollow\" title=\"Register or login to rate this title\"><span>4</span></a>\n",
       "<a href=\"/register/login?why=vote\" rel=\"nofollow\" title=\"Register or login to rate this title\"><span>5</span></a>\n",
       "<a href=\"/register/login?why=vote\" rel=\"nofollow\" title=\"Register or login to rate this title\"><span>6</span></a>\n",
       "<a href=\"/register/login?why=vote\" rel=\"nofollow\" title=\"Register or login to rate this title\"><span>7</span></a>\n",
       "<a href=\"/register/login?why=vote\" rel=\"nofollow\" title=\"Register or login to rate this title\"><span>8</span></a>\n",
       "<a href=\"/register/login?why=vote\" rel=\"nofollow\" title=\"Register or login to rate this title\"><span>9</span></a>\n",
       "<a href=\"/register/login?why=vote\" rel=\"nofollow\" title=\"Register or login to rate this title\"><span>10</span></a>\n",
       "</span>\n",
       "<span class=\"rating-rating\"><span class=\"value\">7.9</span><span class=\"grey\">/</span><span class=\"grey\">10</span></span>\n",
       "<span class=\"rating-cancel\"><a href=\"/title/tt2181931/vote\" rel=\"nofollow\" title=\"Delete\"><span>X</span></a></span>\n",
       " </div>\n",
       "</div>\n",
       "</div>\n",
       "</div>\n",
       "<p class=\"text-muted\">\n",
       "A quiet, sweet tempered housewife endures small slights from her well-educated husband and daughter every day because of her inability to speak and understand English.</p>\n",
       "<p class=\"\">\n",
       "    Director:\n",
       "<a href=\"/name/nm1903006/\">Gauri Shinde</a>\n",
       "<span class=\"ghost\">|</span> \n",
       "    Stars:\n",
       "<a href=\"/name/nm0004437/\">Sridevi</a>, \n",
       "<a href=\"/name/nm1300009/\">Adil Hussain</a>, \n",
       "<a href=\"/name/nm0623854/\">Mehdi Nebbou</a>, \n",
       "<a href=\"/name/nm3591550/\">Priya Anand</a>\n",
       "</p>\n",
       "<p class=\"sort-num_votes-visible\">\n",
       "<span class=\"text-muted\">Votes:</span>\n",
       "<span data-value=\"35656\" name=\"nv\">35,656</span>\n",
       "<span class=\"ghost\">|</span> <span class=\"text-muted\">Gross:</span>\n",
       "<span data-value=\"1,670,773\" name=\"nv\">$1.67M</span>\n",
       "</p>\n",
       "</div>\n",
       "</div>\n",
       "<div class=\"lister-item mode-advanced\">\n",
       "<div class=\"lister-top-right\">\n",
       "<div class=\"ribbonize\" data-caller=\"filmosearch\" data-tconst=\"tt9477520\"></div>\n",
       "</div>\n",
       "<div class=\"lister-item-image float-left\">\n",
       "<a href=\"/title/tt9477520/\"> <img alt=\"Asuran\" class=\"loadlate\" data-tconst=\"tt9477520\" height=\"98\" loadlate=\"https://m.media-amazon.com/images/M/MV5BYWE3M2FhMmYtYjJjZC00YTZlLTkyNGYtMTg2YjQ2ZjA5MzZjXkEyXkFqcGdeQXVyODIwMDI1NjM@._V1_UX67_CR0,0,67,98_AL_.jpg\" src=\"https://m.media-amazon.com/images/S/sash/4FyxwxECzL-U1J8.png\" width=\"67\"/>\n",
       "</a> </div>\n",
       "<div class=\"lister-item-content\">\n",
       "<h3 class=\"lister-item-header\">\n",
       "<span class=\"lister-item-index unbold text-primary\">31.</span>\n",
       "<a href=\"/title/tt9477520/\">Asuran</a>\n",
       "<span class=\"lister-item-year text-muted unbold\">(2019)</span>\n",
       "</h3>\n",
       "<p class=\"text-muted\">\n",
       "<span class=\"certificate\">UA</span>\n",
       "<span class=\"ghost\">|</span>\n",
       "<span class=\"runtime\">141 min</span>\n",
       "<span class=\"ghost\">|</span>\n",
       "<span class=\"genre\">\n",
       "Action, Drama            </span>\n",
       "</p>\n",
       "<div class=\"ratings-bar\">\n",
       "<div class=\"inline-block ratings-imdb-rating\" data-value=\"8.6\" name=\"ir\">\n",
       "<span class=\"global-sprite rating-star imdb-rating\"></span>\n",
       "<strong>8.6</strong>\n",
       "</div>\n",
       "<div class=\"inline-block ratings-user-rating\">\n",
       "<span class=\"userRatingValue\" data-tconst=\"tt9477520\" id=\"urv_tt9477520\">\n",
       "<span class=\"global-sprite rating-star no-rating\"></span>\n",
       "<span class=\"rate\" data-no-rating=\"Rate this\" data-value=\"0\" name=\"ur\">Rate this</span>\n",
       "</span>\n",
       "<div class=\"starBarWidget\" id=\"sb_tt9477520\">\n",
       "<div class=\"rating rating-list\" data-csrf-token=\"\" data-ga-identifier=\"\" data-starbar-class=\"rating-list\" data-user=\"\" id=\"tt9477520|imdb|8.6|8.6|adv_li_tt||advsearch|title\" itemprop=\"aggregateRating\" itemscope=\"\" itemtype=\"http://schema.org/AggregateRating\" title=\"Users rated this 8.6/10 (25,455 votes) - click stars to rate\">\n",
       "<meta content=\"8.6\" itemprop=\"ratingValue\"/>\n",
       "<meta content=\"10\" itemprop=\"bestRating\"/>\n",
       "<meta content=\"25455\" itemprop=\"ratingCount\"/>\n",
       "<span class=\"rating-bg\"> </span>\n",
       "<span class=\"rating-imdb\" style=\"width: 120.4px\"> </span>\n",
       "<span class=\"rating-stars\">\n",
       "<a href=\"/register/login?why=vote\" rel=\"nofollow\" title=\"Register or login to rate this title\"><span>1</span></a>\n",
       "<a href=\"/register/login?why=vote\" rel=\"nofollow\" title=\"Register or login to rate this title\"><span>2</span></a>\n",
       "<a href=\"/register/login?why=vote\" rel=\"nofollow\" title=\"Register or login to rate this title\"><span>3</span></a>\n",
       "<a href=\"/register/login?why=vote\" rel=\"nofollow\" title=\"Register or login to rate this title\"><span>4</span></a>\n",
       "<a href=\"/register/login?why=vote\" rel=\"nofollow\" title=\"Register or login to rate this title\"><span>5</span></a>\n",
       "<a href=\"/register/login?why=vote\" rel=\"nofollow\" title=\"Register or login to rate this title\"><span>6</span></a>\n",
       "<a href=\"/register/login?why=vote\" rel=\"nofollow\" title=\"Register or login to rate this title\"><span>7</span></a>\n",
       "<a href=\"/register/login?why=vote\" rel=\"nofollow\" title=\"Register or login to rate this title\"><span>8</span></a>\n",
       "<a href=\"/register/login?why=vote\" rel=\"nofollow\" title=\"Register or login to rate this title\"><span>9</span></a>\n",
       "<a href=\"/register/login?why=vote\" rel=\"nofollow\" title=\"Register or login to rate this title\"><span>10</span></a>\n",
       "</span>\n",
       "<span class=\"rating-rating\"><span class=\"value\">8.6</span><span class=\"grey\">/</span><span class=\"grey\">10</span></span>\n",
       "<span class=\"rating-cancel\"><a href=\"/title/tt9477520/vote\" rel=\"nofollow\" title=\"Delete\"><span>X</span></a></span>\n",
       " </div>\n",
       "</div>\n",
       "</div>\n",
       "</div>\n",
       "<p class=\"text-muted\">\n",
       "The teenage son of a farmer from an underprivileged caste kills a rich, upper caste landlord. Will the farmer, a loving father and a pacifist by heart, be able to save his hot-blooded son is the rest of the story.</p>\n",
       "<p class=\"\">\n",
       "    Director:\n",
       "<a href=\"/name/nm4274575/\">Vetrimaaran</a>\n",
       "<span class=\"ghost\">|</span> \n",
       "    Stars:\n",
       "<a href=\"/name/nm1333687/\">Dhanush</a>, \n",
       "<a href=\"/name/nm0913097/\">Manju Warrier</a>, \n",
       "<a href=\"/name/nm0695177/\">Prakash Raj</a>, \n",
       "<a href=\"/name/nm1367730/\">Pasupathy</a>\n",
       "</p>\n",
       "<p class=\"sort-num_votes-visible\">\n",
       "<span class=\"text-muted\">Votes:</span>\n",
       "<span data-value=\"25455\" name=\"nv\">25,455</span>\n",
       "</p>\n",
       "</div>\n",
       "</div>\n",
       "<div class=\"lister-item mode-advanced\">\n",
       "<div class=\"lister-top-right\">\n",
       "<div class=\"ribbonize\" data-caller=\"filmosearch\" data-tconst=\"tt11730914\"></div>\n",
       "</div>\n",
       "<div class=\"lister-item-image float-left\">\n",
       "<a href=\"/title/tt11730914/\"> <img alt=\"Maaran\" class=\"loadlate\" data-tconst=\"tt11730914\" height=\"98\" loadlate=\"https://m.media-amazon.com/images/M/MV5BZjM1YzBhNWItYzgwZC00MzQxLWI5ZmQtNzFmMjBiYzFjMjhmXkEyXkFqcGdeQXVyMTEzNzg0Mjkx._V1_UX67_CR0,0,67,98_AL_.jpg\" src=\"https://m.media-amazon.com/images/S/sash/4FyxwxECzL-U1J8.png\" width=\"67\"/>\n",
       "</a> </div>\n",
       "<div class=\"lister-item-content\">\n",
       "<h3 class=\"lister-item-header\">\n",
       "<span class=\"lister-item-index unbold text-primary\">32.</span>\n",
       "<a href=\"/title/tt11730914/\">Maaran</a>\n",
       "<span class=\"lister-item-year text-muted unbold\">(2022)</span>\n",
       "</h3>\n",
       "<p class=\"text-muted\">\n",
       "<span class=\"certificate\">UA 16+</span>\n",
       "<span class=\"ghost\">|</span>\n",
       "<span class=\"genre\">\n",
       "Action, Thriller            </span>\n",
       "</p>\n",
       "<p class=\"text-muted\">\n",
       "An investigative journalist is in trouble when he publishes an article that exposes bitter truths about a corrupt politician.</p>\n",
       "<p class=\"\">\n",
       "    Director:\n",
       "<a href=\"/name/nm8678191/\">Karthick Naren</a>\n",
       "<span class=\"ghost\">|</span> \n",
       "    Stars:\n",
       "<a href=\"/name/nm6017002/\">Malavika Mohanan</a>, \n",
       "<a href=\"/name/nm2284321/\">Samuthirakani</a>, \n",
       "<a href=\"/name/nm9638687/\">Smruthi Venkat</a>, \n",
       "<a href=\"/name/nm1195431/\">Mahendran</a>\n",
       "</p>\n",
       "</div>\n",
       "</div>\n",
       "<div class=\"lister-item mode-advanced\">\n",
       "<div class=\"lister-top-right\">\n",
       "<div class=\"ribbonize\" data-caller=\"filmosearch\" data-tconst=\"tt8176054\"></div>\n",
       "</div>\n",
       "<div class=\"lister-item-image float-left\">\n",
       "<a href=\"/title/tt8176054/\"> <img alt=\"Pariyerum Perumal\" class=\"loadlate\" data-tconst=\"tt8176054\" height=\"98\" loadlate=\"https://m.media-amazon.com/images/M/MV5BNDNiZmU1Y2YtYzljMy00YWFhLWIxZjUtZTUxNGUyYmI5OTgzXkEyXkFqcGdeQXVyOTk3NTc2MzE@._V1_UX67_CR0,0,67,98_AL_.jpg\" src=\"https://m.media-amazon.com/images/S/sash/4FyxwxECzL-U1J8.png\" width=\"67\"/>\n",
       "</a> </div>\n",
       "<div class=\"lister-item-content\">\n",
       "<h3 class=\"lister-item-header\">\n",
       "<span class=\"lister-item-index unbold text-primary\">33.</span>\n",
       "<a href=\"/title/tt8176054/\">Pariyerum Perumal</a>\n",
       "<span class=\"lister-item-year text-muted unbold\">(2018)</span>\n",
       "</h3>\n",
       "<p class=\"text-muted\">\n",
       "<span class=\"certificate\">U</span>\n",
       "<span class=\"ghost\">|</span>\n",
       "<span class=\"runtime\">154 min</span>\n",
       "<span class=\"ghost\">|</span>\n",
       "<span class=\"genre\">\n",
       "Drama            </span>\n",
       "</p>\n",
       "<div class=\"ratings-bar\">\n",
       "<div class=\"inline-block ratings-imdb-rating\" data-value=\"8.9\" name=\"ir\">\n",
       "<span class=\"global-sprite rating-star imdb-rating\"></span>\n",
       "<strong>8.9</strong>\n",
       "</div>\n",
       "<div class=\"inline-block ratings-user-rating\">\n",
       "<span class=\"userRatingValue\" data-tconst=\"tt8176054\" id=\"urv_tt8176054\">\n",
       "<span class=\"global-sprite rating-star no-rating\"></span>\n",
       "<span class=\"rate\" data-no-rating=\"Rate this\" data-value=\"0\" name=\"ur\">Rate this</span>\n",
       "</span>\n",
       "<div class=\"starBarWidget\" id=\"sb_tt8176054\">\n",
       "<div class=\"rating rating-list\" data-csrf-token=\"\" data-ga-identifier=\"\" data-starbar-class=\"rating-list\" data-user=\"\" id=\"tt8176054|imdb|8.9|8.9|adv_li_tt||advsearch|title\" itemprop=\"aggregateRating\" itemscope=\"\" itemtype=\"http://schema.org/AggregateRating\" title=\"Users rated this 8.9/10 (15,045 votes) - click stars to rate\">\n",
       "<meta content=\"8.9\" itemprop=\"ratingValue\"/>\n",
       "<meta content=\"10\" itemprop=\"bestRating\"/>\n",
       "<meta content=\"15045\" itemprop=\"ratingCount\"/>\n",
       "<span class=\"rating-bg\"> </span>\n",
       "<span class=\"rating-imdb\" style=\"width: 124.6px\"> </span>\n",
       "<span class=\"rating-stars\">\n",
       "<a href=\"/register/login?why=vote\" rel=\"nofollow\" title=\"Register or login to rate this title\"><span>1</span></a>\n",
       "<a href=\"/register/login?why=vote\" rel=\"nofollow\" title=\"Register or login to rate this title\"><span>2</span></a>\n",
       "<a href=\"/register/login?why=vote\" rel=\"nofollow\" title=\"Register or login to rate this title\"><span>3</span></a>\n",
       "<a href=\"/register/login?why=vote\" rel=\"nofollow\" title=\"Register or login to rate this title\"><span>4</span></a>\n",
       "<a href=\"/register/login?why=vote\" rel=\"nofollow\" title=\"Register or login to rate this title\"><span>5</span></a>\n",
       "<a href=\"/register/login?why=vote\" rel=\"nofollow\" title=\"Register or login to rate this title\"><span>6</span></a>\n",
       "<a href=\"/register/login?why=vote\" rel=\"nofollow\" title=\"Register or login to rate this title\"><span>7</span></a>\n",
       "<a href=\"/register/login?why=vote\" rel=\"nofollow\" title=\"Register or login to rate this title\"><span>8</span></a>\n",
       "<a href=\"/register/login?why=vote\" rel=\"nofollow\" title=\"Register or login to rate this title\"><span>9</span></a>\n",
       "<a href=\"/register/login?why=vote\" rel=\"nofollow\" title=\"Register or login to rate this title\"><span>10</span></a>\n",
       "</span>\n",
       "<span class=\"rating-rating\"><span class=\"value\">8.9</span><span class=\"grey\">/</span><span class=\"grey\">10</span></span>\n",
       "<span class=\"rating-cancel\"><a href=\"/title/tt8176054/vote\" rel=\"nofollow\" title=\"Delete\"><span>X</span></a></span>\n",
       " </div>\n",
       "</div>\n",
       "</div>\n",
       "</div>\n",
       "<p class=\"text-muted\">\n",
       "A law student from a lower caste begins a friendship with his classmate, a girl who belongs to a higher caste, and the men in her family start giving him trouble over this.</p>\n",
       "<p class=\"\">\n",
       "    Directors:\n",
       "<a href=\"/name/nm6041683/\">Mari Selvaraj</a>, \n",
       "<a href=\"/name/nm10328250/\">Prabunath</a>\n",
       "<span class=\"ghost\">|</span> \n",
       "    Stars:\n",
       "<a href=\"/name/nm6453091/\">Kathir</a>, \n",
       "<a href=\"/name/nm6695317/\">Anandhi</a>, \n",
       "<a href=\"/name/nm6489058/\">Yogi Babu</a>, \n",
       "<a href=\"/name/nm6851593/\">Lijeesh</a>\n",
       "</p>\n",
       "<p class=\"sort-num_votes-visible\">\n",
       "<span class=\"text-muted\">Votes:</span>\n",
       "<span data-value=\"15045\" name=\"nv\">15,045</span>\n",
       "</p>\n",
       "</div>\n",
       "</div>\n",
       "<div class=\"lister-item mode-advanced\">\n",
       "<div class=\"lister-top-right\">\n",
       "<div class=\"ribbonize\" data-caller=\"filmosearch\" data-tconst=\"tt0222012\"></div>\n",
       "</div>\n",
       "<div class=\"lister-item-image float-left\">\n",
       "<a href=\"/title/tt0222012/\"> <img alt=\"Hey Ram\" class=\"loadlate\" data-tconst=\"tt0222012\" height=\"98\" loadlate=\"https://m.media-amazon.com/images/M/MV5BYzMxYzZjMDUtZjI3Ni00Y2M2LTllYWItNzJmZTJjMzkyYjlmXkEyXkFqcGdeQXVyODEzOTQwNTY@._V1_UX67_CR0,0,67,98_AL_.jpg\" src=\"https://m.media-amazon.com/images/S/sash/4FyxwxECzL-U1J8.png\" width=\"67\"/>\n",
       "</a> </div>\n",
       "<div class=\"lister-item-content\">\n",
       "<h3 class=\"lister-item-header\">\n",
       "<span class=\"lister-item-index unbold text-primary\">34.</span>\n",
       "<a href=\"/title/tt0222012/\">Hey Ram</a>\n",
       "<span class=\"lister-item-year text-muted unbold\">(2000)</span>\n",
       "</h3>\n",
       "<p class=\"text-muted\">\n",
       "<span class=\"certificate\">A</span>\n",
       "<span class=\"ghost\">|</span>\n",
       "<span class=\"runtime\">186 min</span>\n",
       "<span class=\"ghost\">|</span>\n",
       "<span class=\"genre\">\n",
       "Crime, Drama, History            </span>\n",
       "</p>\n",
       "<div class=\"ratings-bar\">\n",
       "<div class=\"inline-block ratings-imdb-rating\" data-value=\"8\" name=\"ir\">\n",
       "<span class=\"global-sprite rating-star imdb-rating\"></span>\n",
       "<strong>8.0</strong>\n",
       "</div>\n",
       "<div class=\"inline-block ratings-user-rating\">\n",
       "<span class=\"userRatingValue\" data-tconst=\"tt0222012\" id=\"urv_tt0222012\">\n",
       "<span class=\"global-sprite rating-star no-rating\"></span>\n",
       "<span class=\"rate\" data-no-rating=\"Rate this\" data-value=\"0\" name=\"ur\">Rate this</span>\n",
       "</span>\n",
       "<div class=\"starBarWidget\" id=\"sb_tt0222012\">\n",
       "<div class=\"rating rating-list\" data-csrf-token=\"\" data-ga-identifier=\"\" data-starbar-class=\"rating-list\" data-user=\"\" id=\"tt0222012|imdb|8|8|adv_li_tt||advsearch|title\" itemprop=\"aggregateRating\" itemscope=\"\" itemtype=\"http://schema.org/AggregateRating\" title=\"Users rated this 8/10 (12,537 votes) - click stars to rate\">\n",
       "<meta content=\"8\" itemprop=\"ratingValue\"/>\n",
       "<meta content=\"10\" itemprop=\"bestRating\"/>\n",
       "<meta content=\"12537\" itemprop=\"ratingCount\"/>\n",
       "<span class=\"rating-bg\"> </span>\n",
       "<span class=\"rating-imdb\" style=\"width: 112px\"> </span>\n",
       "<span class=\"rating-stars\">\n",
       "<a href=\"/register/login?why=vote\" rel=\"nofollow\" title=\"Register or login to rate this title\"><span>1</span></a>\n",
       "<a href=\"/register/login?why=vote\" rel=\"nofollow\" title=\"Register or login to rate this title\"><span>2</span></a>\n",
       "<a href=\"/register/login?why=vote\" rel=\"nofollow\" title=\"Register or login to rate this title\"><span>3</span></a>\n",
       "<a href=\"/register/login?why=vote\" rel=\"nofollow\" title=\"Register or login to rate this title\"><span>4</span></a>\n",
       "<a href=\"/register/login?why=vote\" rel=\"nofollow\" title=\"Register or login to rate this title\"><span>5</span></a>\n",
       "<a href=\"/register/login?why=vote\" rel=\"nofollow\" title=\"Register or login to rate this title\"><span>6</span></a>\n",
       "<a href=\"/register/login?why=vote\" rel=\"nofollow\" title=\"Register or login to rate this title\"><span>7</span></a>\n",
       "<a href=\"/register/login?why=vote\" rel=\"nofollow\" title=\"Register or login to rate this title\"><span>8</span></a>\n",
       "<a href=\"/register/login?why=vote\" rel=\"nofollow\" title=\"Register or login to rate this title\"><span>9</span></a>\n",
       "<a href=\"/register/login?why=vote\" rel=\"nofollow\" title=\"Register or login to rate this title\"><span>10</span></a>\n",
       "</span>\n",
       "<span class=\"rating-rating\"><span class=\"value\">8</span><span class=\"grey\">/</span><span class=\"grey\">10</span></span>\n",
       "<span class=\"rating-cancel\"><a href=\"/title/tt0222012/vote\" rel=\"nofollow\" title=\"Delete\"><span>X</span></a></span>\n",
       " </div>\n",
       "</div>\n",
       "</div>\n",
       "</div>\n",
       "<p class=\"text-muted\">\n",
       "Saketh Ram's wife is raped and killed during direct action day riots in Calcutta. He is convinced that Mahatma Gandhi is responsible for all the problems happening in the country and sets out to kill him.</p>\n",
       "<p class=\"\">\n",
       "    Director:\n",
       "<a href=\"/name/nm0352032/\">Kamal Haasan</a>\n",
       "<span class=\"ghost\">|</span> \n",
       "    Stars:\n",
       "<a href=\"/name/nm0352032/\">Kamal Haasan</a>, \n",
       "<a href=\"/name/nm0451321/\">Shah Rukh Khan</a>, \n",
       "<a href=\"/name/nm0611552/\">Rani Mukerji</a>, \n",
       "<a href=\"/name/nm0004564/\">Hema Malini</a>\n",
       "</p>\n",
       "<p class=\"sort-num_votes-visible\">\n",
       "<span class=\"text-muted\">Votes:</span>\n",
       "<span data-value=\"12537\" name=\"nv\">12,537</span>\n",
       "<span class=\"ghost\">|</span> <span class=\"text-muted\">Gross:</span>\n",
       "<span data-value=\"274,675\" name=\"nv\">$0.27M</span>\n",
       "</p>\n",
       "</div>\n",
       "</div>\n",
       "<div class=\"lister-item mode-advanced\">\n",
       "<div class=\"lister-top-right\">\n",
       "<div class=\"ribbonize\" data-caller=\"filmosearch\" data-tconst=\"tt10340562\"></div>\n",
       "</div>\n",
       "<div class=\"lister-item-image float-left\">\n",
       "<a href=\"/title/tt10340562/\"> <img alt=\"Etharkkum Thunindhavan\" class=\"loadlate\" data-tconst=\"tt10340562\" height=\"98\" loadlate=\"https://m.media-amazon.com/images/M/MV5BY2UyMWFkMjgtODA3Mi00NWQ1LWE0NTMtZTA4MmJkNDEwNjkyXkEyXkFqcGdeQXVyODIwMDI1NjM@._V1_UY98_CR5,0,67,98_AL_.jpg\" src=\"https://m.media-amazon.com/images/S/sash/4FyxwxECzL-U1J8.png\" width=\"67\"/>\n",
       "</a> </div>\n",
       "<div class=\"lister-item-content\">\n",
       "<h3 class=\"lister-item-header\">\n",
       "<span class=\"lister-item-index unbold text-primary\">35.</span>\n",
       "<a href=\"/title/tt10340562/\">Etharkkum Thunindhavan</a>\n",
       "<span class=\"lister-item-year text-muted unbold\">(2022)</span>\n",
       "</h3>\n",
       "<p class=\"text-muted\">\n",
       "<span class=\"certificate\">UA</span>\n",
       "<span class=\"ghost\">|</span>\n",
       "<span class=\"runtime\">151 min</span>\n",
       "<span class=\"ghost\">|</span>\n",
       "<span class=\"genre\">\n",
       "Action            </span>\n",
       "<span class=\"ghost\">|</span>\n",
       "<b>Announced</b>\n",
       "</p>\n",
       "<p class=\"text-muted\">\n",
       "How the protagonist, a social fighter in the film, will be fighting the crimes against women?</p>\n",
       "<p class=\"\">\n",
       "    Director:\n",
       "<a href=\"/name/nm4242010/\">Pandiraj</a>\n",
       "<span class=\"ghost\">|</span> \n",
       "    Stars:\n",
       "<a href=\"/name/nm1421814/\">Suriya</a>, \n",
       "<a href=\"/name/nm10484501/\">Priyanka Arulmohan</a>, \n",
       "<a href=\"/name/nm5465715/\">Pugazh</a>, \n",
       "<a href=\"/name/nm0766470/\">Sathyaraj</a>\n",
       "</p>\n",
       "</div>\n",
       "</div>\n",
       "<div class=\"lister-item mode-advanced\">\n",
       "<div class=\"lister-top-right\">\n",
       "<div class=\"ribbonize\" data-caller=\"filmosearch\" data-tconst=\"tt8914492\"></div>\n",
       "</div>\n",
       "<div class=\"lister-item-image float-left\">\n",
       "<a href=\"/title/tt8914492/\"> <img alt=\"Game Over\" class=\"loadlate\" data-tconst=\"tt8914492\" height=\"98\" loadlate=\"https://m.media-amazon.com/images/M/MV5BZDA5OTIyZmYtNTIyNS00ODgyLWEzNjMtZTg2NDk5ZjdjZGVmXkEyXkFqcGdeQXVyMzI4MzEwNQ@@._V1_UX67_CR0,0,67,98_AL_.jpg\" src=\"https://m.media-amazon.com/images/S/sash/4FyxwxECzL-U1J8.png\" width=\"67\"/>\n",
       "</a> </div>\n",
       "<div class=\"lister-item-content\">\n",
       "<h3 class=\"lister-item-header\">\n",
       "<span class=\"lister-item-index unbold text-primary\">36.</span>\n",
       "<a href=\"/title/tt8914492/\">Game Over</a>\n",
       "<span class=\"lister-item-year text-muted unbold\">(I) (2019)</span>\n",
       "</h3>\n",
       "<p class=\"text-muted\">\n",
       "<span class=\"certificate\">UA</span>\n",
       "<span class=\"ghost\">|</span>\n",
       "<span class=\"runtime\">102 min</span>\n",
       "<span class=\"ghost\">|</span>\n",
       "<span class=\"genre\">\n",
       "Drama, Mystery, Thriller            </span>\n",
       "</p>\n",
       "<div class=\"ratings-bar\">\n",
       "<div class=\"inline-block ratings-imdb-rating\" data-value=\"7\" name=\"ir\">\n",
       "<span class=\"global-sprite rating-star imdb-rating\"></span>\n",
       "<strong>7.0</strong>\n",
       "</div>\n",
       "<div class=\"inline-block ratings-user-rating\">\n",
       "<span class=\"userRatingValue\" data-tconst=\"tt8914492\" id=\"urv_tt8914492\">\n",
       "<span class=\"global-sprite rating-star no-rating\"></span>\n",
       "<span class=\"rate\" data-no-rating=\"Rate this\" data-value=\"0\" name=\"ur\">Rate this</span>\n",
       "</span>\n",
       "<div class=\"starBarWidget\" id=\"sb_tt8914492\">\n",
       "<div class=\"rating rating-list\" data-csrf-token=\"\" data-ga-identifier=\"\" data-starbar-class=\"rating-list\" data-user=\"\" id=\"tt8914492|imdb|7|7|adv_li_tt||advsearch|title\" itemprop=\"aggregateRating\" itemscope=\"\" itemtype=\"http://schema.org/AggregateRating\" title=\"Users rated this 7/10 (7,269 votes) - click stars to rate\">\n",
       "<meta content=\"7\" itemprop=\"ratingValue\"/>\n",
       "<meta content=\"10\" itemprop=\"bestRating\"/>\n",
       "<meta content=\"7269\" itemprop=\"ratingCount\"/>\n",
       "<span class=\"rating-bg\"> </span>\n",
       "<span class=\"rating-imdb\" style=\"width: 98px\"> </span>\n",
       "<span class=\"rating-stars\">\n",
       "<a href=\"/register/login?why=vote\" rel=\"nofollow\" title=\"Register or login to rate this title\"><span>1</span></a>\n",
       "<a href=\"/register/login?why=vote\" rel=\"nofollow\" title=\"Register or login to rate this title\"><span>2</span></a>\n",
       "<a href=\"/register/login?why=vote\" rel=\"nofollow\" title=\"Register or login to rate this title\"><span>3</span></a>\n",
       "<a href=\"/register/login?why=vote\" rel=\"nofollow\" title=\"Register or login to rate this title\"><span>4</span></a>\n",
       "<a href=\"/register/login?why=vote\" rel=\"nofollow\" title=\"Register or login to rate this title\"><span>5</span></a>\n",
       "<a href=\"/register/login?why=vote\" rel=\"nofollow\" title=\"Register or login to rate this title\"><span>6</span></a>\n",
       "<a href=\"/register/login?why=vote\" rel=\"nofollow\" title=\"Register or login to rate this title\"><span>7</span></a>\n",
       "<a href=\"/register/login?why=vote\" rel=\"nofollow\" title=\"Register or login to rate this title\"><span>8</span></a>\n",
       "<a href=\"/register/login?why=vote\" rel=\"nofollow\" title=\"Register or login to rate this title\"><span>9</span></a>\n",
       "<a href=\"/register/login?why=vote\" rel=\"nofollow\" title=\"Register or login to rate this title\"><span>10</span></a>\n",
       "</span>\n",
       "<span class=\"rating-rating\"><span class=\"value\">7</span><span class=\"grey\">/</span><span class=\"grey\">10</span></span>\n",
       "<span class=\"rating-cancel\"><a href=\"/title/tt8914492/vote\" rel=\"nofollow\" title=\"Delete\"><span>X</span></a></span>\n",
       " </div>\n",
       "</div>\n",
       "</div>\n",
       "</div>\n",
       "<p class=\"text-muted\">\n",
       "A nyctophobic woman has to fight her inner demons to stay alive in the game called life.</p>\n",
       "<p class=\"\">\n",
       "    Director:\n",
       "<a href=\"/name/nm7594197/\">Ashwin Saravanan</a>\n",
       "<span class=\"ghost\">|</span> \n",
       "    Stars:\n",
       "<a href=\"/name/nm3966456/\">Taapsee Pannu</a>, \n",
       "<a href=\"/name/nm6678966/\">Vinodhini Vaidynathan</a>, \n",
       "<a href=\"/name/nm2378839/\">Anish Kuruvilla</a>, \n",
       "<a href=\"/name/nm6427403/\">Ramya Subramanian</a>\n",
       "</p>\n",
       "<p class=\"sort-num_votes-visible\">\n",
       "<span class=\"text-muted\">Votes:</span>\n",
       "<span data-value=\"7269\" name=\"nv\">7,269</span>\n",
       "</p>\n",
       "</div>\n",
       "</div>\n",
       "<div class=\"lister-item mode-advanced\">\n",
       "<div class=\"lister-top-right\">\n",
       "<div class=\"ribbonize\" data-caller=\"filmosearch\" data-tconst=\"tt11396290\"></div>\n",
       "</div>\n",
       "<div class=\"lister-item-image float-left\">\n",
       "<a href=\"/title/tt11396290/\"> <img alt=\"Bachelor\" class=\"loadlate\" data-tconst=\"tt11396290\" height=\"98\" loadlate=\"https://m.media-amazon.com/images/M/MV5BZDZiNGYwMTYtZmNkNi00NTVlLTkzMmUtOGY1YWIzZmQ1ZDAwXkEyXkFqcGdeQXVyMTk3MTYxMzY@._V1_UY98_CR15,0,67,98_AL_.jpg\" src=\"https://m.media-amazon.com/images/S/sash/4FyxwxECzL-U1J8.png\" width=\"67\"/>\n",
       "</a> </div>\n",
       "<div class=\"lister-item-content\">\n",
       "<h3 class=\"lister-item-header\">\n",
       "<span class=\"lister-item-index unbold text-primary\">37.</span>\n",
       "<a href=\"/title/tt11396290/\">Bachelor</a>\n",
       "<span class=\"lister-item-year text-muted unbold\">(2021)</span>\n",
       "</h3>\n",
       "<p class=\"text-muted\">\n",
       "<span class=\"certificate\">A</span>\n",
       "<span class=\"ghost\">|</span>\n",
       "<span class=\"runtime\">174 min</span>\n",
       "<span class=\"ghost\">|</span>\n",
       "<span class=\"genre\">\n",
       "Drama            </span>\n",
       "</p>\n",
       "<div class=\"ratings-bar\">\n",
       "<div class=\"inline-block ratings-imdb-rating\" data-value=\"6.3\" name=\"ir\">\n",
       "<span class=\"global-sprite rating-star imdb-rating\"></span>\n",
       "<strong>6.3</strong>\n",
       "</div>\n",
       "<div class=\"inline-block ratings-user-rating\">\n",
       "<span class=\"userRatingValue\" data-tconst=\"tt11396290\" id=\"urv_tt11396290\">\n",
       "<span class=\"global-sprite rating-star no-rating\"></span>\n",
       "<span class=\"rate\" data-no-rating=\"Rate this\" data-value=\"0\" name=\"ur\">Rate this</span>\n",
       "</span>\n",
       "<div class=\"starBarWidget\" id=\"sb_tt11396290\">\n",
       "<div class=\"rating rating-list\" data-csrf-token=\"\" data-ga-identifier=\"\" data-starbar-class=\"rating-list\" data-user=\"\" id=\"tt11396290|imdb|6.3|6.3|adv_li_tt||advsearch|title\" itemprop=\"aggregateRating\" itemscope=\"\" itemtype=\"http://schema.org/AggregateRating\" title=\"Users rated this 6.3/10 (1,726 votes) - click stars to rate\">\n",
       "<meta content=\"6.3\" itemprop=\"ratingValue\"/>\n",
       "<meta content=\"10\" itemprop=\"bestRating\"/>\n",
       "<meta content=\"1726\" itemprop=\"ratingCount\"/>\n",
       "<span class=\"rating-bg\"> </span>\n",
       "<span class=\"rating-imdb\" style=\"width: 88.2px\"> </span>\n",
       "<span class=\"rating-stars\">\n",
       "<a href=\"/register/login?why=vote\" rel=\"nofollow\" title=\"Register or login to rate this title\"><span>1</span></a>\n",
       "<a href=\"/register/login?why=vote\" rel=\"nofollow\" title=\"Register or login to rate this title\"><span>2</span></a>\n",
       "<a href=\"/register/login?why=vote\" rel=\"nofollow\" title=\"Register or login to rate this title\"><span>3</span></a>\n",
       "<a href=\"/register/login?why=vote\" rel=\"nofollow\" title=\"Register or login to rate this title\"><span>4</span></a>\n",
       "<a href=\"/register/login?why=vote\" rel=\"nofollow\" title=\"Register or login to rate this title\"><span>5</span></a>\n",
       "<a href=\"/register/login?why=vote\" rel=\"nofollow\" title=\"Register or login to rate this title\"><span>6</span></a>\n",
       "<a href=\"/register/login?why=vote\" rel=\"nofollow\" title=\"Register or login to rate this title\"><span>7</span></a>\n",
       "<a href=\"/register/login?why=vote\" rel=\"nofollow\" title=\"Register or login to rate this title\"><span>8</span></a>\n",
       "<a href=\"/register/login?why=vote\" rel=\"nofollow\" title=\"Register or login to rate this title\"><span>9</span></a>\n",
       "<a href=\"/register/login?why=vote\" rel=\"nofollow\" title=\"Register or login to rate this title\"><span>10</span></a>\n",
       "</span>\n",
       "<span class=\"rating-rating\"><span class=\"value\">6.3</span><span class=\"grey\">/</span><span class=\"grey\">10</span></span>\n",
       "<span class=\"rating-cancel\"><a href=\"/title/tt11396290/vote\" rel=\"nofollow\" title=\"Delete\"><span>X</span></a></span>\n",
       " </div>\n",
       "</div>\n",
       "</div>\n",
       "</div>\n",
       "<p class=\"text-muted\">\n",
       "A deeply flawed guy with behavioral issues and conservative background get into a live-in relationship with a hep modern girl and the problems that follow</p>\n",
       "<p class=\"\">\n",
       "    Director:\n",
       "<a href=\"/name/nm11182350/\">Sathish Selvakumar</a>\n",
       "<span class=\"ghost\">|</span> \n",
       "    Stars:\n",
       "<a href=\"/name/nm11882661/\">Divya Bharathi</a>, \n",
       "<a href=\"/name/nm1574854/\">G.V. Prakash Kumar</a>, \n",
       "<a href=\"/name/nm13151169/\">Nakkalites Arun Kumar</a>, \n",
       "<a href=\"/name/nm6106368/\">Munishkanth</a>\n",
       "</p>\n",
       "<p class=\"sort-num_votes-visible\">\n",
       "<span class=\"text-muted\">Votes:</span>\n",
       "<span data-value=\"1726\" name=\"nv\">1,726</span>\n",
       "</p>\n",
       "</div>\n",
       "</div>\n",
       "<div class=\"lister-item mode-advanced\">\n",
       "<div class=\"lister-top-right\">\n",
       "<div class=\"ribbonize\" data-caller=\"filmosearch\" data-tconst=\"tt10152736\"></div>\n",
       "</div>\n",
       "<div class=\"lister-item-image float-left\">\n",
       "<a href=\"/title/tt10152736/\"> <img alt=\"Thalaivi\" class=\"loadlate\" data-tconst=\"tt10152736\" height=\"98\" loadlate=\"https://m.media-amazon.com/images/M/MV5BNzQxYzNkMzAtMjJmNS00MjE1LWI3ZTYtMjg4OGE2ZWFjMmRjXkEyXkFqcGdeQXVyMTI1NDEyNTM5._V1_UY98_CR0,0,67,98_AL_.jpg\" src=\"https://m.media-amazon.com/images/S/sash/4FyxwxECzL-U1J8.png\" width=\"67\"/>\n",
       "</a> </div>\n",
       "<div class=\"lister-item-content\">\n",
       "<h3 class=\"lister-item-header\">\n",
       "<span class=\"lister-item-index unbold text-primary\">38.</span>\n",
       "<a href=\"/title/tt10152736/\">Thalaivi</a>\n",
       "<span class=\"lister-item-year text-muted unbold\">(2021)</span>\n",
       "</h3>\n",
       "<p class=\"text-muted\">\n",
       "<span class=\"certificate\">U</span>\n",
       "<span class=\"ghost\">|</span>\n",
       "<span class=\"runtime\">153 min</span>\n",
       "<span class=\"ghost\">|</span>\n",
       "<span class=\"genre\">\n",
       "Biography, Drama            </span>\n",
       "</p>\n",
       "<div class=\"ratings-bar\">\n",
       "<div class=\"inline-block ratings-imdb-rating\" data-value=\"6.2\" name=\"ir\">\n",
       "<span class=\"global-sprite rating-star imdb-rating\"></span>\n",
       "<strong>6.2</strong>\n",
       "</div>\n",
       "<div class=\"inline-block ratings-user-rating\">\n",
       "<span class=\"userRatingValue\" data-tconst=\"tt10152736\" id=\"urv_tt10152736\">\n",
       "<span class=\"global-sprite rating-star no-rating\"></span>\n",
       "<span class=\"rate\" data-no-rating=\"Rate this\" data-value=\"0\" name=\"ur\">Rate this</span>\n",
       "</span>\n",
       "<div class=\"starBarWidget\" id=\"sb_tt10152736\">\n",
       "<div class=\"rating rating-list\" data-csrf-token=\"\" data-ga-identifier=\"\" data-starbar-class=\"rating-list\" data-user=\"\" id=\"tt10152736|imdb|6.2|6.2|adv_li_tt||advsearch|title\" itemprop=\"aggregateRating\" itemscope=\"\" itemtype=\"http://schema.org/AggregateRating\" title=\"Users rated this 6.2/10 (30,011 votes) - click stars to rate\">\n",
       "<meta content=\"6.2\" itemprop=\"ratingValue\"/>\n",
       "<meta content=\"10\" itemprop=\"bestRating\"/>\n",
       "<meta content=\"30011\" itemprop=\"ratingCount\"/>\n",
       "<span class=\"rating-bg\"> </span>\n",
       "<span class=\"rating-imdb\" style=\"width: 86.8px\"> </span>\n",
       "<span class=\"rating-stars\">\n",
       "<a href=\"/register/login?why=vote\" rel=\"nofollow\" title=\"Register or login to rate this title\"><span>1</span></a>\n",
       "<a href=\"/register/login?why=vote\" rel=\"nofollow\" title=\"Register or login to rate this title\"><span>2</span></a>\n",
       "<a href=\"/register/login?why=vote\" rel=\"nofollow\" title=\"Register or login to rate this title\"><span>3</span></a>\n",
       "<a href=\"/register/login?why=vote\" rel=\"nofollow\" title=\"Register or login to rate this title\"><span>4</span></a>\n",
       "<a href=\"/register/login?why=vote\" rel=\"nofollow\" title=\"Register or login to rate this title\"><span>5</span></a>\n",
       "<a href=\"/register/login?why=vote\" rel=\"nofollow\" title=\"Register or login to rate this title\"><span>6</span></a>\n",
       "<a href=\"/register/login?why=vote\" rel=\"nofollow\" title=\"Register or login to rate this title\"><span>7</span></a>\n",
       "<a href=\"/register/login?why=vote\" rel=\"nofollow\" title=\"Register or login to rate this title\"><span>8</span></a>\n",
       "<a href=\"/register/login?why=vote\" rel=\"nofollow\" title=\"Register or login to rate this title\"><span>9</span></a>\n",
       "<a href=\"/register/login?why=vote\" rel=\"nofollow\" title=\"Register or login to rate this title\"><span>10</span></a>\n",
       "</span>\n",
       "<span class=\"rating-rating\"><span class=\"value\">6.2</span><span class=\"grey\">/</span><span class=\"grey\">10</span></span>\n",
       "<span class=\"rating-cancel\"><a href=\"/title/tt10152736/vote\" rel=\"nofollow\" title=\"Delete\"><span>X</span></a></span>\n",
       " </div>\n",
       "</div>\n",
       "</div>\n",
       "</div>\n",
       "<p class=\"text-muted\">\n",
       "A biopic on the late Tamil Nadu Chief Minister J Jayalalithaa.</p>\n",
       "<p class=\"\">\n",
       "    Director:\n",
       "<a href=\"/name/nm1777967/\">A.L. Vijay</a>\n",
       "<span class=\"ghost\">|</span> \n",
       "    Stars:\n",
       "<a href=\"/name/nm2144007/\">Kangana Ranaut</a>, \n",
       "<a href=\"/name/nm0841552/\">Arvind Swamy</a>, \n",
       "<a href=\"/name/nm0621937/\">Nassar</a>, \n",
       "<a href=\"/name/nm2284321/\">Samuthirakani</a>\n",
       "</p>\n",
       "<p class=\"sort-num_votes-visible\">\n",
       "<span class=\"text-muted\">Votes:</span>\n",
       "<span data-value=\"30011\" name=\"nv\">30,011</span>\n",
       "</p>\n",
       "</div>\n",
       "</div>\n",
       "<div class=\"lister-item mode-advanced\">\n",
       "<div class=\"lister-top-right\">\n",
       "<div class=\"ribbonize\" data-caller=\"filmosearch\" data-tconst=\"tt6485666\"></div>\n",
       "</div>\n",
       "<div class=\"lister-item-image float-left\">\n",
       "<a href=\"/title/tt6485666/\"> <img alt=\"Mersal\" class=\"loadlate\" data-tconst=\"tt6485666\" height=\"98\" loadlate=\"https://m.media-amazon.com/images/M/MV5BNGI4NTM2OTAtYmY2Ny00MTAzLTk4ZWMtZmQ4Y2RhNWJmNDQ1XkEyXkFqcGdeQXVyOTA0NTIzNzU@._V1_UX67_CR0,0,67,98_AL_.jpg\" src=\"https://m.media-amazon.com/images/S/sash/4FyxwxECzL-U1J8.png\" width=\"67\"/>\n",
       "</a> </div>\n",
       "<div class=\"lister-item-content\">\n",
       "<h3 class=\"lister-item-header\">\n",
       "<span class=\"lister-item-index unbold text-primary\">39.</span>\n",
       "<a href=\"/title/tt6485666/\">Mersal</a>\n",
       "<span class=\"lister-item-year text-muted unbold\">(2017)</span>\n",
       "</h3>\n",
       "<p class=\"text-muted\">\n",
       "<span class=\"certificate\">UA</span>\n",
       "<span class=\"ghost\">|</span>\n",
       "<span class=\"runtime\">172 min</span>\n",
       "<span class=\"ghost\">|</span>\n",
       "<span class=\"genre\">\n",
       "Action, Thriller            </span>\n",
       "</p>\n",
       "<div class=\"ratings-bar\">\n",
       "<div class=\"inline-block ratings-imdb-rating\" data-value=\"8.1\" name=\"ir\">\n",
       "<span class=\"global-sprite rating-star imdb-rating\"></span>\n",
       "<strong>8.1</strong>\n",
       "</div>\n",
       "<div class=\"inline-block ratings-user-rating\">\n",
       "<span class=\"userRatingValue\" data-tconst=\"tt6485666\" id=\"urv_tt6485666\">\n",
       "<span class=\"global-sprite rating-star no-rating\"></span>\n",
       "<span class=\"rate\" data-no-rating=\"Rate this\" data-value=\"0\" name=\"ur\">Rate this</span>\n",
       "</span>\n",
       "<div class=\"starBarWidget\" id=\"sb_tt6485666\">\n",
       "<div class=\"rating rating-list\" data-csrf-token=\"\" data-ga-identifier=\"\" data-starbar-class=\"rating-list\" data-user=\"\" id=\"tt6485666|imdb|8.1|8.1|adv_li_tt||advsearch|title\" itemprop=\"aggregateRating\" itemscope=\"\" itemtype=\"http://schema.org/AggregateRating\" title=\"Users rated this 8.1/10 (32,289 votes) - click stars to rate\">\n",
       "<meta content=\"8.1\" itemprop=\"ratingValue\"/>\n",
       "<meta content=\"10\" itemprop=\"bestRating\"/>\n",
       "<meta content=\"32289\" itemprop=\"ratingCount\"/>\n",
       "<span class=\"rating-bg\"> </span>\n",
       "<span class=\"rating-imdb\" style=\"width: 113.4px\"> </span>\n",
       "<span class=\"rating-stars\">\n",
       "<a href=\"/register/login?why=vote\" rel=\"nofollow\" title=\"Register or login to rate this title\"><span>1</span></a>\n",
       "<a href=\"/register/login?why=vote\" rel=\"nofollow\" title=\"Register or login to rate this title\"><span>2</span></a>\n",
       "<a href=\"/register/login?why=vote\" rel=\"nofollow\" title=\"Register or login to rate this title\"><span>3</span></a>\n",
       "<a href=\"/register/login?why=vote\" rel=\"nofollow\" title=\"Register or login to rate this title\"><span>4</span></a>\n",
       "<a href=\"/register/login?why=vote\" rel=\"nofollow\" title=\"Register or login to rate this title\"><span>5</span></a>\n",
       "<a href=\"/register/login?why=vote\" rel=\"nofollow\" title=\"Register or login to rate this title\"><span>6</span></a>\n",
       "<a href=\"/register/login?why=vote\" rel=\"nofollow\" title=\"Register or login to rate this title\"><span>7</span></a>\n",
       "<a href=\"/register/login?why=vote\" rel=\"nofollow\" title=\"Register or login to rate this title\"><span>8</span></a>\n",
       "<a href=\"/register/login?why=vote\" rel=\"nofollow\" title=\"Register or login to rate this title\"><span>9</span></a>\n",
       "<a href=\"/register/login?why=vote\" rel=\"nofollow\" title=\"Register or login to rate this title\"><span>10</span></a>\n",
       "</span>\n",
       "<span class=\"rating-rating\"><span class=\"value\">8.1</span><span class=\"grey\">/</span><span class=\"grey\">10</span></span>\n",
       "<span class=\"rating-cancel\"><a href=\"/title/tt6485666/vote\" rel=\"nofollow\" title=\"Delete\"><span>X</span></a></span>\n",
       " </div>\n",
       "</div>\n",
       "</div>\n",
       "</div>\n",
       "<p class=\"text-muted\">\n",
       "A detective arrests a doctor for crimes targeting medical professionals but later finds the real culprit in a tale of revenge, corruption and magic.</p>\n",
       "<p class=\"\">\n",
       "    Director:\n",
       "<a href=\"/name/nm5961051/\">Atlee Kumar</a>\n",
       "<span class=\"ghost\">|</span> \n",
       "    Stars:\n",
       "<a href=\"/name/nm0897201/\">Thalapathy Vijay</a>, \n",
       "<a href=\"/name/nm3383930/\">Nithya Menen</a>, \n",
       "<a href=\"/name/nm0754184/\">S.J. Suryah</a>, \n",
       "<a href=\"/name/nm2570245/\">Kajal Aggarwal</a>\n",
       "</p>\n",
       "<p class=\"sort-num_votes-visible\">\n",
       "<span class=\"text-muted\">Votes:</span>\n",
       "<span data-value=\"32289\" name=\"nv\">32,289</span>\n",
       "</p>\n",
       "</div>\n",
       "</div>\n",
       "<div class=\"lister-item mode-advanced\">\n",
       "<div class=\"lister-top-right\">\n",
       "<div class=\"ribbonize\" data-caller=\"filmosearch\" data-tconst=\"tt8959820\"></div>\n",
       "</div>\n",
       "<div class=\"lister-item-image float-left\">\n",
       "<a href=\"/title/tt8959820/\"> <img alt=\"Petta\" class=\"loadlate\" data-tconst=\"tt8959820\" height=\"98\" loadlate=\"https://m.media-amazon.com/images/M/MV5BN2MwZWQxY2UtNTFjNy00YWNjLWFmZDgtYjA0YzI3OTdhNTA4XkEyXkFqcGdeQXVyODIwMDI1NjM@._V1_UY98_CR5,0,67,98_AL_.jpg\" src=\"https://m.media-amazon.com/images/S/sash/4FyxwxECzL-U1J8.png\" width=\"67\"/>\n",
       "</a> </div>\n",
       "<div class=\"lister-item-content\">\n",
       "<h3 class=\"lister-item-header\">\n",
       "<span class=\"lister-item-index unbold text-primary\">40.</span>\n",
       "<a href=\"/title/tt8959820/\">Petta</a>\n",
       "<span class=\"lister-item-year text-muted unbold\">(2019)</span>\n",
       "</h3>\n",
       "<p class=\"text-muted\">\n",
       "<span class=\"certificate\">UA</span>\n",
       "<span class=\"ghost\">|</span>\n",
       "<span class=\"runtime\">171 min</span>\n",
       "<span class=\"ghost\">|</span>\n",
       "<span class=\"genre\">\n",
       "Action, Drama            </span>\n",
       "</p>\n",
       "<div class=\"ratings-bar\">\n",
       "<div class=\"inline-block ratings-imdb-rating\" data-value=\"7.3\" name=\"ir\">\n",
       "<span class=\"global-sprite rating-star imdb-rating\"></span>\n",
       "<strong>7.3</strong>\n",
       "</div>\n",
       "<div class=\"inline-block ratings-user-rating\">\n",
       "<span class=\"userRatingValue\" data-tconst=\"tt8959820\" id=\"urv_tt8959820\">\n",
       "<span class=\"global-sprite rating-star no-rating\"></span>\n",
       "<span class=\"rate\" data-no-rating=\"Rate this\" data-value=\"0\" name=\"ur\">Rate this</span>\n",
       "</span>\n",
       "<div class=\"starBarWidget\" id=\"sb_tt8959820\">\n",
       "<div class=\"rating rating-list\" data-csrf-token=\"\" data-ga-identifier=\"\" data-starbar-class=\"rating-list\" data-user=\"\" id=\"tt8959820|imdb|7.3|7.3|adv_li_tt||advsearch|title\" itemprop=\"aggregateRating\" itemscope=\"\" itemtype=\"http://schema.org/AggregateRating\" title=\"Users rated this 7.3/10 (9,832 votes) - click stars to rate\">\n",
       "<meta content=\"7.3\" itemprop=\"ratingValue\"/>\n",
       "<meta content=\"10\" itemprop=\"bestRating\"/>\n",
       "<meta content=\"9832\" itemprop=\"ratingCount\"/>\n",
       "<span class=\"rating-bg\"> </span>\n",
       "<span class=\"rating-imdb\" style=\"width: 102.2px\"> </span>\n",
       "<span class=\"rating-stars\">\n",
       "<a href=\"/register/login?why=vote\" rel=\"nofollow\" title=\"Register or login to rate this title\"><span>1</span></a>\n",
       "<a href=\"/register/login?why=vote\" rel=\"nofollow\" title=\"Register or login to rate this title\"><span>2</span></a>\n",
       "<a href=\"/register/login?why=vote\" rel=\"nofollow\" title=\"Register or login to rate this title\"><span>3</span></a>\n",
       "<a href=\"/register/login?why=vote\" rel=\"nofollow\" title=\"Register or login to rate this title\"><span>4</span></a>\n",
       "<a href=\"/register/login?why=vote\" rel=\"nofollow\" title=\"Register or login to rate this title\"><span>5</span></a>\n",
       "<a href=\"/register/login?why=vote\" rel=\"nofollow\" title=\"Register or login to rate this title\"><span>6</span></a>\n",
       "<a href=\"/register/login?why=vote\" rel=\"nofollow\" title=\"Register or login to rate this title\"><span>7</span></a>\n",
       "<a href=\"/register/login?why=vote\" rel=\"nofollow\" title=\"Register or login to rate this title\"><span>8</span></a>\n",
       "<a href=\"/register/login?why=vote\" rel=\"nofollow\" title=\"Register or login to rate this title\"><span>9</span></a>\n",
       "<a href=\"/register/login?why=vote\" rel=\"nofollow\" title=\"Register or login to rate this title\"><span>10</span></a>\n",
       "</span>\n",
       "<span class=\"rating-rating\"><span class=\"value\">7.3</span><span class=\"grey\">/</span><span class=\"grey\">10</span></span>\n",
       "<span class=\"rating-cancel\"><a href=\"/title/tt8959820/vote\" rel=\"nofollow\" title=\"Delete\"><span>X</span></a></span>\n",
       " </div>\n",
       "</div>\n",
       "</div>\n",
       "</div>\n",
       "<p class=\"text-muted\">\n",
       "A hostel warden becomes the target of a dreaded politician and his gangster son, but little do they realize that it is they who should fear him.</p>\n",
       "<p class=\"\">\n",
       "    Director:\n",
       "<a href=\"/name/nm5366274/\">Karthik Subbaraj</a>\n",
       "<span class=\"ghost\">|</span> \n",
       "    Stars:\n",
       "<a href=\"/name/nm0707425/\">Rajinikanth</a>, \n",
       "<a href=\"/name/nm4043111/\">Vijay Sethupathi</a>, \n",
       "<a href=\"/name/nm1596350/\">Nawazuddin Siddiqui</a>, \n",
       "<a href=\"/name/nm4241449/\">M. Sasikumar</a>\n",
       "</p>\n",
       "<p class=\"sort-num_votes-visible\">\n",
       "<span class=\"text-muted\">Votes:</span>\n",
       "<span data-value=\"9832\" name=\"nv\">9,832</span>\n",
       "</p>\n",
       "</div>\n",
       "</div>\n",
       "<div class=\"lister-item mode-advanced\">\n",
       "<div class=\"lister-top-right\">\n",
       "<div class=\"ribbonize\" data-caller=\"filmosearch\" data-tconst=\"tt11441458\"></div>\n",
       "</div>\n",
       "<div class=\"lister-item-image float-left\">\n",
       "<a href=\"/title/tt11441458/\"> <img alt=\"Kadaseela Biriyani\" class=\"loadlate\" data-tconst=\"tt11441458\" height=\"98\" loadlate=\"https://m.media-amazon.com/images/M/MV5BZDE3NGEyMGYtZDEzOS00NjllLWI2Y2EtN2QwODdhNjBlMTEwXkEyXkFqcGdeQXVyMzI4MzEwNQ@@._V1_UX67_CR0,0,67,98_AL_.jpg\" src=\"https://m.media-amazon.com/images/S/sash/4FyxwxECzL-U1J8.png\" width=\"67\"/>\n",
       "</a> </div>\n",
       "<div class=\"lister-item-content\">\n",
       "<h3 class=\"lister-item-header\">\n",
       "<span class=\"lister-item-index unbold text-primary\">41.</span>\n",
       "<a href=\"/title/tt11441458/\">Kadaseela Biriyani</a>\n",
       "<span class=\"lister-item-year text-muted unbold\">(2021)</span>\n",
       "</h3>\n",
       "<p class=\"text-muted\">\n",
       "<span class=\"certificate\">A</span>\n",
       "<span class=\"ghost\">|</span>\n",
       "<span class=\"runtime\">115 min</span>\n",
       "<span class=\"ghost\">|</span>\n",
       "<span class=\"genre\">\n",
       "Comedy, Crime, Drama            </span>\n",
       "</p>\n",
       "<div class=\"ratings-bar\">\n",
       "<div class=\"inline-block ratings-imdb-rating\" data-value=\"7.6\" name=\"ir\">\n",
       "<span class=\"global-sprite rating-star imdb-rating\"></span>\n",
       "<strong>7.6</strong>\n",
       "</div>\n",
       "<div class=\"inline-block ratings-user-rating\">\n",
       "<span class=\"userRatingValue\" data-tconst=\"tt11441458\" id=\"urv_tt11441458\">\n",
       "<span class=\"global-sprite rating-star no-rating\"></span>\n",
       "<span class=\"rate\" data-no-rating=\"Rate this\" data-value=\"0\" name=\"ur\">Rate this</span>\n",
       "</span>\n",
       "<div class=\"starBarWidget\" id=\"sb_tt11441458\">\n",
       "<div class=\"rating rating-list\" data-csrf-token=\"\" data-ga-identifier=\"\" data-starbar-class=\"rating-list\" data-user=\"\" id=\"tt11441458|imdb|7.6|7.6|adv_li_tt||advsearch|title\" itemprop=\"aggregateRating\" itemscope=\"\" itemtype=\"http://schema.org/AggregateRating\" title=\"Users rated this 7.6/10 (1,168 votes) - click stars to rate\">\n",
       "<meta content=\"7.6\" itemprop=\"ratingValue\"/>\n",
       "<meta content=\"10\" itemprop=\"bestRating\"/>\n",
       "<meta content=\"1168\" itemprop=\"ratingCount\"/>\n",
       "<span class=\"rating-bg\"> </span>\n",
       "<span class=\"rating-imdb\" style=\"width: 106.4px\"> </span>\n",
       "<span class=\"rating-stars\">\n",
       "<a href=\"/register/login?why=vote\" rel=\"nofollow\" title=\"Register or login to rate this title\"><span>1</span></a>\n",
       "<a href=\"/register/login?why=vote\" rel=\"nofollow\" title=\"Register or login to rate this title\"><span>2</span></a>\n",
       "<a href=\"/register/login?why=vote\" rel=\"nofollow\" title=\"Register or login to rate this title\"><span>3</span></a>\n",
       "<a href=\"/register/login?why=vote\" rel=\"nofollow\" title=\"Register or login to rate this title\"><span>4</span></a>\n",
       "<a href=\"/register/login?why=vote\" rel=\"nofollow\" title=\"Register or login to rate this title\"><span>5</span></a>\n",
       "<a href=\"/register/login?why=vote\" rel=\"nofollow\" title=\"Register or login to rate this title\"><span>6</span></a>\n",
       "<a href=\"/register/login?why=vote\" rel=\"nofollow\" title=\"Register or login to rate this title\"><span>7</span></a>\n",
       "<a href=\"/register/login?why=vote\" rel=\"nofollow\" title=\"Register or login to rate this title\"><span>8</span></a>\n",
       "<a href=\"/register/login?why=vote\" rel=\"nofollow\" title=\"Register or login to rate this title\"><span>9</span></a>\n",
       "<a href=\"/register/login?why=vote\" rel=\"nofollow\" title=\"Register or login to rate this title\"><span>10</span></a>\n",
       "</span>\n",
       "<span class=\"rating-rating\"><span class=\"value\">7.6</span><span class=\"grey\">/</span><span class=\"grey\">10</span></span>\n",
       "<span class=\"rating-cancel\"><a href=\"/title/tt11441458/vote\" rel=\"nofollow\" title=\"Delete\"><span>X</span></a></span>\n",
       " </div>\n",
       "</div>\n",
       "</div>\n",
       "</div>\n",
       "<p class=\"text-muted\">\n",
       "Chicku Pandi has one day to slip away from his revenge hungry brothers.</p>\n",
       "<p class=\"\">\n",
       "    Director:\n",
       "<a href=\"/name/nm11201866/\">Nishanth Kalidindi</a>\n",
       "<span class=\"ghost\">|</span> \n",
       "    Stars:\n",
       "<a href=\"/name/nm7559573/\">Vasanth Selvam</a>, \n",
       "<a href=\"/name/nm10568943/\">Vijay Ram</a>, \n",
       "<a href=\"/name/nm9025544/\">Hakkim Shah</a>, \n",
       "<a href=\"/name/nm6832572/\">Dinesh Mani</a>\n",
       "</p>\n",
       "<p class=\"sort-num_votes-visible\">\n",
       "<span class=\"text-muted\">Votes:</span>\n",
       "<span data-value=\"1168\" name=\"nv\">1,168</span>\n",
       "</p>\n",
       "</div>\n",
       "</div>\n",
       "<div class=\"lister-item mode-advanced\">\n",
       "<div class=\"lister-top-right\">\n",
       "<div class=\"ribbonize\" data-caller=\"filmosearch\" data-tconst=\"tt4987556\"></div>\n",
       "</div>\n",
       "<div class=\"lister-item-image float-left\">\n",
       "<a href=\"/title/tt4987556/\"> <img alt=\"Thani Oruvan\" class=\"loadlate\" data-tconst=\"tt4987556\" height=\"98\" loadlate=\"https://m.media-amazon.com/images/M/MV5BNWFkMDA1MzEtNzRkMS00YzQxLTk1MmItMTlmY2QzMTBhOWI4XkEyXkFqcGdeQXVyMTEzNzg0Mjkx._V1_UX67_CR0,0,67,98_AL_.jpg\" src=\"https://m.media-amazon.com/images/S/sash/4FyxwxECzL-U1J8.png\" width=\"67\"/>\n",
       "</a> </div>\n",
       "<div class=\"lister-item-content\">\n",
       "<h3 class=\"lister-item-header\">\n",
       "<span class=\"lister-item-index unbold text-primary\">42.</span>\n",
       "<a href=\"/title/tt4987556/\">Thani Oruvan</a>\n",
       "<span class=\"lister-item-year text-muted unbold\">(2015)</span>\n",
       "</h3>\n",
       "<p class=\"text-muted\">\n",
       "<span class=\"certificate\">U</span>\n",
       "<span class=\"ghost\">|</span>\n",
       "<span class=\"runtime\">160 min</span>\n",
       "<span class=\"ghost\">|</span>\n",
       "<span class=\"genre\">\n",
       "Action, Crime, Thriller            </span>\n",
       "</p>\n",
       "<div class=\"ratings-bar\">\n",
       "<div class=\"inline-block ratings-imdb-rating\" data-value=\"8.5\" name=\"ir\">\n",
       "<span class=\"global-sprite rating-star imdb-rating\"></span>\n",
       "<strong>8.5</strong>\n",
       "</div>\n",
       "<div class=\"inline-block ratings-user-rating\">\n",
       "<span class=\"userRatingValue\" data-tconst=\"tt4987556\" id=\"urv_tt4987556\">\n",
       "<span class=\"global-sprite rating-star no-rating\"></span>\n",
       "<span class=\"rate\" data-no-rating=\"Rate this\" data-value=\"0\" name=\"ur\">Rate this</span>\n",
       "</span>\n",
       "<div class=\"starBarWidget\" id=\"sb_tt4987556\">\n",
       "<div class=\"rating rating-list\" data-csrf-token=\"\" data-ga-identifier=\"\" data-starbar-class=\"rating-list\" data-user=\"\" id=\"tt4987556|imdb|8.5|8.5|adv_li_tt||advsearch|title\" itemprop=\"aggregateRating\" itemscope=\"\" itemtype=\"http://schema.org/AggregateRating\" title=\"Users rated this 8.5/10 (19,381 votes) - click stars to rate\">\n",
       "<meta content=\"8.5\" itemprop=\"ratingValue\"/>\n",
       "<meta content=\"10\" itemprop=\"bestRating\"/>\n",
       "<meta content=\"19381\" itemprop=\"ratingCount\"/>\n",
       "<span class=\"rating-bg\"> </span>\n",
       "<span class=\"rating-imdb\" style=\"width: 119px\"> </span>\n",
       "<span class=\"rating-stars\">\n",
       "<a href=\"/register/login?why=vote\" rel=\"nofollow\" title=\"Register or login to rate this title\"><span>1</span></a>\n",
       "<a href=\"/register/login?why=vote\" rel=\"nofollow\" title=\"Register or login to rate this title\"><span>2</span></a>\n",
       "<a href=\"/register/login?why=vote\" rel=\"nofollow\" title=\"Register or login to rate this title\"><span>3</span></a>\n",
       "<a href=\"/register/login?why=vote\" rel=\"nofollow\" title=\"Register or login to rate this title\"><span>4</span></a>\n",
       "<a href=\"/register/login?why=vote\" rel=\"nofollow\" title=\"Register or login to rate this title\"><span>5</span></a>\n",
       "<a href=\"/register/login?why=vote\" rel=\"nofollow\" title=\"Register or login to rate this title\"><span>6</span></a>\n",
       "<a href=\"/register/login?why=vote\" rel=\"nofollow\" title=\"Register or login to rate this title\"><span>7</span></a>\n",
       "<a href=\"/register/login?why=vote\" rel=\"nofollow\" title=\"Register or login to rate this title\"><span>8</span></a>\n",
       "<a href=\"/register/login?why=vote\" rel=\"nofollow\" title=\"Register or login to rate this title\"><span>9</span></a>\n",
       "<a href=\"/register/login?why=vote\" rel=\"nofollow\" title=\"Register or login to rate this title\"><span>10</span></a>\n",
       "</span>\n",
       "<span class=\"rating-rating\"><span class=\"value\">8.5</span><span class=\"grey\">/</span><span class=\"grey\">10</span></span>\n",
       "<span class=\"rating-cancel\"><a href=\"/title/tt4987556/vote\" rel=\"nofollow\" title=\"Delete\"><span>X</span></a></span>\n",
       " </div>\n",
       "</div>\n",
       "</div>\n",
       "</div>\n",
       "<p class=\"text-muted\">\n",
       "Siddharth Abimanyu, an influential scientist, is involved in various illegal medical practices. Mithran, an efficient IPS officer, decides to expose him.</p>\n",
       "<p class=\"\">\n",
       "    Director:\n",
       "<a href=\"/name/nm1001345/\">Mohan Raja</a>\n",
       "<span class=\"ghost\">|</span> \n",
       "    Stars:\n",
       "<a href=\"/name/nm1865947/\">Jayam Ravi</a>, \n",
       "<a href=\"/name/nm0841552/\">Arvind Swamy</a>, \n",
       "<a href=\"/name/nm1521381/\">Nayanthara</a>, \n",
       "<a href=\"/name/nm0621937/\">Nassar</a>\n",
       "</p>\n",
       "<p class=\"sort-num_votes-visible\">\n",
       "<span class=\"text-muted\">Votes:</span>\n",
       "<span data-value=\"19381\" name=\"nv\">19,381</span>\n",
       "</p>\n",
       "</div>\n",
       "</div>\n",
       "<div class=\"lister-item mode-advanced\">\n",
       "<div class=\"lister-top-right\">\n",
       "<div class=\"ribbonize\" data-caller=\"filmosearch\" data-tconst=\"tt7019942\"></div>\n",
       "</div>\n",
       "<div class=\"lister-item-image float-left\">\n",
       "<a href=\"/title/tt7019942/\"> <img alt=\"Super Deluxe\" class=\"loadlate\" data-tconst=\"tt7019942\" height=\"98\" loadlate=\"https://m.media-amazon.com/images/M/MV5BMGYzNTRiZjEtNjcyYS00YTRlLThlY2EtYjcwZDJiYWU2N2E3XkEyXkFqcGdeQXVyOTk3NTc2MzE@._V1_UX67_CR0,0,67,98_AL_.jpg\" src=\"https://m.media-amazon.com/images/S/sash/4FyxwxECzL-U1J8.png\" width=\"67\"/>\n",
       "</a> </div>\n",
       "<div class=\"lister-item-content\">\n",
       "<h3 class=\"lister-item-header\">\n",
       "<span class=\"lister-item-index unbold text-primary\">43.</span>\n",
       "<a href=\"/title/tt7019942/\">Super Deluxe</a>\n",
       "<span class=\"lister-item-year text-muted unbold\">(2019)</span>\n",
       "</h3>\n",
       "<p class=\"text-muted\">\n",
       "<span class=\"certificate\">A</span>\n",
       "<span class=\"ghost\">|</span>\n",
       "<span class=\"runtime\">176 min</span>\n",
       "<span class=\"ghost\">|</span>\n",
       "<span class=\"genre\">\n",
       "Comedy, Crime, Drama            </span>\n",
       "</p>\n",
       "<div class=\"ratings-bar\">\n",
       "<div class=\"inline-block ratings-imdb-rating\" data-value=\"8.4\" name=\"ir\">\n",
       "<span class=\"global-sprite rating-star imdb-rating\"></span>\n",
       "<strong>8.4</strong>\n",
       "</div>\n",
       "<div class=\"inline-block ratings-user-rating\">\n",
       "<span class=\"userRatingValue\" data-tconst=\"tt7019942\" id=\"urv_tt7019942\">\n",
       "<span class=\"global-sprite rating-star no-rating\"></span>\n",
       "<span class=\"rate\" data-no-rating=\"Rate this\" data-value=\"0\" name=\"ur\">Rate this</span>\n",
       "</span>\n",
       "<div class=\"starBarWidget\" id=\"sb_tt7019942\">\n",
       "<div class=\"rating rating-list\" data-csrf-token=\"\" data-ga-identifier=\"\" data-starbar-class=\"rating-list\" data-user=\"\" id=\"tt7019942|imdb|8.4|8.4|adv_li_tt||advsearch|title\" itemprop=\"aggregateRating\" itemscope=\"\" itemtype=\"http://schema.org/AggregateRating\" title=\"Users rated this 8.4/10 (13,749 votes) - click stars to rate\">\n",
       "<meta content=\"8.4\" itemprop=\"ratingValue\"/>\n",
       "<meta content=\"10\" itemprop=\"bestRating\"/>\n",
       "<meta content=\"13749\" itemprop=\"ratingCount\"/>\n",
       "<span class=\"rating-bg\"> </span>\n",
       "<span class=\"rating-imdb\" style=\"width: 117.6px\"> </span>\n",
       "<span class=\"rating-stars\">\n",
       "<a href=\"/register/login?why=vote\" rel=\"nofollow\" title=\"Register or login to rate this title\"><span>1</span></a>\n",
       "<a href=\"/register/login?why=vote\" rel=\"nofollow\" title=\"Register or login to rate this title\"><span>2</span></a>\n",
       "<a href=\"/register/login?why=vote\" rel=\"nofollow\" title=\"Register or login to rate this title\"><span>3</span></a>\n",
       "<a href=\"/register/login?why=vote\" rel=\"nofollow\" title=\"Register or login to rate this title\"><span>4</span></a>\n",
       "<a href=\"/register/login?why=vote\" rel=\"nofollow\" title=\"Register or login to rate this title\"><span>5</span></a>\n",
       "<a href=\"/register/login?why=vote\" rel=\"nofollow\" title=\"Register or login to rate this title\"><span>6</span></a>\n",
       "<a href=\"/register/login?why=vote\" rel=\"nofollow\" title=\"Register or login to rate this title\"><span>7</span></a>\n",
       "<a href=\"/register/login?why=vote\" rel=\"nofollow\" title=\"Register or login to rate this title\"><span>8</span></a>\n",
       "<a href=\"/register/login?why=vote\" rel=\"nofollow\" title=\"Register or login to rate this title\"><span>9</span></a>\n",
       "<a href=\"/register/login?why=vote\" rel=\"nofollow\" title=\"Register or login to rate this title\"><span>10</span></a>\n",
       "</span>\n",
       "<span class=\"rating-rating\"><span class=\"value\">8.4</span><span class=\"grey\">/</span><span class=\"grey\">10</span></span>\n",
       "<span class=\"rating-cancel\"><a href=\"/title/tt7019942/vote\" rel=\"nofollow\" title=\"Delete\"><span>X</span></a></span>\n",
       " </div>\n",
       "</div>\n",
       "</div>\n",
       "</div>\n",
       "<p class=\"text-muted\">\n",
       "An unfaithful newly-wed wife, an estranged father, a priest and an angry son suddenly find themselves in the most unexpected predicaments, each poised to experience their destiny, all on one fateful day.</p>\n",
       "<p class=\"\">\n",
       "    Director:\n",
       "<a href=\"/name/nm3586222/\">Thiagarajan Kumararaja</a>\n",
       "<span class=\"ghost\">|</span> \n",
       "    Stars:\n",
       "<a href=\"/name/nm4043111/\">Vijay Sethupathi</a>, \n",
       "<a href=\"/name/nm1335704/\">Fahadh Faasil</a>, \n",
       "<a href=\"/name/nm3606487/\">Samantha Ruth Prabhu</a>, \n",
       "<a href=\"/name/nm0471447/\">Ramya Krishnan</a>\n",
       "</p>\n",
       "<p class=\"sort-num_votes-visible\">\n",
       "<span class=\"text-muted\">Votes:</span>\n",
       "<span data-value=\"13749\" name=\"nv\">13,749</span>\n",
       "</p>\n",
       "</div>\n",
       "</div>\n",
       "<div class=\"lister-item mode-advanced\">\n",
       "<div class=\"lister-top-right\">\n",
       "<div class=\"ribbonize\" data-caller=\"filmosearch\" data-tconst=\"tt15528002\"></div>\n",
       "</div>\n",
       "<div class=\"lister-item-image float-left\">\n",
       "<a href=\"/title/tt15528002/\"> <img alt=\"Vinodhaya Sitham\" class=\"loadlate\" data-tconst=\"tt15528002\" height=\"98\" loadlate=\"https://m.media-amazon.com/images/M/MV5BMDU4NDFhNTgtODRmNC00ZmRlLWJlOGUtY2ZlODkwMmMwYjM5XkEyXkFqcGdeQXVyMzAzMzkzNTU@._V1_UY98_CR5,0,67,98_AL_.jpg\" src=\"https://m.media-amazon.com/images/S/sash/4FyxwxECzL-U1J8.png\" width=\"67\"/>\n",
       "</a> </div>\n",
       "<div class=\"lister-item-content\">\n",
       "<h3 class=\"lister-item-header\">\n",
       "<span class=\"lister-item-index unbold text-primary\">44.</span>\n",
       "<a href=\"/title/tt15528002/\">Vinodhaya Sitham</a>\n",
       "<span class=\"lister-item-year text-muted unbold\">(2021)</span>\n",
       "</h3>\n",
       "<p class=\"text-muted\">\n",
       "<span class=\"certificate\">UA 13+</span>\n",
       "<span class=\"ghost\">|</span>\n",
       "<span class=\"runtime\">97 min</span>\n",
       "<span class=\"ghost\">|</span>\n",
       "<span class=\"genre\">\n",
       "Comedy, Drama            </span>\n",
       "</p>\n",
       "<div class=\"ratings-bar\">\n",
       "<div class=\"inline-block ratings-imdb-rating\" data-value=\"8.2\" name=\"ir\">\n",
       "<span class=\"global-sprite rating-star imdb-rating\"></span>\n",
       "<strong>8.2</strong>\n",
       "</div>\n",
       "<div class=\"inline-block ratings-user-rating\">\n",
       "<span class=\"userRatingValue\" data-tconst=\"tt15528002\" id=\"urv_tt15528002\">\n",
       "<span class=\"global-sprite rating-star no-rating\"></span>\n",
       "<span class=\"rate\" data-no-rating=\"Rate this\" data-value=\"0\" name=\"ur\">Rate this</span>\n",
       "</span>\n",
       "<div class=\"starBarWidget\" id=\"sb_tt15528002\">\n",
       "<div class=\"rating rating-list\" data-csrf-token=\"\" data-ga-identifier=\"\" data-starbar-class=\"rating-list\" data-user=\"\" id=\"tt15528002|imdb|8.2|8.2|adv_li_tt||advsearch|title\" itemprop=\"aggregateRating\" itemscope=\"\" itemtype=\"http://schema.org/AggregateRating\" title=\"Users rated this 8.2/10 (1,563 votes) - click stars to rate\">\n",
       "<meta content=\"8.2\" itemprop=\"ratingValue\"/>\n",
       "<meta content=\"10\" itemprop=\"bestRating\"/>\n",
       "<meta content=\"1563\" itemprop=\"ratingCount\"/>\n",
       "<span class=\"rating-bg\"> </span>\n",
       "<span class=\"rating-imdb\" style=\"width: 114.8px\"> </span>\n",
       "<span class=\"rating-stars\">\n",
       "<a href=\"/register/login?why=vote\" rel=\"nofollow\" title=\"Register or login to rate this title\"><span>1</span></a>\n",
       "<a href=\"/register/login?why=vote\" rel=\"nofollow\" title=\"Register or login to rate this title\"><span>2</span></a>\n",
       "<a href=\"/register/login?why=vote\" rel=\"nofollow\" title=\"Register or login to rate this title\"><span>3</span></a>\n",
       "<a href=\"/register/login?why=vote\" rel=\"nofollow\" title=\"Register or login to rate this title\"><span>4</span></a>\n",
       "<a href=\"/register/login?why=vote\" rel=\"nofollow\" title=\"Register or login to rate this title\"><span>5</span></a>\n",
       "<a href=\"/register/login?why=vote\" rel=\"nofollow\" title=\"Register or login to rate this title\"><span>6</span></a>\n",
       "<a href=\"/register/login?why=vote\" rel=\"nofollow\" title=\"Register or login to rate this title\"><span>7</span></a>\n",
       "<a href=\"/register/login?why=vote\" rel=\"nofollow\" title=\"Register or login to rate this title\"><span>8</span></a>\n",
       "<a href=\"/register/login?why=vote\" rel=\"nofollow\" title=\"Register or login to rate this title\"><span>9</span></a>\n",
       "<a href=\"/register/login?why=vote\" rel=\"nofollow\" title=\"Register or login to rate this title\"><span>10</span></a>\n",
       "</span>\n",
       "<span class=\"rating-rating\"><span class=\"value\">8.2</span><span class=\"grey\">/</span><span class=\"grey\">10</span></span>\n",
       "<span class=\"rating-cancel\"><a href=\"/title/tt15528002/vote\" rel=\"nofollow\" title=\"Delete\"><span>X</span></a></span>\n",
       " </div>\n",
       "</div>\n",
       "</div>\n",
       "</div>\n",
       "<p class=\"text-muted\">\n",
       "The smooth life of Thambi Ramiah undergoes drastic change, after his death and resurrection. At his request, \"the time\" gave him extension for 3 months, to mend his affairs. Whether he was able to do it?</p>\n",
       "<p class=\"\">\n",
       "    Director:\n",
       "<a href=\"/name/nm2284321/\">Samuthirakani</a>\n",
       "<span class=\"ghost\">|</span> \n",
       "    Stars:\n",
       "<a href=\"/name/nm6106368/\">Munishkanth</a>, \n",
       "<a href=\"/name/nm4446366/\">Thambi Ramaiah</a>, \n",
       "<a href=\"/name/nm2284321/\">Samuthirakani</a>, \n",
       "<a href=\"/name/nm12991886/\">Sheriina</a>\n",
       "</p>\n",
       "<p class=\"sort-num_votes-visible\">\n",
       "<span class=\"text-muted\">Votes:</span>\n",
       "<span data-value=\"1563\" name=\"nv\">1,563</span>\n",
       "</p>\n",
       "</div>\n",
       "</div>\n",
       "<div class=\"lister-item mode-advanced\">\n",
       "<div class=\"lister-top-right\">\n",
       "<div class=\"ribbonize\" data-caller=\"filmosearch\" data-tconst=\"tt11581174\"></div>\n",
       "</div>\n",
       "<div class=\"lister-item-image float-left\">\n",
       "<a href=\"/title/tt11581174/\"> <img alt=\"Karnan\" class=\"loadlate\" data-tconst=\"tt11581174\" height=\"98\" loadlate=\"https://m.media-amazon.com/images/M/MV5BZDBhZTQ0ZjYtMGU4OC00MzE2LWFmMDctMzljNjkxYjJmNmUxXkEyXkFqcGdeQXVyMTEzNzg0Mjkx._V1_UX67_CR0,0,67,98_AL_.jpg\" src=\"https://m.media-amazon.com/images/S/sash/4FyxwxECzL-U1J8.png\" width=\"67\"/>\n",
       "</a> </div>\n",
       "<div class=\"lister-item-content\">\n",
       "<h3 class=\"lister-item-header\">\n",
       "<span class=\"lister-item-index unbold text-primary\">45.</span>\n",
       "<a href=\"/title/tt11581174/\">Karnan</a>\n",
       "<span class=\"lister-item-year text-muted unbold\">(2021)</span>\n",
       "</h3>\n",
       "<p class=\"text-muted\">\n",
       "<span class=\"certificate\">UA</span>\n",
       "<span class=\"ghost\">|</span>\n",
       "<span class=\"runtime\">158 min</span>\n",
       "<span class=\"ghost\">|</span>\n",
       "<span class=\"genre\">\n",
       "Action, Drama            </span>\n",
       "</p>\n",
       "<div class=\"ratings-bar\">\n",
       "<div class=\"inline-block ratings-imdb-rating\" data-value=\"8.3\" name=\"ir\">\n",
       "<span class=\"global-sprite rating-star imdb-rating\"></span>\n",
       "<strong>8.3</strong>\n",
       "</div>\n",
       "<div class=\"inline-block ratings-user-rating\">\n",
       "<span class=\"userRatingValue\" data-tconst=\"tt11581174\" id=\"urv_tt11581174\">\n",
       "<span class=\"global-sprite rating-star no-rating\"></span>\n",
       "<span class=\"rate\" data-no-rating=\"Rate this\" data-value=\"0\" name=\"ur\">Rate this</span>\n",
       "</span>\n",
       "<div class=\"starBarWidget\" id=\"sb_tt11581174\">\n",
       "<div class=\"rating rating-list\" data-csrf-token=\"\" data-ga-identifier=\"\" data-starbar-class=\"rating-list\" data-user=\"\" id=\"tt11581174|imdb|8.3|8.3|adv_li_tt||advsearch|title\" itemprop=\"aggregateRating\" itemscope=\"\" itemtype=\"http://schema.org/AggregateRating\" title=\"Users rated this 8.3/10 (20,540 votes) - click stars to rate\">\n",
       "<meta content=\"8.3\" itemprop=\"ratingValue\"/>\n",
       "<meta content=\"10\" itemprop=\"bestRating\"/>\n",
       "<meta content=\"20540\" itemprop=\"ratingCount\"/>\n",
       "<span class=\"rating-bg\"> </span>\n",
       "<span class=\"rating-imdb\" style=\"width: 116.2px\"> </span>\n",
       "<span class=\"rating-stars\">\n",
       "<a href=\"/register/login?why=vote\" rel=\"nofollow\" title=\"Register or login to rate this title\"><span>1</span></a>\n",
       "<a href=\"/register/login?why=vote\" rel=\"nofollow\" title=\"Register or login to rate this title\"><span>2</span></a>\n",
       "<a href=\"/register/login?why=vote\" rel=\"nofollow\" title=\"Register or login to rate this title\"><span>3</span></a>\n",
       "<a href=\"/register/login?why=vote\" rel=\"nofollow\" title=\"Register or login to rate this title\"><span>4</span></a>\n",
       "<a href=\"/register/login?why=vote\" rel=\"nofollow\" title=\"Register or login to rate this title\"><span>5</span></a>\n",
       "<a href=\"/register/login?why=vote\" rel=\"nofollow\" title=\"Register or login to rate this title\"><span>6</span></a>\n",
       "<a href=\"/register/login?why=vote\" rel=\"nofollow\" title=\"Register or login to rate this title\"><span>7</span></a>\n",
       "<a href=\"/register/login?why=vote\" rel=\"nofollow\" title=\"Register or login to rate this title\"><span>8</span></a>\n",
       "<a href=\"/register/login?why=vote\" rel=\"nofollow\" title=\"Register or login to rate this title\"><span>9</span></a>\n",
       "<a href=\"/register/login?why=vote\" rel=\"nofollow\" title=\"Register or login to rate this title\"><span>10</span></a>\n",
       "</span>\n",
       "<span class=\"rating-rating\"><span class=\"value\">8.3</span><span class=\"grey\">/</span><span class=\"grey\">10</span></span>\n",
       "<span class=\"rating-cancel\"><a href=\"/title/tt11581174/vote\" rel=\"nofollow\" title=\"Delete\"><span>X</span></a></span>\n",
       " </div>\n",
       "</div>\n",
       "</div>\n",
       "</div>\n",
       "<p class=\"text-muted\">\n",
       "Karnan, a fearless village youth, must fight for the rights of the conservative people of his village, due to the torture given by a police officer.</p>\n",
       "<p class=\"\">\n",
       "    Director:\n",
       "<a href=\"/name/nm6041683/\">Mari Selvaraj</a>\n",
       "<span class=\"ghost\">|</span> \n",
       "    Stars:\n",
       "<a href=\"/name/nm1333687/\">Dhanush</a>, \n",
       "<a href=\"/name/nm0482309/\">Lal</a>, \n",
       "<a href=\"/name/nm8135195/\">Rajisha Vijayan</a>, \n",
       "<a href=\"/name/nm6489058/\">Yogi Babu</a>\n",
       "</p>\n",
       "<p class=\"sort-num_votes-visible\">\n",
       "<span class=\"text-muted\">Votes:</span>\n",
       "<span data-value=\"20540\" name=\"nv\">20,540</span>\n",
       "</p>\n",
       "</div>\n",
       "</div>\n",
       "<div class=\"lister-item mode-advanced\">\n",
       "<div class=\"lister-top-right\">\n",
       "<div class=\"ribbonize\" data-caller=\"filmosearch\" data-tconst=\"tt2258337\"></div>\n",
       "</div>\n",
       "<div class=\"lister-item-image float-left\">\n",
       "<a href=\"/title/tt2258337/\"> <img alt=\"Eega\" class=\"loadlate\" data-tconst=\"tt2258337\" height=\"98\" loadlate=\"https://m.media-amazon.com/images/M/MV5BMjFmZjYwNGUtYzE1NC00YTllLThmZDctODc3NDExYTY3NTM3XkEyXkFqcGdeQXVyOTk3NTc2MzE@._V1_UX67_CR0,0,67,98_AL_.jpg\" src=\"https://m.media-amazon.com/images/S/sash/4FyxwxECzL-U1J8.png\" width=\"67\"/>\n",
       "</a> </div>\n",
       "<div class=\"lister-item-content\">\n",
       "<h3 class=\"lister-item-header\">\n",
       "<span class=\"lister-item-index unbold text-primary\">46.</span>\n",
       "<a href=\"/title/tt2258337/\">Eega</a>\n",
       "<span class=\"lister-item-year text-muted unbold\">(2012)</span>\n",
       "</h3>\n",
       "<p class=\"text-muted\">\n",
       "<span class=\"certificate\">UA</span>\n",
       "<span class=\"ghost\">|</span>\n",
       "<span class=\"runtime\">145 min</span>\n",
       "<span class=\"ghost\">|</span>\n",
       "<span class=\"genre\">\n",
       "Action, Comedy, Fantasy            </span>\n",
       "</p>\n",
       "<div class=\"ratings-bar\">\n",
       "<div class=\"inline-block ratings-imdb-rating\" data-value=\"7.8\" name=\"ir\">\n",
       "<span class=\"global-sprite rating-star imdb-rating\"></span>\n",
       "<strong>7.8</strong>\n",
       "</div>\n",
       "<div class=\"inline-block ratings-user-rating\">\n",
       "<span class=\"userRatingValue\" data-tconst=\"tt2258337\" id=\"urv_tt2258337\">\n",
       "<span class=\"global-sprite rating-star no-rating\"></span>\n",
       "<span class=\"rate\" data-no-rating=\"Rate this\" data-value=\"0\" name=\"ur\">Rate this</span>\n",
       "</span>\n",
       "<div class=\"starBarWidget\" id=\"sb_tt2258337\">\n",
       "<div class=\"rating rating-list\" data-csrf-token=\"\" data-ga-identifier=\"\" data-starbar-class=\"rating-list\" data-user=\"\" id=\"tt2258337|imdb|7.8|7.8|adv_li_tt||advsearch|title\" itemprop=\"aggregateRating\" itemscope=\"\" itemtype=\"http://schema.org/AggregateRating\" title=\"Users rated this 7.8/10 (23,294 votes) - click stars to rate\">\n",
       "<meta content=\"7.8\" itemprop=\"ratingValue\"/>\n",
       "<meta content=\"10\" itemprop=\"bestRating\"/>\n",
       "<meta content=\"23294\" itemprop=\"ratingCount\"/>\n",
       "<span class=\"rating-bg\"> </span>\n",
       "<span class=\"rating-imdb\" style=\"width: 109.2px\"> </span>\n",
       "<span class=\"rating-stars\">\n",
       "<a href=\"/register/login?why=vote\" rel=\"nofollow\" title=\"Register or login to rate this title\"><span>1</span></a>\n",
       "<a href=\"/register/login?why=vote\" rel=\"nofollow\" title=\"Register or login to rate this title\"><span>2</span></a>\n",
       "<a href=\"/register/login?why=vote\" rel=\"nofollow\" title=\"Register or login to rate this title\"><span>3</span></a>\n",
       "<a href=\"/register/login?why=vote\" rel=\"nofollow\" title=\"Register or login to rate this title\"><span>4</span></a>\n",
       "<a href=\"/register/login?why=vote\" rel=\"nofollow\" title=\"Register or login to rate this title\"><span>5</span></a>\n",
       "<a href=\"/register/login?why=vote\" rel=\"nofollow\" title=\"Register or login to rate this title\"><span>6</span></a>\n",
       "<a href=\"/register/login?why=vote\" rel=\"nofollow\" title=\"Register or login to rate this title\"><span>7</span></a>\n",
       "<a href=\"/register/login?why=vote\" rel=\"nofollow\" title=\"Register or login to rate this title\"><span>8</span></a>\n",
       "<a href=\"/register/login?why=vote\" rel=\"nofollow\" title=\"Register or login to rate this title\"><span>9</span></a>\n",
       "<a href=\"/register/login?why=vote\" rel=\"nofollow\" title=\"Register or login to rate this title\"><span>10</span></a>\n",
       "</span>\n",
       "<span class=\"rating-rating\"><span class=\"value\">7.8</span><span class=\"grey\">/</span><span class=\"grey\">10</span></span>\n",
       "<span class=\"rating-cancel\"><a href=\"/title/tt2258337/vote\" rel=\"nofollow\" title=\"Delete\"><span>X</span></a></span>\n",
       " </div>\n",
       "</div>\n",
       "</div>\n",
       "</div>\n",
       "<p class=\"text-muted\">\n",
       "A murdered man is reincarnated as a housefly and seeks to avenge his death.</p>\n",
       "<p class=\"\">\n",
       "    Director:\n",
       "<a href=\"/name/nm1442514/\">S.S. Rajamouli</a>\n",
       "<span class=\"ghost\">|</span> \n",
       "    Stars:\n",
       "<a href=\"/name/nm1679372/\">Sudeep</a>, \n",
       "<a href=\"/name/nm3761004/\">Nani</a>, \n",
       "<a href=\"/name/nm3606487/\">Samantha Ruth Prabhu</a>, \n",
       "<a href=\"/name/nm2334720/\">Hamsa Nandini</a>\n",
       "</p>\n",
       "<p class=\"sort-num_votes-visible\">\n",
       "<span class=\"text-muted\">Votes:</span>\n",
       "<span data-value=\"23294\" name=\"nv\">23,294</span>\n",
       "</p>\n",
       "</div>\n",
       "</div>\n",
       "<div class=\"lister-item mode-advanced\">\n",
       "<div class=\"lister-top-right\">\n",
       "<div class=\"ribbonize\" data-caller=\"filmosearch\" data-tconst=\"tt13110808\"></div>\n",
       "</div>\n",
       "<div class=\"lister-item-image float-left\">\n",
       "<a href=\"/title/tt13110808/\"> <img alt=\"Gamanam\" class=\"loadlate\" data-tconst=\"tt13110808\" height=\"98\" loadlate=\"https://m.media-amazon.com/images/M/MV5BOTQ3MzA2ZDQtNjM2Ni00ZTkxLTk2M2MtN2NhOGRiNmU3NjdmXkEyXkFqcGdeQXVyOTc2MTgwNjY@._V1_UX67_CR0,0,67,98_AL_.jpg\" src=\"https://m.media-amazon.com/images/S/sash/4FyxwxECzL-U1J8.png\" width=\"67\"/>\n",
       "</a> </div>\n",
       "<div class=\"lister-item-content\">\n",
       "<h3 class=\"lister-item-header\">\n",
       "<span class=\"lister-item-index unbold text-primary\">47.</span>\n",
       "<a href=\"/title/tt13110808/\">Gamanam</a>\n",
       "<span class=\"lister-item-year text-muted unbold\">(2021)</span>\n",
       "</h3>\n",
       "<p class=\"text-muted\">\n",
       "<span class=\"certificate\">U</span>\n",
       "<span class=\"ghost\">|</span>\n",
       "<span class=\"runtime\">114 min</span>\n",
       "<span class=\"ghost\">|</span>\n",
       "<span class=\"genre\">\n",
       "Drama            </span>\n",
       "</p>\n",
       "<div class=\"ratings-bar\">\n",
       "<div class=\"inline-block ratings-imdb-rating\" data-value=\"8\" name=\"ir\">\n",
       "<span class=\"global-sprite rating-star imdb-rating\"></span>\n",
       "<strong>8.0</strong>\n",
       "</div>\n",
       "<div class=\"inline-block ratings-user-rating\">\n",
       "<span class=\"userRatingValue\" data-tconst=\"tt13110808\" id=\"urv_tt13110808\">\n",
       "<span class=\"global-sprite rating-star no-rating\"></span>\n",
       "<span class=\"rate\" data-no-rating=\"Rate this\" data-value=\"0\" name=\"ur\">Rate this</span>\n",
       "</span>\n",
       "<div class=\"starBarWidget\" id=\"sb_tt13110808\">\n",
       "<div class=\"rating rating-list\" data-csrf-token=\"\" data-ga-identifier=\"\" data-starbar-class=\"rating-list\" data-user=\"\" id=\"tt13110808|imdb|8|8|adv_li_tt||advsearch|title\" itemprop=\"aggregateRating\" itemscope=\"\" itemtype=\"http://schema.org/AggregateRating\" title=\"Users rated this 8/10 (2,369 votes) - click stars to rate\">\n",
       "<meta content=\"8\" itemprop=\"ratingValue\"/>\n",
       "<meta content=\"10\" itemprop=\"bestRating\"/>\n",
       "<meta content=\"2369\" itemprop=\"ratingCount\"/>\n",
       "<span class=\"rating-bg\"> </span>\n",
       "<span class=\"rating-imdb\" style=\"width: 112px\"> </span>\n",
       "<span class=\"rating-stars\">\n",
       "<a href=\"/register/login?why=vote\" rel=\"nofollow\" title=\"Register or login to rate this title\"><span>1</span></a>\n",
       "<a href=\"/register/login?why=vote\" rel=\"nofollow\" title=\"Register or login to rate this title\"><span>2</span></a>\n",
       "<a href=\"/register/login?why=vote\" rel=\"nofollow\" title=\"Register or login to rate this title\"><span>3</span></a>\n",
       "<a href=\"/register/login?why=vote\" rel=\"nofollow\" title=\"Register or login to rate this title\"><span>4</span></a>\n",
       "<a href=\"/register/login?why=vote\" rel=\"nofollow\" title=\"Register or login to rate this title\"><span>5</span></a>\n",
       "<a href=\"/register/login?why=vote\" rel=\"nofollow\" title=\"Register or login to rate this title\"><span>6</span></a>\n",
       "<a href=\"/register/login?why=vote\" rel=\"nofollow\" title=\"Register or login to rate this title\"><span>7</span></a>\n",
       "<a href=\"/register/login?why=vote\" rel=\"nofollow\" title=\"Register or login to rate this title\"><span>8</span></a>\n",
       "<a href=\"/register/login?why=vote\" rel=\"nofollow\" title=\"Register or login to rate this title\"><span>9</span></a>\n",
       "<a href=\"/register/login?why=vote\" rel=\"nofollow\" title=\"Register or login to rate this title\"><span>10</span></a>\n",
       "</span>\n",
       "<span class=\"rating-rating\"><span class=\"value\">8</span><span class=\"grey\">/</span><span class=\"grey\">10</span></span>\n",
       "<span class=\"rating-cancel\"><a href=\"/title/tt13110808/vote\" rel=\"nofollow\" title=\"Delete\"><span>X</span></a></span>\n",
       " </div>\n",
       "</div>\n",
       "</div>\n",
       "</div>\n",
       "<p class=\"text-muted\">\n",
       "The destiny of four compelling lives collide in a city. Innocence, regret, ambition and sacrifice, all of it being catapulted into unforeseen situations. An aspiring cricketer is expected ...                <a href=\"/title/tt13110808/plotsummary\">See full summary</a> »\n",
       "</p>\n",
       "<p class=\"\">\n",
       "    Director:\n",
       "<a href=\"/name/nm11907121/\">Sujana Rao</a>\n",
       "<span class=\"ghost\">|</span> \n",
       "    Stars:\n",
       "<a href=\"/name/nm3971767/\">Agastya</a>, \n",
       "<a href=\"/name/nm12891318/\">Palak Aggarwal</a>, \n",
       "<a href=\"/name/nm10538080/\">Alakananda</a>, \n",
       "<a href=\"/name/nm0352031/\">Charu Haasan</a>\n",
       "</p>\n",
       "<p class=\"sort-num_votes-visible\">\n",
       "<span class=\"text-muted\">Votes:</span>\n",
       "<span data-value=\"2369\" name=\"nv\">2,369</span>\n",
       "</p>\n",
       "</div>\n",
       "</div>\n",
       "<div class=\"lister-item mode-advanced\">\n",
       "<div class=\"lister-top-right\">\n",
       "<div class=\"ribbonize\" data-caller=\"filmosearch\" data-tconst=\"tt2187153\"></div>\n",
       "</div>\n",
       "<div class=\"lister-item-image float-left\">\n",
       "<a href=\"/title/tt2187153/\"> <img alt=\"Thuppakki\" class=\"loadlate\" data-tconst=\"tt2187153\" height=\"98\" loadlate=\"https://m.media-amazon.com/images/M/MV5BZjQxYjVkYzQtMmEzNy00MzM1LWE4OTUtZTc0NTdkMjBiOGZiXkEyXkFqcGdeQXVyODE0NjUxNzY@._V1_UX67_CR0,0,67,98_AL_.jpg\" src=\"https://m.media-amazon.com/images/S/sash/4FyxwxECzL-U1J8.png\" width=\"67\"/>\n",
       "</a> </div>\n",
       "<div class=\"lister-item-content\">\n",
       "<h3 class=\"lister-item-header\">\n",
       "<span class=\"lister-item-index unbold text-primary\">48.</span>\n",
       "<a href=\"/title/tt2187153/\">Thuppakki</a>\n",
       "<span class=\"lister-item-year text-muted unbold\">(2012)</span>\n",
       "</h3>\n",
       "<p class=\"text-muted\">\n",
       "<span class=\"certificate\">U</span>\n",
       "<span class=\"ghost\">|</span>\n",
       "<span class=\"runtime\">165 min</span>\n",
       "<span class=\"ghost\">|</span>\n",
       "<span class=\"genre\">\n",
       "Action, Thriller            </span>\n",
       "</p>\n",
       "<div class=\"ratings-bar\">\n",
       "<div class=\"inline-block ratings-imdb-rating\" data-value=\"8.3\" name=\"ir\">\n",
       "<span class=\"global-sprite rating-star imdb-rating\"></span>\n",
       "<strong>8.3</strong>\n",
       "</div>\n",
       "<div class=\"inline-block ratings-user-rating\">\n",
       "<span class=\"userRatingValue\" data-tconst=\"tt2187153\" id=\"urv_tt2187153\">\n",
       "<span class=\"global-sprite rating-star no-rating\"></span>\n",
       "<span class=\"rate\" data-no-rating=\"Rate this\" data-value=\"0\" name=\"ur\">Rate this</span>\n",
       "</span>\n",
       "<div class=\"starBarWidget\" id=\"sb_tt2187153\">\n",
       "<div class=\"rating rating-list\" data-csrf-token=\"\" data-ga-identifier=\"\" data-starbar-class=\"rating-list\" data-user=\"\" id=\"tt2187153|imdb|8.3|8.3|adv_li_tt||advsearch|title\" itemprop=\"aggregateRating\" itemscope=\"\" itemtype=\"http://schema.org/AggregateRating\" title=\"Users rated this 8.3/10 (32,931 votes) - click stars to rate\">\n",
       "<meta content=\"8.3\" itemprop=\"ratingValue\"/>\n",
       "<meta content=\"10\" itemprop=\"bestRating\"/>\n",
       "<meta content=\"32931\" itemprop=\"ratingCount\"/>\n",
       "<span class=\"rating-bg\"> </span>\n",
       "<span class=\"rating-imdb\" style=\"width: 116.2px\"> </span>\n",
       "<span class=\"rating-stars\">\n",
       "<a href=\"/register/login?why=vote\" rel=\"nofollow\" title=\"Register or login to rate this title\"><span>1</span></a>\n",
       "<a href=\"/register/login?why=vote\" rel=\"nofollow\" title=\"Register or login to rate this title\"><span>2</span></a>\n",
       "<a href=\"/register/login?why=vote\" rel=\"nofollow\" title=\"Register or login to rate this title\"><span>3</span></a>\n",
       "<a href=\"/register/login?why=vote\" rel=\"nofollow\" title=\"Register or login to rate this title\"><span>4</span></a>\n",
       "<a href=\"/register/login?why=vote\" rel=\"nofollow\" title=\"Register or login to rate this title\"><span>5</span></a>\n",
       "<a href=\"/register/login?why=vote\" rel=\"nofollow\" title=\"Register or login to rate this title\"><span>6</span></a>\n",
       "<a href=\"/register/login?why=vote\" rel=\"nofollow\" title=\"Register or login to rate this title\"><span>7</span></a>\n",
       "<a href=\"/register/login?why=vote\" rel=\"nofollow\" title=\"Register or login to rate this title\"><span>8</span></a>\n",
       "<a href=\"/register/login?why=vote\" rel=\"nofollow\" title=\"Register or login to rate this title\"><span>9</span></a>\n",
       "<a href=\"/register/login?why=vote\" rel=\"nofollow\" title=\"Register or login to rate this title\"><span>10</span></a>\n",
       "</span>\n",
       "<span class=\"rating-rating\"><span class=\"value\">8.3</span><span class=\"grey\">/</span><span class=\"grey\">10</span></span>\n",
       "<span class=\"rating-cancel\"><a href=\"/title/tt2187153/vote\" rel=\"nofollow\" title=\"Delete\"><span>X</span></a></span>\n",
       " </div>\n",
       "</div>\n",
       "</div>\n",
       "</div>\n",
       "<p class=\"text-muted\">\n",
       "An army captain is on a mission to track down and destroy a terrorist gang and deactivate the sleeper cells under its command.</p>\n",
       "<p class=\"\">\n",
       "    Director:\n",
       "<a href=\"/name/nm1436693/\">A.R. Murugadoss</a>\n",
       "<span class=\"ghost\">|</span> \n",
       "    Stars:\n",
       "<a href=\"/name/nm0897201/\">Thalapathy Vijay</a>, \n",
       "<a href=\"/name/nm2570245/\">Kajal Aggarwal</a>, \n",
       "<a href=\"/name/nm4651098/\">Vidyut Jammwal</a>, \n",
       "<a href=\"/name/nm3561501/\">Sathyan</a>\n",
       "</p>\n",
       "<p class=\"sort-num_votes-visible\">\n",
       "<span class=\"text-muted\">Votes:</span>\n",
       "<span data-value=\"32931\" name=\"nv\">32,931</span>\n",
       "</p>\n",
       "</div>\n",
       "</div>\n",
       "<div class=\"lister-item mode-advanced\">\n",
       "<div class=\"lister-top-right\">\n",
       "<div class=\"ribbonize\" data-caller=\"filmosearch\" data-tconst=\"tt0376127\"></div>\n",
       "</div>\n",
       "<div class=\"lister-item-image float-left\">\n",
       "<a href=\"/title/tt0376127/\"> <img alt=\"Anniyan\" class=\"loadlate\" data-tconst=\"tt0376127\" height=\"98\" loadlate=\"https://m.media-amazon.com/images/M/MV5BOGZkYmQ4OGQtNDliYi00NDY5LWE2YzAtODMyMGEyMDhhM2I3XkEyXkFqcGdeQXVyMTEzNzg0Mjkx._V1_UX67_CR0,0,67,98_AL_.jpg\" src=\"https://m.media-amazon.com/images/S/sash/4FyxwxECzL-U1J8.png\" width=\"67\"/>\n",
       "</a> </div>\n",
       "<div class=\"lister-item-content\">\n",
       "<h3 class=\"lister-item-header\">\n",
       "<span class=\"lister-item-index unbold text-primary\">49.</span>\n",
       "<a href=\"/title/tt0376127/\">Anniyan</a>\n",
       "<span class=\"lister-item-year text-muted unbold\">(2005)</span>\n",
       "</h3>\n",
       "<p class=\"text-muted\">\n",
       "<span class=\"certificate\">U</span>\n",
       "<span class=\"ghost\">|</span>\n",
       "<span class=\"runtime\">183 min</span>\n",
       "<span class=\"ghost\">|</span>\n",
       "<span class=\"genre\">\n",
       "Action, Drama, Thriller            </span>\n",
       "</p>\n",
       "<div class=\"ratings-bar\">\n",
       "<div class=\"inline-block ratings-imdb-rating\" data-value=\"8.3\" name=\"ir\">\n",
       "<span class=\"global-sprite rating-star imdb-rating\"></span>\n",
       "<strong>8.3</strong>\n",
       "</div>\n",
       "<div class=\"inline-block ratings-user-rating\">\n",
       "<span class=\"userRatingValue\" data-tconst=\"tt0376127\" id=\"urv_tt0376127\">\n",
       "<span class=\"global-sprite rating-star no-rating\"></span>\n",
       "<span class=\"rate\" data-no-rating=\"Rate this\" data-value=\"0\" name=\"ur\">Rate this</span>\n",
       "</span>\n",
       "<div class=\"starBarWidget\" id=\"sb_tt0376127\">\n",
       "<div class=\"rating rating-list\" data-csrf-token=\"\" data-ga-identifier=\"\" data-starbar-class=\"rating-list\" data-user=\"\" id=\"tt0376127|imdb|8.3|8.3|adv_li_tt||advsearch|title\" itemprop=\"aggregateRating\" itemscope=\"\" itemtype=\"http://schema.org/AggregateRating\" title=\"Users rated this 8.3/10 (17,343 votes) - click stars to rate\">\n",
       "<meta content=\"8.3\" itemprop=\"ratingValue\"/>\n",
       "<meta content=\"10\" itemprop=\"bestRating\"/>\n",
       "<meta content=\"17343\" itemprop=\"ratingCount\"/>\n",
       "<span class=\"rating-bg\"> </span>\n",
       "<span class=\"rating-imdb\" style=\"width: 116.2px\"> </span>\n",
       "<span class=\"rating-stars\">\n",
       "<a href=\"/register/login?why=vote\" rel=\"nofollow\" title=\"Register or login to rate this title\"><span>1</span></a>\n",
       "<a href=\"/register/login?why=vote\" rel=\"nofollow\" title=\"Register or login to rate this title\"><span>2</span></a>\n",
       "<a href=\"/register/login?why=vote\" rel=\"nofollow\" title=\"Register or login to rate this title\"><span>3</span></a>\n",
       "<a href=\"/register/login?why=vote\" rel=\"nofollow\" title=\"Register or login to rate this title\"><span>4</span></a>\n",
       "<a href=\"/register/login?why=vote\" rel=\"nofollow\" title=\"Register or login to rate this title\"><span>5</span></a>\n",
       "<a href=\"/register/login?why=vote\" rel=\"nofollow\" title=\"Register or login to rate this title\"><span>6</span></a>\n",
       "<a href=\"/register/login?why=vote\" rel=\"nofollow\" title=\"Register or login to rate this title\"><span>7</span></a>\n",
       "<a href=\"/register/login?why=vote\" rel=\"nofollow\" title=\"Register or login to rate this title\"><span>8</span></a>\n",
       "<a href=\"/register/login?why=vote\" rel=\"nofollow\" title=\"Register or login to rate this title\"><span>9</span></a>\n",
       "<a href=\"/register/login?why=vote\" rel=\"nofollow\" title=\"Register or login to rate this title\"><span>10</span></a>\n",
       "</span>\n",
       "<span class=\"rating-rating\"><span class=\"value\">8.3</span><span class=\"grey\">/</span><span class=\"grey\">10</span></span>\n",
       "<span class=\"rating-cancel\"><a href=\"/title/tt0376127/vote\" rel=\"nofollow\" title=\"Delete\"><span>X</span></a></span>\n",
       " </div>\n",
       "</div>\n",
       "</div>\n",
       "</div>\n",
       "<p class=\"text-muted\">\n",
       "Ramanujam, who suffers from multiple personality disorder, works as a lawyer by day and a vigilante at night. He uses tips from the 'Garuda Purana' as his tools to expose various antisocial elements.</p>\n",
       "<p class=\"\">\n",
       "    Director:\n",
       "<a href=\"/name/nm0788171/\">S. Shankar</a>\n",
       "<span class=\"ghost\">|</span> \n",
       "    Stars:\n",
       "<a href=\"/name/nm1417314/\">Vikram</a>, \n",
       "<a href=\"/name/nm1632859/\">Sada</a>, \n",
       "<a href=\"/name/nm0695177/\">Prakash Raj</a>, \n",
       "<a href=\"/name/nm0900266/\">Vivek</a>\n",
       "</p>\n",
       "<p class=\"sort-num_votes-visible\">\n",
       "<span class=\"text-muted\">Votes:</span>\n",
       "<span data-value=\"17343\" name=\"nv\">17,343</span>\n",
       "</p>\n",
       "</div>\n",
       "</div>\n",
       "<div class=\"lister-item mode-advanced\">\n",
       "<div class=\"lister-top-right\">\n",
       "<div class=\"ribbonize\" data-caller=\"filmosearch\" data-tconst=\"tt3320578\"></div>\n",
       "</div>\n",
       "<div class=\"lister-item-image float-left\">\n",
       "<a href=\"/title/tt3320578/\"> <img alt=\"Veeram\" class=\"loadlate\" data-tconst=\"tt3320578\" height=\"98\" loadlate=\"https://m.media-amazon.com/images/M/MV5BOGRjMGE1MWYtNzcxMS00NGNhLWIyNGEtMTU5ZjVlNzRhZDM1XkEyXkFqcGdeQXVyODE0NjUxNzY@._V1_UY98_CR2,0,67,98_AL_.jpg\" src=\"https://m.media-amazon.com/images/S/sash/4FyxwxECzL-U1J8.png\" width=\"67\"/>\n",
       "</a> </div>\n",
       "<div class=\"lister-item-content\">\n",
       "<h3 class=\"lister-item-header\">\n",
       "<span class=\"lister-item-index unbold text-primary\">50.</span>\n",
       "<a href=\"/title/tt3320578/\">Veeram</a>\n",
       "<span class=\"lister-item-year text-muted unbold\">(2014)</span>\n",
       "</h3>\n",
       "<p class=\"text-muted\">\n",
       "<span class=\"certificate\">U</span>\n",
       "<span class=\"ghost\">|</span>\n",
       "<span class=\"runtime\">161 min</span>\n",
       "<span class=\"ghost\">|</span>\n",
       "<span class=\"genre\">\n",
       "Action            </span>\n",
       "</p>\n",
       "<div class=\"ratings-bar\">\n",
       "<div class=\"inline-block ratings-imdb-rating\" data-value=\"6.7\" name=\"ir\">\n",
       "<span class=\"global-sprite rating-star imdb-rating\"></span>\n",
       "<strong>6.7</strong>\n",
       "</div>\n",
       "<div class=\"inline-block ratings-user-rating\">\n",
       "<span class=\"userRatingValue\" data-tconst=\"tt3320578\" id=\"urv_tt3320578\">\n",
       "<span class=\"global-sprite rating-star no-rating\"></span>\n",
       "<span class=\"rate\" data-no-rating=\"Rate this\" data-value=\"0\" name=\"ur\">Rate this</span>\n",
       "</span>\n",
       "<div class=\"starBarWidget\" id=\"sb_tt3320578\">\n",
       "<div class=\"rating rating-list\" data-csrf-token=\"\" data-ga-identifier=\"\" data-starbar-class=\"rating-list\" data-user=\"\" id=\"tt3320578|imdb|6.7|6.7|adv_li_tt||advsearch|title\" itemprop=\"aggregateRating\" itemscope=\"\" itemtype=\"http://schema.org/AggregateRating\" title=\"Users rated this 6.7/10 (8,023 votes) - click stars to rate\">\n",
       "<meta content=\"6.7\" itemprop=\"ratingValue\"/>\n",
       "<meta content=\"10\" itemprop=\"bestRating\"/>\n",
       "<meta content=\"8023\" itemprop=\"ratingCount\"/>\n",
       "<span class=\"rating-bg\"> </span>\n",
       "<span class=\"rating-imdb\" style=\"width: 93.8px\"> </span>\n",
       "<span class=\"rating-stars\">\n",
       "<a href=\"/register/login?why=vote\" rel=\"nofollow\" title=\"Register or login to rate this title\"><span>1</span></a>\n",
       "<a href=\"/register/login?why=vote\" rel=\"nofollow\" title=\"Register or login to rate this title\"><span>2</span></a>\n",
       "<a href=\"/register/login?why=vote\" rel=\"nofollow\" title=\"Register or login to rate this title\"><span>3</span></a>\n",
       "<a href=\"/register/login?why=vote\" rel=\"nofollow\" title=\"Register or login to rate this title\"><span>4</span></a>\n",
       "<a href=\"/register/login?why=vote\" rel=\"nofollow\" title=\"Register or login to rate this title\"><span>5</span></a>\n",
       "<a href=\"/register/login?why=vote\" rel=\"nofollow\" title=\"Register or login to rate this title\"><span>6</span></a>\n",
       "<a href=\"/register/login?why=vote\" rel=\"nofollow\" title=\"Register or login to rate this title\"><span>7</span></a>\n",
       "<a href=\"/register/login?why=vote\" rel=\"nofollow\" title=\"Register or login to rate this title\"><span>8</span></a>\n",
       "<a href=\"/register/login?why=vote\" rel=\"nofollow\" title=\"Register or login to rate this title\"><span>9</span></a>\n",
       "<a href=\"/register/login?why=vote\" rel=\"nofollow\" title=\"Register or login to rate this title\"><span>10</span></a>\n",
       "</span>\n",
       "<span class=\"rating-rating\"><span class=\"value\">6.7</span><span class=\"grey\">/</span><span class=\"grey\">10</span></span>\n",
       "<span class=\"rating-cancel\"><a href=\"/title/tt3320578/vote\" rel=\"nofollow\" title=\"Delete\"><span>X</span></a></span>\n",
       " </div>\n",
       "</div>\n",
       "</div>\n",
       "</div>\n",
       "<p class=\"text-muted\">\n",
       "Vinayagam, an honest man, uses violence to settle disputes. He decides to mend his ways for his lover's sake. Hell breaks loose when he learns about a gang of rowdies following his lover's family.</p>\n",
       "<p class=\"\">\n",
       "    Director:\n",
       "<a href=\"/name/nm2350892/\">Siva</a>\n",
       "<span class=\"ghost\">|</span> \n",
       "    Stars:\n",
       "<a href=\"/name/nm0015001/\">Ajith Kumar</a>, \n",
       "<a href=\"/name/nm1961459/\">Tamannaah Bhatia</a>, \n",
       "<a href=\"/name/nm4776159/\">Vidharth</a>, \n",
       "<a href=\"/name/nm6130614/\">Bala</a>\n",
       "</p>\n",
       "<p class=\"sort-num_votes-visible\">\n",
       "<span class=\"text-muted\">Votes:</span>\n",
       "<span data-value=\"8023\" name=\"nv\">8,023</span>\n",
       "<span class=\"ghost\">|</span> <span class=\"text-muted\">Gross:</span>\n",
       "<span data-value=\"243,955\" name=\"nv\">$0.24M</span>\n",
       "</p>\n",
       "</div>\n",
       "</div>\n",
       "</div>\n",
       "</div>\n",
       "<br class=\"clear\"/>\n",
       "<div class=\"desc\">\n",
       "<span>1-50 of 6,395 titles.</span>\n",
       "<span class=\"ghost\">|</span> <a class=\"lister-page-next next-page\" href=\"/search/title/?title_type=feature&amp;primary_language=ta&amp;start=51\">Next »</a>\n",
       "</div>\n",
       "</div>\n",
       "</div>\n",
       "<div id=\"sidebar\">\n",
       "<!-- no content received for slot: top_rhs -->\n",
       "<script>\n",
       "                var event = {\n",
       "                    type: '',\n",
       "                    slotName: 'top_rhs',\n",
       "                    timestamp: Date.now()\n",
       "                };\n",
       "                var mediaEvent = event;\n",
       "                mediaEvent.type = 'no-autoplay-video-ad-detected';\n",
       "                if (window && window.mediaOrchestrator) {\n",
       "                    window.mediaOrchestrator.publish('mediaPlaybackEvent', mediaEvent);\n",
       "                    window.mediaOrchestrator.publish('noAdToLoad', event);\n",
       "                }\n",
       "            </script>\n",
       "</div>\n",
       "</div>\n",
       "<br class=\"clear\"/>\n",
       "</div>\n",
       "<div id=\"rvi-div\">\n",
       "<div class=\"recently-viewed\">\n",
       "<div class=\"header\">\n",
       "<div class=\"rhs\">\n",
       "<a href=\"#\" id=\"clear_rvi\">Clear your history</a>\n",
       "</div>\n",
       "<h3>Recently Viewed</h3>\n",
       "</div>\n",
       "<div class=\"items\"> </div>\n",
       "</div>\n",
       "</div>\n",
       "<!-- no content received for slot: bottom_ad -->\n",
       "</div>\n",
       "</div>\n",
       "<script>\n",
       "    if (typeof uet == 'function') {\n",
       "      uet(\"bb\", \"desktopFooter\", {wb: 1});\n",
       "    }\n",
       "</script>\n",
       "<div id=\"b486bfbc-a7df-4c85-976b-90976db6c9a4\">\n",
       "<footer class=\"imdb-footer VUGIPjGgHtzvbHiU19iTQ\"><div class=\"_32mc4FXftSbwhpJwmGCYUQ\"><div class=\"ipc-page-content-container ipc-page-content-container--center\" role=\"presentation\"><a aria-disabled=\"false\" class=\"ipc-button ipc-button--double-padding ipc-button--center-align-content ipc-button--default-height ipc-button--core-accent1 ipc-button--theme-baseAlt imdb-footer__open-in-app-button\" href=\"https://slyb.app.link/SKdyQ6A449\" role=\"button\" tabindex=\"0\"><div class=\"ipc-button__text\">Get the IMDb App</div></a></div></div><div class=\"ipc-page-content-container ipc-page-content-container--center _2AR8CsLqQAMCT1_Q7eidSY\" role=\"presentation\"><div class=\"imdb-footer__links\"><div class=\"_2Wc8yXs8SzGv7TVS-oOmhT\"><ul class=\"ipc-inline-list _1O3-k0VDASm1IeBrfofV4g baseAlt\" role=\"presentation\"><li class=\"ipc-inline-list__item\" role=\"presentation\"><a aria-disabled=\"false\" aria-label=\"Facebook\" class=\"ipc-icon-link ipc-icon-link--baseAlt ipc-icon-link--onBase\" href=\"https://facebook.com/imdb\" rel=\"nofollow noopener\" role=\"button\" tabindex=\"0\" target=\"_blank\" title=\"Facebook\"><svg class=\"ipc-icon ipc-icon--facebook\" fill=\"currentColor\" height=\"24\" id=\"iconContext-facebook\" role=\"presentation\" viewbox=\"0 0 24 24\" width=\"24\" xmlns=\"http://www.w3.org/2000/svg\"><path d=\"M20.896 2H3.104C2.494 2 2 2.494 2 3.104v17.792C2 21.506 2.494 22 3.104 22h9.579v-7.745h-2.607v-3.018h2.607V9.01c0-2.584 1.577-3.99 3.882-3.99 1.104 0 2.052.082 2.329.119v2.7h-1.598c-1.254 0-1.496.595-1.496 1.47v1.927h2.989l-.39 3.018h-2.6V22h5.097c.61 0 1.104-.494 1.104-1.104V3.104C22 2.494 21.506 2 20.896 2\"></path></svg></a></li><li class=\"ipc-inline-list__item\" role=\"presentation\"><a aria-disabled=\"false\" aria-label=\"Instagram\" class=\"ipc-icon-link ipc-icon-link--baseAlt ipc-icon-link--onBase\" href=\"https://instagram.com/imdb\" rel=\"nofollow noopener\" role=\"button\" tabindex=\"0\" target=\"_blank\" title=\"Instagram\"><svg class=\"ipc-icon ipc-icon--instagram\" fill=\"currentColor\" height=\"24\" id=\"iconContext-instagram\" role=\"presentation\" viewbox=\"0 0 24 24\" width=\"24\" xmlns=\"http://www.w3.org/2000/svg\"><path d=\"M11.997 2.04c-2.715 0-3.056.011-4.122.06-1.064.048-1.79.217-2.426.463a4.901 4.901 0 0 0-1.771 1.151 4.89 4.89 0 0 0-1.153 1.767c-.247.635-.416 1.36-.465 2.422C2.011 8.967 2 9.307 2 12.017s.011 3.049.06 4.113c.049 1.062.218 1.787.465 2.422a4.89 4.89 0 0 0 1.153 1.767 4.901 4.901 0 0 0 1.77 1.15c.636.248 1.363.416 2.427.465 1.066.048 1.407.06 4.122.06s3.055-.012 4.122-.06c1.064-.049 1.79-.217 2.426-.464a4.901 4.901 0 0 0 1.77-1.15 4.89 4.89 0 0 0 1.154-1.768c.247-.635.416-1.36.465-2.422.048-1.064.06-1.404.06-4.113 0-2.71-.012-3.05-.06-4.114-.049-1.062-.218-1.787-.465-2.422a4.89 4.89 0 0 0-1.153-1.767 4.901 4.901 0 0 0-1.77-1.15c-.637-.247-1.363-.416-2.427-.464-1.067-.049-1.407-.06-4.122-.06m0 1.797c2.67 0 2.985.01 4.04.058.974.045 1.503.207 1.856.344.466.181.8.397 1.15.746.349.35.566.682.747 1.147.137.352.3.88.344 1.853.048 1.052.058 1.368.058 4.032 0 2.664-.01 2.98-.058 4.031-.044.973-.207 1.501-.344 1.853a3.09 3.09 0 0 1-.748 1.147c-.35.35-.683.565-1.15.746-.352.137-.88.3-1.856.344-1.054.048-1.37.058-4.04.058-2.669 0-2.985-.01-4.039-.058-.974-.044-1.504-.207-1.856-.344a3.098 3.098 0 0 1-1.15-.746 3.09 3.09 0 0 1-.747-1.147c-.137-.352-.3-.88-.344-1.853-.049-1.052-.059-1.367-.059-4.031 0-2.664.01-2.98.059-4.032.044-.973.207-1.501.344-1.853a3.09 3.09 0 0 1 .748-1.147c.35-.349.682-.565 1.149-.746.352-.137.882-.3 1.856-.344 1.054-.048 1.37-.058 4.04-.058\"></path><path d=\"M11.997 15.342a3.329 3.329 0 0 1-3.332-3.325 3.329 3.329 0 0 1 3.332-3.326 3.329 3.329 0 0 1 3.332 3.326 3.329 3.329 0 0 1-3.332 3.325m0-8.449a5.128 5.128 0 0 0-5.134 5.124 5.128 5.128 0 0 0 5.134 5.123 5.128 5.128 0 0 0 5.133-5.123 5.128 5.128 0 0 0-5.133-5.124m6.536-.203c0 .662-.537 1.198-1.2 1.198a1.198 1.198 0 1 1 1.2-1.197\"></path></svg></a></li><li class=\"ipc-inline-list__item\" role=\"presentation\"><a aria-disabled=\"false\" aria-label=\"Twitch\" class=\"ipc-icon-link ipc-icon-link--baseAlt ipc-icon-link--onBase\" href=\"https://twitch.tv/IMDb\" rel=\"nofollow noopener\" role=\"button\" tabindex=\"0\" target=\"_blank\" title=\"Twitch\"><svg class=\"ipc-icon ipc-icon--twitch\" fill=\"currentColor\" height=\"24\" id=\"iconContext-twitch\" role=\"presentation\" viewbox=\"0 0 24 24\" width=\"24\" xmlns=\"http://www.w3.org/2000/svg\"><path d=\"M3.406 2h18.596v12.814l-5.469 5.47H12.47L9.813 22.94H7.001v-2.657H2V5.594L3.406 2zm16.721 11.876v-10H5.125v13.126h4.22v2.656L12 17.002h5l3.126-3.126z\"></path><path d=\"M17.002 7.47v5.469h-1.875v-5.47zM12.001 7.47v5.469h-1.875v-5.47z\"></path></svg></a></li><li class=\"ipc-inline-list__item\" role=\"presentation\"><a aria-disabled=\"false\" aria-label=\"Twitter\" class=\"ipc-icon-link ipc-icon-link--baseAlt ipc-icon-link--onBase\" href=\"https://twitter.com/imdb\" rel=\"nofollow noopener\" role=\"button\" tabindex=\"0\" target=\"_blank\" title=\"Twitter\"><svg class=\"ipc-icon ipc-icon--twitter\" fill=\"currentColor\" height=\"24\" id=\"iconContext-twitter\" role=\"presentation\" viewbox=\"0 0 24 24\" width=\"24\" xmlns=\"http://www.w3.org/2000/svg\"><path d=\"M8.29 19.936c7.547 0 11.675-6.13 11.675-11.446 0-.175-.004-.348-.012-.52A8.259 8.259 0 0 0 22 5.886a8.319 8.319 0 0 1-2.356.633 4.052 4.052 0 0 0 1.804-2.225c-.793.46-1.67.796-2.606.976A4.138 4.138 0 0 0 15.847 4c-2.266 0-4.104 1.802-4.104 4.023 0 .315.036.622.107.917a11.728 11.728 0 0 1-8.458-4.203 3.949 3.949 0 0 0-.556 2.022 4 4 0 0 0 1.826 3.348 4.136 4.136 0 0 1-1.858-.503l-.001.051c0 1.949 1.415 3.575 3.292 3.944a4.193 4.193 0 0 1-1.853.07c.522 1.597 2.037 2.76 3.833 2.793a8.34 8.34 0 0 1-5.096 1.722A8.51 8.51 0 0 1 2 18.13a11.785 11.785 0 0 0 6.29 1.807\"></path></svg></a></li><li class=\"ipc-inline-list__item\" role=\"presentation\"><a aria-disabled=\"false\" aria-label=\"YouTube\" class=\"ipc-icon-link ipc-icon-link--baseAlt ipc-icon-link--onBase\" href=\"https://youtube.com/imdb/\" rel=\"nofollow noopener\" role=\"button\" tabindex=\"0\" target=\"_blank\" title=\"YouTube\"><svg class=\"ipc-icon ipc-icon--youtube\" fill=\"currentColor\" height=\"24\" id=\"iconContext-youtube\" role=\"presentation\" viewbox=\"0 0 24 24\" width=\"24\" xmlns=\"http://www.w3.org/2000/svg\"><path d=\"M9.955 14.955v-5.91L15.182 12l-5.227 2.955zm11.627-7.769a2.505 2.505 0 0 0-1.768-1.768C18.254 5 12 5 12 5s-6.254 0-7.814.418c-.86.23-1.538.908-1.768 1.768C2 8.746 2 12 2 12s0 3.254.418 4.814c.23.86.908 1.538 1.768 1.768C5.746 19 12 19 12 19s6.254 0 7.814-.418a2.505 2.505 0 0 0 1.768-1.768C22 15.254 22 12 22 12s0-3.254-.418-4.814z\"></path></svg></a></li></ul></div><div><ul class=\"ipc-inline-list _1O3-k0VDASm1IeBrfofV4g baseAlt\" role=\"presentation\"><li class=\"ipc-inline-list__item zgFV3U-XECrqVQnyDbx2B\" role=\"presentation\"><a class=\"ipc-link ipc-link--baseAlt ipc-link--touch-target ipc-link--inherit-color ipc-link--launch\" href=\"https://slyb.app.link/SKdyQ6A449\" target=\"_blank\">Get the IMDb App<svg class=\"ipc-link__launch-icon\" fill=\"#000000\" height=\"10\" viewbox=\"0 0 10 10\" width=\"10\" xmlns=\"http://www.w3.org/2000/svg\"><g><path d=\"M9,9 L1,9 L1,1 L4,1 L4,0 L-1.42108547e-14,0 L-1.42108547e-14,10 L10,10 L10,6 L9,6 L9,9 Z M6,0 L6,1 L8,1 L2.998122,6.03786058 L3.998122,7.03786058 L9,2 L9,4 L10,4 L10,0 L6,0 Z\"></path></g></svg></a></li><li class=\"ipc-inline-list__item X17C45Q1MH_7XboLL_EEG\" role=\"presentation\"><a class=\"ipc-link ipc-link--baseAlt ipc-link--touch-target ipc-link--inherit-color\" href=\"?mode=desktop&amp;ref_=m_ft_dsk\">View Full Site</a></li><li class=\"ipc-inline-list__item\" role=\"presentation\"><a class=\"ipc-link ipc-link--baseAlt ipc-link--touch-target ipc-link--inherit-color ipc-link--launch\" href=\"https://help.imdb.com/imdb\" target=\"_blank\">Help<svg class=\"ipc-link__launch-icon\" fill=\"#000000\" height=\"10\" viewbox=\"0 0 10 10\" width=\"10\" xmlns=\"http://www.w3.org/2000/svg\"><g><path d=\"M9,9 L1,9 L1,1 L4,1 L4,0 L-1.42108547e-14,0 L-1.42108547e-14,10 L10,10 L10,6 L9,6 L9,9 Z M6,0 L6,1 L8,1 L2.998122,6.03786058 L3.998122,7.03786058 L9,2 L9,4 L10,4 L10,0 L6,0 Z\"></path></g></svg></a></li><li class=\"ipc-inline-list__item\" role=\"presentation\"><a class=\"ipc-link ipc-link--baseAlt ipc-link--touch-target ipc-link--inherit-color ipc-link--launch\" href=\"https://help.imdb.com/article/imdb/general-information/imdb-site-index/GNCX7BHNSPBTFALQ#so\" target=\"_blank\">Site Index<svg class=\"ipc-link__launch-icon\" fill=\"#000000\" height=\"10\" viewbox=\"0 0 10 10\" width=\"10\" xmlns=\"http://www.w3.org/2000/svg\"><g><path d=\"M9,9 L1,9 L1,1 L4,1 L4,0 L-1.42108547e-14,0 L-1.42108547e-14,10 L10,10 L10,6 L9,6 L9,9 Z M6,0 L6,1 L8,1 L2.998122,6.03786058 L3.998122,7.03786058 L9,2 L9,4 L10,4 L10,0 L6,0 Z\"></path></g></svg></a></li><li class=\"ipc-inline-list__item\" role=\"presentation\"><a class=\"ipc-link ipc-link--baseAlt ipc-link--touch-target ipc-link--inherit-color ipc-link--launch\" href=\"https://pro.imdb.com?ref_=cons_tf_pro&amp;rf=cons_tf_pro\" target=\"_blank\">IMDbPro<svg class=\"ipc-link__launch-icon\" fill=\"#000000\" height=\"10\" viewbox=\"0 0 10 10\" width=\"10\" xmlns=\"http://www.w3.org/2000/svg\"><g><path d=\"M9,9 L1,9 L1,1 L4,1 L4,0 L-1.42108547e-14,0 L-1.42108547e-14,10 L10,10 L10,6 L9,6 L9,9 Z M6,0 L6,1 L8,1 L2.998122,6.03786058 L3.998122,7.03786058 L9,2 L9,4 L10,4 L10,0 L6,0 Z\"></path></g></svg></a></li><li class=\"ipc-inline-list__item\" role=\"presentation\"><a class=\"ipc-link ipc-link--baseAlt ipc-link--touch-target ipc-link--inherit-color ipc-link--launch\" href=\"https://www.boxofficemojo.com\" target=\"_blank\">Box Office Mojo<svg class=\"ipc-link__launch-icon\" fill=\"#000000\" height=\"10\" viewbox=\"0 0 10 10\" width=\"10\" xmlns=\"http://www.w3.org/2000/svg\"><g><path d=\"M9,9 L1,9 L1,1 L4,1 L4,0 L-1.42108547e-14,0 L-1.42108547e-14,10 L10,10 L10,6 L9,6 L9,9 Z M6,0 L6,1 L8,1 L2.998122,6.03786058 L3.998122,7.03786058 L9,2 L9,4 L10,4 L10,0 L6,0 Z\"></path></g></svg></a></li><li class=\"ipc-inline-list__item\" role=\"presentation\"><a class=\"ipc-link ipc-link--baseAlt ipc-link--touch-target ipc-link--inherit-color ipc-link--launch\" href=\"https://developer.imdb.com/\" target=\"_blank\">IMDb Developer<svg class=\"ipc-link__launch-icon\" fill=\"#000000\" height=\"10\" viewbox=\"0 0 10 10\" width=\"10\" xmlns=\"http://www.w3.org/2000/svg\"><g><path d=\"M9,9 L1,9 L1,1 L4,1 L4,0 L-1.42108547e-14,0 L-1.42108547e-14,10 L10,10 L10,6 L9,6 L9,9 Z M6,0 L6,1 L8,1 L2.998122,6.03786058 L3.998122,7.03786058 L9,2 L9,4 L10,4 L10,0 L6,0 Z\"></path></g></svg></a></li></ul></div><div><ul class=\"ipc-inline-list _1O3-k0VDASm1IeBrfofV4g baseAlt\" role=\"presentation\"><li class=\"ipc-inline-list__item\" role=\"presentation\"><a class=\"ipc-link ipc-link--baseAlt ipc-link--touch-target ipc-link--inherit-color\" href=\"https://www.imdb.com/pressroom/?ref_=ft_pr\">Press Room</a></li><li class=\"ipc-inline-list__item\" role=\"presentation\"><a class=\"ipc-link ipc-link--baseAlt ipc-link--touch-target ipc-link--inherit-color ipc-link--launch\" href=\"https://advertising.amazon.com/resources/ad-specs/imdb/\" target=\"_blank\">Advertising<svg class=\"ipc-link__launch-icon\" fill=\"#000000\" height=\"10\" viewbox=\"0 0 10 10\" width=\"10\" xmlns=\"http://www.w3.org/2000/svg\"><g><path d=\"M9,9 L1,9 L1,1 L4,1 L4,0 L-1.42108547e-14,0 L-1.42108547e-14,10 L10,10 L10,6 L9,6 L9,9 Z M6,0 L6,1 L8,1 L2.998122,6.03786058 L3.998122,7.03786058 L9,2 L9,4 L10,4 L10,0 L6,0 Z\"></path></g></svg></a></li><li class=\"ipc-inline-list__item\" role=\"presentation\"><a class=\"ipc-link ipc-link--baseAlt ipc-link--touch-target ipc-link--inherit-color ipc-link--launch\" href=\"https://www.amazon.jobs/en/teams/imdb\" target=\"_blank\">Jobs<svg class=\"ipc-link__launch-icon\" fill=\"#000000\" height=\"10\" viewbox=\"0 0 10 10\" width=\"10\" xmlns=\"http://www.w3.org/2000/svg\"><g><path d=\"M9,9 L1,9 L1,1 L4,1 L4,0 L-1.42108547e-14,0 L-1.42108547e-14,10 L10,10 L10,6 L9,6 L9,9 Z M6,0 L6,1 L8,1 L2.998122,6.03786058 L3.998122,7.03786058 L9,2 L9,4 L10,4 L10,0 L6,0 Z\"></path></g></svg></a></li><li class=\"ipc-inline-list__item\" role=\"presentation\"><a class=\"ipc-link ipc-link--baseAlt ipc-link--touch-target ipc-link--inherit-color\" href=\"/conditions?ref_=ft_cou\">Conditions of Use</a></li><li class=\"ipc-inline-list__item\" role=\"presentation\"><a class=\"ipc-link ipc-link--baseAlt ipc-link--touch-target ipc-link--inherit-color\" href=\"/privacy?ref_=ft_pvc\">Privacy Policy</a></li><li class=\"ipc-inline-list__item\" role=\"presentation\"><a class=\"ipc-link ipc-link--baseAlt ipc-link--touch-target ipc-link--inherit-color ipc-link--launch\" href=\"https://www.amazon.com/b/?&amp;node=5160028011\" target=\"_blank\">Interest-Based Ads<svg class=\"ipc-link__launch-icon\" fill=\"#000000\" height=\"10\" viewbox=\"0 0 10 10\" width=\"10\" xmlns=\"http://www.w3.org/2000/svg\"><g><path d=\"M9,9 L1,9 L1,1 L4,1 L4,0 L-1.42108547e-14,0 L-1.42108547e-14,10 L10,10 L10,6 L9,6 L9,9 Z M6,0 L6,1 L8,1 L2.998122,6.03786058 L3.998122,7.03786058 L9,2 L9,4 L10,4 L10,0 L6,0 Z\"></path></g></svg></a></li><li class=\"ipc-inline-list__item\" role=\"presentation\"><div class=\"_2mulh8fx3PjJyxvyLovP4w\" id=\"teconsent\"></div></li></ul></div></div><div class=\"imdb-footer__logo _1eKbSAFyeJgUyBUy2VbcS_\"><svg aria-label=\"IMDb, an Amazon company\" height=\"18\" title=\"IMDb, an Amazon company\" width=\"160\" xmlns=\"http://www.w3.org/2000/svg\" xmlns:xlink=\"http://www.w3.org/1999/xlink\"><defs><path d=\"M26.707 2.45c-3.227 2.374-7.906 3.637-11.935 3.637C9.125 6.087 4.04 4.006.193.542-.11.27.161-.101.523.109 4.675 2.517 9.81 3.968 15.111 3.968c3.577 0 7.51-.74 11.127-2.27.546-.23 1.003.358.47.752z\" id=\"ftr__a\"></path><path d=\"M4.113 1.677C3.7 1.15 1.385 1.427.344 1.552c-.315.037-.364-.237-.08-.436C2.112-.178 5.138.196 5.49.629c.354.437-.093 3.462-1.824 4.906-.266.222-.52.104-.401-.19.39-.97 1.261-3.14.848-3.668z\" id=\"ftr__c\"></path><path d=\"M.435 1.805V.548A.311.311 0 0 1 .755.23l5.65-.001c.181 0 .326.13.326.317v1.078c-.002.181-.154.417-.425.791L3.378 6.582c1.087-.026 2.236.137 3.224.69.222.125.282.309.3.49v1.342c0 .185-.203.398-.417.287-1.74-.908-4.047-1.008-5.97.011-.197.104-.403-.107-.403-.292V7.835c0-.204.004-.552.21-.863l3.392-4.85H.761a.314.314 0 0 1-.326-.317z\" id=\"ftr__e\"></path><path d=\"M2.247 9.655H.528a.323.323 0 0 1-.307-.29L.222.569C.222.393.37.253.554.253h1.601a.323.323 0 0 1 .313.295v1.148h.031C2.917.586 3.703.067 4.762.067c1.075 0 1.75.518 2.23 1.629C7.41.586 8.358.067 9.369.067c.722 0 1.508.296 1.99.963.545.74.433 1.813.433 2.757l-.002 5.551a.324.324 0 0 1-.331.317H9.74a.321.321 0 0 1-.308-.316l-.001-4.663c0-.37.032-1.296-.048-1.647-.128-.593-.514-.76-1.011-.76-.418 0-.85.278-1.027.722-.177.445-.161 1.185-.161 1.685v4.662a.323.323 0 0 1-.331.317H5.137a.322.322 0 0 1-.31-.316l-.001-4.663c0-.981.16-2.424-1.059-2.424-1.236 0-1.188 1.406-1.188 2.424v4.662a.324.324 0 0 1-.332.317z\" id=\"ftr__g\"></path><path d=\"M4.037.067c2.551 0 3.931 2.184 3.931 4.96 0 2.684-1.524 4.814-3.931 4.814C1.533 9.84.169 7.656.169 4.935.17 2.195 1.55.067 4.037.067zm.015 1.796c-1.267 0-1.347 1.721-1.347 2.795 0 1.073-.016 3.368 1.332 3.368 1.332 0 1.395-1.851 1.395-2.98 0-.74-.031-1.629-.256-2.332-.193-.61-.578-.851-1.124-.851z\" id=\"ftr__i\"></path><path d=\"M2.206 9.655H.493a.321.321 0 0 1-.308-.316L.182.54a.325.325 0 0 1 .33-.287h1.595c.15.007.274.109.305.245v1.346h.033C2.926.641 3.6.067 4.788.067c.77 0 1.524.277 2.006 1.037.449.703.449 1.887.449 2.739v5.535a.325.325 0 0 1-.33.277H5.19a.324.324 0 0 1-.306-.277V4.602c0-.962.113-2.37-1.075-2.37-.418 0-.803.278-.995.704-.24.537-.273 1.074-.273 1.666v4.736a.328.328 0 0 1-.335.317z\" id=\"ftr__k\"></path><path d=\"M8.314 8.295c.11.156.134.341-.006.455-.35.294-.974.834-1.318 1.139l-.004-.004a.357.357 0 0 1-.406.04c-.571-.473-.673-.692-.986-1.142-.943.958-1.611 1.246-2.834 1.246-1.447 0-2.573-.89-2.573-2.672 0-1.39.756-2.337 1.833-2.8.933-.409 2.235-.483 3.233-.595V3.74c0-.409.032-.89-.209-1.243-.21-.315-.611-.445-.965-.445-.656 0-1.238.335-1.382 1.029-.03.154-.143.307-.298.315l-1.667-.18c-.14-.032-.297-.144-.256-.358C.859.842 2.684.234 4.32.234c.837 0 1.93.222 2.59.853.836.78.755 1.818.755 2.95v2.67c0 .804.335 1.155.65 1.588zM5.253 5.706v-.37c-1.244 0-2.557.265-2.557 1.724 0 .742.386 1.244 1.045 1.244.483 0 .917-.297 1.19-.78.338-.593.322-1.15.322-1.818z\" id=\"ftr__m\"></path><path d=\"M8.203 8.295c.11.156.135.341-.005.455-.352.294-.976.834-1.319 1.139l-.004-.004a.356.356 0 0 1-.406.04c-.571-.473-.673-.692-.985-1.142-.944.958-1.613 1.246-2.835 1.246-1.447 0-2.573-.89-2.573-2.672 0-1.39.756-2.337 1.833-2.8.933-.409 2.236-.483 3.233-.595V3.74c0-.409.032-.89-.21-1.243-.208-.315-.61-.445-.964-.445-.656 0-1.239.335-1.382 1.029-.03.154-.142.307-.298.315l-1.666-.18C.48 3.184.324 3.072.365 2.858.748.842 2.573.234 4.209.234c.836 0 1.93.222 2.59.853.835.78.755 1.818.755 2.95v2.67c0 .804.335 1.155.649 1.588zM5.142 5.706v-.37c-1.243 0-2.557.265-2.557 1.724 0 .742.386 1.244 1.045 1.244.482 0 .917-.297 1.19-.78.338-.593.322-1.15.322-1.818z\" id=\"ftr__o\"></path><path d=\"M2.935 10.148c-.88 0-1.583-.25-2.11-.75-.527-.501-.79-1.171-.79-2.011 0-.902.322-1.622.967-2.159.644-.538 1.511-.806 2.602-.806.694 0 1.475.104 2.342.315V3.513c0-.667-.151-1.136-.455-1.408-.304-.271-.821-.407-1.553-.407-.855 0-1.691.123-2.509.37-.285.087-.464.13-.539.13-.148 0-.223-.111-.223-.334v-.5c0-.16.025-.278.075-.352C.79.938.89.87 1.039.808c.383-.173.87-.312 1.459-.417A9.997 9.997 0 0 1 4.255.234c1.177 0 2.045.244 2.602.731.557.489.836 1.233.836 2.233v6.338c0 .247-.124.37-.372.37h-.798c-.236 0-.373-.117-.41-.351l-.093-.612c-.445.383-.939.68-1.477.89-.54.21-1.076.315-1.608.315zm.446-1.39c.41 0 .836-.08 1.282-.241.447-.16.874-.395 1.283-.704v-1.89a8.408 8.408 0 0 0-1.97-.241c-1.401 0-2.1.537-2.1 1.612 0 .47.13.831.39 1.084.26.254.632.38 1.115.38z\" id=\"ftr__q\"></path><path d=\"M.467 9.907c-.248 0-.372-.124-.372-.37V.883C.095.635.219.51.467.51h.817c.125 0 .22.026.288.075.068.05.115.142.14.277l.111.686C3 .672 4.24.234 5.541.234c.904 0 1.592.238 2.063.713.471.476.707 1.165.707 2.066v6.524c0 .246-.124.37-.372.37H6.842c-.248 0-.372-.124-.372-.37V3.625c0-.655-.133-1.137-.4-1.445-.266-.31-.684-.464-1.254-.464-.979 0-1.94.315-2.881.946v6.875c0 .246-.125.37-.372.37H.467z\" id=\"ftr__s\"></path><path d=\"M4.641 9.859c-1.462 0-2.58-.417-3.355-1.251C.51 7.774.124 6.566.124 4.985c0-1.569.4-2.783 1.2-3.641C2.121.486 3.252.055 4.714.055c.67 0 1.326.118 1.971.353.136.05.232.111.288.185.056.074.083.198.083.37v.501c0 .248-.08.37-.241.37-.062 0-.162-.018-.297-.055a5.488 5.488 0 0 0-1.544-.222c-1.04 0-1.79.262-2.248.787-.459.526-.688 1.362-.688 2.511v.241c0 1.124.232 1.949.697 2.474.465.525 1.198.788 2.203.788a5.98 5.98 0 0 0 1.672-.26c.136-.037.23-.056.279-.056.161 0 .242.124.242.371v.5c0 .162-.025.279-.075.353-.05.074-.148.142-.297.204-.608.259-1.314.389-2.119.389z\" id=\"ftr__u\"></path><path d=\"M4.598 10.185c-1.413 0-2.516-.438-3.31-1.316C.497 7.992.1 6.769.1 5.199c0-1.555.397-2.773 1.19-3.65C2.082.673 3.185.235 4.598.235c1.412 0 2.515.438 3.308 1.316.793.876 1.19 2.094 1.19 3.65 0 1.569-.397 2.792-1.19 3.669-.793.878-1.896 1.316-3.308 1.316zm0-1.483c1.747 0 2.62-1.167 2.62-3.502 0-2.323-.873-3.484-2.62-3.484S1.977 2.877 1.977 5.2c0 2.335.874 3.502 2.62 3.502z\" id=\"ftr__w\"></path><path d=\"M.396 9.907c-.248 0-.371-.124-.371-.37V.883C.025.635.148.51.396.51h.818a.49.49 0 0 1 .288.075c.068.05.115.142.14.277l.111.594C2.943.64 4.102.234 5.23.234c1.152 0 1.934.438 2.342 1.315C8.798.672 10.025.234 11.25.234c.856 0 1.512.24 1.971.722.458.482.688 1.168.688 2.057v6.524c0 .246-.124.37-.372.37h-1.097c-.248 0-.371-.124-.371-.37V3.533c0-.618-.119-1.075-.354-1.372-.235-.297-.607-.445-1.115-.445-.904 0-1.815.278-2.732.834.012.087.018.18.018.278v6.709c0 .246-.124.37-.372.37H6.42c-.249 0-.372-.124-.372-.37V3.533c0-.618-.118-1.075-.353-1.372-.235-.297-.608-.445-1.115-.445-.942 0-1.847.272-2.714.815v7.006c0 .246-.125.37-.372.37H.396z\" id=\"ftr__y\"></path><path d=\"M.617 13.724c-.248 0-.371-.124-.371-.37V.882c0-.247.123-.37.371-.37h.818c.248 0 .39.123.428.37l.093.594C2.897.648 3.944.234 5.096.234c1.203 0 2.15.435 2.845 1.307.693.87 1.04 2.053 1.04 3.548 0 1.52-.365 2.736-1.096 3.65-.731.915-1.704 1.372-2.918 1.372-1.116 0-2.076-.365-2.881-1.094v4.337c0 .246-.125.37-.372.37H.617zM4.54 8.628c1.71 0 2.566-1.149 2.566-3.447 0-1.173-.208-2.044-.624-2.612-.415-.569-1.05-.853-1.904-.853-.88 0-1.711.284-2.491.853v5.17c.805.593 1.623.889 2.453.889z\" id=\"ftr__A\"></path><path d=\"M2.971 10.148c-.88 0-1.583-.25-2.11-.75-.526-.501-.79-1.171-.79-2.011 0-.902.322-1.622.967-2.159.644-.538 1.512-.806 2.602-.806.694 0 1.475.104 2.342.315V3.513c0-.667-.15-1.136-.455-1.408-.304-.271-.821-.407-1.552-.407-.855 0-1.692.123-2.509.37-.285.087-.465.13-.54.13-.148 0-.223-.111-.223-.334v-.5c0-.16.025-.278.075-.352.05-.074.148-.142.297-.204.384-.173.87-.312 1.46-.417A9.991 9.991 0 0 1 4.29.234c1.177 0 2.045.244 2.603.731.557.489.836 1.233.836 2.233v6.338c0 .247-.125.37-.372.37h-.799c-.236 0-.372-.117-.41-.351l-.092-.612a5.09 5.09 0 0 1-1.478.89 4.4 4.4 0 0 1-1.608.315zm.446-1.39c.41 0 .836-.08 1.283-.241.446-.16.874-.395 1.282-.704v-1.89a8.403 8.403 0 0 0-1.97-.241c-1.4 0-2.1.537-2.1 1.612 0 .47.13.831.39 1.084.26.254.632.38 1.115.38z\" id=\"ftr__C\"></path><path d=\"M.503 9.907c-.248 0-.371-.124-.371-.37V.883C.132.635.255.51.503.51h.818a.49.49 0 0 1 .288.075c.068.05.115.142.14.277l.111.686C3.037.672 4.277.234 5.578.234c.904 0 1.592.238 2.063.713.47.476.706 1.165.706 2.066v6.524c0 .246-.123.37-.371.37H6.879c-.248 0-.372-.124-.372-.37V3.625c0-.655-.133-1.137-.4-1.445-.266-.31-.684-.464-1.254-.464-.98 0-1.94.315-2.882.946v6.875c0 .246-.124.37-.371.37H.503z\" id=\"ftr__E\"></path><path d=\"M1.988 13.443c-.397 0-.75-.043-1.059-.13-.15-.037-.251-.1-.307-.185a.684.684 0 0 1-.084-.37v-.483c0-.234.093-.352.28-.352.06 0 .154.013.278.037.124.025.291.037.502.037.459 0 .82-.114 1.087-.343.266-.228.505-.633.716-1.213l.353-.945L.167.675C.08.465.037.316.037.23c0-.149.086-.222.26-.222h1.115c.198 0 .334.03.409.093.075.062.148.197.223.407l2.602 7.19 2.51-7.19c.074-.21.148-.345.222-.407.075-.062.211-.093.41-.093h1.04c.174 0 .261.073.261.222 0 .086-.044.235-.13.445l-4.09 10.377c-.334.853-.725 1.464-1.17 1.835-.446.37-1.017.556-1.711.556z\" id=\"ftr__G\"></path></defs><g fill=\"none\" fill-rule=\"evenodd\"><g transform=\"translate(31.496 11.553)\"><mask fill=\"currentColor\" id=\"ftr__b\"><use xlink:href=\"#ftr__a\"></use></mask><path d=\"M.04 6.088h26.91V.04H.04z\" fill=\"currentColor\" mask=\"url(#ftr__b)\"></path></g><g transform=\"translate(55.433 10.797)\"><mask fill=\"currentColor\" id=\"ftr__d\"><use xlink:href=\"#ftr__c\"></use></mask><path d=\"M.05 5.664h5.564V.222H.05z\" fill=\"currentColor\" mask=\"url(#ftr__d)\"></path></g><g transform=\"translate(55.433 .97)\"><mask fill=\"currentColor\" id=\"ftr__f\"><use xlink:href=\"#ftr__e\"></use></mask><path d=\"M.11 9.444h6.804V.222H.111z\" fill=\"currentColor\" mask=\"url(#ftr__f)\"></path></g><g transform=\"translate(33.008 .97)\"><mask fill=\"currentColor\" id=\"ftr__h\"><use xlink:href=\"#ftr__g\"></use></mask><path d=\"M.191 9.655h11.611V.04H.192z\" fill=\"currentColor\" mask=\"url(#ftr__h)\"></path></g><g transform=\"translate(62.992 .97)\"><mask fill=\"currentColor\" id=\"ftr__j\"><use xlink:href=\"#ftr__i\"></use></mask><path d=\"M.141 9.867h7.831V.04H.142z\" fill=\"currentColor\" mask=\"url(#ftr__j)\"></path></g><g transform=\"translate(72.063 .97)\"><mask fill=\"currentColor\" id=\"ftr__l\"><use xlink:href=\"#ftr__k\"></use></mask><path d=\"M.171 9.655h7.076V.04H.17z\" fill=\"currentColor\" mask=\"url(#ftr__l)\"></path></g><g transform=\"translate(46.11 .718)\"><mask fill=\"currentColor\" id=\"ftr__n\"><use xlink:href=\"#ftr__m\"></use></mask><path d=\"M.181 10.059h8.225V.232H.18z\" fill=\"currentColor\" mask=\"url(#ftr__n)\"></path></g><g transform=\"translate(23.685 .718)\"><mask fill=\"currentColor\" id=\"ftr__p\"><use xlink:href=\"#ftr__o\"></use></mask><path d=\"M.05 10.059h8.255V.232H.05z\" fill=\"currentColor\" mask=\"url(#ftr__p)\"></path></g><g transform=\"translate(0 .718)\"><mask fill=\"currentColor\" id=\"ftr__r\"><use xlink:href=\"#ftr__q\"></use></mask><path d=\"M.03 10.15h7.68V.231H.03z\" fill=\"currentColor\" mask=\"url(#ftr__r)\"></path></g><g transform=\"translate(10.33 .718)\"><mask fill=\"currentColor\" id=\"ftr__t\"><use xlink:href=\"#ftr__s\"></use></mask><path d=\"M.07 9.907h8.255V.232H.071z\" fill=\"currentColor\" mask=\"url(#ftr__t)\"></path></g><g transform=\"translate(84.157 .97)\"><mask fill=\"currentColor\" id=\"ftr__v\"><use xlink:href=\"#ftr__u\"></use></mask><path d=\"M.11 9.867h7.046V.04H.11z\" fill=\"currentColor\" mask=\"url(#ftr__v)\"></path></g><g transform=\"translate(92.472 .718)\"><mask fill=\"currentColor\" id=\"ftr__x\"><use xlink:href=\"#ftr__w\"></use></mask><path d=\"M.08 10.21h9.041V.232H.081z\" fill=\"currentColor\" mask=\"url(#ftr__x)\"></path></g><g transform=\"translate(103.811 .718)\"><mask fill=\"currentColor\" id=\"ftr__z\"><use xlink:href=\"#ftr__y\"></use></mask><path d=\"M.02 9.907H13.93V.232H.02z\" fill=\"currentColor\" mask=\"url(#ftr__z)\"></path></g><g transform=\"translate(120.189 .718)\"><mask fill=\"currentColor\" id=\"ftr__B\"><use xlink:href=\"#ftr__A\"></use></mask><path d=\"M.242 13.747H9.01V.232H.242z\" fill=\"currentColor\" mask=\"url(#ftr__B)\"></path></g><g transform=\"translate(130.772 .718)\"><mask fill=\"currentColor\" id=\"ftr__D\"><use xlink:href=\"#ftr__C\"></use></mask><path d=\"M.06 10.15h7.68V.231H.06z\" fill=\"currentColor\" mask=\"url(#ftr__D)\"></path></g><g transform=\"translate(141.102 .718)\"><mask fill=\"currentColor\" id=\"ftr__F\"><use xlink:href=\"#ftr__E\"></use></mask><path d=\"M.131 9.907h8.224V.232H.131z\" fill=\"currentColor\" mask=\"url(#ftr__F)\"></path></g><g transform=\"translate(150.677 1.222)\"><mask fill=\"currentColor\" id=\"ftr__H\"><use xlink:href=\"#ftr__G\"></use></mask><path d=\"M.02 13.455h9.071V0H.021z\" fill=\"currentColor\" mask=\"url(#ftr__H)\"></path></g></g></svg></div><p class=\"imdb-footer__copyright _2-iNNCFskmr4l2OFN2DRsf\">© 1990-<!-- -->2022<!-- --> by IMDb.com, Inc.</p></div></footer><svg style=\"width:0;height:0;overflow:hidden;display:block\" version=\"1.1\" xmlns=\"http://www.w3.org/2000/svg\"><defs><lineargradient id=\"ipc-svg-gradient-tv-logo-t\" x1=\"31.973%\" x2=\"153.413%\" y1=\"53.409%\" y2=\"-16.853%\"><stop offset=\"21.89%\" stop-color=\"#D01F49\"></stop><stop offset=\"83.44%\" stop-color=\"#E8138B\"></stop></lineargradient><lineargradient id=\"ipc-svg-gradient-tv-logo-v\" x1=\"-38.521%\" x2=\"104.155%\" y1=\"84.997%\" y2=\"14.735%\"><stop offset=\"21.89%\" stop-color=\"#D01F49\"></stop><stop offset=\"83.44%\" stop-color=\"#E8138B\"></stop></lineargradient></defs></svg>\n",
       "</div>\n",
       "<script type=\"text/javascript\">\n",
       "    if (!window.RadWidget) {\n",
       "        window.RadWidget = {\n",
       "            registerReactWidgetInstance: function(input) {\n",
       "                window.RadWidget[input.widgetName] = window.RadWidget[input.widgetName] || [];\n",
       "                window.RadWidget[input.widgetName].push({\n",
       "                    id: input.instanceId,\n",
       "                    props: JSON.stringify(input.model)\n",
       "                })\n",
       "            },\n",
       "            getReactWidgetInstances: function(widgetName) {\n",
       "                return window.RadWidget[widgetName] || []\n",
       "            }\n",
       "        };\n",
       "    }\n",
       "</script> <script type=\"text/javascript\">\n",
       "        window['RadWidget'].registerReactWidgetInstance({\n",
       "            widgetName: \"IMDbConsumerSiteFooterFeatureV1\",\n",
       "            instanceId: \"b486bfbc-a7df-4c85-976b-90976db6c9a4\",\n",
       "            model: {\"ResponsiveFooterModel\":{\"desktopLink\":\"?mode=desktop&ref_=m_ft_dsk\",\"showDesktopLink\":true,\"locale\":\"en-US\"}}\n",
       "        });\n",
       "    </script>\n",
       "<script>\n",
       "    if (typeof uet == 'function') {\n",
       "      uet(\"be\", \"desktopFooter\", {wb: 1});\n",
       "    }\n",
       "</script>\n",
       "<script>\n",
       "    if (typeof uex == 'function') {\n",
       "      uex(\"ld\", \"desktopFooter\", {wb: 1});\n",
       "    }\n",
       "</script>\n",
       "<script>\n",
       "    if (typeof uet == 'function') {\n",
       "      uet(\"bb\", \"LoadHeaderJS\", {wb: 1});\n",
       "    }\n",
       "</script>\n",
       "<script src=\"https://m.media-amazon.com/images/S/sash/0jtbxKK$WTMiW9j.js\" type=\"text/javascript\"></script>\n",
       "<script src=\"https://m.media-amazon.com/images/S/sash/Q$vpA-vTfEkXQYW.js\" type=\"text/javascript\"></script>\n",
       "<script src=\"https://m.media-amazon.com/images/S/sash/tRsCKKpkY3eMTZk.js\" type=\"text/javascript\"></script>\n",
       "<script src=\"https://m.media-amazon.com/images/S/sash/bqCs6cjtInK2EMG.js\" type=\"text/javascript\"></script>\n",
       "<script src=\"https://m.media-amazon.com/images/S/sash/lkV91U9k8UPdWPX.js\" type=\"text/javascript\"></script>\n",
       "<script src=\"https://m.media-amazon.com/images/S/sash/AGS2D-tUt93U304.js\" type=\"text/javascript\"></script>\n",
       "<script type=\"text/javascript\">\n",
       "            function jQueryOnReady(remaining_count) {\n",
       "                if (window.jQuery && typeof $.fn.watchlistRibbon !== 'undefined') {\n",
       "                    jQuery(\n",
       "                            function() {\n",
       "        // Init the watchlist rendering\n",
       "        $(\"a.wlb_watchlist_lite\").wlb_lite();\n",
       "        $(\".lister\").watchlistRibbon(\".ribbonize\");\n",
       "\n",
       "        // Invoke the rating animation\n",
       "        $(\".lister-item\").rating_animation();\n",
       "    }\n",
       "\n",
       "                    );\n",
       "                } else if (remaining_count > 0) {\n",
       "                    setTimeout(function() { jQueryOnReady(remaining_count-1) }, 100);\n",
       "                }\n",
       "            }\n",
       "            jQueryOnReady(50);\n",
       "            </script>\n",
       "<script type=\"text/javascript\">window.webpackManifest_IMDbConsumerSiteFooterFeature={}</script><script type=\"text/javascript\">window.webpackManifest_IMDbConsumerSiteNavFeature={}</script><script crossorigin=\"anonymous\" src=\"https://m.media-amazon.com/images/I/81WVAuJagyL.js\" type=\"text/javascript\"></script><script crossorigin=\"anonymous\" src=\"https://m.media-amazon.com/images/I/61fz32FVo1L.js\" type=\"text/javascript\"></script><script crossorigin=\"anonymous\" src=\"https://m.media-amazon.com/images/I/71feNaLInHL.js\" type=\"text/javascript\"></script><script crossorigin=\"anonymous\" src=\"https://m.media-amazon.com/images/I/41gvGiLGobL.js\" type=\"text/javascript\"></script><script crossorigin=\"anonymous\" src=\"https://m.media-amazon.com/images/I/318DvX-30KL.js\" type=\"text/javascript\"></script><script crossorigin=\"anonymous\" src=\"https://m.media-amazon.com/images/I/21V6FZKZAFL.js\" type=\"text/javascript\"></script><script crossorigin=\"anonymous\" src=\"https://m.media-amazon.com/images/I/61Ka2ezTX9L.js\" type=\"text/javascript\"></script><script crossorigin=\"anonymous\" src=\"https://m.media-amazon.com/images/I/019vMGkrlkL.js\" type=\"text/javascript\"></script><script crossorigin=\"anonymous\" src=\"https://m.media-amazon.com/images/I/21QhnrxvhtL.js\" type=\"text/javascript\"></script><script crossorigin=\"anonymous\" src=\"https://m.media-amazon.com/images/I/01-AJdsXGYL.js\" type=\"text/javascript\"></script><script crossorigin=\"anonymous\" src=\"https://m.media-amazon.com/images/I/01EjywnajPL.js\" type=\"text/javascript\"></script><script crossorigin=\"anonymous\" src=\"https://m.media-amazon.com/images/I/01eEXY1YetL.js\" type=\"text/javascript\"></script><script crossorigin=\"anonymous\" src=\"https://m.media-amazon.com/images/I/21a9eB+eAFL.js\" type=\"text/javascript\"></script><script crossorigin=\"anonymous\" src=\"https://m.media-amazon.com/images/I/01krkVupMoL.js\" type=\"text/javascript\"></script><script crossorigin=\"anonymous\" src=\"https://m.media-amazon.com/images/I/5130VT1imvL.js\" type=\"text/javascript\"></script><script crossorigin=\"anonymous\" src=\"https://m.media-amazon.com/images/I/81aR84BrOfL.js\" type=\"text/javascript\"></script><script crossorigin=\"anonymous\" src=\"https://m.media-amazon.com/images/I/41lDnvDTNzL.js\" type=\"text/javascript\"></script><script crossorigin=\"anonymous\" src=\"https://m.media-amazon.com/images/I/61vDTVmJCNL.js\" type=\"text/javascript\"></script><script crossorigin=\"anonymous\" src=\"https://m.media-amazon.com/images/I/41yaL-QvHYL.js\" type=\"text/javascript\"></script><script crossorigin=\"anonymous\" src=\"https://m.media-amazon.com/images/I/31827uXCh4L.js\" type=\"text/javascript\"></script><script crossorigin=\"anonymous\" src=\"https://m.media-amazon.com/images/I/516nRGl2UxL.js\" type=\"text/javascript\"></script><script crossorigin=\"anonymous\" src=\"https://m.media-amazon.com/images/I/41KU-0tnOqL.js\" type=\"text/javascript\"></script><script crossorigin=\"anonymous\" src=\"https://m.media-amazon.com/images/I/41AxPE8xI3L.js\" type=\"text/javascript\"></script><script crossorigin=\"anonymous\" src=\"https://m.media-amazon.com/images/I/21bPJpR6JcL.js\" type=\"text/javascript\"></script><script crossorigin=\"anonymous\" src=\"https://m.media-amazon.com/images/I/01g6p0FgS3L.js\" type=\"text/javascript\"></script><script crossorigin=\"anonymous\" src=\"https://m.media-amazon.com/images/I/11UNuUz7BzL.js\" type=\"text/javascript\"></script><script crossorigin=\"anonymous\" src=\"https://m.media-amazon.com/images/I/21n5fdlWBhL.js\" type=\"text/javascript\"></script><script crossorigin=\"anonymous\" src=\"https://m.media-amazon.com/images/I/815mscbDE6L.js\" type=\"text/javascript\"></script>\n",
       "<script>\n",
       "    if (typeof uet == 'function') {\n",
       "      uet(\"bb\", \"RenderBranchSDK\", {wb: 1});\n",
       "    }\n",
       "</script>\n",
       "<script>\n",
       "      if ('csm' in window) {\n",
       "        csm.measure('csm_RenderBranchSDK_started');\n",
       "      }\n",
       "    </script>\n",
       "<script class=\"ics-branch-sdk-script\">\n",
       "        if (document.domain.startsWith('m.')) {\n",
       "\n",
       "            function logBranchMetric(metricName, n) {\n",
       "                if (window && window.ue && typeof window.ue.count === 'function') {\n",
       "                    window.ue.count(metricName, n);\n",
       "                }\n",
       "            }\n",
       "\n",
       "            logBranchMetric('BranchSDK.Requests', 1);\n",
       "            if (uet) {\n",
       "                uet('bb', 'LoadBranchSDK', {wb: 1});\n",
       "            }\n",
       "            (function(b,r,a,n,c,h,_,s,d,k){if(!b[n]||!b[n]._q){for(;s<_.length;)c(h,_[s++]);d=r.createElement(a);d.async=1;d.src=\"https://cdn.branch.io/branch-2.58.0.min.js\";k=r.getElementsByTagName(a)[0];k.parentNode.insertBefore(d,k);b[n]=h}})(window,document,\"script\",\"branch\",function(b,r){b[r]=function(){b._q.push([r,arguments])}},{_q:[],_v:1},\"addListener applyCode autoAppIndex banner closeBanner closeJourney creditHistory credits data deepview deepviewCta first getCode init link logout redeem referrals removeListener sendSMS setBranchViewData setIdentity track validateCode trackCommerceEvent logEvent disableTracking\".split(\" \"), 0);\n",
       "            branch.init('key_live_jdSfREMXW6WE9FcCt5HWFbhgswmprlIn', { timeout: 2000 }, (err, data) => {\n",
       "                if (uet && uex) {\n",
       "                    uet('be', 'LoadBranchSDK', {wb: 1});\n",
       "                    uex('ld', 'LoadBranchSDK', {wb: 1} )\n",
       "                }\n",
       "                if (err) {\n",
       "                    console.log('Branch init error', err);\n",
       "                    logBranchMetric('BranchSDK.Error', 1);\n",
       "                } else {\n",
       "                    logBranchMetric('BranchSDK.Error', 0);\n",
       "                    logBranchMetric('BranchSDK.Initialized', 1);\n",
       "\n",
       "                    branch.setBranchViewData(\n",
       "                        {\n",
       "                            data: {\n",
       "                                '$deeplink_path': '\\/search/title/'\n",
       "                            }\n",
       "                        }\n",
       "                    );\n",
       "                    branch.setIdentity('000-0000000-0000000', (err, data) => {\n",
       "                        if (err) {\n",
       "                            console.log('Branch setIdentity error', err);\n",
       "                            logBranchMetric('BranchSDK.Error', 1);\n",
       "                        } else {\n",
       "                            logBranchMetric('BranchSDK.Error', 0);\n",
       "                        }\n",
       "                    });\n",
       "                }\n",
       "            });\n",
       "        }\n",
       "    </script>\n",
       "<script>\n",
       "      if ('csm' in window) {\n",
       "        csm.measure('csm_RenderBranchSDK_finished');\n",
       "      }\n",
       "    </script>\n",
       "<script>\n",
       "    if (typeof uet == 'function') {\n",
       "      uet(\"be\", \"RenderBranchSDK\", {wb: 1});\n",
       "    }\n",
       "</script>\n",
       "<script>\n",
       "    if (typeof uex == 'function') {\n",
       "      uex(\"ld\", \"RenderBranchSDK\", {wb: 1});\n",
       "    }\n",
       "</script>\n",
       "<script>\n",
       "    if (typeof uet == 'function') {\n",
       "      uet(\"be\", \"LoadFooterJS\", {wb: 1});\n",
       "    }\n",
       "</script>\n",
       "<script>\n",
       "    if (typeof uex == 'function') {\n",
       "      uex(\"ld\", \"LoadFooterJS\", {wb: 1});\n",
       "    }\n",
       "</script>\n",
       "<div id=\"servertime\" time=\"255\"></div>\n",
       "<script>\n",
       "    if (typeof uet == 'function') {\n",
       "      uet(\"be\");\n",
       "    }\n",
       "</script>\n",
       "</body>\n",
       "</html>"
      ]
     },
     "execution_count": 55,
     "metadata": {},
     "output_type": "execute_result"
    }
   ],
   "source": [
    "soup"
   ]
  },
  {
   "cell_type": "markdown",
   "id": "a0cda0cf",
   "metadata": {},
   "source": [
    "# movies name"
   ]
  },
  {
   "cell_type": "code",
   "execution_count": 56,
   "id": "095e205e",
   "metadata": {},
   "outputs": [],
   "source": [
    "movies=soup.select('.lister-item-header a')"
   ]
  },
  {
   "cell_type": "code",
   "execution_count": 57,
   "id": "00674b10",
   "metadata": {},
   "outputs": [
    {
     "data": {
      "text/plain": [
       "[<a href=\"/title/tt10806040/\">Valimai</a>,\n",
       " <a href=\"/title/tt15097216/\">Jai Bhim</a>,\n",
       " <a href=\"/title/tt12472554/\">Mahaan</a>,\n",
       " <a href=\"/title/tt11953194/\">Hey Sinamika</a>,\n",
       " <a href=\"/title/tt4983780/\">Maanaadu</a>,\n",
       " <a href=\"/title/tt10579952/\">Master</a>,\n",
       " <a href=\"/title/tt10300570/\">Kadaisi Vivasayi</a>,\n",
       " <a href=\"/title/tt14452368/\">Writer</a>,\n",
       " <a href=\"/title/tt7019842/\">96</a>,\n",
       " <a href=\"/title/tt10189514/\">Soorarai Pottru</a>,\n",
       " <a href=\"/title/tt15561224/\">Sila Nerangalil Sila Manidhargal</a>,\n",
       " <a href=\"/title/tt7060344/\">Ratsasan</a>,\n",
       " <a href=\"/title/tt6148156/\">Vikram Vedha</a>,\n",
       " <a href=\"/title/tt10981012/\">Veerame Vaagai Soodum</a>,\n",
       " <a href=\"/title/tt13553396/\">Kayamai Kadakka</a>,\n",
       " <a href=\"/title/tt11468258/\">FIR</a>,\n",
       " <a href=\"/title/tt10701074/\">Ponniyin Selvan: Part One</a>,\n",
       " <a href=\"/title/tt9675716/\">Nerkonda Paarvai</a>,\n",
       " <a href=\"/title/tt13131186/\">Enemy</a>,\n",
       " <a href=\"/title/tt9900782/\">Kaithi</a>,\n",
       " <a href=\"/title/tt15477878/\">Irudhi Pakkam</a>,\n",
       " <a href=\"/title/tt11396226/\">Mudhal Nee Mudivum Nee</a>,\n",
       " <a href=\"/title/tt7060460/\">Theeran Adhigaaram Ondru</a>,\n",
       " <a href=\"/title/tt11772600/\">Rocky</a>,\n",
       " <a href=\"/title/tt11374902/\">Doctor</a>,\n",
       " <a href=\"/title/tt1705772/\">Mankatha</a>,\n",
       " <a href=\"/title/tt3569782/\">Jigarthanda</a>,\n",
       " <a href=\"/title/tt11301946/\">Beast</a>,\n",
       " <a href=\"/title/tt11580854/\">Sarpatta Parambarai</a>,\n",
       " <a href=\"/title/tt2181931/\">English Vinglish</a>,\n",
       " <a href=\"/title/tt9477520/\">Asuran</a>,\n",
       " <a href=\"/title/tt11730914/\">Maaran</a>,\n",
       " <a href=\"/title/tt8176054/\">Pariyerum Perumal</a>,\n",
       " <a href=\"/title/tt0222012/\">Hey Ram</a>,\n",
       " <a href=\"/title/tt10340562/\">Etharkkum Thunindhavan</a>,\n",
       " <a href=\"/title/tt8914492/\">Game Over</a>,\n",
       " <a href=\"/title/tt11396290/\">Bachelor</a>,\n",
       " <a href=\"/title/tt10152736/\">Thalaivi</a>,\n",
       " <a href=\"/title/tt6485666/\">Mersal</a>,\n",
       " <a href=\"/title/tt8959820/\">Petta</a>,\n",
       " <a href=\"/title/tt11441458/\">Kadaseela Biriyani</a>,\n",
       " <a href=\"/title/tt4987556/\">Thani Oruvan</a>,\n",
       " <a href=\"/title/tt7019942/\">Super Deluxe</a>,\n",
       " <a href=\"/title/tt15528002/\">Vinodhaya Sitham</a>,\n",
       " <a href=\"/title/tt11581174/\">Karnan</a>,\n",
       " <a href=\"/title/tt2258337/\">Eega</a>,\n",
       " <a href=\"/title/tt13110808/\">Gamanam</a>,\n",
       " <a href=\"/title/tt2187153/\">Thuppakki</a>,\n",
       " <a href=\"/title/tt0376127/\">Anniyan</a>,\n",
       " <a href=\"/title/tt3320578/\">Veeram</a>]"
      ]
     },
     "execution_count": 57,
     "metadata": {},
     "output_type": "execute_result"
    }
   ],
   "source": [
    "movies"
   ]
  },
  {
   "cell_type": "code",
   "execution_count": 58,
   "id": "99576c11",
   "metadata": {},
   "outputs": [],
   "source": [
    "movies_list=[]\n",
    "movies_link=[]\n"
   ]
  },
  {
   "cell_type": "code",
   "execution_count": 59,
   "id": "3cd18ff7",
   "metadata": {},
   "outputs": [],
   "source": [
    "for item in movies:\n",
    "    movies_list.append(item.text)\n",
    "    link='https://www.imdb.com/search/title/?title_type=feature&primary_language=ta&sort=moviemeter,asc'+item['href']\n",
    "    movies_list.append(link)"
   ]
  },
  {
   "cell_type": "code",
   "execution_count": 66,
   "id": "741418fb",
   "metadata": {},
   "outputs": [
    {
     "data": {
      "text/plain": [
       "['Valimai',\n",
       " 'https://www.imdb.com/search/title/?title_type=feature&primary_language=ta&sort=moviemeter,asc/title/tt10806040/',\n",
       " 'Jai Bhim',\n",
       " 'https://www.imdb.com/search/title/?title_type=feature&primary_language=ta&sort=moviemeter,asc/title/tt15097216/',\n",
       " 'Mahaan',\n",
       " 'https://www.imdb.com/search/title/?title_type=feature&primary_language=ta&sort=moviemeter,asc/title/tt12472554/',\n",
       " 'Hey Sinamika',\n",
       " 'https://www.imdb.com/search/title/?title_type=feature&primary_language=ta&sort=moviemeter,asc/title/tt11953194/',\n",
       " 'Maanaadu',\n",
       " 'https://www.imdb.com/search/title/?title_type=feature&primary_language=ta&sort=moviemeter,asc/title/tt4983780/',\n",
       " 'Master',\n",
       " 'https://www.imdb.com/search/title/?title_type=feature&primary_language=ta&sort=moviemeter,asc/title/tt10579952/',\n",
       " 'Kadaisi Vivasayi',\n",
       " 'https://www.imdb.com/search/title/?title_type=feature&primary_language=ta&sort=moviemeter,asc/title/tt10300570/',\n",
       " 'Writer',\n",
       " 'https://www.imdb.com/search/title/?title_type=feature&primary_language=ta&sort=moviemeter,asc/title/tt14452368/',\n",
       " '96',\n",
       " 'https://www.imdb.com/search/title/?title_type=feature&primary_language=ta&sort=moviemeter,asc/title/tt7019842/',\n",
       " 'Soorarai Pottru',\n",
       " 'https://www.imdb.com/search/title/?title_type=feature&primary_language=ta&sort=moviemeter,asc/title/tt10189514/',\n",
       " 'Sila Nerangalil Sila Manidhargal',\n",
       " 'https://www.imdb.com/search/title/?title_type=feature&primary_language=ta&sort=moviemeter,asc/title/tt15561224/',\n",
       " 'Ratsasan',\n",
       " 'https://www.imdb.com/search/title/?title_type=feature&primary_language=ta&sort=moviemeter,asc/title/tt7060344/',\n",
       " 'Vikram Vedha',\n",
       " 'https://www.imdb.com/search/title/?title_type=feature&primary_language=ta&sort=moviemeter,asc/title/tt6148156/',\n",
       " 'Veerame Vaagai Soodum',\n",
       " 'https://www.imdb.com/search/title/?title_type=feature&primary_language=ta&sort=moviemeter,asc/title/tt10981012/',\n",
       " 'Kayamai Kadakka',\n",
       " 'https://www.imdb.com/search/title/?title_type=feature&primary_language=ta&sort=moviemeter,asc/title/tt13553396/',\n",
       " 'FIR',\n",
       " 'https://www.imdb.com/search/title/?title_type=feature&primary_language=ta&sort=moviemeter,asc/title/tt11468258/',\n",
       " 'Ponniyin Selvan: Part One',\n",
       " 'https://www.imdb.com/search/title/?title_type=feature&primary_language=ta&sort=moviemeter,asc/title/tt10701074/',\n",
       " 'Nerkonda Paarvai',\n",
       " 'https://www.imdb.com/search/title/?title_type=feature&primary_language=ta&sort=moviemeter,asc/title/tt9675716/',\n",
       " 'Enemy',\n",
       " 'https://www.imdb.com/search/title/?title_type=feature&primary_language=ta&sort=moviemeter,asc/title/tt13131186/',\n",
       " 'Kaithi',\n",
       " 'https://www.imdb.com/search/title/?title_type=feature&primary_language=ta&sort=moviemeter,asc/title/tt9900782/',\n",
       " 'Irudhi Pakkam',\n",
       " 'https://www.imdb.com/search/title/?title_type=feature&primary_language=ta&sort=moviemeter,asc/title/tt15477878/',\n",
       " 'Mudhal Nee Mudivum Nee',\n",
       " 'https://www.imdb.com/search/title/?title_type=feature&primary_language=ta&sort=moviemeter,asc/title/tt11396226/',\n",
       " 'Theeran Adhigaaram Ondru',\n",
       " 'https://www.imdb.com/search/title/?title_type=feature&primary_language=ta&sort=moviemeter,asc/title/tt7060460/',\n",
       " 'Rocky',\n",
       " 'https://www.imdb.com/search/title/?title_type=feature&primary_language=ta&sort=moviemeter,asc/title/tt11772600/',\n",
       " 'Doctor',\n",
       " 'https://www.imdb.com/search/title/?title_type=feature&primary_language=ta&sort=moviemeter,asc/title/tt11374902/',\n",
       " 'Mankatha',\n",
       " 'https://www.imdb.com/search/title/?title_type=feature&primary_language=ta&sort=moviemeter,asc/title/tt1705772/',\n",
       " 'Jigarthanda',\n",
       " 'https://www.imdb.com/search/title/?title_type=feature&primary_language=ta&sort=moviemeter,asc/title/tt3569782/',\n",
       " 'Beast',\n",
       " 'https://www.imdb.com/search/title/?title_type=feature&primary_language=ta&sort=moviemeter,asc/title/tt11301946/',\n",
       " 'Sarpatta Parambarai',\n",
       " 'https://www.imdb.com/search/title/?title_type=feature&primary_language=ta&sort=moviemeter,asc/title/tt11580854/',\n",
       " 'English Vinglish',\n",
       " 'https://www.imdb.com/search/title/?title_type=feature&primary_language=ta&sort=moviemeter,asc/title/tt2181931/',\n",
       " 'Asuran',\n",
       " 'https://www.imdb.com/search/title/?title_type=feature&primary_language=ta&sort=moviemeter,asc/title/tt9477520/',\n",
       " 'Maaran',\n",
       " 'https://www.imdb.com/search/title/?title_type=feature&primary_language=ta&sort=moviemeter,asc/title/tt11730914/',\n",
       " 'Pariyerum Perumal',\n",
       " 'https://www.imdb.com/search/title/?title_type=feature&primary_language=ta&sort=moviemeter,asc/title/tt8176054/',\n",
       " 'Hey Ram',\n",
       " 'https://www.imdb.com/search/title/?title_type=feature&primary_language=ta&sort=moviemeter,asc/title/tt0222012/',\n",
       " 'Etharkkum Thunindhavan',\n",
       " 'https://www.imdb.com/search/title/?title_type=feature&primary_language=ta&sort=moviemeter,asc/title/tt10340562/',\n",
       " 'Game Over',\n",
       " 'https://www.imdb.com/search/title/?title_type=feature&primary_language=ta&sort=moviemeter,asc/title/tt8914492/',\n",
       " 'Bachelor',\n",
       " 'https://www.imdb.com/search/title/?title_type=feature&primary_language=ta&sort=moviemeter,asc/title/tt11396290/',\n",
       " 'Thalaivi',\n",
       " 'https://www.imdb.com/search/title/?title_type=feature&primary_language=ta&sort=moviemeter,asc/title/tt10152736/',\n",
       " 'Mersal',\n",
       " 'https://www.imdb.com/search/title/?title_type=feature&primary_language=ta&sort=moviemeter,asc/title/tt6485666/',\n",
       " 'Petta',\n",
       " 'https://www.imdb.com/search/title/?title_type=feature&primary_language=ta&sort=moviemeter,asc/title/tt8959820/',\n",
       " 'Kadaseela Biriyani',\n",
       " 'https://www.imdb.com/search/title/?title_type=feature&primary_language=ta&sort=moviemeter,asc/title/tt11441458/',\n",
       " 'Thani Oruvan',\n",
       " 'https://www.imdb.com/search/title/?title_type=feature&primary_language=ta&sort=moviemeter,asc/title/tt4987556/',\n",
       " 'Super Deluxe',\n",
       " 'https://www.imdb.com/search/title/?title_type=feature&primary_language=ta&sort=moviemeter,asc/title/tt7019942/',\n",
       " 'Vinodhaya Sitham',\n",
       " 'https://www.imdb.com/search/title/?title_type=feature&primary_language=ta&sort=moviemeter,asc/title/tt15528002/',\n",
       " 'Karnan',\n",
       " 'https://www.imdb.com/search/title/?title_type=feature&primary_language=ta&sort=moviemeter,asc/title/tt11581174/',\n",
       " 'Eega',\n",
       " 'https://www.imdb.com/search/title/?title_type=feature&primary_language=ta&sort=moviemeter,asc/title/tt2258337/',\n",
       " 'Gamanam',\n",
       " 'https://www.imdb.com/search/title/?title_type=feature&primary_language=ta&sort=moviemeter,asc/title/tt13110808/',\n",
       " 'Thuppakki',\n",
       " 'https://www.imdb.com/search/title/?title_type=feature&primary_language=ta&sort=moviemeter,asc/title/tt2187153/',\n",
       " 'Anniyan',\n",
       " 'https://www.imdb.com/search/title/?title_type=feature&primary_language=ta&sort=moviemeter,asc/title/tt0376127/',\n",
       " 'Veeram',\n",
       " 'https://www.imdb.com/search/title/?title_type=feature&primary_language=ta&sort=moviemeter,asc/title/tt3320578/']"
      ]
     },
     "execution_count": 66,
     "metadata": {},
     "output_type": "execute_result"
    }
   ],
   "source": [
    "movies_list"
   ]
  },
  {
   "cell_type": "markdown",
   "id": "d245af9e",
   "metadata": {},
   "source": [
    "# release years"
   ]
  },
  {
   "cell_type": "code",
   "execution_count": 46,
   "id": "497c3d4e",
   "metadata": {},
   "outputs": [],
   "source": [
    "year=soup.select('.text-muted.unbold')"
   ]
  },
  {
   "cell_type": "code",
   "execution_count": 47,
   "id": "e1f2a017",
   "metadata": {},
   "outputs": [
    {
     "data": {
      "text/plain": [
       "[<span class=\"lister-item-year text-muted unbold\">(2022)</span>,\n",
       " <span class=\"lister-item-year text-muted unbold\">(2021)</span>,\n",
       " <span class=\"lister-item-year text-muted unbold\">(2022)</span>,\n",
       " <span class=\"lister-item-year text-muted unbold\">(2022)</span>,\n",
       " <span class=\"lister-item-year text-muted unbold\">(2021)</span>,\n",
       " <span class=\"lister-item-year text-muted unbold\">(2021)</span>,\n",
       " <span class=\"lister-item-year text-muted unbold\">(2021)</span>,\n",
       " <span class=\"lister-item-year text-muted unbold\">(2021)</span>,\n",
       " <span class=\"lister-item-year text-muted unbold\">(II) (2018)</span>,\n",
       " <span class=\"lister-item-year text-muted unbold\">(2020)</span>,\n",
       " <span class=\"lister-item-year text-muted unbold\">(2022)</span>,\n",
       " <span class=\"lister-item-year text-muted unbold\">(2018)</span>,\n",
       " <span class=\"lister-item-year text-muted unbold\">(2017)</span>,\n",
       " <span class=\"lister-item-year text-muted unbold\">(2022)</span>,\n",
       " <span class=\"lister-item-year text-muted unbold\">(2021)</span>,\n",
       " <span class=\"lister-item-year text-muted unbold\">(2022)</span>,\n",
       " <span class=\"lister-item-year text-muted unbold\">(2022)</span>,\n",
       " <span class=\"lister-item-year text-muted unbold\">(2019)</span>,\n",
       " <span class=\"lister-item-year text-muted unbold\">(2021)</span>,\n",
       " <span class=\"lister-item-year text-muted unbold\">(2019)</span>,\n",
       " <span class=\"lister-item-year text-muted unbold\">(2021)</span>,\n",
       " <span class=\"lister-item-year text-muted unbold\">(2022)</span>,\n",
       " <span class=\"lister-item-year text-muted unbold\">(2017)</span>,\n",
       " <span class=\"lister-item-year text-muted unbold\">(2021)</span>,\n",
       " <span class=\"lister-item-year text-muted unbold\">(2021)</span>,\n",
       " <span class=\"lister-item-year text-muted unbold\">(2011)</span>,\n",
       " <span class=\"lister-item-year text-muted unbold\">(2014)</span>,\n",
       " <span class=\"lister-item-year text-muted unbold\">(II) (2022)</span>,\n",
       " <span class=\"lister-item-year text-muted unbold\">(2021)</span>,\n",
       " <span class=\"lister-item-year text-muted unbold\">(2012)</span>,\n",
       " <span class=\"lister-item-year text-muted unbold\">(2019)</span>,\n",
       " <span class=\"lister-item-year text-muted unbold\">(2022)</span>,\n",
       " <span class=\"lister-item-year text-muted unbold\">(2018)</span>,\n",
       " <span class=\"lister-item-year text-muted unbold\">(2000)</span>,\n",
       " <span class=\"lister-item-year text-muted unbold\">(2022)</span>,\n",
       " <span class=\"lister-item-year text-muted unbold\">(I) (2019)</span>,\n",
       " <span class=\"lister-item-year text-muted unbold\">(2021)</span>,\n",
       " <span class=\"lister-item-year text-muted unbold\">(2021)</span>,\n",
       " <span class=\"lister-item-year text-muted unbold\">(2017)</span>,\n",
       " <span class=\"lister-item-year text-muted unbold\">(2019)</span>,\n",
       " <span class=\"lister-item-year text-muted unbold\">(2021)</span>,\n",
       " <span class=\"lister-item-year text-muted unbold\">(2015)</span>,\n",
       " <span class=\"lister-item-year text-muted unbold\">(2019)</span>,\n",
       " <span class=\"lister-item-year text-muted unbold\">(2021)</span>,\n",
       " <span class=\"lister-item-year text-muted unbold\">(2021)</span>,\n",
       " <span class=\"lister-item-year text-muted unbold\">(2012)</span>,\n",
       " <span class=\"lister-item-year text-muted unbold\">(2021)</span>,\n",
       " <span class=\"lister-item-year text-muted unbold\">(2012)</span>,\n",
       " <span class=\"lister-item-year text-muted unbold\">(2005)</span>,\n",
       " <span class=\"lister-item-year text-muted unbold\">(2014)</span>]"
      ]
     },
     "execution_count": 47,
     "metadata": {},
     "output_type": "execute_result"
    }
   ],
   "source": [
    "year"
   ]
  },
  {
   "cell_type": "code",
   "execution_count": 48,
   "id": "c3448c1c",
   "metadata": {},
   "outputs": [],
   "source": [
    "release_year=[]"
   ]
  },
  {
   "cell_type": "code",
   "execution_count": 49,
   "id": "5c3314e7",
   "metadata": {},
   "outputs": [],
   "source": [
    "for item in year:\n",
    "    release_year.append(item.text)\n",
    "    release_year"
   ]
  },
  {
   "cell_type": "code",
   "execution_count": 50,
   "id": "30ec4123",
   "metadata": {},
   "outputs": [
    {
     "data": {
      "text/plain": [
       "['(2022)',\n",
       " '(2021)',\n",
       " '(2022)',\n",
       " '(2022)',\n",
       " '(2021)',\n",
       " '(2021)',\n",
       " '(2021)',\n",
       " '(2021)',\n",
       " '(II) (2018)',\n",
       " '(2020)',\n",
       " '(2022)',\n",
       " '(2018)',\n",
       " '(2017)',\n",
       " '(2022)',\n",
       " '(2021)',\n",
       " '(2022)',\n",
       " '(2022)',\n",
       " '(2019)',\n",
       " '(2021)',\n",
       " '(2019)',\n",
       " '(2021)',\n",
       " '(2022)',\n",
       " '(2017)',\n",
       " '(2021)',\n",
       " '(2021)',\n",
       " '(2011)',\n",
       " '(2014)',\n",
       " '(II) (2022)',\n",
       " '(2021)',\n",
       " '(2012)',\n",
       " '(2019)',\n",
       " '(2022)',\n",
       " '(2018)',\n",
       " '(2000)',\n",
       " '(2022)',\n",
       " '(I) (2019)',\n",
       " '(2021)',\n",
       " '(2021)',\n",
       " '(2017)',\n",
       " '(2019)',\n",
       " '(2021)',\n",
       " '(2015)',\n",
       " '(2019)',\n",
       " '(2021)',\n",
       " '(2021)',\n",
       " '(2012)',\n",
       " '(2021)',\n",
       " '(2012)',\n",
       " '(2005)',\n",
       " '(2014)']"
      ]
     },
     "execution_count": 50,
     "metadata": {},
     "output_type": "execute_result"
    }
   ],
   "source": [
    "release_year"
   ]
  },
  {
   "cell_type": "markdown",
   "id": "9833fac1",
   "metadata": {},
   "source": [
    "# rating"
   ]
  },
  {
   "cell_type": "code",
   "execution_count": 26,
   "id": "ba733033",
   "metadata": {},
   "outputs": [],
   "source": [
    "rating=soup.select('strong,ratings-imdb-rating')"
   ]
  },
  {
   "cell_type": "code",
   "execution_count": 18,
   "id": "7015a82d",
   "metadata": {},
   "outputs": [
    {
     "data": {
      "text/plain": [
       "[<strong>Detailed</strong>,\n",
       " <strong>Popularity</strong>,\n",
       " <strong>7.8</strong>,\n",
       " <strong>9.5</strong>,\n",
       " <strong>8.3</strong>,\n",
       " <strong>6.0</strong>,\n",
       " <strong>8.9</strong>,\n",
       " <strong>8.0</strong>,\n",
       " <strong>8.8</strong>,\n",
       " <strong>8.1</strong>,\n",
       " <strong>8.6</strong>,\n",
       " <strong>9.3</strong>,\n",
       " <strong>8.1</strong>,\n",
       " <strong>8.5</strong>,\n",
       " <strong>8.4</strong>,\n",
       " <strong>7.4</strong>,\n",
       " <strong>7.9</strong>,\n",
       " <strong>8.1</strong>,\n",
       " <strong>8.0</strong>,\n",
       " <strong>6.9</strong>,\n",
       " <strong>8.6</strong>,\n",
       " <strong>7.7</strong>,\n",
       " <strong>8.4</strong>,\n",
       " <strong>8.3</strong>,\n",
       " <strong>8.9</strong>,\n",
       " <strong>7.8</strong>,\n",
       " <strong>7.7</strong>,\n",
       " <strong>8.3</strong>,\n",
       " <strong>8.8</strong>,\n",
       " <strong>7.9</strong>,\n",
       " <strong>8.6</strong>,\n",
       " <strong>8.9</strong>,\n",
       " <strong>8.0</strong>,\n",
       " <strong>7.0</strong>,\n",
       " <strong>6.3</strong>,\n",
       " <strong>6.2</strong>,\n",
       " <strong>8.1</strong>,\n",
       " <strong>7.3</strong>,\n",
       " <strong>7.6</strong>,\n",
       " <strong>8.5</strong>,\n",
       " <strong>8.4</strong>,\n",
       " <strong>8.2</strong>,\n",
       " <strong>8.3</strong>,\n",
       " <strong>7.8</strong>,\n",
       " <strong>8.0</strong>,\n",
       " <strong>8.3</strong>,\n",
       " <strong>8.3</strong>,\n",
       " <strong>6.7</strong>]"
      ]
     },
     "execution_count": 18,
     "metadata": {},
     "output_type": "execute_result"
    }
   ],
   "source": [
    "rating"
   ]
  },
  {
   "cell_type": "code",
   "execution_count": 27,
   "id": "54f05d66",
   "metadata": {},
   "outputs": [
    {
     "data": {
      "text/plain": [
       "['Detailed',\n",
       " 'Popularity',\n",
       " '7.8',\n",
       " '9.5',\n",
       " '8.3',\n",
       " '6.0',\n",
       " '8.9',\n",
       " '8.0',\n",
       " '8.8',\n",
       " '8.1',\n",
       " '8.6',\n",
       " '9.3',\n",
       " '8.1',\n",
       " '8.5',\n",
       " '8.4',\n",
       " '7.4',\n",
       " '7.9',\n",
       " '8.1',\n",
       " '8.0',\n",
       " '6.9',\n",
       " '8.6',\n",
       " '7.7',\n",
       " '8.4',\n",
       " '8.3',\n",
       " '8.9',\n",
       " '7.8',\n",
       " '7.7',\n",
       " '8.3',\n",
       " '8.8',\n",
       " '7.9',\n",
       " '8.6',\n",
       " '8.9',\n",
       " '8.0',\n",
       " '7.0',\n",
       " '6.3',\n",
       " '6.2',\n",
       " '8.1',\n",
       " '7.3',\n",
       " '7.6',\n",
       " '8.5',\n",
       " '8.4',\n",
       " '8.2',\n",
       " '8.3',\n",
       " '7.8',\n",
       " '8.0',\n",
       " '8.3',\n",
       " '8.3',\n",
       " '6.7']"
      ]
     },
     "execution_count": 27,
     "metadata": {},
     "output_type": "execute_result"
    }
   ],
   "source": [
    "rating_value"
   ]
  },
  {
   "cell_type": "markdown",
   "id": "91cb79ca",
   "metadata": {},
   "source": [
    "# movies ant frame"
   ]
  },
  {
   "cell_type": "code",
   "execution_count": 44,
   "id": "94d22502",
   "metadata": {},
   "outputs": [],
   "source": [
    "import pandas as np"
   ]
  },
  {
   "cell_type": "code",
   "execution_count": 45,
   "id": "6d9b5686",
   "metadata": {},
   "outputs": [],
   "source": [
    "imdb=np.DataFrame(movies_list,columns=[\"movies_list\"])"
   ]
  },
  {
   "cell_type": "code",
   "execution_count": 46,
   "id": "b7aa9150",
   "metadata": {},
   "outputs": [
    {
     "data": {
      "text/html": [
       "<div>\n",
       "<style scoped>\n",
       "    .dataframe tbody tr th:only-of-type {\n",
       "        vertical-align: middle;\n",
       "    }\n",
       "\n",
       "    .dataframe tbody tr th {\n",
       "        vertical-align: top;\n",
       "    }\n",
       "\n",
       "    .dataframe thead th {\n",
       "        text-align: right;\n",
       "    }\n",
       "</style>\n",
       "<table border=\"1\" class=\"dataframe\">\n",
       "  <thead>\n",
       "    <tr style=\"text-align: right;\">\n",
       "      <th></th>\n",
       "      <th>movies_list</th>\n",
       "    </tr>\n",
       "  </thead>\n",
       "  <tbody>\n",
       "    <tr>\n",
       "      <th>0</th>\n",
       "      <td>Valimai</td>\n",
       "    </tr>\n",
       "    <tr>\n",
       "      <th>1</th>\n",
       "      <td>https://www.imdb.com/search/title/?title_type=...</td>\n",
       "    </tr>\n",
       "    <tr>\n",
       "      <th>2</th>\n",
       "      <td>Jai Bhim</td>\n",
       "    </tr>\n",
       "    <tr>\n",
       "      <th>3</th>\n",
       "      <td>https://www.imdb.com/search/title/?title_type=...</td>\n",
       "    </tr>\n",
       "    <tr>\n",
       "      <th>4</th>\n",
       "      <td>Mahaan</td>\n",
       "    </tr>\n",
       "    <tr>\n",
       "      <th>...</th>\n",
       "      <td>...</td>\n",
       "    </tr>\n",
       "    <tr>\n",
       "      <th>95</th>\n",
       "      <td>https://www.imdb.com/search/title/?title_type=...</td>\n",
       "    </tr>\n",
       "    <tr>\n",
       "      <th>96</th>\n",
       "      <td>Anniyan</td>\n",
       "    </tr>\n",
       "    <tr>\n",
       "      <th>97</th>\n",
       "      <td>https://www.imdb.com/search/title/?title_type=...</td>\n",
       "    </tr>\n",
       "    <tr>\n",
       "      <th>98</th>\n",
       "      <td>Veeram</td>\n",
       "    </tr>\n",
       "    <tr>\n",
       "      <th>99</th>\n",
       "      <td>https://www.imdb.com/search/title/?title_type=...</td>\n",
       "    </tr>\n",
       "  </tbody>\n",
       "</table>\n",
       "<p>100 rows × 1 columns</p>\n",
       "</div>"
      ],
      "text/plain": [
       "                                          movies_list\n",
       "0                                             Valimai\n",
       "1   https://www.imdb.com/search/title/?title_type=...\n",
       "2                                            Jai Bhim\n",
       "3   https://www.imdb.com/search/title/?title_type=...\n",
       "4                                              Mahaan\n",
       "..                                                ...\n",
       "95  https://www.imdb.com/search/title/?title_type=...\n",
       "96                                            Anniyan\n",
       "97  https://www.imdb.com/search/title/?title_type=...\n",
       "98                                             Veeram\n",
       "99  https://www.imdb.com/search/title/?title_type=...\n",
       "\n",
       "[100 rows x 1 columns]"
      ]
     },
     "execution_count": 46,
     "metadata": {},
     "output_type": "execute_result"
    }
   ],
   "source": [
    "imdb"
   ]
  },
  {
   "cell_type": "markdown",
   "id": "0cec1a98",
   "metadata": {},
   "source": [
    "# save"
   ]
  },
  {
   "cell_type": "code",
   "execution_count": 71,
   "id": "65090024",
   "metadata": {},
   "outputs": [],
   "source": [
    "imdb.to_csv('imdb.csv')"
   ]
  },
  {
   "cell_type": "markdown",
   "id": "ff0c4226",
   "metadata": {},
   "source": [
    "# data pre-processing-categorical data"
   ]
  },
  {
   "cell_type": "markdown",
   "id": "cd2f972f",
   "metadata": {},
   "source": [
    "# importing library"
   ]
  },
  {
   "cell_type": "code",
   "execution_count": 73,
   "id": "9c13f303",
   "metadata": {},
   "outputs": [],
   "source": [
    "import pandas as pd"
   ]
  },
  {
   "cell_type": "markdown",
   "id": "4a00bec8",
   "metadata": {},
   "source": [
    "# create data"
   ]
  },
  {
   "cell_type": "code",
   "execution_count": 74,
   "id": "0dd4ff77",
   "metadata": {},
   "outputs": [],
   "source": [
    "salary_data=pd.DataFrame({'salary':[20000,30000,7800,720000,65000],\n",
    "                         'level':['mid','low','high','low','high']})"
   ]
  },
  {
   "cell_type": "code",
   "execution_count": 75,
   "id": "76b26f71",
   "metadata": {},
   "outputs": [
    {
     "data": {
      "text/html": [
       "<div>\n",
       "<style scoped>\n",
       "    .dataframe tbody tr th:only-of-type {\n",
       "        vertical-align: middle;\n",
       "    }\n",
       "\n",
       "    .dataframe tbody tr th {\n",
       "        vertical-align: top;\n",
       "    }\n",
       "\n",
       "    .dataframe thead th {\n",
       "        text-align: right;\n",
       "    }\n",
       "</style>\n",
       "<table border=\"1\" class=\"dataframe\">\n",
       "  <thead>\n",
       "    <tr style=\"text-align: right;\">\n",
       "      <th></th>\n",
       "      <th>salary</th>\n",
       "      <th>level</th>\n",
       "    </tr>\n",
       "  </thead>\n",
       "  <tbody>\n",
       "    <tr>\n",
       "      <th>0</th>\n",
       "      <td>20000</td>\n",
       "      <td>mid</td>\n",
       "    </tr>\n",
       "    <tr>\n",
       "      <th>1</th>\n",
       "      <td>30000</td>\n",
       "      <td>low</td>\n",
       "    </tr>\n",
       "    <tr>\n",
       "      <th>2</th>\n",
       "      <td>7800</td>\n",
       "      <td>high</td>\n",
       "    </tr>\n",
       "    <tr>\n",
       "      <th>3</th>\n",
       "      <td>720000</td>\n",
       "      <td>low</td>\n",
       "    </tr>\n",
       "    <tr>\n",
       "      <th>4</th>\n",
       "      <td>65000</td>\n",
       "      <td>high</td>\n",
       "    </tr>\n",
       "  </tbody>\n",
       "</table>\n",
       "</div>"
      ],
      "text/plain": [
       "   salary level\n",
       "0   20000   mid\n",
       "1   30000   low\n",
       "2    7800  high\n",
       "3  720000   low\n",
       "4   65000  high"
      ]
     },
     "execution_count": 75,
     "metadata": {},
     "output_type": "execute_result"
    }
   ],
   "source": [
    "salary_data"
   ]
  },
  {
   "cell_type": "markdown",
   "id": "5faf495c",
   "metadata": {},
   "source": [
    "# cate gorizing data"
   ]
  },
  {
   "cell_type": "code",
   "execution_count": 76,
   "id": "7c1430d7",
   "metadata": {},
   "outputs": [
    {
     "data": {
      "text/plain": [
       "0    5\n",
       "1    4\n",
       "2    3\n",
       "3    4\n",
       "4    3\n",
       "Name: level, dtype: int64"
      ]
     },
     "execution_count": 76,
     "metadata": {},
     "output_type": "execute_result"
    }
   ],
   "source": [
    "salary_data.level.map({'low':1,'mid':2,'high':3,'low':4,'mid':5})"
   ]
  },
  {
   "cell_type": "markdown",
   "id": "76824595",
   "metadata": {},
   "source": [
    "# install"
   ]
  },
  {
   "cell_type": "code",
   "execution_count": 77,
   "id": "3b5f653e",
   "metadata": {},
   "outputs": [
    {
     "name": "stdout",
     "output_type": "stream",
     "text": [
      "Collecting matplotlib\n",
      "  Downloading matplotlib-3.5.1-cp38-cp38-win_amd64.whl (7.2 MB)\n",
      "Requirement already satisfied: numpy>=1.17 in c:\\users\\kaviy\\anaconda3\\envs\\dataanalytics2\\lib\\site-packages (from matplotlib) (1.22.2)\n",
      "Requirement already satisfied: packaging>=20.0 in c:\\users\\kaviy\\anaconda3\\envs\\dataanalytics2\\lib\\site-packages (from matplotlib) (21.3)\n",
      "Collecting cycler>=0.10\n",
      "  Downloading cycler-0.11.0-py3-none-any.whl (6.4 kB)\n",
      "Collecting pillow>=6.2.0\n",
      "  Downloading Pillow-9.0.1-cp38-cp38-win_amd64.whl (3.2 MB)\n",
      "Collecting fonttools>=4.22.0\n",
      "  Downloading fonttools-4.29.1-py3-none-any.whl (895 kB)\n",
      "Requirement already satisfied: python-dateutil>=2.7 in c:\\users\\kaviy\\anaconda3\\envs\\dataanalytics2\\lib\\site-packages (from matplotlib) (2.8.2)\n",
      "Requirement already satisfied: pyparsing>=2.2.1 in c:\\users\\kaviy\\anaconda3\\envs\\dataanalytics2\\lib\\site-packages (from matplotlib) (3.0.4)\n",
      "Collecting kiwisolver>=1.0.1\n",
      "  Downloading kiwisolver-1.3.2-cp38-cp38-win_amd64.whl (52 kB)\n",
      "Requirement already satisfied: six>=1.5 in c:\\users\\kaviy\\anaconda3\\envs\\dataanalytics2\\lib\\site-packages (from python-dateutil>=2.7->matplotlib) (1.16.0)\n",
      "Installing collected packages: pillow, kiwisolver, fonttools, cycler, matplotlib\n",
      "Successfully installed cycler-0.11.0 fonttools-4.29.1 kiwisolver-1.3.2 matplotlib-3.5.1 pillow-9.0.1\n",
      "Note: you may need to restart the kernel to use updated packages.\n"
     ]
    }
   ],
   "source": [
    "pip install matplotlib"
   ]
  },
  {
   "cell_type": "markdown",
   "id": "b68f5ff8",
   "metadata": {},
   "source": [
    "# data pre-processing-normalization"
   ]
  },
  {
   "cell_type": "markdown",
   "id": "04f35801",
   "metadata": {},
   "source": [
    "# import libraries"
   ]
  },
  {
   "cell_type": "code",
   "execution_count": 79,
   "id": "cd0bca22",
   "metadata": {},
   "outputs": [],
   "source": [
    "import numpy as np\n",
    "import pandas as pd"
   ]
  },
  {
   "cell_type": "markdown",
   "id": "41b82867",
   "metadata": {},
   "source": [
    "# import visualization libraries"
   ]
  },
  {
   "cell_type": "code",
   "execution_count": 80,
   "id": "99d1f3cf",
   "metadata": {},
   "outputs": [
    {
     "name": "stderr",
     "output_type": "stream",
     "text": [
      "Matplotlib is building the font cache; this may take a moment.\n"
     ]
    }
   ],
   "source": [
    "import matplotlib.pyplot as plt\n",
    "from mpl_toolkits.mplot3d import Axes3D\n",
    "%matplotlib inline"
   ]
  },
  {
   "cell_type": "markdown",
   "id": "7afc5ef2",
   "metadata": {},
   "source": [
    "# table create"
   ]
  },
  {
   "cell_type": "code",
   "execution_count": 82,
   "id": "aed03487",
   "metadata": {},
   "outputs": [],
   "source": [
    "normal=pd.DataFrame({'x1':np.random.randint(-100,100,1000),\n",
    "                    'x2':np.random.randint(-80,80,1000),\n",
    "                    'x3':np.random.randint(-150,150,1000)})"
   ]
  },
  {
   "cell_type": "code",
   "execution_count": 83,
   "id": "e33de5ff",
   "metadata": {},
   "outputs": [
    {
     "data": {
      "text/html": [
       "<div>\n",
       "<style scoped>\n",
       "    .dataframe tbody tr th:only-of-type {\n",
       "        vertical-align: middle;\n",
       "    }\n",
       "\n",
       "    .dataframe tbody tr th {\n",
       "        vertical-align: top;\n",
       "    }\n",
       "\n",
       "    .dataframe thead th {\n",
       "        text-align: right;\n",
       "    }\n",
       "</style>\n",
       "<table border=\"1\" class=\"dataframe\">\n",
       "  <thead>\n",
       "    <tr style=\"text-align: right;\">\n",
       "      <th></th>\n",
       "      <th>x1</th>\n",
       "      <th>x2</th>\n",
       "      <th>x3</th>\n",
       "    </tr>\n",
       "  </thead>\n",
       "  <tbody>\n",
       "    <tr>\n",
       "      <th>0</th>\n",
       "      <td>8</td>\n",
       "      <td>-32</td>\n",
       "      <td>-95</td>\n",
       "    </tr>\n",
       "    <tr>\n",
       "      <th>1</th>\n",
       "      <td>-59</td>\n",
       "      <td>0</td>\n",
       "      <td>99</td>\n",
       "    </tr>\n",
       "    <tr>\n",
       "      <th>2</th>\n",
       "      <td>-20</td>\n",
       "      <td>-8</td>\n",
       "      <td>130</td>\n",
       "    </tr>\n",
       "    <tr>\n",
       "      <th>3</th>\n",
       "      <td>-46</td>\n",
       "      <td>79</td>\n",
       "      <td>117</td>\n",
       "    </tr>\n",
       "    <tr>\n",
       "      <th>4</th>\n",
       "      <td>74</td>\n",
       "      <td>0</td>\n",
       "      <td>-92</td>\n",
       "    </tr>\n",
       "    <tr>\n",
       "      <th>...</th>\n",
       "      <td>...</td>\n",
       "      <td>...</td>\n",
       "      <td>...</td>\n",
       "    </tr>\n",
       "    <tr>\n",
       "      <th>995</th>\n",
       "      <td>-21</td>\n",
       "      <td>-31</td>\n",
       "      <td>75</td>\n",
       "    </tr>\n",
       "    <tr>\n",
       "      <th>996</th>\n",
       "      <td>52</td>\n",
       "      <td>22</td>\n",
       "      <td>-149</td>\n",
       "    </tr>\n",
       "    <tr>\n",
       "      <th>997</th>\n",
       "      <td>67</td>\n",
       "      <td>58</td>\n",
       "      <td>-144</td>\n",
       "    </tr>\n",
       "    <tr>\n",
       "      <th>998</th>\n",
       "      <td>-70</td>\n",
       "      <td>-12</td>\n",
       "      <td>59</td>\n",
       "    </tr>\n",
       "    <tr>\n",
       "      <th>999</th>\n",
       "      <td>21</td>\n",
       "      <td>19</td>\n",
       "      <td>92</td>\n",
       "    </tr>\n",
       "  </tbody>\n",
       "</table>\n",
       "<p>1000 rows × 3 columns</p>\n",
       "</div>"
      ],
      "text/plain": [
       "     x1  x2   x3\n",
       "0     8 -32  -95\n",
       "1   -59   0   99\n",
       "2   -20  -8  130\n",
       "3   -46  79  117\n",
       "4    74   0  -92\n",
       "..   ..  ..  ...\n",
       "995 -21 -31   75\n",
       "996  52  22 -149\n",
       "997  67  58 -144\n",
       "998 -70 -12   59\n",
       "999  21  19   92\n",
       "\n",
       "[1000 rows x 3 columns]"
      ]
     },
     "execution_count": 83,
     "metadata": {},
     "output_type": "execute_result"
    }
   ],
   "source": [
    "normal"
   ]
  },
  {
   "cell_type": "markdown",
   "id": "92818204",
   "metadata": {},
   "source": [
    "# scatter 3D plot of data set graph"
   ]
  },
  {
   "cell_type": "code",
   "execution_count": 88,
   "id": "9d77f80b",
   "metadata": {},
   "outputs": [
    {
     "data": {
      "text/plain": [
       "<Figure size 432x288 with 0 Axes>"
      ]
     },
     "execution_count": 88,
     "metadata": {},
     "output_type": "execute_result"
    },
    {
     "data": {
      "image/png": "[encoded data removed]",
      "text/plain": [
       "<Figure size 432x288 with 1 Axes>"
      ]
     },
     "metadata": {
      "needs_background": "light"
     },
     "output_type": "display_data"
    },
    {
     "data": {
      "text/plain": [
       "<Figure size 432x288 with 0 Axes>"
      ]
     },
     "metadata": {},
     "output_type": "display_data"
    }
   ],
   "source": [
    "ax=plt.axes(projection='3d')\n",
    "ax.scatter3D(normal.x1,normal.x2,normal.x3)\n",
    "plt.figure()"
   ]
  },
  {
   "cell_type": "markdown",
   "id": "bc93216c",
   "metadata": {},
   "source": [
    "# sklearn"
   ]
  },
  {
   "cell_type": "code",
   "execution_count": 89,
   "id": "20336230",
   "metadata": {},
   "outputs": [
    {
     "name": "stdout",
     "output_type": "stream",
     "text": [
      "Collecting sklearnNote: you may need to restart the kernel to use updated packages.\n",
      "\n",
      "  Downloading sklearn-0.0.tar.gz (1.1 kB)\n",
      "Collecting scikit-learn\n",
      "  Downloading scikit_learn-1.0.2-cp38-cp38-win_amd64.whl (7.2 MB)\n",
      "Requirement already satisfied: numpy>=1.14.6 in c:\\users\\kaviy\\anaconda3\\envs\\dataanalytics2\\lib\\site-packages (from scikit-learn->sklearn) (1.22.2)\n",
      "Collecting threadpoolctl>=2.0.0\n",
      "  Downloading threadpoolctl-3.1.0-py3-none-any.whl (14 kB)\n",
      "Collecting scipy>=1.1.0\n",
      "  Downloading scipy-1.8.0-cp38-cp38-win_amd64.whl (36.9 MB)\n",
      "Collecting joblib>=0.11\n",
      "  Downloading joblib-1.1.0-py2.py3-none-any.whl (306 kB)\n",
      "Building wheels for collected packages: sklearn\n",
      "  Building wheel for sklearn (setup.py): started\n",
      "  Building wheel for sklearn (setup.py): finished with status 'done'\n",
      "  Created wheel for sklearn: filename=sklearn-0.0-py2.py3-none-any.whl size=1310 sha256=89d4ad7b4a4fb159240c5c7207f74b46b9af90289b6eb702552cf9892f48bf09\n",
      "  Stored in directory: c:\\users\\kaviy\\appdata\\local\\pip\\cache\\wheels\\22\\0b\\40\\fd3f795caaa1fb4c6cb738bc1f56100be1e57da95849bfc897\n",
      "Successfully built sklearn\n",
      "Installing collected packages: threadpoolctl, scipy, joblib, scikit-learn, sklearn\n",
      "Successfully installed joblib-1.1.0 scikit-learn-1.0.2 scipy-1.8.0 sklearn-0.0 threadpoolctl-3.1.0\n"
     ]
    }
   ],
   "source": [
    "pip install sklearn"
   ]
  },
  {
   "cell_type": "code",
   "execution_count": 90,
   "id": "da7e5074",
   "metadata": {},
   "outputs": [],
   "source": [
    "import sklearn"
   ]
  },
  {
   "cell_type": "code",
   "execution_count": 92,
   "id": "a772532f",
   "metadata": {},
   "outputs": [],
   "source": [
    "from sklearn.preprocessing import Normalizer"
   ]
  },
  {
   "cell_type": "code",
   "execution_count": 93,
   "id": "aff99a1e",
   "metadata": {},
   "outputs": [],
   "source": [
    "norm=Normalizer()"
   ]
  },
  {
   "cell_type": "markdown",
   "id": "21da3af4",
   "metadata": {},
   "source": [
    "# fitting&viewing dataframe in object"
   ]
  },
  {
   "cell_type": "code",
   "execution_count": 94,
   "id": "a0f7be1d",
   "metadata": {},
   "outputs": [],
   "source": [
    "normal2=norm.fit_transform(normal)"
   ]
  },
  {
   "cell_type": "code",
   "execution_count": 95,
   "id": "0d4298a4",
   "metadata": {},
   "outputs": [
    {
     "data": {
      "text/plain": [
       "array([[ 0.07955179, -0.31820718, -0.94467757],\n",
       "       [-0.51194143,  0.        ,  0.85902036],\n",
       "       [-0.1517767 , -0.06071068,  0.98654855],\n",
       "       ...,\n",
       "       [ 0.39625552,  0.34302716, -0.85165365],\n",
       "       [-0.75814251, -0.12996729,  0.63900583],\n",
       "       [ 0.21815901,  0.19738196,  0.95574422]])"
      ]
     },
     "execution_count": 95,
     "metadata": {},
     "output_type": "execute_result"
    }
   ],
   "source": [
    "normal2"
   ]
  },
  {
   "cell_type": "markdown",
   "id": "1f179610",
   "metadata": {},
   "source": [
    "# scatter 3D graph"
   ]
  },
  {
   "cell_type": "code",
   "execution_count": 96,
   "id": "189a1d14",
   "metadata": {},
   "outputs": [],
   "source": [
    "normal2=pd.DataFrame(normal2,columns=['x1','x2','x3'])"
   ]
  },
  {
   "cell_type": "code",
   "execution_count": 97,
   "id": "1acf900b",
   "metadata": {},
   "outputs": [
    {
     "data": {
      "text/plain": [
       "<Figure size 432x288 with 0 Axes>"
      ]
     },
     "execution_count": 97,
     "metadata": {},
     "output_type": "execute_result"
    },
    {
     "data": {
      "image/png": "[encoded data removed]",
      "text/plain": [
       "<Figure size 432x288 with 1 Axes>"
      ]
     },
     "metadata": {
      "needs_background": "light"
     },
     "output_type": "display_data"
    },
    {
     "data": {
      "text/plain": [
       "<Figure size 432x288 with 0 Axes>"
      ]
     },
     "metadata": {},
     "output_type": "display_data"
    }
   ],
   "source": [
    "ax=plt.axes(projection='3d')\n",
    "ax.scatter3D(normal2.x1,normal2.x2,normal2.x3)\n",
    "plt.figure()"
   ]
  },
  {
   "cell_type": "markdown",
   "id": "62b8f0f5",
   "metadata": {},
   "source": [
    "# data pre processing missing data"
   ]
  },
  {
   "cell_type": "code",
   "execution_count": 1,
   "id": "4acf2bf9",
   "metadata": {},
   "outputs": [],
   "source": [
    "import numpy as np\n",
    "import pandas as pd"
   ]
  },
  {
   "cell_type": "code",
   "execution_count": 6,
   "id": "c6d02f7b",
   "metadata": {},
   "outputs": [],
   "source": [
    "dataset=pd.read_csv('D:/Data.csv')"
   ]
  },
  {
   "cell_type": "code",
   "execution_count": 7,
   "id": "914a9b40",
   "metadata": {},
   "outputs": [
    {
     "data": {
      "text/html": [
       "<div>\n",
       "<style scoped>\n",
       "    .dataframe tbody tr th:only-of-type {\n",
       "        vertical-align: middle;\n",
       "    }\n",
       "\n",
       "    .dataframe tbody tr th {\n",
       "        vertical-align: top;\n",
       "    }\n",
       "\n",
       "    .dataframe thead th {\n",
       "        text-align: right;\n",
       "    }\n",
       "</style>\n",
       "<table border=\"1\" class=\"dataframe\">\n",
       "  <thead>\n",
       "    <tr style=\"text-align: right;\">\n",
       "      <th></th>\n",
       "      <th>Country</th>\n",
       "      <th>Age</th>\n",
       "      <th>Salary</th>\n",
       "      <th>Purchased</th>\n",
       "    </tr>\n",
       "  </thead>\n",
       "  <tbody>\n",
       "    <tr>\n",
       "      <th>0</th>\n",
       "      <td>France</td>\n",
       "      <td>44.0</td>\n",
       "      <td>72000.0</td>\n",
       "      <td>No</td>\n",
       "    </tr>\n",
       "    <tr>\n",
       "      <th>1</th>\n",
       "      <td>Spain</td>\n",
       "      <td>27.0</td>\n",
       "      <td>48000.0</td>\n",
       "      <td>Yes</td>\n",
       "    </tr>\n",
       "    <tr>\n",
       "      <th>2</th>\n",
       "      <td>Germany</td>\n",
       "      <td>30.0</td>\n",
       "      <td>54000.0</td>\n",
       "      <td>No</td>\n",
       "    </tr>\n",
       "    <tr>\n",
       "      <th>3</th>\n",
       "      <td>Spain</td>\n",
       "      <td>38.0</td>\n",
       "      <td>61000.0</td>\n",
       "      <td>No</td>\n",
       "    </tr>\n",
       "    <tr>\n",
       "      <th>4</th>\n",
       "      <td>Germany</td>\n",
       "      <td>40.0</td>\n",
       "      <td>NaN</td>\n",
       "      <td>Yes</td>\n",
       "    </tr>\n",
       "    <tr>\n",
       "      <th>5</th>\n",
       "      <td>France</td>\n",
       "      <td>35.0</td>\n",
       "      <td>58000.0</td>\n",
       "      <td>Yes</td>\n",
       "    </tr>\n",
       "    <tr>\n",
       "      <th>6</th>\n",
       "      <td>Spain</td>\n",
       "      <td>NaN</td>\n",
       "      <td>52000.0</td>\n",
       "      <td>No</td>\n",
       "    </tr>\n",
       "    <tr>\n",
       "      <th>7</th>\n",
       "      <td>France</td>\n",
       "      <td>48.0</td>\n",
       "      <td>79000.0</td>\n",
       "      <td>Yes</td>\n",
       "    </tr>\n",
       "    <tr>\n",
       "      <th>8</th>\n",
       "      <td>Germany</td>\n",
       "      <td>50.0</td>\n",
       "      <td>83000.0</td>\n",
       "      <td>No</td>\n",
       "    </tr>\n",
       "    <tr>\n",
       "      <th>9</th>\n",
       "      <td>France</td>\n",
       "      <td>37.0</td>\n",
       "      <td>67000.0</td>\n",
       "      <td>Yes</td>\n",
       "    </tr>\n",
       "  </tbody>\n",
       "</table>\n",
       "</div>"
      ],
      "text/plain": [
       "   Country   Age   Salary Purchased\n",
       "0   France  44.0  72000.0        No\n",
       "1    Spain  27.0  48000.0       Yes\n",
       "2  Germany  30.0  54000.0        No\n",
       "3    Spain  38.0  61000.0        No\n",
       "4  Germany  40.0      NaN       Yes\n",
       "5   France  35.0  58000.0       Yes\n",
       "6    Spain   NaN  52000.0        No\n",
       "7   France  48.0  79000.0       Yes\n",
       "8  Germany  50.0  83000.0        No\n",
       "9   France  37.0  67000.0       Yes"
      ]
     },
     "execution_count": 7,
     "metadata": {},
     "output_type": "execute_result"
    }
   ],
   "source": [
    "dataset"
   ]
  },
  {
   "cell_type": "markdown",
   "id": "45448e18",
   "metadata": {},
   "source": [
    "# dataset reshaping to data"
   ]
  },
  {
   "cell_type": "code",
   "execution_count": 8,
   "id": "b159f309",
   "metadata": {},
   "outputs": [],
   "source": [
    "d=dataset.iloc[:,:-1]\n",
    "g=dataset.iloc[:,-1]"
   ]
  },
  {
   "cell_type": "code",
   "execution_count": 9,
   "id": "2ed3c3a3",
   "metadata": {},
   "outputs": [
    {
     "data": {
      "text/html": [
       "<div>\n",
       "<style scoped>\n",
       "    .dataframe tbody tr th:only-of-type {\n",
       "        vertical-align: middle;\n",
       "    }\n",
       "\n",
       "    .dataframe tbody tr th {\n",
       "        vertical-align: top;\n",
       "    }\n",
       "\n",
       "    .dataframe thead th {\n",
       "        text-align: right;\n",
       "    }\n",
       "</style>\n",
       "<table border=\"1\" class=\"dataframe\">\n",
       "  <thead>\n",
       "    <tr style=\"text-align: right;\">\n",
       "      <th></th>\n",
       "      <th>Country</th>\n",
       "      <th>Age</th>\n",
       "      <th>Salary</th>\n",
       "    </tr>\n",
       "  </thead>\n",
       "  <tbody>\n",
       "    <tr>\n",
       "      <th>0</th>\n",
       "      <td>France</td>\n",
       "      <td>44.0</td>\n",
       "      <td>72000.0</td>\n",
       "    </tr>\n",
       "    <tr>\n",
       "      <th>1</th>\n",
       "      <td>Spain</td>\n",
       "      <td>27.0</td>\n",
       "      <td>48000.0</td>\n",
       "    </tr>\n",
       "    <tr>\n",
       "      <th>2</th>\n",
       "      <td>Germany</td>\n",
       "      <td>30.0</td>\n",
       "      <td>54000.0</td>\n",
       "    </tr>\n",
       "    <tr>\n",
       "      <th>3</th>\n",
       "      <td>Spain</td>\n",
       "      <td>38.0</td>\n",
       "      <td>61000.0</td>\n",
       "    </tr>\n",
       "    <tr>\n",
       "      <th>4</th>\n",
       "      <td>Germany</td>\n",
       "      <td>40.0</td>\n",
       "      <td>NaN</td>\n",
       "    </tr>\n",
       "    <tr>\n",
       "      <th>5</th>\n",
       "      <td>France</td>\n",
       "      <td>35.0</td>\n",
       "      <td>58000.0</td>\n",
       "    </tr>\n",
       "    <tr>\n",
       "      <th>6</th>\n",
       "      <td>Spain</td>\n",
       "      <td>NaN</td>\n",
       "      <td>52000.0</td>\n",
       "    </tr>\n",
       "    <tr>\n",
       "      <th>7</th>\n",
       "      <td>France</td>\n",
       "      <td>48.0</td>\n",
       "      <td>79000.0</td>\n",
       "    </tr>\n",
       "    <tr>\n",
       "      <th>8</th>\n",
       "      <td>Germany</td>\n",
       "      <td>50.0</td>\n",
       "      <td>83000.0</td>\n",
       "    </tr>\n",
       "    <tr>\n",
       "      <th>9</th>\n",
       "      <td>France</td>\n",
       "      <td>37.0</td>\n",
       "      <td>67000.0</td>\n",
       "    </tr>\n",
       "  </tbody>\n",
       "</table>\n",
       "</div>"
      ],
      "text/plain": [
       "   Country   Age   Salary\n",
       "0   France  44.0  72000.0\n",
       "1    Spain  27.0  48000.0\n",
       "2  Germany  30.0  54000.0\n",
       "3    Spain  38.0  61000.0\n",
       "4  Germany  40.0      NaN\n",
       "5   France  35.0  58000.0\n",
       "6    Spain   NaN  52000.0\n",
       "7   France  48.0  79000.0\n",
       "8  Germany  50.0  83000.0\n",
       "9   France  37.0  67000.0"
      ]
     },
     "execution_count": 9,
     "metadata": {},
     "output_type": "execute_result"
    }
   ],
   "source": [
    "d"
   ]
  },
  {
   "cell_type": "code",
   "execution_count": 10,
   "id": "8db047bd",
   "metadata": {},
   "outputs": [
    {
     "data": {
      "text/plain": [
       "0     No\n",
       "1    Yes\n",
       "2     No\n",
       "3     No\n",
       "4    Yes\n",
       "5    Yes\n",
       "6     No\n",
       "7    Yes\n",
       "8     No\n",
       "9    Yes\n",
       "Name: Purchased, dtype: object"
      ]
     },
     "execution_count": 10,
     "metadata": {},
     "output_type": "execute_result"
    }
   ],
   "source": [
    "g"
   ]
  },
  {
   "cell_type": "code",
   "execution_count": 11,
   "id": "77895ef2",
   "metadata": {},
   "outputs": [
    {
     "data": {
      "text/plain": [
       "Country      0\n",
       "Age          1\n",
       "Salary       1\n",
       "Purchased    0\n",
       "dtype: int64"
      ]
     },
     "execution_count": 11,
     "metadata": {},
     "output_type": "execute_result"
    }
   ],
   "source": [
    "dataset.isnull().sum()"
   ]
  },
  {
   "cell_type": "markdown",
   "id": "579cb499",
   "metadata": {},
   "source": [
    "# apply simple impute"
   ]
  },
  {
   "cell_type": "code",
   "execution_count": 12,
   "id": "9b58aecf",
   "metadata": {},
   "outputs": [
    {
     "name": "stdout",
     "output_type": "stream",
     "text": [
      "Requirement already satisfied: sklearn in c:\\users\\kaviy\\anaconda3\\envs\\dataanalytics2\\lib\\site-packages (0.0)\n",
      "Requirement already satisfied: scikit-learn in c:\\users\\kaviy\\anaconda3\\envs\\dataanalytics2\\lib\\site-packages (from sklearn) (1.0.2)\n",
      "Requirement already satisfied: scipy>=1.1.0 in c:\\users\\kaviy\\anaconda3\\envs\\dataanalytics2\\lib\\site-packages (from scikit-learn->sklearn) (1.8.0)\n",
      "Requirement already satisfied: numpy>=1.14.6 in c:\\users\\kaviy\\anaconda3\\envs\\dataanalytics2\\lib\\site-packages (from scikit-learn->sklearn) (1.22.2)\n",
      "Requirement already satisfied: joblib>=0.11 in c:\\users\\kaviy\\anaconda3\\envs\\dataanalytics2\\lib\\site-packages (from scikit-learn->sklearn) (1.1.0)\n",
      "Requirement already satisfied: threadpoolctl>=2.0.0 in c:\\users\\kaviy\\anaconda3\\envs\\dataanalytics2\\lib\\site-packages (from scikit-learn->sklearn) (3.1.0)\n",
      "Note: you may need to restart the kernel to use updated packages.\n"
     ]
    }
   ],
   "source": [
    "pip install sklearn"
   ]
  },
  {
   "cell_type": "code",
   "execution_count": 13,
   "id": "323fd572",
   "metadata": {},
   "outputs": [],
   "source": [
    "from sklearn.impute import SimpleImputer"
   ]
  },
  {
   "cell_type": "code",
   "execution_count": 14,
   "id": "b21dff70",
   "metadata": {},
   "outputs": [],
   "source": [
    "imputer=SimpleImputer(missing_values=np.nan,strategy='mean')"
   ]
  },
  {
   "cell_type": "markdown",
   "id": "c52115cf",
   "metadata": {},
   "source": [
    "# statistics"
   ]
  },
  {
   "cell_type": "code",
   "execution_count": 1,
   "id": "fe472691",
   "metadata": {},
   "outputs": [],
   "source": [
    "import pandas as pd"
   ]
  },
  {
   "cell_type": "markdown",
   "id": "72f8dcdc",
   "metadata": {},
   "source": [
    "# importing&checkingdata"
   ]
  },
  {
   "cell_type": "code",
   "execution_count": 2,
   "id": "e5e0481b",
   "metadata": {},
   "outputs": [],
   "source": [
    "mtcars=pd.read_csv('C:/Users/kaviy/Desktop/mtcars.csv')"
   ]
  },
  {
   "cell_type": "code",
   "execution_count": 3,
   "id": "eeaf8073",
   "metadata": {},
   "outputs": [
    {
     "data": {
      "text/html": [
       "<div>\n",
       "<style scoped>\n",
       "    .dataframe tbody tr th:only-of-type {\n",
       "        vertical-align: middle;\n",
       "    }\n",
       "\n",
       "    .dataframe tbody tr th {\n",
       "        vertical-align: top;\n",
       "    }\n",
       "\n",
       "    .dataframe thead th {\n",
       "        text-align: right;\n",
       "    }\n",
       "</style>\n",
       "<table border=\"1\" class=\"dataframe\">\n",
       "  <thead>\n",
       "    <tr style=\"text-align: right;\">\n",
       "      <th></th>\n",
       "      <th>Unnamed: 0</th>\n",
       "      <th>mpg</th>\n",
       "      <th>cyl</th>\n",
       "      <th>disp</th>\n",
       "      <th>hp</th>\n",
       "      <th>drat</th>\n",
       "      <th>wt</th>\n",
       "      <th>qsec</th>\n",
       "      <th>vs</th>\n",
       "      <th>am</th>\n",
       "      <th>gear</th>\n",
       "      <th>carb</th>\n",
       "    </tr>\n",
       "  </thead>\n",
       "  <tbody>\n",
       "    <tr>\n",
       "      <th>0</th>\n",
       "      <td>Mazda RX4</td>\n",
       "      <td>21.0</td>\n",
       "      <td>6</td>\n",
       "      <td>160.0</td>\n",
       "      <td>110</td>\n",
       "      <td>3.90</td>\n",
       "      <td>2.620</td>\n",
       "      <td>16.46</td>\n",
       "      <td>0</td>\n",
       "      <td>1</td>\n",
       "      <td>4</td>\n",
       "      <td>4</td>\n",
       "    </tr>\n",
       "    <tr>\n",
       "      <th>1</th>\n",
       "      <td>Mazda RX4 Wag</td>\n",
       "      <td>21.0</td>\n",
       "      <td>6</td>\n",
       "      <td>160.0</td>\n",
       "      <td>110</td>\n",
       "      <td>3.90</td>\n",
       "      <td>2.875</td>\n",
       "      <td>17.02</td>\n",
       "      <td>0</td>\n",
       "      <td>1</td>\n",
       "      <td>4</td>\n",
       "      <td>4</td>\n",
       "    </tr>\n",
       "    <tr>\n",
       "      <th>2</th>\n",
       "      <td>Datsun 710</td>\n",
       "      <td>22.8</td>\n",
       "      <td>4</td>\n",
       "      <td>108.0</td>\n",
       "      <td>93</td>\n",
       "      <td>3.85</td>\n",
       "      <td>2.320</td>\n",
       "      <td>18.61</td>\n",
       "      <td>1</td>\n",
       "      <td>1</td>\n",
       "      <td>4</td>\n",
       "      <td>1</td>\n",
       "    </tr>\n",
       "    <tr>\n",
       "      <th>3</th>\n",
       "      <td>Hornet 4 Drive</td>\n",
       "      <td>21.4</td>\n",
       "      <td>6</td>\n",
       "      <td>258.0</td>\n",
       "      <td>110</td>\n",
       "      <td>3.08</td>\n",
       "      <td>3.215</td>\n",
       "      <td>19.44</td>\n",
       "      <td>1</td>\n",
       "      <td>0</td>\n",
       "      <td>3</td>\n",
       "      <td>1</td>\n",
       "    </tr>\n",
       "    <tr>\n",
       "      <th>4</th>\n",
       "      <td>Hornet Sportabout</td>\n",
       "      <td>18.7</td>\n",
       "      <td>8</td>\n",
       "      <td>360.0</td>\n",
       "      <td>175</td>\n",
       "      <td>3.15</td>\n",
       "      <td>3.440</td>\n",
       "      <td>17.02</td>\n",
       "      <td>0</td>\n",
       "      <td>0</td>\n",
       "      <td>3</td>\n",
       "      <td>2</td>\n",
       "    </tr>\n",
       "    <tr>\n",
       "      <th>5</th>\n",
       "      <td>Valiant</td>\n",
       "      <td>18.1</td>\n",
       "      <td>6</td>\n",
       "      <td>225.0</td>\n",
       "      <td>105</td>\n",
       "      <td>2.76</td>\n",
       "      <td>3.460</td>\n",
       "      <td>20.22</td>\n",
       "      <td>1</td>\n",
       "      <td>0</td>\n",
       "      <td>3</td>\n",
       "      <td>1</td>\n",
       "    </tr>\n",
       "    <tr>\n",
       "      <th>6</th>\n",
       "      <td>Duster 360</td>\n",
       "      <td>14.3</td>\n",
       "      <td>8</td>\n",
       "      <td>360.0</td>\n",
       "      <td>245</td>\n",
       "      <td>3.21</td>\n",
       "      <td>3.570</td>\n",
       "      <td>15.84</td>\n",
       "      <td>0</td>\n",
       "      <td>0</td>\n",
       "      <td>3</td>\n",
       "      <td>4</td>\n",
       "    </tr>\n",
       "    <tr>\n",
       "      <th>7</th>\n",
       "      <td>Merc 240D</td>\n",
       "      <td>24.4</td>\n",
       "      <td>4</td>\n",
       "      <td>146.7</td>\n",
       "      <td>62</td>\n",
       "      <td>3.69</td>\n",
       "      <td>3.190</td>\n",
       "      <td>20.00</td>\n",
       "      <td>1</td>\n",
       "      <td>0</td>\n",
       "      <td>4</td>\n",
       "      <td>2</td>\n",
       "    </tr>\n",
       "    <tr>\n",
       "      <th>8</th>\n",
       "      <td>Merc 230</td>\n",
       "      <td>22.8</td>\n",
       "      <td>4</td>\n",
       "      <td>140.8</td>\n",
       "      <td>95</td>\n",
       "      <td>3.92</td>\n",
       "      <td>3.150</td>\n",
       "      <td>22.90</td>\n",
       "      <td>1</td>\n",
       "      <td>0</td>\n",
       "      <td>4</td>\n",
       "      <td>2</td>\n",
       "    </tr>\n",
       "    <tr>\n",
       "      <th>9</th>\n",
       "      <td>Merc 280</td>\n",
       "      <td>19.2</td>\n",
       "      <td>6</td>\n",
       "      <td>167.6</td>\n",
       "      <td>123</td>\n",
       "      <td>3.92</td>\n",
       "      <td>3.440</td>\n",
       "      <td>18.30</td>\n",
       "      <td>1</td>\n",
       "      <td>0</td>\n",
       "      <td>4</td>\n",
       "      <td>4</td>\n",
       "    </tr>\n",
       "    <tr>\n",
       "      <th>10</th>\n",
       "      <td>Merc 280C</td>\n",
       "      <td>17.8</td>\n",
       "      <td>6</td>\n",
       "      <td>167.6</td>\n",
       "      <td>123</td>\n",
       "      <td>3.92</td>\n",
       "      <td>3.440</td>\n",
       "      <td>18.90</td>\n",
       "      <td>1</td>\n",
       "      <td>0</td>\n",
       "      <td>4</td>\n",
       "      <td>4</td>\n",
       "    </tr>\n",
       "    <tr>\n",
       "      <th>11</th>\n",
       "      <td>Merc 450SE</td>\n",
       "      <td>16.4</td>\n",
       "      <td>8</td>\n",
       "      <td>275.8</td>\n",
       "      <td>180</td>\n",
       "      <td>3.07</td>\n",
       "      <td>4.070</td>\n",
       "      <td>17.40</td>\n",
       "      <td>0</td>\n",
       "      <td>0</td>\n",
       "      <td>3</td>\n",
       "      <td>3</td>\n",
       "    </tr>\n",
       "    <tr>\n",
       "      <th>12</th>\n",
       "      <td>Merc 450SL</td>\n",
       "      <td>17.3</td>\n",
       "      <td>8</td>\n",
       "      <td>275.8</td>\n",
       "      <td>180</td>\n",
       "      <td>3.07</td>\n",
       "      <td>3.730</td>\n",
       "      <td>17.60</td>\n",
       "      <td>0</td>\n",
       "      <td>0</td>\n",
       "      <td>3</td>\n",
       "      <td>3</td>\n",
       "    </tr>\n",
       "    <tr>\n",
       "      <th>13</th>\n",
       "      <td>Merc 450SLC</td>\n",
       "      <td>15.2</td>\n",
       "      <td>8</td>\n",
       "      <td>275.8</td>\n",
       "      <td>180</td>\n",
       "      <td>3.07</td>\n",
       "      <td>3.780</td>\n",
       "      <td>18.00</td>\n",
       "      <td>0</td>\n",
       "      <td>0</td>\n",
       "      <td>3</td>\n",
       "      <td>3</td>\n",
       "    </tr>\n",
       "    <tr>\n",
       "      <th>14</th>\n",
       "      <td>Cadillac Fleetwood</td>\n",
       "      <td>10.4</td>\n",
       "      <td>8</td>\n",
       "      <td>472.0</td>\n",
       "      <td>205</td>\n",
       "      <td>2.93</td>\n",
       "      <td>5.250</td>\n",
       "      <td>17.98</td>\n",
       "      <td>0</td>\n",
       "      <td>0</td>\n",
       "      <td>3</td>\n",
       "      <td>4</td>\n",
       "    </tr>\n",
       "    <tr>\n",
       "      <th>15</th>\n",
       "      <td>Lincoln Continental</td>\n",
       "      <td>10.4</td>\n",
       "      <td>8</td>\n",
       "      <td>460.0</td>\n",
       "      <td>215</td>\n",
       "      <td>3.00</td>\n",
       "      <td>5.424</td>\n",
       "      <td>17.82</td>\n",
       "      <td>0</td>\n",
       "      <td>0</td>\n",
       "      <td>3</td>\n",
       "      <td>4</td>\n",
       "    </tr>\n",
       "    <tr>\n",
       "      <th>16</th>\n",
       "      <td>Chrysler Imperial</td>\n",
       "      <td>14.7</td>\n",
       "      <td>8</td>\n",
       "      <td>440.0</td>\n",
       "      <td>230</td>\n",
       "      <td>3.23</td>\n",
       "      <td>5.345</td>\n",
       "      <td>17.42</td>\n",
       "      <td>0</td>\n",
       "      <td>0</td>\n",
       "      <td>3</td>\n",
       "      <td>4</td>\n",
       "    </tr>\n",
       "    <tr>\n",
       "      <th>17</th>\n",
       "      <td>Fiat 128</td>\n",
       "      <td>32.4</td>\n",
       "      <td>4</td>\n",
       "      <td>78.7</td>\n",
       "      <td>66</td>\n",
       "      <td>4.08</td>\n",
       "      <td>2.200</td>\n",
       "      <td>19.47</td>\n",
       "      <td>1</td>\n",
       "      <td>1</td>\n",
       "      <td>4</td>\n",
       "      <td>1</td>\n",
       "    </tr>\n",
       "    <tr>\n",
       "      <th>18</th>\n",
       "      <td>Honda Civic</td>\n",
       "      <td>30.4</td>\n",
       "      <td>4</td>\n",
       "      <td>75.7</td>\n",
       "      <td>52</td>\n",
       "      <td>4.93</td>\n",
       "      <td>1.615</td>\n",
       "      <td>18.52</td>\n",
       "      <td>1</td>\n",
       "      <td>1</td>\n",
       "      <td>4</td>\n",
       "      <td>2</td>\n",
       "    </tr>\n",
       "    <tr>\n",
       "      <th>19</th>\n",
       "      <td>Toyota Corolla</td>\n",
       "      <td>33.9</td>\n",
       "      <td>4</td>\n",
       "      <td>71.1</td>\n",
       "      <td>65</td>\n",
       "      <td>4.22</td>\n",
       "      <td>1.835</td>\n",
       "      <td>19.90</td>\n",
       "      <td>1</td>\n",
       "      <td>1</td>\n",
       "      <td>4</td>\n",
       "      <td>1</td>\n",
       "    </tr>\n",
       "    <tr>\n",
       "      <th>20</th>\n",
       "      <td>Toyota Corona</td>\n",
       "      <td>21.5</td>\n",
       "      <td>4</td>\n",
       "      <td>120.1</td>\n",
       "      <td>97</td>\n",
       "      <td>3.70</td>\n",
       "      <td>2.465</td>\n",
       "      <td>20.01</td>\n",
       "      <td>1</td>\n",
       "      <td>0</td>\n",
       "      <td>3</td>\n",
       "      <td>1</td>\n",
       "    </tr>\n",
       "    <tr>\n",
       "      <th>21</th>\n",
       "      <td>Dodge Challenger</td>\n",
       "      <td>15.5</td>\n",
       "      <td>8</td>\n",
       "      <td>318.0</td>\n",
       "      <td>150</td>\n",
       "      <td>2.76</td>\n",
       "      <td>3.520</td>\n",
       "      <td>16.87</td>\n",
       "      <td>0</td>\n",
       "      <td>0</td>\n",
       "      <td>3</td>\n",
       "      <td>2</td>\n",
       "    </tr>\n",
       "    <tr>\n",
       "      <th>22</th>\n",
       "      <td>AMC Javelin</td>\n",
       "      <td>15.2</td>\n",
       "      <td>8</td>\n",
       "      <td>304.0</td>\n",
       "      <td>150</td>\n",
       "      <td>3.15</td>\n",
       "      <td>3.435</td>\n",
       "      <td>17.30</td>\n",
       "      <td>0</td>\n",
       "      <td>0</td>\n",
       "      <td>3</td>\n",
       "      <td>2</td>\n",
       "    </tr>\n",
       "    <tr>\n",
       "      <th>23</th>\n",
       "      <td>Camaro Z28</td>\n",
       "      <td>13.3</td>\n",
       "      <td>8</td>\n",
       "      <td>350.0</td>\n",
       "      <td>245</td>\n",
       "      <td>3.73</td>\n",
       "      <td>3.840</td>\n",
       "      <td>15.41</td>\n",
       "      <td>0</td>\n",
       "      <td>0</td>\n",
       "      <td>3</td>\n",
       "      <td>4</td>\n",
       "    </tr>\n",
       "    <tr>\n",
       "      <th>24</th>\n",
       "      <td>Pontiac Firebird</td>\n",
       "      <td>19.2</td>\n",
       "      <td>8</td>\n",
       "      <td>400.0</td>\n",
       "      <td>175</td>\n",
       "      <td>3.08</td>\n",
       "      <td>3.845</td>\n",
       "      <td>17.05</td>\n",
       "      <td>0</td>\n",
       "      <td>0</td>\n",
       "      <td>3</td>\n",
       "      <td>2</td>\n",
       "    </tr>\n",
       "    <tr>\n",
       "      <th>25</th>\n",
       "      <td>Fiat X1-9</td>\n",
       "      <td>27.3</td>\n",
       "      <td>4</td>\n",
       "      <td>79.0</td>\n",
       "      <td>66</td>\n",
       "      <td>4.08</td>\n",
       "      <td>1.935</td>\n",
       "      <td>18.90</td>\n",
       "      <td>1</td>\n",
       "      <td>1</td>\n",
       "      <td>4</td>\n",
       "      <td>1</td>\n",
       "    </tr>\n",
       "    <tr>\n",
       "      <th>26</th>\n",
       "      <td>Porsche 914-2</td>\n",
       "      <td>26.0</td>\n",
       "      <td>4</td>\n",
       "      <td>120.3</td>\n",
       "      <td>91</td>\n",
       "      <td>4.43</td>\n",
       "      <td>2.140</td>\n",
       "      <td>16.70</td>\n",
       "      <td>0</td>\n",
       "      <td>1</td>\n",
       "      <td>5</td>\n",
       "      <td>2</td>\n",
       "    </tr>\n",
       "    <tr>\n",
       "      <th>27</th>\n",
       "      <td>Lotus Europa</td>\n",
       "      <td>30.4</td>\n",
       "      <td>4</td>\n",
       "      <td>95.1</td>\n",
       "      <td>113</td>\n",
       "      <td>3.77</td>\n",
       "      <td>1.513</td>\n",
       "      <td>16.90</td>\n",
       "      <td>1</td>\n",
       "      <td>1</td>\n",
       "      <td>5</td>\n",
       "      <td>2</td>\n",
       "    </tr>\n",
       "    <tr>\n",
       "      <th>28</th>\n",
       "      <td>Ford Pantera L</td>\n",
       "      <td>15.8</td>\n",
       "      <td>8</td>\n",
       "      <td>351.0</td>\n",
       "      <td>264</td>\n",
       "      <td>4.22</td>\n",
       "      <td>3.170</td>\n",
       "      <td>14.50</td>\n",
       "      <td>0</td>\n",
       "      <td>1</td>\n",
       "      <td>5</td>\n",
       "      <td>4</td>\n",
       "    </tr>\n",
       "    <tr>\n",
       "      <th>29</th>\n",
       "      <td>Ferrari Dino</td>\n",
       "      <td>19.7</td>\n",
       "      <td>6</td>\n",
       "      <td>145.0</td>\n",
       "      <td>175</td>\n",
       "      <td>3.62</td>\n",
       "      <td>2.770</td>\n",
       "      <td>15.50</td>\n",
       "      <td>0</td>\n",
       "      <td>1</td>\n",
       "      <td>5</td>\n",
       "      <td>6</td>\n",
       "    </tr>\n",
       "    <tr>\n",
       "      <th>30</th>\n",
       "      <td>Maserati Bora</td>\n",
       "      <td>15.0</td>\n",
       "      <td>8</td>\n",
       "      <td>301.0</td>\n",
       "      <td>335</td>\n",
       "      <td>3.54</td>\n",
       "      <td>3.570</td>\n",
       "      <td>14.60</td>\n",
       "      <td>0</td>\n",
       "      <td>1</td>\n",
       "      <td>5</td>\n",
       "      <td>8</td>\n",
       "    </tr>\n",
       "    <tr>\n",
       "      <th>31</th>\n",
       "      <td>Volvo 142E</td>\n",
       "      <td>21.4</td>\n",
       "      <td>4</td>\n",
       "      <td>121.0</td>\n",
       "      <td>109</td>\n",
       "      <td>4.11</td>\n",
       "      <td>2.780</td>\n",
       "      <td>18.60</td>\n",
       "      <td>1</td>\n",
       "      <td>1</td>\n",
       "      <td>4</td>\n",
       "      <td>2</td>\n",
       "    </tr>\n",
       "  </tbody>\n",
       "</table>\n",
       "</div>"
      ],
      "text/plain": [
       "             Unnamed: 0   mpg  cyl   disp   hp  drat     wt   qsec  vs  am  \\\n",
       "0             Mazda RX4  21.0    6  160.0  110  3.90  2.620  16.46   0   1   \n",
       "1         Mazda RX4 Wag  21.0    6  160.0  110  3.90  2.875  17.02   0   1   \n",
       "2            Datsun 710  22.8    4  108.0   93  3.85  2.320  18.61   1   1   \n",
       "3        Hornet 4 Drive  21.4    6  258.0  110  3.08  3.215  19.44   1   0   \n",
       "4     Hornet Sportabout  18.7    8  360.0  175  3.15  3.440  17.02   0   0   \n",
       "5               Valiant  18.1    6  225.0  105  2.76  3.460  20.22   1   0   \n",
       "6            Duster 360  14.3    8  360.0  245  3.21  3.570  15.84   0   0   \n",
       "7             Merc 240D  24.4    4  146.7   62  3.69  3.190  20.00   1   0   \n",
       "8              Merc 230  22.8    4  140.8   95  3.92  3.150  22.90   1   0   \n",
       "9              Merc 280  19.2    6  167.6  123  3.92  3.440  18.30   1   0   \n",
       "10            Merc 280C  17.8    6  167.6  123  3.92  3.440  18.90   1   0   \n",
       "11           Merc 450SE  16.4    8  275.8  180  3.07  4.070  17.40   0   0   \n",
       "12           Merc 450SL  17.3    8  275.8  180  3.07  3.730  17.60   0   0   \n",
       "13          Merc 450SLC  15.2    8  275.8  180  3.07  3.780  18.00   0   0   \n",
       "14   Cadillac Fleetwood  10.4    8  472.0  205  2.93  5.250  17.98   0   0   \n",
       "15  Lincoln Continental  10.4    8  460.0  215  3.00  5.424  17.82   0   0   \n",
       "16    Chrysler Imperial  14.7    8  440.0  230  3.23  5.345  17.42   0   0   \n",
       "17             Fiat 128  32.4    4   78.7   66  4.08  2.200  19.47   1   1   \n",
       "18          Honda Civic  30.4    4   75.7   52  4.93  1.615  18.52   1   1   \n",
       "19       Toyota Corolla  33.9    4   71.1   65  4.22  1.835  19.90   1   1   \n",
       "20        Toyota Corona  21.5    4  120.1   97  3.70  2.465  20.01   1   0   \n",
       "21     Dodge Challenger  15.5    8  318.0  150  2.76  3.520  16.87   0   0   \n",
       "22          AMC Javelin  15.2    8  304.0  150  3.15  3.435  17.30   0   0   \n",
       "23           Camaro Z28  13.3    8  350.0  245  3.73  3.840  15.41   0   0   \n",
       "24     Pontiac Firebird  19.2    8  400.0  175  3.08  3.845  17.05   0   0   \n",
       "25            Fiat X1-9  27.3    4   79.0   66  4.08  1.935  18.90   1   1   \n",
       "26        Porsche 914-2  26.0    4  120.3   91  4.43  2.140  16.70   0   1   \n",
       "27         Lotus Europa  30.4    4   95.1  113  3.77  1.513  16.90   1   1   \n",
       "28       Ford Pantera L  15.8    8  351.0  264  4.22  3.170  14.50   0   1   \n",
       "29         Ferrari Dino  19.7    6  145.0  175  3.62  2.770  15.50   0   1   \n",
       "30        Maserati Bora  15.0    8  301.0  335  3.54  3.570  14.60   0   1   \n",
       "31           Volvo 142E  21.4    4  121.0  109  4.11  2.780  18.60   1   1   \n",
       "\n",
       "    gear  carb  \n",
       "0      4     4  \n",
       "1      4     4  \n",
       "2      4     1  \n",
       "3      3     1  \n",
       "4      3     2  \n",
       "5      3     1  \n",
       "6      3     4  \n",
       "7      4     2  \n",
       "8      4     2  \n",
       "9      4     4  \n",
       "10     4     4  \n",
       "11     3     3  \n",
       "12     3     3  \n",
       "13     3     3  \n",
       "14     3     4  \n",
       "15     3     4  \n",
       "16     3     4  \n",
       "17     4     1  \n",
       "18     4     2  \n",
       "19     4     1  \n",
       "20     3     1  \n",
       "21     3     2  \n",
       "22     3     2  \n",
       "23     3     4  \n",
       "24     3     2  \n",
       "25     4     1  \n",
       "26     5     2  \n",
       "27     5     2  \n",
       "28     5     4  \n",
       "29     5     6  \n",
       "30     5     8  \n",
       "31     4     2  "
      ]
     },
     "execution_count": 3,
     "metadata": {},
     "output_type": "execute_result"
    }
   ],
   "source": [
    "mtcars"
   ]
  },
  {
   "cell_type": "markdown",
   "id": "4db4c2f5",
   "metadata": {},
   "source": [
    "# measure of center tendancey"
   ]
  },
  {
   "cell_type": "markdown",
   "id": "b57d77bb",
   "metadata": {},
   "source": [
    "# mean"
   ]
  },
  {
   "cell_type": "code",
   "execution_count": 6,
   "id": "d7bd8c81",
   "metadata": {},
   "outputs": [
    {
     "name": "stderr",
     "output_type": "stream",
     "text": [
      "C:\\Users\\kaviy\\AppData\\Local\\Temp/ipykernel_7028/665047178.py:1: FutureWarning: Dropping of nuisance columns in DataFrame reductions (with 'numeric_only=None') is deprecated; in a future version this will raise TypeError.  Select only valid columns before calling the reduction.\n",
      "  mtcars.mean()\n"
     ]
    },
    {
     "data": {
      "text/plain": [
       "mpg      20.090625\n",
       "cyl       6.187500\n",
       "disp    230.721875\n",
       "hp      146.687500\n",
       "drat      3.596563\n",
       "wt        3.217250\n",
       "qsec     17.848750\n",
       "vs        0.437500\n",
       "am        0.406250\n",
       "gear      3.687500\n",
       "carb      2.812500\n",
       "dtype: float64"
      ]
     },
     "execution_count": 6,
     "metadata": {},
     "output_type": "execute_result"
    }
   ],
   "source": [
    "mtcars.mean()"
   ]
  },
  {
   "cell_type": "code",
   "execution_count": 7,
   "id": "2756ef42",
   "metadata": {},
   "outputs": [
    {
     "name": "stderr",
     "output_type": "stream",
     "text": [
      "C:\\Users\\kaviy\\AppData\\Local\\Temp/ipykernel_7028/1301401420.py:1: FutureWarning: Dropping of nuisance columns in DataFrame reductions (with 'numeric_only=None') is deprecated; in a future version this will raise TypeError.  Select only valid columns before calling the reduction.\n",
      "  mtcars.mean(axis=1)\n"
     ]
    },
    {
     "data": {
      "text/plain": [
       "0     29.907273\n",
       "1     29.981364\n",
       "2     23.598182\n",
       "3     38.739545\n",
       "4     53.664545\n",
       "5     35.049091\n",
       "6     59.720000\n",
       "7     24.634545\n",
       "8     27.233636\n",
       "9     31.860000\n",
       "10    31.787273\n",
       "11    46.430909\n",
       "12    46.500000\n",
       "13    46.350000\n",
       "14    66.232727\n",
       "15    66.058545\n",
       "16    65.972273\n",
       "17    19.440909\n",
       "18    17.742273\n",
       "19    18.814091\n",
       "20    24.888636\n",
       "21    47.240909\n",
       "22    46.007727\n",
       "23    58.752727\n",
       "24    57.379545\n",
       "25    18.928636\n",
       "26    24.779091\n",
       "27    24.880273\n",
       "28    60.971818\n",
       "29    34.508182\n",
       "30    63.155455\n",
       "31    26.262727\n",
       "dtype: float64"
      ]
     },
     "execution_count": 7,
     "metadata": {},
     "output_type": "execute_result"
    }
   ],
   "source": [
    "mtcars.mean(axis=1)"
   ]
  },
  {
   "cell_type": "markdown",
   "id": "8ba10d2a",
   "metadata": {},
   "source": [
    "# median"
   ]
  },
  {
   "cell_type": "code",
   "execution_count": 8,
   "id": "a0258f4e",
   "metadata": {},
   "outputs": [
    {
     "name": "stderr",
     "output_type": "stream",
     "text": [
      "C:\\Users\\kaviy\\AppData\\Local\\Temp/ipykernel_7028/3454397367.py:1: FutureWarning: Dropping of nuisance columns in DataFrame reductions (with 'numeric_only=None') is deprecated; in a future version this will raise TypeError.  Select only valid columns before calling the reduction.\n",
      "  mtcars.median()\n"
     ]
    },
    {
     "data": {
      "text/plain": [
       "mpg      19.200\n",
       "cyl       6.000\n",
       "disp    196.300\n",
       "hp      123.000\n",
       "drat      3.695\n",
       "wt        3.325\n",
       "qsec     17.710\n",
       "vs        0.000\n",
       "am        0.000\n",
       "gear      4.000\n",
       "carb      2.000\n",
       "dtype: float64"
      ]
     },
     "execution_count": 8,
     "metadata": {},
     "output_type": "execute_result"
    }
   ],
   "source": [
    "mtcars.median()"
   ]
  },
  {
   "cell_type": "markdown",
   "id": "aa9a1e63",
   "metadata": {},
   "source": [
    "# mode"
   ]
  },
  {
   "cell_type": "code",
   "execution_count": 9,
   "id": "dbbaf4f4",
   "metadata": {},
   "outputs": [
    {
     "data": {
      "text/html": [
       "<div>\n",
       "<style scoped>\n",
       "    .dataframe tbody tr th:only-of-type {\n",
       "        vertical-align: middle;\n",
       "    }\n",
       "\n",
       "    .dataframe tbody tr th {\n",
       "        vertical-align: top;\n",
       "    }\n",
       "\n",
       "    .dataframe thead th {\n",
       "        text-align: right;\n",
       "    }\n",
       "</style>\n",
       "<table border=\"1\" class=\"dataframe\">\n",
       "  <thead>\n",
       "    <tr style=\"text-align: right;\">\n",
       "      <th></th>\n",
       "      <th>Unnamed: 0</th>\n",
       "      <th>mpg</th>\n",
       "      <th>cyl</th>\n",
       "      <th>disp</th>\n",
       "      <th>hp</th>\n",
       "      <th>drat</th>\n",
       "      <th>wt</th>\n",
       "      <th>qsec</th>\n",
       "      <th>vs</th>\n",
       "      <th>am</th>\n",
       "      <th>gear</th>\n",
       "      <th>carb</th>\n",
       "    </tr>\n",
       "  </thead>\n",
       "  <tbody>\n",
       "    <tr>\n",
       "      <th>0</th>\n",
       "      <td>AMC Javelin</td>\n",
       "      <td>10.4</td>\n",
       "      <td>8.0</td>\n",
       "      <td>275.8</td>\n",
       "      <td>110.0</td>\n",
       "      <td>3.07</td>\n",
       "      <td>3.44</td>\n",
       "      <td>17.02</td>\n",
       "      <td>0.0</td>\n",
       "      <td>0.0</td>\n",
       "      <td>3.0</td>\n",
       "      <td>2.0</td>\n",
       "    </tr>\n",
       "    <tr>\n",
       "      <th>1</th>\n",
       "      <td>Cadillac Fleetwood</td>\n",
       "      <td>15.2</td>\n",
       "      <td>NaN</td>\n",
       "      <td>NaN</td>\n",
       "      <td>175.0</td>\n",
       "      <td>3.92</td>\n",
       "      <td>NaN</td>\n",
       "      <td>18.90</td>\n",
       "      <td>NaN</td>\n",
       "      <td>NaN</td>\n",
       "      <td>NaN</td>\n",
       "      <td>4.0</td>\n",
       "    </tr>\n",
       "    <tr>\n",
       "      <th>2</th>\n",
       "      <td>Camaro Z28</td>\n",
       "      <td>19.2</td>\n",
       "      <td>NaN</td>\n",
       "      <td>NaN</td>\n",
       "      <td>180.0</td>\n",
       "      <td>NaN</td>\n",
       "      <td>NaN</td>\n",
       "      <td>NaN</td>\n",
       "      <td>NaN</td>\n",
       "      <td>NaN</td>\n",
       "      <td>NaN</td>\n",
       "      <td>NaN</td>\n",
       "    </tr>\n",
       "    <tr>\n",
       "      <th>3</th>\n",
       "      <td>Chrysler Imperial</td>\n",
       "      <td>21.0</td>\n",
       "      <td>NaN</td>\n",
       "      <td>NaN</td>\n",
       "      <td>NaN</td>\n",
       "      <td>NaN</td>\n",
       "      <td>NaN</td>\n",
       "      <td>NaN</td>\n",
       "      <td>NaN</td>\n",
       "      <td>NaN</td>\n",
       "      <td>NaN</td>\n",
       "      <td>NaN</td>\n",
       "    </tr>\n",
       "    <tr>\n",
       "      <th>4</th>\n",
       "      <td>Datsun 710</td>\n",
       "      <td>21.4</td>\n",
       "      <td>NaN</td>\n",
       "      <td>NaN</td>\n",
       "      <td>NaN</td>\n",
       "      <td>NaN</td>\n",
       "      <td>NaN</td>\n",
       "      <td>NaN</td>\n",
       "      <td>NaN</td>\n",
       "      <td>NaN</td>\n",
       "      <td>NaN</td>\n",
       "      <td>NaN</td>\n",
       "    </tr>\n",
       "    <tr>\n",
       "      <th>5</th>\n",
       "      <td>Dodge Challenger</td>\n",
       "      <td>22.8</td>\n",
       "      <td>NaN</td>\n",
       "      <td>NaN</td>\n",
       "      <td>NaN</td>\n",
       "      <td>NaN</td>\n",
       "      <td>NaN</td>\n",
       "      <td>NaN</td>\n",
       "      <td>NaN</td>\n",
       "      <td>NaN</td>\n",
       "      <td>NaN</td>\n",
       "      <td>NaN</td>\n",
       "    </tr>\n",
       "    <tr>\n",
       "      <th>6</th>\n",
       "      <td>Duster 360</td>\n",
       "      <td>30.4</td>\n",
       "      <td>NaN</td>\n",
       "      <td>NaN</td>\n",
       "      <td>NaN</td>\n",
       "      <td>NaN</td>\n",
       "      <td>NaN</td>\n",
       "      <td>NaN</td>\n",
       "      <td>NaN</td>\n",
       "      <td>NaN</td>\n",
       "      <td>NaN</td>\n",
       "      <td>NaN</td>\n",
       "    </tr>\n",
       "    <tr>\n",
       "      <th>7</th>\n",
       "      <td>Ferrari Dino</td>\n",
       "      <td>NaN</td>\n",
       "      <td>NaN</td>\n",
       "      <td>NaN</td>\n",
       "      <td>NaN</td>\n",
       "      <td>NaN</td>\n",
       "      <td>NaN</td>\n",
       "      <td>NaN</td>\n",
       "      <td>NaN</td>\n",
       "      <td>NaN</td>\n",
       "      <td>NaN</td>\n",
       "      <td>NaN</td>\n",
       "    </tr>\n",
       "    <tr>\n",
       "      <th>8</th>\n",
       "      <td>Fiat 128</td>\n",
       "      <td>NaN</td>\n",
       "      <td>NaN</td>\n",
       "      <td>NaN</td>\n",
       "      <td>NaN</td>\n",
       "      <td>NaN</td>\n",
       "      <td>NaN</td>\n",
       "      <td>NaN</td>\n",
       "      <td>NaN</td>\n",
       "      <td>NaN</td>\n",
       "      <td>NaN</td>\n",
       "      <td>NaN</td>\n",
       "    </tr>\n",
       "    <tr>\n",
       "      <th>9</th>\n",
       "      <td>Fiat X1-9</td>\n",
       "      <td>NaN</td>\n",
       "      <td>NaN</td>\n",
       "      <td>NaN</td>\n",
       "      <td>NaN</td>\n",
       "      <td>NaN</td>\n",
       "      <td>NaN</td>\n",
       "      <td>NaN</td>\n",
       "      <td>NaN</td>\n",
       "      <td>NaN</td>\n",
       "      <td>NaN</td>\n",
       "      <td>NaN</td>\n",
       "    </tr>\n",
       "    <tr>\n",
       "      <th>10</th>\n",
       "      <td>Ford Pantera L</td>\n",
       "      <td>NaN</td>\n",
       "      <td>NaN</td>\n",
       "      <td>NaN</td>\n",
       "      <td>NaN</td>\n",
       "      <td>NaN</td>\n",
       "      <td>NaN</td>\n",
       "      <td>NaN</td>\n",
       "      <td>NaN</td>\n",
       "      <td>NaN</td>\n",
       "      <td>NaN</td>\n",
       "      <td>NaN</td>\n",
       "    </tr>\n",
       "    <tr>\n",
       "      <th>11</th>\n",
       "      <td>Honda Civic</td>\n",
       "      <td>NaN</td>\n",
       "      <td>NaN</td>\n",
       "      <td>NaN</td>\n",
       "      <td>NaN</td>\n",
       "      <td>NaN</td>\n",
       "      <td>NaN</td>\n",
       "      <td>NaN</td>\n",
       "      <td>NaN</td>\n",
       "      <td>NaN</td>\n",
       "      <td>NaN</td>\n",
       "      <td>NaN</td>\n",
       "    </tr>\n",
       "    <tr>\n",
       "      <th>12</th>\n",
       "      <td>Hornet 4 Drive</td>\n",
       "      <td>NaN</td>\n",
       "      <td>NaN</td>\n",
       "      <td>NaN</td>\n",
       "      <td>NaN</td>\n",
       "      <td>NaN</td>\n",
       "      <td>NaN</td>\n",
       "      <td>NaN</td>\n",
       "      <td>NaN</td>\n",
       "      <td>NaN</td>\n",
       "      <td>NaN</td>\n",
       "      <td>NaN</td>\n",
       "    </tr>\n",
       "    <tr>\n",
       "      <th>13</th>\n",
       "      <td>Hornet Sportabout</td>\n",
       "      <td>NaN</td>\n",
       "      <td>NaN</td>\n",
       "      <td>NaN</td>\n",
       "      <td>NaN</td>\n",
       "      <td>NaN</td>\n",
       "      <td>NaN</td>\n",
       "      <td>NaN</td>\n",
       "      <td>NaN</td>\n",
       "      <td>NaN</td>\n",
       "      <td>NaN</td>\n",
       "      <td>NaN</td>\n",
       "    </tr>\n",
       "    <tr>\n",
       "      <th>14</th>\n",
       "      <td>Lincoln Continental</td>\n",
       "      <td>NaN</td>\n",
       "      <td>NaN</td>\n",
       "      <td>NaN</td>\n",
       "      <td>NaN</td>\n",
       "      <td>NaN</td>\n",
       "      <td>NaN</td>\n",
       "      <td>NaN</td>\n",
       "      <td>NaN</td>\n",
       "      <td>NaN</td>\n",
       "      <td>NaN</td>\n",
       "      <td>NaN</td>\n",
       "    </tr>\n",
       "    <tr>\n",
       "      <th>15</th>\n",
       "      <td>Lotus Europa</td>\n",
       "      <td>NaN</td>\n",
       "      <td>NaN</td>\n",
       "      <td>NaN</td>\n",
       "      <td>NaN</td>\n",
       "      <td>NaN</td>\n",
       "      <td>NaN</td>\n",
       "      <td>NaN</td>\n",
       "      <td>NaN</td>\n",
       "      <td>NaN</td>\n",
       "      <td>NaN</td>\n",
       "      <td>NaN</td>\n",
       "    </tr>\n",
       "    <tr>\n",
       "      <th>16</th>\n",
       "      <td>Maserati Bora</td>\n",
       "      <td>NaN</td>\n",
       "      <td>NaN</td>\n",
       "      <td>NaN</td>\n",
       "      <td>NaN</td>\n",
       "      <td>NaN</td>\n",
       "      <td>NaN</td>\n",
       "      <td>NaN</td>\n",
       "      <td>NaN</td>\n",
       "      <td>NaN</td>\n",
       "      <td>NaN</td>\n",
       "      <td>NaN</td>\n",
       "    </tr>\n",
       "    <tr>\n",
       "      <th>17</th>\n",
       "      <td>Mazda RX4</td>\n",
       "      <td>NaN</td>\n",
       "      <td>NaN</td>\n",
       "      <td>NaN</td>\n",
       "      <td>NaN</td>\n",
       "      <td>NaN</td>\n",
       "      <td>NaN</td>\n",
       "      <td>NaN</td>\n",
       "      <td>NaN</td>\n",
       "      <td>NaN</td>\n",
       "      <td>NaN</td>\n",
       "      <td>NaN</td>\n",
       "    </tr>\n",
       "    <tr>\n",
       "      <th>18</th>\n",
       "      <td>Mazda RX4 Wag</td>\n",
       "      <td>NaN</td>\n",
       "      <td>NaN</td>\n",
       "      <td>NaN</td>\n",
       "      <td>NaN</td>\n",
       "      <td>NaN</td>\n",
       "      <td>NaN</td>\n",
       "      <td>NaN</td>\n",
       "      <td>NaN</td>\n",
       "      <td>NaN</td>\n",
       "      <td>NaN</td>\n",
       "      <td>NaN</td>\n",
       "    </tr>\n",
       "    <tr>\n",
       "      <th>19</th>\n",
       "      <td>Merc 230</td>\n",
       "      <td>NaN</td>\n",
       "      <td>NaN</td>\n",
       "      <td>NaN</td>\n",
       "      <td>NaN</td>\n",
       "      <td>NaN</td>\n",
       "      <td>NaN</td>\n",
       "      <td>NaN</td>\n",
       "      <td>NaN</td>\n",
       "      <td>NaN</td>\n",
       "      <td>NaN</td>\n",
       "      <td>NaN</td>\n",
       "    </tr>\n",
       "    <tr>\n",
       "      <th>20</th>\n",
       "      <td>Merc 240D</td>\n",
       "      <td>NaN</td>\n",
       "      <td>NaN</td>\n",
       "      <td>NaN</td>\n",
       "      <td>NaN</td>\n",
       "      <td>NaN</td>\n",
       "      <td>NaN</td>\n",
       "      <td>NaN</td>\n",
       "      <td>NaN</td>\n",
       "      <td>NaN</td>\n",
       "      <td>NaN</td>\n",
       "      <td>NaN</td>\n",
       "    </tr>\n",
       "    <tr>\n",
       "      <th>21</th>\n",
       "      <td>Merc 280</td>\n",
       "      <td>NaN</td>\n",
       "      <td>NaN</td>\n",
       "      <td>NaN</td>\n",
       "      <td>NaN</td>\n",
       "      <td>NaN</td>\n",
       "      <td>NaN</td>\n",
       "      <td>NaN</td>\n",
       "      <td>NaN</td>\n",
       "      <td>NaN</td>\n",
       "      <td>NaN</td>\n",
       "      <td>NaN</td>\n",
       "    </tr>\n",
       "    <tr>\n",
       "      <th>22</th>\n",
       "      <td>Merc 280C</td>\n",
       "      <td>NaN</td>\n",
       "      <td>NaN</td>\n",
       "      <td>NaN</td>\n",
       "      <td>NaN</td>\n",
       "      <td>NaN</td>\n",
       "      <td>NaN</td>\n",
       "      <td>NaN</td>\n",
       "      <td>NaN</td>\n",
       "      <td>NaN</td>\n",
       "      <td>NaN</td>\n",
       "      <td>NaN</td>\n",
       "    </tr>\n",
       "    <tr>\n",
       "      <th>23</th>\n",
       "      <td>Merc 450SE</td>\n",
       "      <td>NaN</td>\n",
       "      <td>NaN</td>\n",
       "      <td>NaN</td>\n",
       "      <td>NaN</td>\n",
       "      <td>NaN</td>\n",
       "      <td>NaN</td>\n",
       "      <td>NaN</td>\n",
       "      <td>NaN</td>\n",
       "      <td>NaN</td>\n",
       "      <td>NaN</td>\n",
       "      <td>NaN</td>\n",
       "    </tr>\n",
       "    <tr>\n",
       "      <th>24</th>\n",
       "      <td>Merc 450SL</td>\n",
       "      <td>NaN</td>\n",
       "      <td>NaN</td>\n",
       "      <td>NaN</td>\n",
       "      <td>NaN</td>\n",
       "      <td>NaN</td>\n",
       "      <td>NaN</td>\n",
       "      <td>NaN</td>\n",
       "      <td>NaN</td>\n",
       "      <td>NaN</td>\n",
       "      <td>NaN</td>\n",
       "      <td>NaN</td>\n",
       "    </tr>\n",
       "    <tr>\n",
       "      <th>25</th>\n",
       "      <td>Merc 450SLC</td>\n",
       "      <td>NaN</td>\n",
       "      <td>NaN</td>\n",
       "      <td>NaN</td>\n",
       "      <td>NaN</td>\n",
       "      <td>NaN</td>\n",
       "      <td>NaN</td>\n",
       "      <td>NaN</td>\n",
       "      <td>NaN</td>\n",
       "      <td>NaN</td>\n",
       "      <td>NaN</td>\n",
       "      <td>NaN</td>\n",
       "    </tr>\n",
       "    <tr>\n",
       "      <th>26</th>\n",
       "      <td>Pontiac Firebird</td>\n",
       "      <td>NaN</td>\n",
       "      <td>NaN</td>\n",
       "      <td>NaN</td>\n",
       "      <td>NaN</td>\n",
       "      <td>NaN</td>\n",
       "      <td>NaN</td>\n",
       "      <td>NaN</td>\n",
       "      <td>NaN</td>\n",
       "      <td>NaN</td>\n",
       "      <td>NaN</td>\n",
       "      <td>NaN</td>\n",
       "    </tr>\n",
       "    <tr>\n",
       "      <th>27</th>\n",
       "      <td>Porsche 914-2</td>\n",
       "      <td>NaN</td>\n",
       "      <td>NaN</td>\n",
       "      <td>NaN</td>\n",
       "      <td>NaN</td>\n",
       "      <td>NaN</td>\n",
       "      <td>NaN</td>\n",
       "      <td>NaN</td>\n",
       "      <td>NaN</td>\n",
       "      <td>NaN</td>\n",
       "      <td>NaN</td>\n",
       "      <td>NaN</td>\n",
       "    </tr>\n",
       "    <tr>\n",
       "      <th>28</th>\n",
       "      <td>Toyota Corolla</td>\n",
       "      <td>NaN</td>\n",
       "      <td>NaN</td>\n",
       "      <td>NaN</td>\n",
       "      <td>NaN</td>\n",
       "      <td>NaN</td>\n",
       "      <td>NaN</td>\n",
       "      <td>NaN</td>\n",
       "      <td>NaN</td>\n",
       "      <td>NaN</td>\n",
       "      <td>NaN</td>\n",
       "      <td>NaN</td>\n",
       "    </tr>\n",
       "    <tr>\n",
       "      <th>29</th>\n",
       "      <td>Toyota Corona</td>\n",
       "      <td>NaN</td>\n",
       "      <td>NaN</td>\n",
       "      <td>NaN</td>\n",
       "      <td>NaN</td>\n",
       "      <td>NaN</td>\n",
       "      <td>NaN</td>\n",
       "      <td>NaN</td>\n",
       "      <td>NaN</td>\n",
       "      <td>NaN</td>\n",
       "      <td>NaN</td>\n",
       "      <td>NaN</td>\n",
       "    </tr>\n",
       "    <tr>\n",
       "      <th>30</th>\n",
       "      <td>Valiant</td>\n",
       "      <td>NaN</td>\n",
       "      <td>NaN</td>\n",
       "      <td>NaN</td>\n",
       "      <td>NaN</td>\n",
       "      <td>NaN</td>\n",
       "      <td>NaN</td>\n",
       "      <td>NaN</td>\n",
       "      <td>NaN</td>\n",
       "      <td>NaN</td>\n",
       "      <td>NaN</td>\n",
       "      <td>NaN</td>\n",
       "    </tr>\n",
       "    <tr>\n",
       "      <th>31</th>\n",
       "      <td>Volvo 142E</td>\n",
       "      <td>NaN</td>\n",
       "      <td>NaN</td>\n",
       "      <td>NaN</td>\n",
       "      <td>NaN</td>\n",
       "      <td>NaN</td>\n",
       "      <td>NaN</td>\n",
       "      <td>NaN</td>\n",
       "      <td>NaN</td>\n",
       "      <td>NaN</td>\n",
       "      <td>NaN</td>\n",
       "      <td>NaN</td>\n",
       "    </tr>\n",
       "  </tbody>\n",
       "</table>\n",
       "</div>"
      ],
      "text/plain": [
       "             Unnamed: 0   mpg  cyl   disp     hp  drat    wt   qsec   vs   am  \\\n",
       "0           AMC Javelin  10.4  8.0  275.8  110.0  3.07  3.44  17.02  0.0  0.0   \n",
       "1    Cadillac Fleetwood  15.2  NaN    NaN  175.0  3.92   NaN  18.90  NaN  NaN   \n",
       "2            Camaro Z28  19.2  NaN    NaN  180.0   NaN   NaN    NaN  NaN  NaN   \n",
       "3     Chrysler Imperial  21.0  NaN    NaN    NaN   NaN   NaN    NaN  NaN  NaN   \n",
       "4            Datsun 710  21.4  NaN    NaN    NaN   NaN   NaN    NaN  NaN  NaN   \n",
       "5      Dodge Challenger  22.8  NaN    NaN    NaN   NaN   NaN    NaN  NaN  NaN   \n",
       "6            Duster 360  30.4  NaN    NaN    NaN   NaN   NaN    NaN  NaN  NaN   \n",
       "7          Ferrari Dino   NaN  NaN    NaN    NaN   NaN   NaN    NaN  NaN  NaN   \n",
       "8              Fiat 128   NaN  NaN    NaN    NaN   NaN   NaN    NaN  NaN  NaN   \n",
       "9             Fiat X1-9   NaN  NaN    NaN    NaN   NaN   NaN    NaN  NaN  NaN   \n",
       "10       Ford Pantera L   NaN  NaN    NaN    NaN   NaN   NaN    NaN  NaN  NaN   \n",
       "11          Honda Civic   NaN  NaN    NaN    NaN   NaN   NaN    NaN  NaN  NaN   \n",
       "12       Hornet 4 Drive   NaN  NaN    NaN    NaN   NaN   NaN    NaN  NaN  NaN   \n",
       "13    Hornet Sportabout   NaN  NaN    NaN    NaN   NaN   NaN    NaN  NaN  NaN   \n",
       "14  Lincoln Continental   NaN  NaN    NaN    NaN   NaN   NaN    NaN  NaN  NaN   \n",
       "15         Lotus Europa   NaN  NaN    NaN    NaN   NaN   NaN    NaN  NaN  NaN   \n",
       "16        Maserati Bora   NaN  NaN    NaN    NaN   NaN   NaN    NaN  NaN  NaN   \n",
       "17            Mazda RX4   NaN  NaN    NaN    NaN   NaN   NaN    NaN  NaN  NaN   \n",
       "18        Mazda RX4 Wag   NaN  NaN    NaN    NaN   NaN   NaN    NaN  NaN  NaN   \n",
       "19             Merc 230   NaN  NaN    NaN    NaN   NaN   NaN    NaN  NaN  NaN   \n",
       "20            Merc 240D   NaN  NaN    NaN    NaN   NaN   NaN    NaN  NaN  NaN   \n",
       "21             Merc 280   NaN  NaN    NaN    NaN   NaN   NaN    NaN  NaN  NaN   \n",
       "22            Merc 280C   NaN  NaN    NaN    NaN   NaN   NaN    NaN  NaN  NaN   \n",
       "23           Merc 450SE   NaN  NaN    NaN    NaN   NaN   NaN    NaN  NaN  NaN   \n",
       "24           Merc 450SL   NaN  NaN    NaN    NaN   NaN   NaN    NaN  NaN  NaN   \n",
       "25          Merc 450SLC   NaN  NaN    NaN    NaN   NaN   NaN    NaN  NaN  NaN   \n",
       "26     Pontiac Firebird   NaN  NaN    NaN    NaN   NaN   NaN    NaN  NaN  NaN   \n",
       "27        Porsche 914-2   NaN  NaN    NaN    NaN   NaN   NaN    NaN  NaN  NaN   \n",
       "28       Toyota Corolla   NaN  NaN    NaN    NaN   NaN   NaN    NaN  NaN  NaN   \n",
       "29        Toyota Corona   NaN  NaN    NaN    NaN   NaN   NaN    NaN  NaN  NaN   \n",
       "30              Valiant   NaN  NaN    NaN    NaN   NaN   NaN    NaN  NaN  NaN   \n",
       "31           Volvo 142E   NaN  NaN    NaN    NaN   NaN   NaN    NaN  NaN  NaN   \n",
       "\n",
       "    gear  carb  \n",
       "0    3.0   2.0  \n",
       "1    NaN   4.0  \n",
       "2    NaN   NaN  \n",
       "3    NaN   NaN  \n",
       "4    NaN   NaN  \n",
       "5    NaN   NaN  \n",
       "6    NaN   NaN  \n",
       "7    NaN   NaN  \n",
       "8    NaN   NaN  \n",
       "9    NaN   NaN  \n",
       "10   NaN   NaN  \n",
       "11   NaN   NaN  \n",
       "12   NaN   NaN  \n",
       "13   NaN   NaN  \n",
       "14   NaN   NaN  \n",
       "15   NaN   NaN  \n",
       "16   NaN   NaN  \n",
       "17   NaN   NaN  \n",
       "18   NaN   NaN  \n",
       "19   NaN   NaN  \n",
       "20   NaN   NaN  \n",
       "21   NaN   NaN  \n",
       "22   NaN   NaN  \n",
       "23   NaN   NaN  \n",
       "24   NaN   NaN  \n",
       "25   NaN   NaN  \n",
       "26   NaN   NaN  \n",
       "27   NaN   NaN  \n",
       "28   NaN   NaN  \n",
       "29   NaN   NaN  \n",
       "30   NaN   NaN  \n",
       "31   NaN   NaN  "
      ]
     },
     "execution_count": 9,
     "metadata": {},
     "output_type": "execute_result"
    }
   ],
   "source": [
    "mtcars.mode()"
   ]
  },
  {
   "cell_type": "markdown",
   "id": "7d339d0b",
   "metadata": {},
   "source": [
    "# measure of spread"
   ]
  },
  {
   "cell_type": "code",
   "execution_count": 10,
   "id": "2422b228",
   "metadata": {},
   "outputs": [
    {
     "data": {
      "text/plain": [
       "23.5"
      ]
     },
     "execution_count": 10,
     "metadata": {},
     "output_type": "execute_result"
    }
   ],
   "source": [
    "max(mtcars['mpg'])-min(mtcars['mpg'])"
   ]
  },
  {
   "cell_type": "markdown",
   "id": "4a73f823",
   "metadata": {},
   "source": [
    "# varible quant"
   ]
  },
  {
   "cell_type": "code",
   "execution_count": 11,
   "id": "db7ab514",
   "metadata": {},
   "outputs": [],
   "source": [
    "data_quant=[mtcars['mpg'].quantile(0),\n",
    "           mtcars['mpg'].quantile(0.25),\n",
    "           mtcars['mpg'].quantile(0.50),\n",
    "           mtcars['mpg'].quantile(0.75),\n",
    "           mtcars['mpg'].quantile(1)]"
   ]
  },
  {
   "cell_type": "code",
   "execution_count": 12,
   "id": "d45b0703",
   "metadata": {},
   "outputs": [
    {
     "data": {
      "text/plain": [
       "[10.4, 15.425, 19.2, 22.8, 33.9]"
      ]
     },
     "execution_count": 12,
     "metadata": {},
     "output_type": "execute_result"
    }
   ],
   "source": [
    "data_quant"
   ]
  },
  {
   "cell_type": "markdown",
   "id": "8b7f9577",
   "metadata": {},
   "source": [
    "# IQR"
   ]
  },
  {
   "cell_type": "code",
   "execution_count": 13,
   "id": "407e77ac",
   "metadata": {},
   "outputs": [
    {
     "data": {
      "text/plain": [
       "7.375"
      ]
     },
     "execution_count": 13,
     "metadata": {},
     "output_type": "execute_result"
    }
   ],
   "source": [
    "mtcars['mpg'].quantile(0.75)-mtcars['mpg'].quantile(0.25)"
   ]
  },
  {
   "cell_type": "markdown",
   "id": "850e5d38",
   "metadata": {},
   "source": [
    "# variance"
   ]
  },
  {
   "cell_type": "code",
   "execution_count": 14,
   "id": "24169a38",
   "metadata": {},
   "outputs": [
    {
     "data": {
      "text/plain": [
       "36.32410282258064"
      ]
     },
     "execution_count": 14,
     "metadata": {},
     "output_type": "execute_result"
    }
   ],
   "source": [
    "mtcars['mpg'].var()\n"
   ]
  },
  {
   "cell_type": "markdown",
   "id": "2fb63bac",
   "metadata": {},
   "source": [
    "# standard deviation"
   ]
  },
  {
   "cell_type": "code",
   "execution_count": 17,
   "id": "02e6c061",
   "metadata": {},
   "outputs": [
    {
     "data": {
      "text/plain": [
       "6.026948052089104"
      ]
     },
     "execution_count": 17,
     "metadata": {},
     "output_type": "execute_result"
    }
   ],
   "source": [
    "mtcars['mpg'].std()"
   ]
  },
  {
   "cell_type": "markdown",
   "id": "135bd7f6",
   "metadata": {},
   "source": [
    "# median absolute deviation"
   ]
  },
  {
   "cell_type": "code",
   "execution_count": 18,
   "id": "59f8a73d",
   "metadata": {},
   "outputs": [],
   "source": [
    "abs_median_dev=abs(mtcars['mpg']-mtcars['mpg'].median())"
   ]
  },
  {
   "cell_type": "code",
   "execution_count": 19,
   "id": "e0b83172",
   "metadata": {},
   "outputs": [
    {
     "data": {
      "text/plain": [
       "0      1.8\n",
       "1      1.8\n",
       "2      3.6\n",
       "3      2.2\n",
       "4      0.5\n",
       "5      1.1\n",
       "6      4.9\n",
       "7      5.2\n",
       "8      3.6\n",
       "9      0.0\n",
       "10     1.4\n",
       "11     2.8\n",
       "12     1.9\n",
       "13     4.0\n",
       "14     8.8\n",
       "15     8.8\n",
       "16     4.5\n",
       "17    13.2\n",
       "18    11.2\n",
       "19    14.7\n",
       "20     2.3\n",
       "21     3.7\n",
       "22     4.0\n",
       "23     5.9\n",
       "24     0.0\n",
       "25     8.1\n",
       "26     6.8\n",
       "27    11.2\n",
       "28     3.4\n",
       "29     0.5\n",
       "30     4.2\n",
       "31     2.2\n",
       "Name: mpg, dtype: float64"
      ]
     },
     "execution_count": 19,
     "metadata": {},
     "output_type": "execute_result"
    }
   ],
   "source": [
    "abs_median_dev"
   ]
  },
  {
   "cell_type": "code",
   "execution_count": 31,
   "id": "600a3548",
   "metadata": {},
   "outputs": [],
   "source": [
    "mad=abs_median_dev*1.4628"
   ]
  },
  {
   "cell_type": "code",
   "execution_count": 32,
   "id": "65a08afa",
   "metadata": {},
   "outputs": [
    {
     "data": {
      "text/plain": [
       "0      2.63304\n",
       "1      2.63304\n",
       "2      5.26608\n",
       "3      3.21816\n",
       "4      0.73140\n",
       "5      1.60908\n",
       "6      7.16772\n",
       "7      7.60656\n",
       "8      5.26608\n",
       "9      0.00000\n",
       "10     2.04792\n",
       "11     4.09584\n",
       "12     2.77932\n",
       "13     5.85120\n",
       "14    12.87264\n",
       "15    12.87264\n",
       "16     6.58260\n",
       "17    19.30896\n",
       "18    16.38336\n",
       "19    21.50316\n",
       "20     3.36444\n",
       "21     5.41236\n",
       "22     5.85120\n",
       "23     8.63052\n",
       "24     0.00000\n",
       "25    11.84868\n",
       "26     9.94704\n",
       "27    16.38336\n",
       "28     4.97352\n",
       "29     0.73140\n",
       "30     6.14376\n",
       "31     3.21816\n",
       "Name: mpg, dtype: float64"
      ]
     },
     "execution_count": 32,
     "metadata": {},
     "output_type": "execute_result"
    }
   ],
   "source": [
    "mad"
   ]
  },
  {
   "cell_type": "code",
   "execution_count": 29,
   "id": "e7eb75c8",
   "metadata": {},
   "outputs": [],
   "source": [
    "mad=abs_median_dev.median()*1.4628"
   ]
  },
  {
   "cell_type": "code",
   "execution_count": 30,
   "id": "c4bccd15",
   "metadata": {},
   "outputs": [
    {
     "data": {
      "text/plain": [
       "5.339220000000001"
      ]
     },
     "execution_count": 30,
     "metadata": {},
     "output_type": "execute_result"
    }
   ],
   "source": [
    "mad"
   ]
  },
  {
   "cell_type": "markdown",
   "id": "952a1c89",
   "metadata": {},
   "source": [
    "# measure of shape"
   ]
  },
  {
   "cell_type": "markdown",
   "id": "70f805a8",
   "metadata": {},
   "source": [
    "# skewness"
   ]
  },
  {
   "cell_type": "code",
   "execution_count": 33,
   "id": "515f1a50",
   "metadata": {},
   "outputs": [
    {
     "data": {
      "text/plain": [
       "0.6723771376290805"
      ]
     },
     "execution_count": 33,
     "metadata": {},
     "output_type": "execute_result"
    }
   ],
   "source": [
    "mtcars['mpg'].skew()"
   ]
  },
  {
   "cell_type": "code",
   "execution_count": 34,
   "id": "0326a254",
   "metadata": {},
   "outputs": [
    {
     "data": {
      "text/plain": [
       "-0.0220062914240855"
      ]
     },
     "execution_count": 34,
     "metadata": {},
     "output_type": "execute_result"
    }
   ],
   "source": [
    "mtcars['mpg'].kurt()"
   ]
  },
  {
   "cell_type": "code",
   "execution_count": null,
   "id": "a123f54c",
   "metadata": {},
   "outputs": [],
   "source": []
  }
 ],
 "metadata": {
  "kernelspec": {
   "display_name": "Python 3 (ipykernel)",
   "language": "python",
   "name": "python3"
  },
  "language_info": {
   "codemirror_mode": {
    "name": "ipython",
    "version": 3
   },
   "file_extension": ".py",
   "mimetype": "text/x-python",
   "name": "python",
   "nbconvert_exporter": "python",
   "pygments_lexer": "ipython3",
   "version": "3.8.12"
  }
 },
 "nbformat": 4,
 "nbformat_minor": 5
}
