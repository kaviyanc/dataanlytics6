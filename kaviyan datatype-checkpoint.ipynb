{
 "cells": [
  {
   "cell_type": "markdown",
   "id": "79ae56f1",
   "metadata": {},
   "source": [
    "# variable"
   ]
  },
  {
   "cell_type": "code",
   "execution_count": 1,
   "id": "6075deeb",
   "metadata": {},
   "outputs": [],
   "source": [
    "int=10"
   ]
  },
  {
   "cell_type": "code",
   "execution_count": 2,
   "id": "9db13dc3",
   "metadata": {},
   "outputs": [
    {
     "data": {
      "text/plain": [
       "10"
      ]
     },
     "execution_count": 2,
     "metadata": {},
     "output_type": "execute_result"
    }
   ],
   "source": [
    "int"
   ]
  },
  {
   "cell_type": "code",
   "execution_count": 3,
   "id": "9309d042",
   "metadata": {},
   "outputs": [
    {
     "data": {
      "text/plain": [
       "100"
      ]
     },
     "execution_count": 3,
     "metadata": {},
     "output_type": "execute_result"
    }
   ],
   "source": [
    "int*10"
   ]
  },
  {
   "cell_type": "code",
   "execution_count": 5,
   "id": "59dbe629",
   "metadata": {},
   "outputs": [],
   "source": [
    "int= 2,4"
   ]
  },
  {
   "cell_type": "code",
   "execution_count": 6,
   "id": "e3ad1427",
   "metadata": {},
   "outputs": [
    {
     "data": {
      "text/plain": [
       "6"
      ]
     },
     "execution_count": 6,
     "metadata": {},
     "output_type": "execute_result"
    }
   ],
   "source": [
    "2+4"
   ]
  },
  {
   "cell_type": "code",
   "execution_count": 7,
   "id": "978a06f0",
   "metadata": {},
   "outputs": [
    {
     "data": {
      "text/plain": [
       "8"
      ]
     },
     "execution_count": 7,
     "metadata": {},
     "output_type": "execute_result"
    }
   ],
   "source": [
    "2*4"
   ]
  },
  {
   "cell_type": "code",
   "execution_count": 8,
   "id": "0f1e3c03",
   "metadata": {},
   "outputs": [
    {
     "data": {
      "text/plain": [
       "0.5"
      ]
     },
     "execution_count": 8,
     "metadata": {},
     "output_type": "execute_result"
    }
   ],
   "source": [
    "2/4"
   ]
  },
  {
   "cell_type": "code",
   "execution_count": 9,
   "id": "a780ad35",
   "metadata": {},
   "outputs": [
    {
     "data": {
      "text/plain": [
       "tuple"
      ]
     },
     "execution_count": 9,
     "metadata": {},
     "output_type": "execute_result"
    }
   ],
   "source": [
    "type(int)"
   ]
  },
  {
   "cell_type": "code",
   "execution_count": 10,
   "id": "dc887fff",
   "metadata": {},
   "outputs": [
    {
     "data": {
      "text/plain": [
       "int"
      ]
     },
     "execution_count": 10,
     "metadata": {},
     "output_type": "execute_result"
    }
   ],
   "source": [
    "type(10)"
   ]
  },
  {
   "cell_type": "code",
   "execution_count": 11,
   "id": "b29336a1",
   "metadata": {},
   "outputs": [
    {
     "data": {
      "text/plain": [
       "float"
      ]
     },
     "execution_count": 11,
     "metadata": {},
     "output_type": "execute_result"
    }
   ],
   "source": [
    "type(2/4)"
   ]
  },
  {
   "cell_type": "code",
   "execution_count": 12,
   "id": "6f515036",
   "metadata": {},
   "outputs": [
    {
     "data": {
      "text/plain": [
       "int"
      ]
     },
     "execution_count": 12,
     "metadata": {},
     "output_type": "execute_result"
    }
   ],
   "source": [
    "type(2*4)"
   ]
  },
  {
   "cell_type": "code",
   "execution_count": 13,
   "id": "faa5337a",
   "metadata": {},
   "outputs": [
    {
     "ename": "SyntaxError",
     "evalue": "invalid syntax (Temp/ipykernel_14628/4238593053.py, line 1)",
     "output_type": "error",
     "traceback": [
      "\u001b[1;36m  File \u001b[1;32m\"C:\\Users\\kaviy\\AppData\\Local\\Temp/ipykernel_14628/4238593053.py\"\u001b[1;36m, line \u001b[1;32m1\u001b[0m\n\u001b[1;33m    string=arun mani\u001b[0m\n\u001b[1;37m                ^\u001b[0m\n\u001b[1;31mSyntaxError\u001b[0m\u001b[1;31m:\u001b[0m invalid syntax\n"
     ]
    }
   ],
   "source": [
    "string=arun mani"
   ]
  },
  {
   "cell_type": "code",
   "execution_count": 14,
   "id": "c1e90da9",
   "metadata": {},
   "outputs": [],
   "source": [
    "string=\"arun_mani\""
   ]
  },
  {
   "cell_type": "code",
   "execution_count": 15,
   "id": "9321b91e",
   "metadata": {},
   "outputs": [
    {
     "data": {
      "text/plain": [
       "'arun_mani'"
      ]
     },
     "execution_count": 15,
     "metadata": {},
     "output_type": "execute_result"
    }
   ],
   "source": [
    "string"
   ]
  },
  {
   "cell_type": "markdown",
   "id": "2db95ad7",
   "metadata": {},
   "source": [
    "# Datatype"
   ]
  },
  {
   "cell_type": "markdown",
   "id": "13496ae7",
   "metadata": {},
   "source": [
    "# char or string"
   ]
  },
  {
   "cell_type": "code",
   "execution_count": 16,
   "id": "1c4935fb",
   "metadata": {},
   "outputs": [],
   "source": [
    "coll=\"arun\""
   ]
  },
  {
   "cell_type": "code",
   "execution_count": 17,
   "id": "c7727992",
   "metadata": {},
   "outputs": [
    {
     "data": {
      "text/plain": [
       "'arun'"
      ]
     },
     "execution_count": 17,
     "metadata": {},
     "output_type": "execute_result"
    }
   ],
   "source": [
    "coll"
   ]
  },
  {
   "cell_type": "code",
   "execution_count": 18,
   "id": "eaf27f99",
   "metadata": {},
   "outputs": [],
   "source": [
    "string=\"it doesn't working quickly\""
   ]
  },
  {
   "cell_type": "code",
   "execution_count": 19,
   "id": "b97e2847",
   "metadata": {},
   "outputs": [
    {
     "data": {
      "text/plain": [
       "\"it doesn't working quickly\""
      ]
     },
     "execution_count": 19,
     "metadata": {},
     "output_type": "execute_result"
    }
   ],
   "source": [
    "string"
   ]
  },
  {
   "cell_type": "markdown",
   "id": "67d7df3a",
   "metadata": {},
   "source": [
    "#numeric"
   ]
  },
  {
   "cell_type": "code",
   "execution_count": 20,
   "id": "b1b302ec",
   "metadata": {},
   "outputs": [],
   "source": [
    "f5=78"
   ]
  },
  {
   "cell_type": "code",
   "execution_count": 21,
   "id": "1a1def3d",
   "metadata": {},
   "outputs": [
    {
     "data": {
      "text/plain": [
       "int"
      ]
     },
     "execution_count": 21,
     "metadata": {},
     "output_type": "execute_result"
    }
   ],
   "source": [
    "type(f5)"
   ]
  },
  {
   "cell_type": "code",
   "execution_count": 22,
   "id": "ecb1b32d",
   "metadata": {},
   "outputs": [
    {
     "ename": "SyntaxError",
     "evalue": "invalid syntax (Temp/ipykernel_14628/2663236134.py, line 1)",
     "output_type": "error",
     "traceback": [
      "\u001b[1;36m  File \u001b[1;32m\"C:\\Users\\kaviy\\AppData\\Local\\Temp/ipykernel_14628/2663236134.py\"\u001b[1;36m, line \u001b[1;32m1\u001b[0m\n\u001b[1;33m    5f=78\u001b[0m\n\u001b[1;37m     ^\u001b[0m\n\u001b[1;31mSyntaxError\u001b[0m\u001b[1;31m:\u001b[0m invalid syntax\n"
     ]
    }
   ],
   "source": [
    "5f=78"
   ]
  },
  {
   "cell_type": "markdown",
   "id": "983c0c65",
   "metadata": {},
   "source": [
    "# compley"
   ]
  },
  {
   "cell_type": "code",
   "execution_count": 24,
   "id": "eb001f8f",
   "metadata": {},
   "outputs": [],
   "source": [
    "t=(4+5j)"
   ]
  },
  {
   "cell_type": "code",
   "execution_count": 25,
   "id": "08441ee3",
   "metadata": {},
   "outputs": [
    {
     "data": {
      "text/plain": [
       "complex"
      ]
     },
     "execution_count": 25,
     "metadata": {},
     "output_type": "execute_result"
    }
   ],
   "source": [
    "type(t)"
   ]
  },
  {
   "cell_type": "markdown",
   "id": "8deb5e7e",
   "metadata": {},
   "source": [
    "# list"
   ]
  },
  {
   "cell_type": "code",
   "execution_count": 44,
   "id": "2e89ecd0",
   "metadata": {},
   "outputs": [],
   "source": [
    "list3=[1,2,3,4]"
   ]
  },
  {
   "cell_type": "code",
   "execution_count": 45,
   "id": "52543e06",
   "metadata": {},
   "outputs": [
    {
     "data": {
      "text/plain": [
       "[1, 2, 4.5, 4]"
      ]
     },
     "execution_count": 45,
     "metadata": {},
     "output_type": "execute_result"
    }
   ],
   "source": [
    "list1"
   ]
  },
  {
   "cell_type": "code",
   "execution_count": 46,
   "id": "d2990425",
   "metadata": {},
   "outputs": [
    {
     "data": {
      "text/plain": [
       "list"
      ]
     },
     "execution_count": 46,
     "metadata": {},
     "output_type": "execute_result"
    }
   ],
   "source": [
    "type(list1)"
   ]
  },
  {
   "cell_type": "markdown",
   "id": "98787a49",
   "metadata": {},
   "source": [
    "# mutable"
   ]
  },
  {
   "cell_type": "code",
   "execution_count": 47,
   "id": "9b832c34",
   "metadata": {},
   "outputs": [
    {
     "data": {
      "text/plain": [
       "[1, 3.5, 5, (8+5j), 6.1]"
      ]
     },
     "execution_count": 47,
     "metadata": {},
     "output_type": "execute_result"
    }
   ],
   "source": [
    "[1,3.5,5,(8+5j),6.1]"
   ]
  },
  {
   "cell_type": "code",
   "execution_count": 48,
   "id": "4604c44c",
   "metadata": {},
   "outputs": [],
   "source": [
    "list1[2]=4.5"
   ]
  },
  {
   "cell_type": "code",
   "execution_count": 49,
   "id": "9c341d69",
   "metadata": {},
   "outputs": [
    {
     "data": {
      "text/plain": [
       "[1, 2, 4.5, 4]"
      ]
     },
     "execution_count": 49,
     "metadata": {},
     "output_type": "execute_result"
    }
   ],
   "source": [
    "list1"
   ]
  },
  {
   "cell_type": "code",
   "execution_count": 3,
   "id": "cc1ef740",
   "metadata": {},
   "outputs": [
    {
     "ename": "NameError",
     "evalue": "name 'list1' is not defined",
     "output_type": "error",
     "traceback": [
      "\u001b[1;31m---------------------------------------------------------------------------\u001b[0m",
      "\u001b[1;31mNameError\u001b[0m                                 Traceback (most recent call last)",
      "\u001b[1;32m~\\AppData\\Local\\Temp/ipykernel_15832/1458576091.py\u001b[0m in \u001b[0;36m<module>\u001b[1;34m\u001b[0m\n\u001b[1;32m----> 1\u001b[1;33m \u001b[0mlist1\u001b[0m\u001b[1;33m[\u001b[0m\u001b[1;36m1\u001b[0m\u001b[1;33m]\u001b[0m\u001b[1;33m=\u001b[0m\u001b[1;36m6\u001b[0m\u001b[1;33m\u001b[0m\u001b[1;33m\u001b[0m\u001b[0m\n\u001b[0m",
      "\u001b[1;31mNameError\u001b[0m: name 'list1' is not defined"
     ]
    }
   ],
   "source": [
    "list1[1]=6"
   ]
  },
  {
   "cell_type": "code",
   "execution_count": 39,
   "id": "6052aecd",
   "metadata": {},
   "outputs": [
    {
     "data": {
      "text/plain": [
       "[1, 2, 4.5, 4]"
      ]
     },
     "execution_count": 39,
     "metadata": {},
     "output_type": "execute_result"
    }
   ],
   "source": [
    "list1"
   ]
  },
  {
   "cell_type": "code",
   "execution_count": 50,
   "id": "eb0b743c",
   "metadata": {},
   "outputs": [],
   "source": [
    "list3[-2]=45.67"
   ]
  },
  {
   "cell_type": "code",
   "execution_count": 51,
   "id": "34498c7a",
   "metadata": {},
   "outputs": [
    {
     "data": {
      "text/plain": [
       "[1, 2, 45.67, 4]"
      ]
     },
     "execution_count": 51,
     "metadata": {},
     "output_type": "execute_result"
    }
   ],
   "source": [
    "list3"
   ]
  },
  {
   "cell_type": "code",
   "execution_count": 53,
   "id": "b0de8496",
   "metadata": {},
   "outputs": [],
   "source": [
    "list3=[3,4,'class',(4+6j),8.1]"
   ]
  },
  {
   "cell_type": "code",
   "execution_count": 54,
   "id": "629b0aaf",
   "metadata": {},
   "outputs": [
    {
     "data": {
      "text/plain": [
       "[3, 4, 'class', (4+6j), 8.1]"
      ]
     },
     "execution_count": 54,
     "metadata": {},
     "output_type": "execute_result"
    }
   ],
   "source": [
    "list3"
   ]
  },
  {
   "cell_type": "code",
   "execution_count": 57,
   "id": "dbe9a3a5",
   "metadata": {},
   "outputs": [],
   "source": [
    "list3[-2]=5.56"
   ]
  },
  {
   "cell_type": "code",
   "execution_count": 58,
   "id": "e741f2d9",
   "metadata": {},
   "outputs": [
    {
     "data": {
      "text/plain": [
       "[3, 4, 'class', 5.56, 8.1]"
      ]
     },
     "execution_count": 58,
     "metadata": {},
     "output_type": "execute_result"
    }
   ],
   "source": [
    "list3"
   ]
  },
  {
   "cell_type": "code",
   "execution_count": 87,
   "id": "c0d15bae",
   "metadata": {},
   "outputs": [],
   "source": [
    "list3[1]=8"
   ]
  },
  {
   "cell_type": "code",
   "execution_count": 88,
   "id": "b577cb10",
   "metadata": {},
   "outputs": [
    {
     "data": {
      "text/plain": [
       "[3, 8, (6+7j), 'ravi', 'kaviyan', 'kaviyan', (9+7j), 5.56, 8.1]"
      ]
     },
     "execution_count": 88,
     "metadata": {},
     "output_type": "execute_result"
    }
   ],
   "source": [
    "list3\n"
   ]
  },
  {
   "cell_type": "code",
   "execution_count": 90,
   "id": "4c274910",
   "metadata": {},
   "outputs": [],
   "source": [
    "list3[-3]=(9+7j)"
   ]
  },
  {
   "cell_type": "code",
   "execution_count": 91,
   "id": "db283cdc",
   "metadata": {},
   "outputs": [
    {
     "data": {
      "text/plain": [
       "[3, 8, (6+7j), 'ravi', 'kaviyan', 'kaviyan', (9+7j), 5.56, 8.1]"
      ]
     },
     "execution_count": 91,
     "metadata": {},
     "output_type": "execute_result"
    }
   ],
   "source": [
    "list3\n",
    "\n"
   ]
  },
  {
   "cell_type": "code",
   "execution_count": 92,
   "id": "d9d9bb92",
   "metadata": {},
   "outputs": [],
   "source": [
    "list3.append(9)"
   ]
  },
  {
   "cell_type": "code",
   "execution_count": 93,
   "id": "b8e7362c",
   "metadata": {},
   "outputs": [
    {
     "data": {
      "text/plain": [
       "[3, 8, (6+7j), 'ravi', 'kaviyan', 'kaviyan', (9+7j), 5.56, 8.1, 9]"
      ]
     },
     "execution_count": 93,
     "metadata": {},
     "output_type": "execute_result"
    }
   ],
   "source": [
    "list3"
   ]
  },
  {
   "cell_type": "code",
   "execution_count": 94,
   "id": "c399fd06",
   "metadata": {},
   "outputs": [],
   "source": [
    "list3.remove(9)"
   ]
  },
  {
   "cell_type": "code",
   "execution_count": 95,
   "id": "abced4c1",
   "metadata": {},
   "outputs": [
    {
     "data": {
      "text/plain": [
       "[3, 8, (6+7j), 'ravi', 'kaviyan', 'kaviyan', (9+7j), 5.56, 8.1]"
      ]
     },
     "execution_count": 95,
     "metadata": {},
     "output_type": "execute_result"
    }
   ],
   "source": [
    "list3"
   ]
  },
  {
   "cell_type": "code",
   "execution_count": 96,
   "id": "3bf012cf",
   "metadata": {},
   "outputs": [],
   "source": [
    "list3.insert(3,2009)"
   ]
  },
  {
   "cell_type": "code",
   "execution_count": 97,
   "id": "0bbb4f09",
   "metadata": {},
   "outputs": [
    {
     "data": {
      "text/plain": [
       "[3, 8, (6+7j), 2009, 'ravi', 'kaviyan', 'kaviyan', (9+7j), 5.56, 8.1]"
      ]
     },
     "execution_count": 97,
     "metadata": {},
     "output_type": "execute_result"
    }
   ],
   "source": [
    "list3"
   ]
  },
  {
   "cell_type": "code",
   "execution_count": 98,
   "id": "fee6f611",
   "metadata": {},
   "outputs": [],
   "source": [
    "list3.insert(3,\"ravi\")"
   ]
  },
  {
   "cell_type": "code",
   "execution_count": 99,
   "id": "b2bd2de2",
   "metadata": {},
   "outputs": [
    {
     "data": {
      "text/plain": [
       "[3, 8, (6+7j), 'ravi', 2009, 'ravi', 'kaviyan', 'kaviyan', (9+7j), 5.56, 8.1]"
      ]
     },
     "execution_count": 99,
     "metadata": {},
     "output_type": "execute_result"
    }
   ],
   "source": [
    "list3"
   ]
  },
  {
   "cell_type": "code",
   "execution_count": 100,
   "id": "000c766e",
   "metadata": {},
   "outputs": [
    {
     "data": {
      "text/plain": [
       "11"
      ]
     },
     "execution_count": 100,
     "metadata": {},
     "output_type": "execute_result"
    }
   ],
   "source": [
    "len(list3)"
   ]
  },
  {
   "cell_type": "code",
   "execution_count": 114,
   "id": "26412635",
   "metadata": {},
   "outputs": [
    {
     "ename": "SyntaxError",
     "evalue": "cannot delete function call (Temp/ipykernel_14628/3395304115.py, line 1)",
     "output_type": "error",
     "traceback": [
      "\u001b[1;36m  File \u001b[1;32m\"C:\\Users\\kaviy\\AppData\\Local\\Temp/ipykernel_14628/3395304115.py\"\u001b[1;36m, line \u001b[1;32m1\u001b[0m\n\u001b[1;33m    del list3(8)\u001b[0m\n\u001b[1;37m        ^\u001b[0m\n\u001b[1;31mSyntaxError\u001b[0m\u001b[1;31m:\u001b[0m cannot delete function call\n"
     ]
    }
   ],
   "source": [
    "del list3(8)"
   ]
  },
  {
   "cell_type": "code",
   "execution_count": 109,
   "id": "a9ceee2b",
   "metadata": {},
   "outputs": [],
   "source": [
    "tup=(1,2,3,(6+5j),4.6)"
   ]
  },
  {
   "cell_type": "code",
   "execution_count": 112,
   "id": "5e2e82cd",
   "metadata": {},
   "outputs": [
    {
     "ename": "TypeError",
     "evalue": "'tuple' object does not support item assignment",
     "output_type": "error",
     "traceback": [
      "\u001b[1;31m---------------------------------------------------------------------------\u001b[0m",
      "\u001b[1;31mTypeError\u001b[0m                                 Traceback (most recent call last)",
      "\u001b[1;32m~\\AppData\\Local\\Temp/ipykernel_14628/1764793426.py\u001b[0m in \u001b[0;36m<module>\u001b[1;34m\u001b[0m\n\u001b[1;32m----> 1\u001b[1;33m \u001b[0mtup\u001b[0m\u001b[1;33m[\u001b[0m\u001b[1;36m1\u001b[0m\u001b[1;33m]\u001b[0m\u001b[1;33m=\u001b[0m\u001b[1;36m2\u001b[0m\u001b[1;33m\u001b[0m\u001b[1;33m\u001b[0m\u001b[0m\n\u001b[0m",
      "\u001b[1;31mTypeError\u001b[0m: 'tuple' object does not support item assignment"
     ]
    }
   ],
   "source": [
    "tup[1]=2"
   ]
  },
  {
   "cell_type": "markdown",
   "id": "00464f79",
   "metadata": {},
   "source": [
    "# range"
   ]
  },
  {
   "cell_type": "code",
   "execution_count": 115,
   "id": "0c318b75",
   "metadata": {},
   "outputs": [],
   "source": [
    "ran=range(1,20)"
   ]
  },
  {
   "cell_type": "code",
   "execution_count": 116,
   "id": "e6295696",
   "metadata": {},
   "outputs": [
    {
     "data": {
      "text/plain": [
       "range(1, 20)"
      ]
     },
     "execution_count": 116,
     "metadata": {},
     "output_type": "execute_result"
    }
   ],
   "source": [
    "ran"
   ]
  },
  {
   "cell_type": "code",
   "execution_count": 117,
   "id": "2f53508f",
   "metadata": {},
   "outputs": [],
   "source": [
    "ran1=list(range(1,20))"
   ]
  },
  {
   "cell_type": "code",
   "execution_count": 118,
   "id": "89bbed5a",
   "metadata": {},
   "outputs": [
    {
     "data": {
      "text/plain": [
       "[1, 2, 3, 4, 5, 6, 7, 8, 9, 10, 11, 12, 13, 14, 15, 16, 17, 18, 19]"
      ]
     },
     "execution_count": 118,
     "metadata": {},
     "output_type": "execute_result"
    }
   ],
   "source": [
    "ran1"
   ]
  },
  {
   "cell_type": "markdown",
   "id": "f1479b15",
   "metadata": {},
   "source": [
    "# dictionary"
   ]
  },
  {
   "cell_type": "code",
   "execution_count": 5,
   "id": "df6d5abd",
   "metadata": {},
   "outputs": [],
   "source": [
    "hostel={\"food\":['idely','pongal','rice'],'monday':1,'tuesday':2,'wenesday':3}"
   ]
  },
  {
   "cell_type": "code",
   "execution_count": 6,
   "id": "3202dc80",
   "metadata": {},
   "outputs": [
    {
     "data": {
      "text/plain": [
       "1"
      ]
     },
     "execution_count": 6,
     "metadata": {},
     "output_type": "execute_result"
    }
   ],
   "source": [
    "hostel['monday']"
   ]
  },
  {
   "cell_type": "code",
   "execution_count": 8,
   "id": "157e227d",
   "metadata": {},
   "outputs": [],
   "source": [
    "hostel['monday']=\"not available\""
   ]
  },
  {
   "cell_type": "code",
   "execution_count": 9,
   "id": "c9900ad8",
   "metadata": {},
   "outputs": [
    {
     "data": {
      "text/plain": [
       "{'food': ['idely', 'pongal', 'rice'],\n",
       " 'monday': 'not available',\n",
       " 'tuesday': 2,\n",
       " 'wenesday': 3}"
      ]
     },
     "execution_count": 9,
     "metadata": {},
     "output_type": "execute_result"
    }
   ],
   "source": [
    "hostel"
   ]
  },
  {
   "cell_type": "code",
   "execution_count": 11,
   "id": "5a800e06",
   "metadata": {},
   "outputs": [],
   "source": [
    "student={'bca':{1:'surya',2:'mani',3:'vineeth'},\n",
    "    'cs' :{1:'pravin',2:'maanikam',3:'solan'}}"
   ]
  },
  {
   "cell_type": "code",
   "execution_count": 12,
   "id": "b90cab24",
   "metadata": {},
   "outputs": [
    {
     "data": {
      "text/plain": [
       "{1: 'surya', 2: 'mani', 3: 'vineeth'}"
      ]
     },
     "execution_count": 12,
     "metadata": {},
     "output_type": "execute_result"
    }
   ],
   "source": [
    "student['bca']"
   ]
  },
  {
   "cell_type": "code",
   "execution_count": 19,
   "id": "bb87671b",
   "metadata": {},
   "outputs": [],
   "source": [
    "student['cs']=3"
   ]
  },
  {
   "cell_type": "code",
   "execution_count": 20,
   "id": "58109fff",
   "metadata": {},
   "outputs": [
    {
     "data": {
      "text/plain": [
       "{'bca': 2, 'cs': 3, 2: 'bca'}"
      ]
     },
     "execution_count": 20,
     "metadata": {},
     "output_type": "execute_result"
    }
   ],
   "source": [
    "student"
   ]
  },
  {
   "cell_type": "markdown",
   "id": "53fd6e93",
   "metadata": {},
   "source": [
    "# set"
   ]
  },
  {
   "cell_type": "code",
   "execution_count": 22,
   "id": "88ea1572",
   "metadata": {},
   "outputs": [],
   "source": [
    "won={1,2,3,4,(7+8j),'tall'}"
   ]
  },
  {
   "cell_type": "code",
   "execution_count": 23,
   "id": "bccc36db",
   "metadata": {},
   "outputs": [
    {
     "data": {
      "text/plain": [
       "{(7+8j), 1, 2, 3, 4, 'tall'}"
      ]
     },
     "execution_count": 23,
     "metadata": {},
     "output_type": "execute_result"
    }
   ],
   "source": [
    "won"
   ]
  },
  {
   "cell_type": "code",
   "execution_count": 24,
   "id": "bd1dcf13",
   "metadata": {},
   "outputs": [],
   "source": [
    "loss={1,2,3,4,(7+8j),'tall'}"
   ]
  },
  {
   "cell_type": "code",
   "execution_count": 25,
   "id": "4f2de8c6",
   "metadata": {},
   "outputs": [
    {
     "data": {
      "text/plain": [
       "{(7+8j), 1, 2, 3, 4, 'tall'}"
      ]
     },
     "execution_count": 25,
     "metadata": {},
     "output_type": "execute_result"
    }
   ],
   "source": [
    "loss"
   ]
  },
  {
   "cell_type": "code",
   "execution_count": 30,
   "id": "9422f3f3",
   "metadata": {},
   "outputs": [],
   "source": [
    "loss.add(10)"
   ]
  },
  {
   "cell_type": "code",
   "execution_count": 28,
   "id": "c19b62da",
   "metadata": {},
   "outputs": [
    {
     "data": {
      "text/plain": [
       "{(7+8j), 1, 10, 2, 3, 4, 'tall'}"
      ]
     },
     "execution_count": 28,
     "metadata": {},
     "output_type": "execute_result"
    }
   ],
   "source": [
    "loss"
   ]
  },
  {
   "cell_type": "code",
   "execution_count": 31,
   "id": "8f637284",
   "metadata": {},
   "outputs": [],
   "source": [
    "loss.remove(10)"
   ]
  },
  {
   "cell_type": "code",
   "execution_count": 32,
   "id": "3d9f19e6",
   "metadata": {},
   "outputs": [
    {
     "data": {
      "text/plain": [
       "{(7+8j), 1, 2, 3, 4, 'tall'}"
      ]
     },
     "execution_count": 32,
     "metadata": {},
     "output_type": "execute_result"
    }
   ],
   "source": [
    "loss"
   ]
  },
  {
   "cell_type": "code",
   "execution_count": 33,
   "id": "134b35ce",
   "metadata": {},
   "outputs": [
    {
     "data": {
      "text/plain": [
       "{(7+8j), 1, 2, 3, 4, 'tall'}"
      ]
     },
     "execution_count": 33,
     "metadata": {},
     "output_type": "execute_result"
    }
   ],
   "source": [
    "won | loss"
   ]
  },
  {
   "cell_type": "code",
   "execution_count": 35,
   "id": "a8dd9b78",
   "metadata": {},
   "outputs": [
    {
     "data": {
      "text/plain": [
       "{(7+8j), 1, 2, 3, 4, 'tall'}"
      ]
     },
     "execution_count": 35,
     "metadata": {},
     "output_type": "execute_result"
    }
   ],
   "source": [
    "won & loss"
   ]
  },
  {
   "cell_type": "markdown",
   "id": "80b0d6d7",
   "metadata": {},
   "source": [
    "# frozenset"
   ]
  },
  {
   "cell_type": "code",
   "execution_count": 36,
   "id": "864f2557",
   "metadata": {},
   "outputs": [],
   "source": [
    "r=frozenset({3,4,4,56,6,7,(4+6j),'pu'})"
   ]
  },
  {
   "cell_type": "code",
   "execution_count": 37,
   "id": "cb9ad5f2",
   "metadata": {},
   "outputs": [
    {
     "data": {
      "text/plain": [
       "frozenset({(4+6j), 3, 4, 56, 6, 7, 'pu'})"
      ]
     },
     "execution_count": 37,
     "metadata": {},
     "output_type": "execute_result"
    }
   ],
   "source": [
    "r"
   ]
  },
  {
   "cell_type": "markdown",
   "id": "82ea4be8",
   "metadata": {},
   "source": [
    "# bollen"
   ]
  },
  {
   "cell_type": "code",
   "execution_count": 39,
   "id": "66ede91d",
   "metadata": {},
   "outputs": [],
   "source": [
    "password =True"
   ]
  },
  {
   "cell_type": "code",
   "execution_count": 41,
   "id": "96d1a472",
   "metadata": {},
   "outputs": [
    {
     "data": {
      "text/plain": [
       "True"
      ]
     },
     "execution_count": 41,
     "metadata": {},
     "output_type": "execute_result"
    }
   ],
   "source": [
    "password"
   ]
  },
  {
   "cell_type": "markdown",
   "id": "284f0f15",
   "metadata": {},
   "source": []
  },
  {
   "cell_type": "code",
   "execution_count": 42,
   "id": "15a5aea0",
   "metadata": {},
   "outputs": [
    {
     "data": {
      "text/plain": [
       "False"
      ]
     },
     "execution_count": 42,
     "metadata": {},
     "output_type": "execute_result"
    }
   ],
   "source": [
    "4>7"
   ]
  },
  {
   "cell_type": "code",
   "execution_count": 44,
   "id": "776f2db5",
   "metadata": {},
   "outputs": [
    {
     "data": {
      "text/plain": [
       "True"
      ]
     },
     "execution_count": 44,
     "metadata": {},
     "output_type": "execute_result"
    }
   ],
   "source": [
    "78977<89978"
   ]
  },
  {
   "cell_type": "code",
   "execution_count": null,
   "id": "cd89f720",
   "metadata": {},
   "outputs": [],
   "source": []
  }
 ],
 "metadata": {
  "kernelspec": {
   "display_name": "Python 3 (ipykernel)",
   "language": "python",
   "name": "python3"
  },
  "language_info": {
   "codemirror_mode": {
    "name": "ipython",
    "version": 3
   },
   "file_extension": ".py",
   "mimetype": "text/x-python",
   "name": "python",
   "nbconvert_exporter": "python",
   "pygments_lexer": "ipython3",
   "version": "3.8.12"
  }
 },
 "nbformat": 4,
 "nbformat_minor": 5
}
